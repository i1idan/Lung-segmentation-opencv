{
  "nbformat": 4,
  "nbformat_minor": 0,
  "metadata": {
    "colab": {
      "name": "lung-segmentation-classification.ipynb",
      "provenance": [],
      "collapsed_sections": []
    },
    "kernelspec": {
      "name": "python3",
      "display_name": "Python 3"
    },
    "accelerator": "GPU"
  },
  "cells": [
    {
      "cell_type": "code",
      "metadata": {
        "id": "g3Ei9b2_Parj",
        "colab_type": "code",
        "colab": {}
      },
      "source": [
        "import pickle\n",
        "with open(\"/content/drive/My Drive/Data/data.pickle\",\"rb\") as data0:\n",
        "  data=pickle.load(data0)\n",
        "\n",
        "with open(\"/content/drive/My Drive/Data/label.pickle\",\"rb\") as label0:\n",
        "  labels=pickle.load(label0)"
      ],
      "execution_count": 1,
      "outputs": []
    },
    {
      "cell_type": "code",
      "metadata": {
        "id": "5_1gkvO7vkhG",
        "colab_type": "code",
        "colab": {
          "base_uri": "https://localhost:8080/",
          "height": 1000
        },
        "outputId": "07cfb82d-efb2-4e97-9b7f-8d3ce6efe5c5"
      },
      "source": [
        "!pip uninstall tensorflow\n",
        "!pip install tensorflow==2.1.0\n",
        "!pip install autokeras"
      ],
      "execution_count": null,
      "outputs": [
        {
          "output_type": "stream",
          "text": [
            "Uninstalling tensorflow-2.2.0:\n",
            "  Would remove:\n",
            "    /usr/local/bin/estimator_ckpt_converter\n",
            "    /usr/local/bin/saved_model_cli\n",
            "    /usr/local/bin/tensorboard\n",
            "    /usr/local/bin/tf_upgrade_v2\n",
            "    /usr/local/bin/tflite_convert\n",
            "    /usr/local/bin/toco\n",
            "    /usr/local/bin/toco_from_protos\n",
            "    /usr/local/lib/python3.6/dist-packages/tensorflow-2.2.0.dist-info/*\n",
            "    /usr/local/lib/python3.6/dist-packages/tensorflow/*\n",
            "Proceed (y/n)? y\n",
            "  Successfully uninstalled tensorflow-2.2.0\n",
            "Collecting tensorflow==2.1.0\n",
            "\u001b[?25l  Downloading https://files.pythonhosted.org/packages/85/d4/c0cd1057b331bc38b65478302114194bd8e1b9c2bbc06e300935c0e93d90/tensorflow-2.1.0-cp36-cp36m-manylinux2010_x86_64.whl (421.8MB)\n",
            "\u001b[K     |████████████████████████████████| 421.8MB 38kB/s \n",
            "\u001b[?25hRequirement already satisfied: wheel>=0.26; python_version >= \"3\" in /usr/local/lib/python3.6/dist-packages (from tensorflow==2.1.0) (0.34.2)\n",
            "Collecting tensorboard<2.2.0,>=2.1.0\n",
            "\u001b[?25l  Downloading https://files.pythonhosted.org/packages/d9/41/bbf49b61370e4f4d245d4c6051dfb6db80cec672605c91b1652ac8cc3d38/tensorboard-2.1.1-py3-none-any.whl (3.8MB)\n",
            "\u001b[K     |████████████████████████████████| 3.9MB 33.8MB/s \n",
            "\u001b[?25hRequirement already satisfied: keras-preprocessing>=1.1.0 in /usr/local/lib/python3.6/dist-packages (from tensorflow==2.1.0) (1.1.2)\n",
            "Requirement already satisfied: scipy==1.4.1; python_version >= \"3\" in /usr/local/lib/python3.6/dist-packages (from tensorflow==2.1.0) (1.4.1)\n",
            "Requirement already satisfied: google-pasta>=0.1.6 in /usr/local/lib/python3.6/dist-packages (from tensorflow==2.1.0) (0.2.0)\n",
            "Requirement already satisfied: astor>=0.6.0 in /usr/local/lib/python3.6/dist-packages (from tensorflow==2.1.0) (0.8.1)\n",
            "Collecting gast==0.2.2\n",
            "  Downloading https://files.pythonhosted.org/packages/4e/35/11749bf99b2d4e3cceb4d55ca22590b0d7c2c62b9de38ac4a4a7f4687421/gast-0.2.2.tar.gz\n",
            "Requirement already satisfied: opt-einsum>=2.3.2 in /usr/local/lib/python3.6/dist-packages (from tensorflow==2.1.0) (3.2.1)\n",
            "Requirement already satisfied: six>=1.12.0 in /usr/local/lib/python3.6/dist-packages (from tensorflow==2.1.0) (1.12.0)\n",
            "Collecting tensorflow-estimator<2.2.0,>=2.1.0rc0\n",
            "\u001b[?25l  Downloading https://files.pythonhosted.org/packages/18/90/b77c328a1304437ab1310b463e533fa7689f4bfc41549593056d812fab8e/tensorflow_estimator-2.1.0-py2.py3-none-any.whl (448kB)\n",
            "\u001b[K     |████████████████████████████████| 450kB 38.1MB/s \n",
            "\u001b[?25hRequirement already satisfied: wrapt>=1.11.1 in /usr/local/lib/python3.6/dist-packages (from tensorflow==2.1.0) (1.12.1)\n",
            "Requirement already satisfied: grpcio>=1.8.6 in /usr/local/lib/python3.6/dist-packages (from tensorflow==2.1.0) (1.29.0)\n",
            "Requirement already satisfied: numpy<2.0,>=1.16.0 in /usr/local/lib/python3.6/dist-packages (from tensorflow==2.1.0) (1.18.5)\n",
            "Requirement already satisfied: termcolor>=1.1.0 in /usr/local/lib/python3.6/dist-packages (from tensorflow==2.1.0) (1.1.0)\n",
            "Requirement already satisfied: protobuf>=3.8.0 in /usr/local/lib/python3.6/dist-packages (from tensorflow==2.1.0) (3.10.0)\n",
            "Requirement already satisfied: keras-applications>=1.0.8 in /usr/local/lib/python3.6/dist-packages (from tensorflow==2.1.0) (1.0.8)\n",
            "Requirement already satisfied: absl-py>=0.7.0 in /usr/local/lib/python3.6/dist-packages (from tensorflow==2.1.0) (0.9.0)\n",
            "Requirement already satisfied: setuptools>=41.0.0 in /usr/local/lib/python3.6/dist-packages (from tensorboard<2.2.0,>=2.1.0->tensorflow==2.1.0) (47.1.1)\n",
            "Requirement already satisfied: werkzeug>=0.11.15 in /usr/local/lib/python3.6/dist-packages (from tensorboard<2.2.0,>=2.1.0->tensorflow==2.1.0) (1.0.1)\n",
            "Requirement already satisfied: requests<3,>=2.21.0 in /usr/local/lib/python3.6/dist-packages (from tensorboard<2.2.0,>=2.1.0->tensorflow==2.1.0) (2.23.0)\n",
            "Requirement already satisfied: google-auth-oauthlib<0.5,>=0.4.1 in /usr/local/lib/python3.6/dist-packages (from tensorboard<2.2.0,>=2.1.0->tensorflow==2.1.0) (0.4.1)\n",
            "Requirement already satisfied: markdown>=2.6.8 in /usr/local/lib/python3.6/dist-packages (from tensorboard<2.2.0,>=2.1.0->tensorflow==2.1.0) (3.2.2)\n",
            "Requirement already satisfied: google-auth<2,>=1.6.3 in /usr/local/lib/python3.6/dist-packages (from tensorboard<2.2.0,>=2.1.0->tensorflow==2.1.0) (1.17.2)\n",
            "Requirement already satisfied: h5py in /usr/local/lib/python3.6/dist-packages (from keras-applications>=1.0.8->tensorflow==2.1.0) (2.10.0)\n",
            "Requirement already satisfied: idna<3,>=2.5 in /usr/local/lib/python3.6/dist-packages (from requests<3,>=2.21.0->tensorboard<2.2.0,>=2.1.0->tensorflow==2.1.0) (2.9)\n",
            "Requirement already satisfied: urllib3!=1.25.0,!=1.25.1,<1.26,>=1.21.1 in /usr/local/lib/python3.6/dist-packages (from requests<3,>=2.21.0->tensorboard<2.2.0,>=2.1.0->tensorflow==2.1.0) (1.24.3)\n",
            "Requirement already satisfied: certifi>=2017.4.17 in /usr/local/lib/python3.6/dist-packages (from requests<3,>=2.21.0->tensorboard<2.2.0,>=2.1.0->tensorflow==2.1.0) (2020.4.5.2)\n",
            "Requirement already satisfied: chardet<4,>=3.0.2 in /usr/local/lib/python3.6/dist-packages (from requests<3,>=2.21.0->tensorboard<2.2.0,>=2.1.0->tensorflow==2.1.0) (3.0.4)\n",
            "Requirement already satisfied: requests-oauthlib>=0.7.0 in /usr/local/lib/python3.6/dist-packages (from google-auth-oauthlib<0.5,>=0.4.1->tensorboard<2.2.0,>=2.1.0->tensorflow==2.1.0) (1.3.0)\n",
            "Requirement already satisfied: importlib-metadata; python_version < \"3.8\" in /usr/local/lib/python3.6/dist-packages (from markdown>=2.6.8->tensorboard<2.2.0,>=2.1.0->tensorflow==2.1.0) (1.6.1)\n",
            "Requirement already satisfied: pyasn1-modules>=0.2.1 in /usr/local/lib/python3.6/dist-packages (from google-auth<2,>=1.6.3->tensorboard<2.2.0,>=2.1.0->tensorflow==2.1.0) (0.2.8)\n",
            "Requirement already satisfied: rsa<5,>=3.1.4; python_version >= \"3\" in /usr/local/lib/python3.6/dist-packages (from google-auth<2,>=1.6.3->tensorboard<2.2.0,>=2.1.0->tensorflow==2.1.0) (4.6)\n",
            "Requirement already satisfied: cachetools<5.0,>=2.0.0 in /usr/local/lib/python3.6/dist-packages (from google-auth<2,>=1.6.3->tensorboard<2.2.0,>=2.1.0->tensorflow==2.1.0) (4.1.0)\n",
            "Requirement already satisfied: oauthlib>=3.0.0 in /usr/local/lib/python3.6/dist-packages (from requests-oauthlib>=0.7.0->google-auth-oauthlib<0.5,>=0.4.1->tensorboard<2.2.0,>=2.1.0->tensorflow==2.1.0) (3.1.0)\n",
            "Requirement already satisfied: zipp>=0.5 in /usr/local/lib/python3.6/dist-packages (from importlib-metadata; python_version < \"3.8\"->markdown>=2.6.8->tensorboard<2.2.0,>=2.1.0->tensorflow==2.1.0) (3.1.0)\n",
            "Requirement already satisfied: pyasn1<0.5.0,>=0.4.6 in /usr/local/lib/python3.6/dist-packages (from pyasn1-modules>=0.2.1->google-auth<2,>=1.6.3->tensorboard<2.2.0,>=2.1.0->tensorflow==2.1.0) (0.4.8)\n",
            "Building wheels for collected packages: gast\n",
            "  Building wheel for gast (setup.py) ... \u001b[?25l\u001b[?25hdone\n",
            "  Created wheel for gast: filename=gast-0.2.2-cp36-none-any.whl size=7540 sha256=bf2d2732bc650146f430d7d74237b3a4311f55a6304704d2b96439685ca41c28\n",
            "  Stored in directory: /root/.cache/pip/wheels/5c/2e/7e/a1d4d4fcebe6c381f378ce7743a3ced3699feb89bcfbdadadd\n",
            "Successfully built gast\n",
            "\u001b[31mERROR: tensorflow-probability 0.10.0 has requirement gast>=0.3.2, but you'll have gast 0.2.2 which is incompatible.\u001b[0m\n",
            "Installing collected packages: tensorboard, gast, tensorflow-estimator, tensorflow\n",
            "  Found existing installation: tensorboard 2.2.2\n",
            "    Uninstalling tensorboard-2.2.2:\n",
            "      Successfully uninstalled tensorboard-2.2.2\n",
            "  Found existing installation: gast 0.3.3\n",
            "    Uninstalling gast-0.3.3:\n",
            "      Successfully uninstalled gast-0.3.3\n",
            "  Found existing installation: tensorflow-estimator 2.2.0\n",
            "    Uninstalling tensorflow-estimator-2.2.0:\n",
            "      Successfully uninstalled tensorflow-estimator-2.2.0\n",
            "Successfully installed gast-0.2.2 tensorboard-2.1.1 tensorflow-2.1.0 tensorflow-estimator-2.1.0\n",
            "Collecting autokeras\n",
            "\u001b[?25l  Downloading https://files.pythonhosted.org/packages/a8/74/6588d79b8618c0f45ea2b3ace4959db2697029c8175bf1a0d2ed07c14761/autokeras-1.0.2-py3-none-any.whl (67kB)\n",
            "\u001b[K     |████████████████████████████████| 71kB 1.9MB/s \n",
            "\u001b[?25hRequirement already satisfied: numpy in /usr/local/lib/python3.6/dist-packages (from autokeras) (1.18.5)\n",
            "Requirement already satisfied: packaging in /usr/local/lib/python3.6/dist-packages (from autokeras) (20.4)\n",
            "Requirement already satisfied: pandas in /usr/local/lib/python3.6/dist-packages (from autokeras) (1.0.4)\n",
            "Requirement already satisfied: scikit-learn in /usr/local/lib/python3.6/dist-packages (from autokeras) (0.22.2.post1)\n",
            "Collecting keras-tuner>=1.0.1\n",
            "\u001b[?25l  Downloading https://files.pythonhosted.org/packages/a7/f7/4b41b6832abf4c9bef71a664dc563adb25afc5812831667c6db572b1a261/keras-tuner-1.0.1.tar.gz (54kB)\n",
            "\u001b[K     |████████████████████████████████| 61kB 5.3MB/s \n",
            "\u001b[?25hRequirement already satisfied: pyparsing>=2.0.2 in /usr/local/lib/python3.6/dist-packages (from packaging->autokeras) (2.4.7)\n",
            "Requirement already satisfied: six in /usr/local/lib/python3.6/dist-packages (from packaging->autokeras) (1.12.0)\n",
            "Requirement already satisfied: pytz>=2017.2 in /usr/local/lib/python3.6/dist-packages (from pandas->autokeras) (2018.9)\n",
            "Requirement already satisfied: python-dateutil>=2.6.1 in /usr/local/lib/python3.6/dist-packages (from pandas->autokeras) (2.8.1)\n",
            "Requirement already satisfied: scipy>=0.17.0 in /usr/local/lib/python3.6/dist-packages (from scikit-learn->autokeras) (1.4.1)\n",
            "Requirement already satisfied: joblib>=0.11 in /usr/local/lib/python3.6/dist-packages (from scikit-learn->autokeras) (0.15.1)\n",
            "Requirement already satisfied: future in /usr/local/lib/python3.6/dist-packages (from keras-tuner>=1.0.1->autokeras) (0.16.0)\n",
            "Requirement already satisfied: tabulate in /usr/local/lib/python3.6/dist-packages (from keras-tuner>=1.0.1->autokeras) (0.8.7)\n",
            "Collecting terminaltables\n",
            "  Downloading https://files.pythonhosted.org/packages/9b/c4/4a21174f32f8a7e1104798c445dacdc1d4df86f2f26722767034e4de4bff/terminaltables-3.1.0.tar.gz\n",
            "Collecting colorama\n",
            "  Downloading https://files.pythonhosted.org/packages/c9/dc/45cdef1b4d119eb96316b3117e6d5708a08029992b2fee2c143c7a0a5cc5/colorama-0.4.3-py2.py3-none-any.whl\n",
            "Requirement already satisfied: tqdm in /usr/local/lib/python3.6/dist-packages (from keras-tuner>=1.0.1->autokeras) (4.41.1)\n",
            "Requirement already satisfied: requests in /usr/local/lib/python3.6/dist-packages (from keras-tuner>=1.0.1->autokeras) (2.23.0)\n",
            "Requirement already satisfied: idna<3,>=2.5 in /usr/local/lib/python3.6/dist-packages (from requests->keras-tuner>=1.0.1->autokeras) (2.9)\n",
            "Requirement already satisfied: urllib3!=1.25.0,!=1.25.1,<1.26,>=1.21.1 in /usr/local/lib/python3.6/dist-packages (from requests->keras-tuner>=1.0.1->autokeras) (1.24.3)\n",
            "Requirement already satisfied: certifi>=2017.4.17 in /usr/local/lib/python3.6/dist-packages (from requests->keras-tuner>=1.0.1->autokeras) (2020.4.5.2)\n",
            "Requirement already satisfied: chardet<4,>=3.0.2 in /usr/local/lib/python3.6/dist-packages (from requests->keras-tuner>=1.0.1->autokeras) (3.0.4)\n",
            "Building wheels for collected packages: keras-tuner, terminaltables\n",
            "  Building wheel for keras-tuner (setup.py) ... \u001b[?25l\u001b[?25hdone\n",
            "  Created wheel for keras-tuner: filename=keras_tuner-1.0.1-cp36-none-any.whl size=73200 sha256=bf371e698bd12713da72a7149eb3a312c156ae9b8fdcbd5d92214ccf51c2bd9f\n",
            "  Stored in directory: /root/.cache/pip/wheels/b9/cc/62/52716b70dd90f3db12519233c3a93a5360bc672da1a10ded43\n",
            "  Building wheel for terminaltables (setup.py) ... \u001b[?25l\u001b[?25hdone\n",
            "  Created wheel for terminaltables: filename=terminaltables-3.1.0-cp36-none-any.whl size=15356 sha256=06d5dcbbba1d55ea4d915bedf862bc62fd9de42934dd4345702ca0fa7639939e\n",
            "  Stored in directory: /root/.cache/pip/wheels/30/6b/50/6c75775b681fb36cdfac7f19799888ef9d8813aff9e379663e\n",
            "Successfully built keras-tuner terminaltables\n",
            "Installing collected packages: terminaltables, colorama, keras-tuner, autokeras\n",
            "Successfully installed autokeras-1.0.2 colorama-0.4.3 keras-tuner-1.0.1 terminaltables-3.1.0\n"
          ],
          "name": "stdout"
        }
      ]
    },
    {
      "cell_type": "code",
      "metadata": {
        "id": "jlhTbZstv38t",
        "colab_type": "code",
        "colab": {
          "base_uri": "https://localhost:8080/",
          "height": 1000
        },
        "outputId": "4a09f997-c183-4617-e236-424aa4c5bf61"
      },
      "source": [
        "import autokeras as ak\n",
        "clf=ak.ImageClassifier(max_trials=30)\n",
        "clf.fit(new_data, labels,batch_size=8)"
      ],
      "execution_count": null,
      "outputs": [
        {
          "output_type": "stream",
          "text": [
            "Train for 69 steps, validate for 18 steps\n",
            "Epoch 1/1000\n",
            "69/69 [==============================] - 5s 70ms/step - loss: 22.5524 - accuracy: 0.6836 - val_loss: 1.7634 - val_accuracy: 0.0000e+00\n",
            "Epoch 2/1000\n",
            "69/69 [==============================] - 4s 59ms/step - loss: 1.6105 - accuracy: 0.1600 - val_loss: 1.6915 - val_accuracy: 0.0000e+00\n",
            "Epoch 3/1000\n",
            "69/69 [==============================] - 4s 56ms/step - loss: 1.5673 - accuracy: 0.5127 - val_loss: 1.7482 - val_accuracy: 0.0000e+00\n",
            "Epoch 4/1000\n",
            "69/69 [==============================] - 4s 57ms/step - loss: 1.5407 - accuracy: 0.5127 - val_loss: 1.8005 - val_accuracy: 0.0000e+00\n",
            "Epoch 5/1000\n",
            "69/69 [==============================] - 4s 57ms/step - loss: 1.5171 - accuracy: 0.5127 - val_loss: 1.8509 - val_accuracy: 0.0000e+00\n",
            "Epoch 6/1000\n",
            "69/69 [==============================] - 4s 56ms/step - loss: 1.4955 - accuracy: 0.5127 - val_loss: 1.9014 - val_accuracy: 0.0000e+00\n",
            "Epoch 7/1000\n",
            "69/69 [==============================] - 4s 57ms/step - loss: 1.4751 - accuracy: 0.5127 - val_loss: 1.9599 - val_accuracy: 0.0000e+00\n",
            "Epoch 8/1000\n",
            "69/69 [==============================] - 4s 57ms/step - loss: 1.4694 - accuracy: 0.5164 - val_loss: 2.2145 - val_accuracy: 0.0000e+00\n",
            "Epoch 9/1000\n",
            "69/69 [==============================] - 4s 58ms/step - loss: 6.1686 - accuracy: 0.6764 - val_loss: 2.1747 - val_accuracy: 0.0000e+00\n",
            "Epoch 10/1000\n",
            "69/69 [==============================] - 4s 57ms/step - loss: 6.4609 - accuracy: 0.6964 - val_loss: 3.6566 - val_accuracy: 0.0000e+00\n",
            "Epoch 11/1000\n",
            "69/69 [==============================] - 4s 56ms/step - loss: 1.3477 - accuracy: 0.4400 - val_loss: 4.5342 - val_accuracy: 0.0073\n",
            "Epoch 12/1000\n",
            "69/69 [==============================] - 4s 57ms/step - loss: 1.2271 - accuracy: 0.4473 - val_loss: 2.9265 - val_accuracy: 0.0000e+00\n"
          ],
          "name": "stdout"
        },
        {
          "output_type": "display_data",
          "data": {
            "text/html": [
              "<span style=\"color:#4527A0\"><h1 style=\"font-size:18px\">Trial complete</h1></span>"
            ],
            "text/plain": [
              "<IPython.core.display.HTML object>"
            ]
          },
          "metadata": {
            "tags": []
          }
        },
        {
          "output_type": "display_data",
          "data": {
            "text/html": [
              "<span style=\"color:#4527A0\"><h1 style=\"font-size:18px\">Trial summary</h1></span>"
            ],
            "text/plain": [
              "<IPython.core.display.HTML object>"
            ]
          },
          "metadata": {
            "tags": []
          }
        },
        {
          "output_type": "display_data",
          "data": {
            "text/html": [
              "<span style=\"color:cyan\"> |-Trial ID: f0f88b06ebd841a004647ab4ac22a80b</span>"
            ],
            "text/plain": [
              "<IPython.core.display.HTML object>"
            ]
          },
          "metadata": {
            "tags": []
          }
        },
        {
          "output_type": "display_data",
          "data": {
            "text/html": [
              "<span style=\"color:cyan\"> |-Score: 1.6915294064415827</span>"
            ],
            "text/plain": [
              "<IPython.core.display.HTML object>"
            ]
          },
          "metadata": {
            "tags": []
          }
        },
        {
          "output_type": "display_data",
          "data": {
            "text/html": [
              "<span style=\"color:cyan\"> |-Best step: 0</span>"
            ],
            "text/plain": [
              "<IPython.core.display.HTML object>"
            ]
          },
          "metadata": {
            "tags": []
          }
        },
        {
          "output_type": "display_data",
          "data": {
            "text/html": [
              "<span style=\"color:#7E57C2\"><h2 style=\"font-size:16px\">Hyperparameters:</h2></span>"
            ],
            "text/plain": [
              "<IPython.core.display.HTML object>"
            ]
          },
          "metadata": {
            "tags": []
          }
        },
        {
          "output_type": "display_data",
          "data": {
            "text/html": [
              "<span style=\"color:cyan\"> |-classification_head_1/dropout_rate: 0.5</span>"
            ],
            "text/plain": [
              "<IPython.core.display.HTML object>"
            ]
          },
          "metadata": {
            "tags": []
          }
        },
        {
          "output_type": "display_data",
          "data": {
            "text/html": [
              "<span style=\"color:blue\"> |-classification_head_1/spatial_reduction_1/reduction_type: flatten</span>"
            ],
            "text/plain": [
              "<IPython.core.display.HTML object>"
            ]
          },
          "metadata": {
            "tags": []
          }
        },
        {
          "output_type": "display_data",
          "data": {
            "text/html": [
              "<span style=\"color:cyan\"> |-dense_block_1/dropout_rate: 0</span>"
            ],
            "text/plain": [
              "<IPython.core.display.HTML object>"
            ]
          },
          "metadata": {
            "tags": []
          }
        },
        {
          "output_type": "display_data",
          "data": {
            "text/html": [
              "<span style=\"color:blue\"> |-dense_block_1/num_layers: 1</span>"
            ],
            "text/plain": [
              "<IPython.core.display.HTML object>"
            ]
          },
          "metadata": {
            "tags": []
          }
        },
        {
          "output_type": "display_data",
          "data": {
            "text/html": [
              "<span style=\"color:cyan\"> |-dense_block_1/units_0: 128</span>"
            ],
            "text/plain": [
              "<IPython.core.display.HTML object>"
            ]
          },
          "metadata": {
            "tags": []
          }
        },
        {
          "output_type": "display_data",
          "data": {
            "text/html": [
              "<span style=\"color:blue\"> |-dense_block_1/use_batchnorm: False</span>"
            ],
            "text/plain": [
              "<IPython.core.display.HTML object>"
            ]
          },
          "metadata": {
            "tags": []
          }
        },
        {
          "output_type": "display_data",
          "data": {
            "text/html": [
              "<span style=\"color:cyan\"> |-image_block_1/augment: False</span>"
            ],
            "text/plain": [
              "<IPython.core.display.HTML object>"
            ]
          },
          "metadata": {
            "tags": []
          }
        },
        {
          "output_type": "display_data",
          "data": {
            "text/html": [
              "<span style=\"color:blue\"> |-image_block_1/block_type: vanilla</span>"
            ],
            "text/plain": [
              "<IPython.core.display.HTML object>"
            ]
          },
          "metadata": {
            "tags": []
          }
        },
        {
          "output_type": "display_data",
          "data": {
            "text/html": [
              "<span style=\"color:cyan\"> |-image_block_1/conv_block_1/dropout_rate: 0.25</span>"
            ],
            "text/plain": [
              "<IPython.core.display.HTML object>"
            ]
          },
          "metadata": {
            "tags": []
          }
        },
        {
          "output_type": "display_data",
          "data": {
            "text/html": [
              "<span style=\"color:blue\"> |-image_block_1/conv_block_1/filters_0_0: 32</span>"
            ],
            "text/plain": [
              "<IPython.core.display.HTML object>"
            ]
          },
          "metadata": {
            "tags": []
          }
        },
        {
          "output_type": "display_data",
          "data": {
            "text/html": [
              "<span style=\"color:cyan\"> |-image_block_1/conv_block_1/filters_0_1: 64</span>"
            ],
            "text/plain": [
              "<IPython.core.display.HTML object>"
            ]
          },
          "metadata": {
            "tags": []
          }
        },
        {
          "output_type": "display_data",
          "data": {
            "text/html": [
              "<span style=\"color:blue\"> |-image_block_1/conv_block_1/kernel_size: 3</span>"
            ],
            "text/plain": [
              "<IPython.core.display.HTML object>"
            ]
          },
          "metadata": {
            "tags": []
          }
        },
        {
          "output_type": "display_data",
          "data": {
            "text/html": [
              "<span style=\"color:cyan\"> |-image_block_1/conv_block_1/max_pooling: True</span>"
            ],
            "text/plain": [
              "<IPython.core.display.HTML object>"
            ]
          },
          "metadata": {
            "tags": []
          }
        },
        {
          "output_type": "display_data",
          "data": {
            "text/html": [
              "<span style=\"color:blue\"> |-image_block_1/conv_block_1/num_blocks: 1</span>"
            ],
            "text/plain": [
              "<IPython.core.display.HTML object>"
            ]
          },
          "metadata": {
            "tags": []
          }
        },
        {
          "output_type": "display_data",
          "data": {
            "text/html": [
              "<span style=\"color:cyan\"> |-image_block_1/conv_block_1/num_layers: 2</span>"
            ],
            "text/plain": [
              "<IPython.core.display.HTML object>"
            ]
          },
          "metadata": {
            "tags": []
          }
        },
        {
          "output_type": "display_data",
          "data": {
            "text/html": [
              "<span style=\"color:blue\"> |-image_block_1/conv_block_1/separable: False</span>"
            ],
            "text/plain": [
              "<IPython.core.display.HTML object>"
            ]
          },
          "metadata": {
            "tags": []
          }
        },
        {
          "output_type": "display_data",
          "data": {
            "text/html": [
              "<span style=\"color:cyan\"> |-image_block_1/normalize: True</span>"
            ],
            "text/plain": [
              "<IPython.core.display.HTML object>"
            ]
          },
          "metadata": {
            "tags": []
          }
        },
        {
          "output_type": "display_data",
          "data": {
            "text/html": [
              "<span style=\"color:blue\"> |-optimizer: adam</span>"
            ],
            "text/plain": [
              "<IPython.core.display.HTML object>"
            ]
          },
          "metadata": {
            "tags": []
          }
        },
        {
          "output_type": "stream",
          "text": [
            "Train for 69 steps, validate for 18 steps\n",
            "Epoch 1/1000\n",
            "69/69 [==============================] - 18s 256ms/step - loss: 1.5566 - accuracy: 0.6891 - val_loss: 833759683.5556 - val_accuracy: 0.2555\n",
            "Epoch 2/1000\n",
            "69/69 [==============================] - 11s 155ms/step - loss: 1.4269 - accuracy: 0.6364 - val_loss: 58933.0933 - val_accuracy: 0.0000e+00\n",
            "Epoch 3/1000\n",
            "69/69 [==============================] - 10s 141ms/step - loss: 2.0082 - accuracy: 0.5018 - val_loss: 85977.3730 - val_accuracy: 0.0000e+00\n",
            "Epoch 4/1000\n",
            "69/69 [==============================] - 11s 156ms/step - loss: 1.9444 - accuracy: 0.3982 - val_loss: 139.0691 - val_accuracy: 0.0000e+00\n",
            "Epoch 5/1000\n",
            "69/69 [==============================] - 10s 142ms/step - loss: 1.9660 - accuracy: 0.2945 - val_loss: 198.1057 - val_accuracy: 0.0000e+00\n",
            "Epoch 6/1000\n",
            "69/69 [==============================] - 10s 142ms/step - loss: 1.7976 - accuracy: 0.5618 - val_loss: 7848.6924 - val_accuracy: 0.2555\n",
            "Epoch 7/1000\n",
            "69/69 [==============================] - 10s 152ms/step - loss: 1.6739 - accuracy: 0.5400 - val_loss: 20.2360 - val_accuracy: 0.0000e+00\n",
            "Epoch 8/1000\n",
            "69/69 [==============================] - 10s 141ms/step - loss: 2.5964 - accuracy: 0.4709 - val_loss: 1557779.2066 - val_accuracy: 0.0000e+00\n",
            "Epoch 9/1000\n",
            "69/69 [==============================] - 10s 141ms/step - loss: 1.8726 - accuracy: 0.3345 - val_loss: 727.5459 - val_accuracy: 0.0000e+00\n",
            "Epoch 10/1000\n",
            "69/69 [==============================] - 10s 141ms/step - loss: 1.7531 - accuracy: 0.3964 - val_loss: 86.8778 - val_accuracy: 0.0000e+00\n",
            "Epoch 11/1000\n",
            "69/69 [==============================] - 10s 141ms/step - loss: 1.6234 - accuracy: 0.4091 - val_loss: 24.4180 - val_accuracy: 0.0000e+00\n",
            "Epoch 12/1000\n",
            "69/69 [==============================] - 11s 152ms/step - loss: 1.5877 - accuracy: 0.4127 - val_loss: 7.6185 - val_accuracy: 0.0000e+00\n",
            "Epoch 13/1000\n",
            "69/69 [==============================] - 11s 154ms/step - loss: 1.5348 - accuracy: 0.4327 - val_loss: 4.5603 - val_accuracy: 0.0000e+00\n",
            "Epoch 14/1000\n",
            "69/69 [==============================] - 11s 154ms/step - loss: 1.4950 - accuracy: 0.4527 - val_loss: 4.3533 - val_accuracy: 0.0000e+00\n",
            "Epoch 15/1000\n",
            "69/69 [==============================] - 10s 141ms/step - loss: 1.5120 - accuracy: 0.4564 - val_loss: 9.5063 - val_accuracy: 0.0000e+00\n",
            "Epoch 16/1000\n",
            "69/69 [==============================] - 10s 141ms/step - loss: 1.5401 - accuracy: 0.4400 - val_loss: 6.2342 - val_accuracy: 0.0000e+00\n",
            "Epoch 17/1000\n",
            "69/69 [==============================] - 10s 140ms/step - loss: 1.4922 - accuracy: 0.4455 - val_loss: 4.3673 - val_accuracy: 0.0000e+00\n",
            "Epoch 18/1000\n",
            "69/69 [==============================] - 11s 152ms/step - loss: 1.4794 - accuracy: 0.4655 - val_loss: 3.9673 - val_accuracy: 0.0000e+00\n",
            "Epoch 19/1000\n",
            "69/69 [==============================] - 11s 153ms/step - loss: 1.4634 - accuracy: 0.4564 - val_loss: 3.8772 - val_accuracy: 0.0000e+00\n",
            "Epoch 20/1000\n",
            "69/69 [==============================] - 10s 140ms/step - loss: 1.4632 - accuracy: 0.4473 - val_loss: 5.3911 - val_accuracy: 0.0000e+00\n",
            "Epoch 21/1000\n",
            "69/69 [==============================] - 10s 141ms/step - loss: 1.4463 - accuracy: 0.4545 - val_loss: 4.4930 - val_accuracy: 0.0000e+00\n",
            "Epoch 22/1000\n",
            "69/69 [==============================] - 10s 140ms/step - loss: 1.4131 - accuracy: 0.4582 - val_loss: 4.5938 - val_accuracy: 0.0000e+00\n",
            "Epoch 23/1000\n",
            "69/69 [==============================] - 10s 140ms/step - loss: 1.4039 - accuracy: 0.4636 - val_loss: 4.7534 - val_accuracy: 0.0000e+00\n",
            "Epoch 24/1000\n",
            "69/69 [==============================] - 10s 141ms/step - loss: 1.3857 - accuracy: 0.4709 - val_loss: 5.0656 - val_accuracy: 0.0000e+00\n",
            "Epoch 25/1000\n",
            "69/69 [==============================] - 10s 141ms/step - loss: 1.3925 - accuracy: 0.4709 - val_loss: 4.6038 - val_accuracy: 0.0000e+00\n",
            "Epoch 26/1000\n",
            "69/69 [==============================] - 10s 141ms/step - loss: 1.3724 - accuracy: 0.4764 - val_loss: 4.7250 - val_accuracy: 0.0000e+00\n",
            "Epoch 27/1000\n",
            "69/69 [==============================] - 10s 140ms/step - loss: 1.3644 - accuracy: 0.4745 - val_loss: 4.7038 - val_accuracy: 0.0000e+00\n",
            "Epoch 28/1000\n",
            "69/69 [==============================] - 10s 141ms/step - loss: 1.3602 - accuracy: 0.4745 - val_loss: 4.6745 - val_accuracy: 0.0000e+00\n",
            "Epoch 29/1000\n",
            "69/69 [==============================] - 10s 140ms/step - loss: 1.3922 - accuracy: 0.5236 - val_loss: 416.6613 - val_accuracy: 0.0146\n"
          ],
          "name": "stdout"
        },
        {
          "output_type": "display_data",
          "data": {
            "text/html": [
              "<span style=\"color:#4527A0\"><h1 style=\"font-size:18px\">Trial complete</h1></span>"
            ],
            "text/plain": [
              "<IPython.core.display.HTML object>"
            ]
          },
          "metadata": {
            "tags": []
          }
        },
        {
          "output_type": "display_data",
          "data": {
            "text/html": [
              "<span style=\"color:#4527A0\"><h1 style=\"font-size:18px\">Trial summary</h1></span>"
            ],
            "text/plain": [
              "<IPython.core.display.HTML object>"
            ]
          },
          "metadata": {
            "tags": []
          }
        },
        {
          "output_type": "display_data",
          "data": {
            "text/html": [
              "<span style=\"color:cyan\"> |-Trial ID: 8364cb924f2cbb91501dc507fc42b956</span>"
            ],
            "text/plain": [
              "<IPython.core.display.HTML object>"
            ]
          },
          "metadata": {
            "tags": []
          }
        },
        {
          "output_type": "display_data",
          "data": {
            "text/html": [
              "<span style=\"color:cyan\"> |-Score: 3.8772231804000006</span>"
            ],
            "text/plain": [
              "<IPython.core.display.HTML object>"
            ]
          },
          "metadata": {
            "tags": []
          }
        },
        {
          "output_type": "display_data",
          "data": {
            "text/html": [
              "<span style=\"color:cyan\"> |-Best step: 0</span>"
            ],
            "text/plain": [
              "<IPython.core.display.HTML object>"
            ]
          },
          "metadata": {
            "tags": []
          }
        },
        {
          "output_type": "display_data",
          "data": {
            "text/html": [
              "<span style=\"color:#7E57C2\"><h2 style=\"font-size:16px\">Hyperparameters:</h2></span>"
            ],
            "text/plain": [
              "<IPython.core.display.HTML object>"
            ]
          },
          "metadata": {
            "tags": []
          }
        },
        {
          "output_type": "display_data",
          "data": {
            "text/html": [
              "<span style=\"color:cyan\"> |-classification_head_1/dropout_rate: 0</span>"
            ],
            "text/plain": [
              "<IPython.core.display.HTML object>"
            ]
          },
          "metadata": {
            "tags": []
          }
        },
        {
          "output_type": "display_data",
          "data": {
            "text/html": [
              "<span style=\"color:blue\"> |-dense_block_1/dropout_rate: 0</span>"
            ],
            "text/plain": [
              "<IPython.core.display.HTML object>"
            ]
          },
          "metadata": {
            "tags": []
          }
        },
        {
          "output_type": "display_data",
          "data": {
            "text/html": [
              "<span style=\"color:cyan\"> |-dense_block_1/num_layers: 2</span>"
            ],
            "text/plain": [
              "<IPython.core.display.HTML object>"
            ]
          },
          "metadata": {
            "tags": []
          }
        },
        {
          "output_type": "display_data",
          "data": {
            "text/html": [
              "<span style=\"color:blue\"> |-dense_block_1/units_0: 32</span>"
            ],
            "text/plain": [
              "<IPython.core.display.HTML object>"
            ]
          },
          "metadata": {
            "tags": []
          }
        },
        {
          "output_type": "display_data",
          "data": {
            "text/html": [
              "<span style=\"color:cyan\"> |-dense_block_1/units_1: 32</span>"
            ],
            "text/plain": [
              "<IPython.core.display.HTML object>"
            ]
          },
          "metadata": {
            "tags": []
          }
        },
        {
          "output_type": "display_data",
          "data": {
            "text/html": [
              "<span style=\"color:blue\"> |-dense_block_1/use_batchnorm: False</span>"
            ],
            "text/plain": [
              "<IPython.core.display.HTML object>"
            ]
          },
          "metadata": {
            "tags": []
          }
        },
        {
          "output_type": "display_data",
          "data": {
            "text/html": [
              "<span style=\"color:cyan\"> |-image_block_1/augment: True</span>"
            ],
            "text/plain": [
              "<IPython.core.display.HTML object>"
            ]
          },
          "metadata": {
            "tags": []
          }
        },
        {
          "output_type": "display_data",
          "data": {
            "text/html": [
              "<span style=\"color:blue\"> |-image_block_1/block_type: resnet</span>"
            ],
            "text/plain": [
              "<IPython.core.display.HTML object>"
            ]
          },
          "metadata": {
            "tags": []
          }
        },
        {
          "output_type": "display_data",
          "data": {
            "text/html": [
              "<span style=\"color:cyan\"> |-image_block_1/normalize: True</span>"
            ],
            "text/plain": [
              "<IPython.core.display.HTML object>"
            ]
          },
          "metadata": {
            "tags": []
          }
        },
        {
          "output_type": "display_data",
          "data": {
            "text/html": [
              "<span style=\"color:blue\"> |-image_block_1/res_net_block_1/conv3_depth: 4</span>"
            ],
            "text/plain": [
              "<IPython.core.display.HTML object>"
            ]
          },
          "metadata": {
            "tags": []
          }
        },
        {
          "output_type": "display_data",
          "data": {
            "text/html": [
              "<span style=\"color:cyan\"> |-image_block_1/res_net_block_1/conv4_depth: 6</span>"
            ],
            "text/plain": [
              "<IPython.core.display.HTML object>"
            ]
          },
          "metadata": {
            "tags": []
          }
        },
        {
          "output_type": "display_data",
          "data": {
            "text/html": [
              "<span style=\"color:blue\"> |-image_block_1/res_net_block_1/pooling: avg</span>"
            ],
            "text/plain": [
              "<IPython.core.display.HTML object>"
            ]
          },
          "metadata": {
            "tags": []
          }
        },
        {
          "output_type": "display_data",
          "data": {
            "text/html": [
              "<span style=\"color:cyan\"> |-image_block_1/res_net_block_1/version: v2</span>"
            ],
            "text/plain": [
              "<IPython.core.display.HTML object>"
            ]
          },
          "metadata": {
            "tags": []
          }
        },
        {
          "output_type": "display_data",
          "data": {
            "text/html": [
              "<span style=\"color:blue\"> |-optimizer: adam</span>"
            ],
            "text/plain": [
              "<IPython.core.display.HTML object>"
            ]
          },
          "metadata": {
            "tags": []
          }
        },
        {
          "output_type": "stream",
          "text": [
            "Train for 69 steps, validate for 18 steps\n",
            "Epoch 1/1000\n",
            "69/69 [==============================] - 4s 65ms/step - loss: 17.1050 - accuracy: 0.6836 - val_loss: 1.6790 - val_accuracy: 0.0000e+00\n",
            "Epoch 2/1000\n",
            "69/69 [==============================] - 4s 57ms/step - loss: 3.8814 - accuracy: 0.5745 - val_loss: 1.9182 - val_accuracy: 0.0000e+00\n",
            "Epoch 3/1000\n",
            "69/69 [==============================] - 4s 58ms/step - loss: 1.8614 - accuracy: 0.2345 - val_loss: 3.0787 - val_accuracy: 0.0000e+00\n",
            "Epoch 4/1000\n",
            "69/69 [==============================] - 4s 57ms/step - loss: 1.8478 - accuracy: 0.3200 - val_loss: 1.9795 - val_accuracy: 0.0000e+00\n",
            "Epoch 5/1000\n",
            "69/69 [==============================] - 4s 57ms/step - loss: 2.3019 - accuracy: 0.3673 - val_loss: 2.3752 - val_accuracy: 0.0000e+00\n",
            "Epoch 6/1000\n",
            "69/69 [==============================] - 4s 57ms/step - loss: 1.7286 - accuracy: 0.5509 - val_loss: 3.9016 - val_accuracy: 0.0073\n",
            "Epoch 7/1000\n",
            "69/69 [==============================] - 4s 56ms/step - loss: 2.3521 - accuracy: 0.5891 - val_loss: 3.2421 - val_accuracy: 0.0000e+00\n",
            "Epoch 8/1000\n",
            "69/69 [==============================] - 4s 56ms/step - loss: 1.5369 - accuracy: 0.6091 - val_loss: 4.8819 - val_accuracy: 0.0000e+00\n",
            "Epoch 9/1000\n",
            "69/69 [==============================] - 4s 57ms/step - loss: 1.0011 - accuracy: 0.6000 - val_loss: 5.2787 - val_accuracy: 0.0000e+00\n",
            "Epoch 10/1000\n",
            "69/69 [==============================] - 4s 57ms/step - loss: 0.7943 - accuracy: 0.7436 - val_loss: 6.8606 - val_accuracy: 0.0219\n",
            "Epoch 11/1000\n",
            "69/69 [==============================] - 4s 57ms/step - loss: 1.4814 - accuracy: 0.7836 - val_loss: 11.8022 - val_accuracy: 0.0146\n"
          ],
          "name": "stdout"
        },
        {
          "output_type": "display_data",
          "data": {
            "text/html": [
              "<span style=\"color:#4527A0\"><h1 style=\"font-size:18px\">Trial complete</h1></span>"
            ],
            "text/plain": [
              "<IPython.core.display.HTML object>"
            ]
          },
          "metadata": {
            "tags": []
          }
        },
        {
          "output_type": "display_data",
          "data": {
            "text/html": [
              "<span style=\"color:#4527A0\"><h1 style=\"font-size:18px\">Trial summary</h1></span>"
            ],
            "text/plain": [
              "<IPython.core.display.HTML object>"
            ]
          },
          "metadata": {
            "tags": []
          }
        },
        {
          "output_type": "display_data",
          "data": {
            "text/html": [
              "<span style=\"color:cyan\"> |-Trial ID: 18cdfb2b6647938dd55ceff5c2382f30</span>"
            ],
            "text/plain": [
              "<IPython.core.display.HTML object>"
            ]
          },
          "metadata": {
            "tags": []
          }
        },
        {
          "output_type": "display_data",
          "data": {
            "text/html": [
              "<span style=\"color:cyan\"> |-Score: 1.6789764960606892</span>"
            ],
            "text/plain": [
              "<IPython.core.display.HTML object>"
            ]
          },
          "metadata": {
            "tags": []
          }
        },
        {
          "output_type": "display_data",
          "data": {
            "text/html": [
              "<span style=\"color:cyan\"> |-Best step: 0</span>"
            ],
            "text/plain": [
              "<IPython.core.display.HTML object>"
            ]
          },
          "metadata": {
            "tags": []
          }
        },
        {
          "output_type": "display_data",
          "data": {
            "text/html": [
              "<span style=\"color:#7E57C2\"><h2 style=\"font-size:16px\">Hyperparameters:</h2></span>"
            ],
            "text/plain": [
              "<IPython.core.display.HTML object>"
            ]
          },
          "metadata": {
            "tags": []
          }
        },
        {
          "output_type": "display_data",
          "data": {
            "text/html": [
              "<span style=\"color:cyan\"> |-classification_head_1/dropout_rate: 0.5</span>"
            ],
            "text/plain": [
              "<IPython.core.display.HTML object>"
            ]
          },
          "metadata": {
            "tags": []
          }
        },
        {
          "output_type": "display_data",
          "data": {
            "text/html": [
              "<span style=\"color:blue\"> |-classification_head_1/spatial_reduction_1/reduction_type: flatten</span>"
            ],
            "text/plain": [
              "<IPython.core.display.HTML object>"
            ]
          },
          "metadata": {
            "tags": []
          }
        },
        {
          "output_type": "display_data",
          "data": {
            "text/html": [
              "<span style=\"color:cyan\"> |-dense_block_1/dropout_rate: 0</span>"
            ],
            "text/plain": [
              "<IPython.core.display.HTML object>"
            ]
          },
          "metadata": {
            "tags": []
          }
        },
        {
          "output_type": "display_data",
          "data": {
            "text/html": [
              "<span style=\"color:blue\"> |-dense_block_1/num_layers: 1</span>"
            ],
            "text/plain": [
              "<IPython.core.display.HTML object>"
            ]
          },
          "metadata": {
            "tags": []
          }
        },
        {
          "output_type": "display_data",
          "data": {
            "text/html": [
              "<span style=\"color:cyan\"> |-dense_block_1/units_0: 128</span>"
            ],
            "text/plain": [
              "<IPython.core.display.HTML object>"
            ]
          },
          "metadata": {
            "tags": []
          }
        },
        {
          "output_type": "display_data",
          "data": {
            "text/html": [
              "<span style=\"color:blue\"> |-dense_block_1/use_batchnorm: False</span>"
            ],
            "text/plain": [
              "<IPython.core.display.HTML object>"
            ]
          },
          "metadata": {
            "tags": []
          }
        },
        {
          "output_type": "display_data",
          "data": {
            "text/html": [
              "<span style=\"color:cyan\"> |-image_block_1/augment: False</span>"
            ],
            "text/plain": [
              "<IPython.core.display.HTML object>"
            ]
          },
          "metadata": {
            "tags": []
          }
        },
        {
          "output_type": "display_data",
          "data": {
            "text/html": [
              "<span style=\"color:blue\"> |-image_block_1/block_type: vanilla</span>"
            ],
            "text/plain": [
              "<IPython.core.display.HTML object>"
            ]
          },
          "metadata": {
            "tags": []
          }
        },
        {
          "output_type": "display_data",
          "data": {
            "text/html": [
              "<span style=\"color:cyan\"> |-image_block_1/conv_block_1/dropout_rate: 0.25</span>"
            ],
            "text/plain": [
              "<IPython.core.display.HTML object>"
            ]
          },
          "metadata": {
            "tags": []
          }
        },
        {
          "output_type": "display_data",
          "data": {
            "text/html": [
              "<span style=\"color:blue\"> |-image_block_1/conv_block_1/filters_0_0: 32</span>"
            ],
            "text/plain": [
              "<IPython.core.display.HTML object>"
            ]
          },
          "metadata": {
            "tags": []
          }
        },
        {
          "output_type": "display_data",
          "data": {
            "text/html": [
              "<span style=\"color:cyan\"> |-image_block_1/conv_block_1/filters_0_1: 64</span>"
            ],
            "text/plain": [
              "<IPython.core.display.HTML object>"
            ]
          },
          "metadata": {
            "tags": []
          }
        },
        {
          "output_type": "display_data",
          "data": {
            "text/html": [
              "<span style=\"color:blue\"> |-image_block_1/conv_block_1/kernel_size: 3</span>"
            ],
            "text/plain": [
              "<IPython.core.display.HTML object>"
            ]
          },
          "metadata": {
            "tags": []
          }
        },
        {
          "output_type": "display_data",
          "data": {
            "text/html": [
              "<span style=\"color:cyan\"> |-image_block_1/conv_block_1/max_pooling: True</span>"
            ],
            "text/plain": [
              "<IPython.core.display.HTML object>"
            ]
          },
          "metadata": {
            "tags": []
          }
        },
        {
          "output_type": "display_data",
          "data": {
            "text/html": [
              "<span style=\"color:blue\"> |-image_block_1/conv_block_1/num_blocks: 1</span>"
            ],
            "text/plain": [
              "<IPython.core.display.HTML object>"
            ]
          },
          "metadata": {
            "tags": []
          }
        },
        {
          "output_type": "display_data",
          "data": {
            "text/html": [
              "<span style=\"color:cyan\"> |-image_block_1/conv_block_1/num_layers: 2</span>"
            ],
            "text/plain": [
              "<IPython.core.display.HTML object>"
            ]
          },
          "metadata": {
            "tags": []
          }
        },
        {
          "output_type": "display_data",
          "data": {
            "text/html": [
              "<span style=\"color:blue\"> |-image_block_1/conv_block_1/separable: False</span>"
            ],
            "text/plain": [
              "<IPython.core.display.HTML object>"
            ]
          },
          "metadata": {
            "tags": []
          }
        },
        {
          "output_type": "display_data",
          "data": {
            "text/html": [
              "<span style=\"color:cyan\"> |-image_block_1/normalize: True</span>"
            ],
            "text/plain": [
              "<IPython.core.display.HTML object>"
            ]
          },
          "metadata": {
            "tags": []
          }
        },
        {
          "output_type": "display_data",
          "data": {
            "text/html": [
              "<span style=\"color:blue\"> |-optimizer: adam</span>"
            ],
            "text/plain": [
              "<IPython.core.display.HTML object>"
            ]
          },
          "metadata": {
            "tags": []
          }
        },
        {
          "output_type": "stream",
          "text": [
            "INFO:tensorflow:Oracle triggered exit\n",
            "Train for 87 steps, validate for 18 steps\n",
            "Epoch 1/1000\n",
            "87/87 [==============================] - 5s 62ms/step - loss: 22.9410 - accuracy: 0.5560 - val_loss: 1.6159 - val_accuracy: 0.0000e+00\n",
            "Epoch 2/1000\n",
            "87/87 [==============================] - 5s 56ms/step - loss: 2.2807 - accuracy: 0.2460 - val_loss: 1.6127 - val_accuracy: 0.0000e+00\n",
            "Epoch 3/1000\n",
            "87/87 [==============================] - 5s 56ms/step - loss: 1.6121 - accuracy: 0.2460 - val_loss: 1.6172 - val_accuracy: 0.0000e+00\n",
            "Epoch 4/1000\n",
            "87/87 [==============================] - 5s 55ms/step - loss: 1.5966 - accuracy: 0.4105 - val_loss: 1.6250 - val_accuracy: 0.0000e+00\n",
            "Epoch 5/1000\n",
            "87/87 [==============================] - 5s 55ms/step - loss: 1.5857 - accuracy: 0.4105 - val_loss: 1.6285 - val_accuracy: 0.0000e+00\n",
            "Epoch 6/1000\n",
            "87/87 [==============================] - 5s 55ms/step - loss: 1.7340 - accuracy: 0.4381 - val_loss: 1.6239 - val_accuracy: 0.0000e+00\n",
            "Epoch 7/1000\n",
            "87/87 [==============================] - 5s 55ms/step - loss: 1.5751 - accuracy: 0.4148 - val_loss: 1.6184 - val_accuracy: 0.0000e+00\n",
            "Epoch 8/1000\n",
            "87/87 [==============================] - 5s 56ms/step - loss: 1.5245 - accuracy: 0.4352 - val_loss: 1.5926 - val_accuracy: 0.0146\n",
            "Epoch 9/1000\n",
            "87/87 [==============================] - 5s 55ms/step - loss: 1.5092 - accuracy: 0.4934 - val_loss: 1.4878 - val_accuracy: 0.3504\n",
            "Epoch 10/1000\n",
            "87/87 [==============================] - 5s 55ms/step - loss: 1.3629 - accuracy: 0.6041 - val_loss: 0.7545 - val_accuracy: 0.7591\n",
            "Epoch 11/1000\n",
            "87/87 [==============================] - 5s 54ms/step - loss: 2.0148 - accuracy: 0.5837 - val_loss: 0.2383 - val_accuracy: 0.9343\n",
            "Epoch 12/1000\n",
            "87/87 [==============================] - 5s 56ms/step - loss: 8.4909 - accuracy: 0.6012 - val_loss: 12.3220 - val_accuracy: 0.7445\n",
            "Epoch 13/1000\n",
            "87/87 [==============================] - 5s 54ms/step - loss: 3.5556 - accuracy: 0.7875 - val_loss: 22.0626 - val_accuracy: 0.7445\n",
            "Epoch 14/1000\n",
            "87/87 [==============================] - 5s 56ms/step - loss: 11.6002 - accuracy: 0.7234 - val_loss: 11.0386 - val_accuracy: 0.7445\n",
            "Epoch 15/1000\n",
            "87/87 [==============================] - 5s 55ms/step - loss: 4.2066 - accuracy: 0.7162 - val_loss: 0.4264 - val_accuracy: 0.9197\n",
            "Epoch 16/1000\n",
            "87/87 [==============================] - 5s 56ms/step - loss: 1.8218 - accuracy: 0.6696 - val_loss: 0.3634 - val_accuracy: 0.8832\n",
            "Epoch 17/1000\n",
            "87/87 [==============================] - 5s 56ms/step - loss: 1.9497 - accuracy: 0.6579 - val_loss: 1.9423 - val_accuracy: 0.7445\n",
            "Epoch 18/1000\n",
            "87/87 [==============================] - 5s 55ms/step - loss: 1.1076 - accuracy: 0.6143 - val_loss: 0.5775 - val_accuracy: 0.8613\n",
            "Epoch 19/1000\n",
            "87/87 [==============================] - 5s 55ms/step - loss: 0.9861 - accuracy: 0.7933 - val_loss: 0.2536 - val_accuracy: 1.0000\n",
            "Epoch 20/1000\n",
            "87/87 [==============================] - 5s 55ms/step - loss: 0.6225 - accuracy: 0.8341 - val_loss: 0.1321 - val_accuracy: 0.9343\n",
            "Epoch 21/1000\n",
            "87/87 [==============================] - 5s 55ms/step - loss: 0.5131 - accuracy: 0.7977 - val_loss: 0.1246 - val_accuracy: 0.9927\n",
            "Epoch 22/1000\n",
            "87/87 [==============================] - 5s 55ms/step - loss: 0.3659 - accuracy: 0.8821 - val_loss: 0.0783 - val_accuracy: 1.0000\n",
            "Epoch 23/1000\n",
            "87/87 [==============================] - 5s 55ms/step - loss: 0.2152 - accuracy: 0.9491 - val_loss: 0.0399 - val_accuracy: 1.0000\n",
            "Epoch 24/1000\n",
            "87/87 [==============================] - 5s 56ms/step - loss: 0.6178 - accuracy: 0.9330 - val_loss: 0.0105 - val_accuracy: 1.0000\n",
            "Epoch 25/1000\n",
            "87/87 [==============================] - 5s 55ms/step - loss: 0.2235 - accuracy: 0.9141 - val_loss: 0.0163 - val_accuracy: 1.0000\n",
            "Epoch 26/1000\n",
            "87/87 [==============================] - 5s 55ms/step - loss: 0.0901 - accuracy: 0.9840 - val_loss: 0.0084 - val_accuracy: 1.0000\n",
            "Epoch 27/1000\n",
            "87/87 [==============================] - 5s 56ms/step - loss: 0.0545 - accuracy: 0.9898 - val_loss: 0.0059 - val_accuracy: 1.0000\n",
            "Epoch 28/1000\n",
            "87/87 [==============================] - 5s 54ms/step - loss: 0.0362 - accuracy: 0.9942 - val_loss: 0.0035 - val_accuracy: 1.0000\n",
            "Epoch 29/1000\n",
            "87/87 [==============================] - 5s 55ms/step - loss: 0.0304 - accuracy: 0.9985 - val_loss: 0.0028 - val_accuracy: 1.0000\n",
            "Epoch 30/1000\n",
            "87/87 [==============================] - 5s 54ms/step - loss: 0.0200 - accuracy: 0.9985 - val_loss: 0.0021 - val_accuracy: 1.0000\n",
            "Epoch 31/1000\n",
            "87/87 [==============================] - 5s 56ms/step - loss: 0.0164 - accuracy: 0.9985 - val_loss: 0.0020 - val_accuracy: 1.0000\n",
            "Epoch 32/1000\n",
            "87/87 [==============================] - 5s 54ms/step - loss: 0.0120 - accuracy: 0.9985 - val_loss: 0.0016 - val_accuracy: 1.0000\n",
            "Epoch 33/1000\n",
            "87/87 [==============================] - 5s 55ms/step - loss: 0.0094 - accuracy: 0.9985 - val_loss: 0.0010 - val_accuracy: 1.0000\n",
            "Epoch 34/1000\n",
            "87/87 [==============================] - 5s 55ms/step - loss: 0.0102 - accuracy: 0.9971 - val_loss: 7.5258e-04 - val_accuracy: 1.0000\n",
            "Epoch 35/1000\n",
            "87/87 [==============================] - 5s 55ms/step - loss: 0.0085 - accuracy: 1.0000 - val_loss: 5.5896e-04 - val_accuracy: 1.0000\n",
            "Epoch 36/1000\n",
            "87/87 [==============================] - 5s 56ms/step - loss: 0.0082 - accuracy: 0.9985 - val_loss: 5.6291e-04 - val_accuracy: 1.0000\n",
            "Epoch 37/1000\n",
            "87/87 [==============================] - 5s 54ms/step - loss: 0.0100 - accuracy: 0.9985 - val_loss: 5.1989e-04 - val_accuracy: 1.0000\n",
            "Epoch 38/1000\n",
            "87/87 [==============================] - 5s 56ms/step - loss: 0.0045 - accuracy: 1.0000 - val_loss: 4.7796e-04 - val_accuracy: 1.0000\n",
            "Epoch 39/1000\n",
            "87/87 [==============================] - 5s 55ms/step - loss: 0.0065 - accuracy: 0.9985 - val_loss: 3.8778e-04 - val_accuracy: 1.0000\n",
            "Epoch 40/1000\n",
            "87/87 [==============================] - 5s 55ms/step - loss: 0.0038 - accuracy: 1.0000 - val_loss: 2.3403e-04 - val_accuracy: 1.0000\n",
            "Epoch 41/1000\n",
            "87/87 [==============================] - 5s 56ms/step - loss: 0.0024 - accuracy: 1.0000 - val_loss: 1.9856e-04 - val_accuracy: 1.0000\n",
            "Epoch 42/1000\n",
            "87/87 [==============================] - 5s 55ms/step - loss: 0.0021 - accuracy: 1.0000 - val_loss: 1.8011e-04 - val_accuracy: 1.0000\n",
            "Epoch 43/1000\n",
            "87/87 [==============================] - 5s 55ms/step - loss: 0.0025 - accuracy: 1.0000 - val_loss: 1.6380e-04 - val_accuracy: 1.0000\n",
            "Epoch 44/1000\n",
            "87/87 [==============================] - 5s 56ms/step - loss: 0.0022 - accuracy: 1.0000 - val_loss: 1.6565e-04 - val_accuracy: 1.0000\n",
            "Epoch 45/1000\n",
            "87/87 [==============================] - 5s 55ms/step - loss: 0.0022 - accuracy: 1.0000 - val_loss: 1.5062e-04 - val_accuracy: 1.0000\n",
            "Epoch 46/1000\n",
            "87/87 [==============================] - 5s 55ms/step - loss: 0.0044 - accuracy: 0.9985 - val_loss: 1.2202e-04 - val_accuracy: 1.0000\n",
            "Epoch 47/1000\n",
            "87/87 [==============================] - 5s 55ms/step - loss: 0.0013 - accuracy: 1.0000 - val_loss: 9.4018e-05 - val_accuracy: 1.0000\n",
            "Epoch 48/1000\n",
            "87/87 [==============================] - 5s 54ms/step - loss: 0.0012 - accuracy: 1.0000 - val_loss: 7.6932e-05 - val_accuracy: 1.0000\n",
            "Epoch 49/1000\n",
            "87/87 [==============================] - 5s 55ms/step - loss: 0.0021 - accuracy: 1.0000 - val_loss: 8.3331e-05 - val_accuracy: 1.0000\n",
            "Epoch 50/1000\n",
            "87/87 [==============================] - 5s 55ms/step - loss: 0.0012 - accuracy: 1.0000 - val_loss: 7.1044e-05 - val_accuracy: 1.0000\n",
            "Epoch 51/1000\n",
            "87/87 [==============================] - 5s 54ms/step - loss: 0.0014 - accuracy: 1.0000 - val_loss: 7.0206e-05 - val_accuracy: 1.0000\n",
            "Epoch 52/1000\n",
            "87/87 [==============================] - 5s 55ms/step - loss: 0.0012 - accuracy: 1.0000 - val_loss: 7.1056e-05 - val_accuracy: 1.0000\n",
            "Epoch 53/1000\n",
            "87/87 [==============================] - 5s 54ms/step - loss: 0.0013 - accuracy: 1.0000 - val_loss: 6.0083e-05 - val_accuracy: 1.0000\n",
            "Epoch 54/1000\n",
            "87/87 [==============================] - 5s 55ms/step - loss: 0.0010 - accuracy: 1.0000 - val_loss: 4.4321e-05 - val_accuracy: 1.0000\n",
            "Epoch 55/1000\n",
            "87/87 [==============================] - 5s 55ms/step - loss: 0.0051 - accuracy: 0.9971 - val_loss: 3.7885e-05 - val_accuracy: 1.0000\n",
            "Epoch 56/1000\n",
            "87/87 [==============================] - 5s 54ms/step - loss: 0.0014 - accuracy: 1.0000 - val_loss: 4.1476e-05 - val_accuracy: 1.0000\n",
            "Epoch 57/1000\n",
            "87/87 [==============================] - 5s 55ms/step - loss: 0.0052 - accuracy: 0.9985 - val_loss: 3.6265e-05 - val_accuracy: 1.0000\n",
            "Epoch 58/1000\n",
            "87/87 [==============================] - 5s 55ms/step - loss: 0.0016 - accuracy: 1.0000 - val_loss: 4.1666e-05 - val_accuracy: 1.0000\n",
            "Epoch 59/1000\n",
            "87/87 [==============================] - 5s 55ms/step - loss: 7.8015e-04 - accuracy: 1.0000 - val_loss: 3.4738e-05 - val_accuracy: 1.0000\n",
            "Epoch 60/1000\n",
            "87/87 [==============================] - 5s 56ms/step - loss: 8.8598e-04 - accuracy: 1.0000 - val_loss: 2.7690e-05 - val_accuracy: 1.0000\n",
            "Epoch 61/1000\n",
            "87/87 [==============================] - 5s 55ms/step - loss: 5.0411e-04 - accuracy: 1.0000 - val_loss: 1.9513e-05 - val_accuracy: 1.0000\n",
            "Epoch 62/1000\n",
            "87/87 [==============================] - 5s 55ms/step - loss: 0.0010 - accuracy: 1.0000 - val_loss: 1.1488e-05 - val_accuracy: 1.0000\n",
            "Epoch 63/1000\n",
            "87/87 [==============================] - 5s 55ms/step - loss: 9.2856e-04 - accuracy: 1.0000 - val_loss: 1.0284e-05 - val_accuracy: 1.0000\n",
            "Epoch 64/1000\n",
            "87/87 [==============================] - 5s 55ms/step - loss: 5.2513e-04 - accuracy: 1.0000 - val_loss: 1.2440e-05 - val_accuracy: 1.0000\n",
            "Epoch 65/1000\n",
            "87/87 [==============================] - 5s 55ms/step - loss: 5.1447e-04 - accuracy: 1.0000 - val_loss: 1.3438e-05 - val_accuracy: 1.0000\n",
            "Epoch 66/1000\n",
            "87/87 [==============================] - 5s 56ms/step - loss: 5.8376e-04 - accuracy: 1.0000 - val_loss: 1.4388e-05 - val_accuracy: 1.0000\n",
            "Epoch 67/1000\n",
            "87/87 [==============================] - 5s 54ms/step - loss: 6.2790e-04 - accuracy: 1.0000 - val_loss: 1.1401e-05 - val_accuracy: 1.0000\n",
            "Epoch 68/1000\n",
            "87/87 [==============================] - 5s 54ms/step - loss: 3.5463e-04 - accuracy: 1.0000 - val_loss: 1.1451e-05 - val_accuracy: 1.0000\n",
            "Epoch 69/1000\n",
            "87/87 [==============================] - 5s 54ms/step - loss: 8.0661e-04 - accuracy: 1.0000 - val_loss: 1.1889e-05 - val_accuracy: 1.0000\n",
            "Epoch 70/1000\n",
            "87/87 [==============================] - 5s 56ms/step - loss: 4.0761e-04 - accuracy: 1.0000 - val_loss: 7.8810e-06 - val_accuracy: 1.0000\n",
            "Epoch 71/1000\n",
            "87/87 [==============================] - 5s 56ms/step - loss: 3.0163e-04 - accuracy: 1.0000 - val_loss: 9.3553e-06 - val_accuracy: 1.0000\n",
            "Epoch 72/1000\n",
            "87/87 [==============================] - 5s 54ms/step - loss: 2.7005e-04 - accuracy: 1.0000 - val_loss: 8.6525e-06 - val_accuracy: 1.0000\n",
            "Epoch 73/1000\n",
            "87/87 [==============================] - 5s 55ms/step - loss: 6.8909e-04 - accuracy: 1.0000 - val_loss: 7.3288e-06 - val_accuracy: 1.0000\n",
            "Epoch 74/1000\n",
            "87/87 [==============================] - 5s 56ms/step - loss: 4.0520e-04 - accuracy: 1.0000 - val_loss: 6.9033e-06 - val_accuracy: 1.0000\n",
            "Epoch 75/1000\n",
            "87/87 [==============================] - 5s 56ms/step - loss: 4.1319e-04 - accuracy: 1.0000 - val_loss: 8.3884e-06 - val_accuracy: 1.0000\n",
            "Epoch 76/1000\n",
            "87/87 [==============================] - 5s 56ms/step - loss: 3.4432e-04 - accuracy: 1.0000 - val_loss: 7.1136e-06 - val_accuracy: 1.0000\n",
            "Epoch 77/1000\n",
            "87/87 [==============================] - 5s 56ms/step - loss: 3.5026e-04 - accuracy: 1.0000 - val_loss: 6.4066e-06 - val_accuracy: 1.0000\n",
            "Epoch 78/1000\n",
            "87/87 [==============================] - 5s 56ms/step - loss: 2.8540e-04 - accuracy: 1.0000 - val_loss: 4.4488e-06 - val_accuracy: 1.0000\n",
            "Epoch 79/1000\n",
            "87/87 [==============================] - 5s 55ms/step - loss: 3.9477e-04 - accuracy: 1.0000 - val_loss: 8.7568e-06 - val_accuracy: 1.0000\n",
            "Epoch 80/1000\n",
            "87/87 [==============================] - 5s 55ms/step - loss: 1.4708e-04 - accuracy: 1.0000 - val_loss: 6.4124e-06 - val_accuracy: 1.0000\n",
            "Epoch 81/1000\n",
            "87/87 [==============================] - 5s 55ms/step - loss: 1.9493e-04 - accuracy: 1.0000 - val_loss: 5.3784e-06 - val_accuracy: 1.0000\n",
            "Epoch 82/1000\n",
            "87/87 [==============================] - 5s 56ms/step - loss: 2.9229e-04 - accuracy: 1.0000 - val_loss: 5.1698e-06 - val_accuracy: 1.0000\n",
            "Epoch 83/1000\n",
            "87/87 [==============================] - 5s 54ms/step - loss: 1.4629e-04 - accuracy: 1.0000 - val_loss: 3.9976e-06 - val_accuracy: 1.0000\n",
            "Epoch 84/1000\n",
            "87/87 [==============================] - 5s 55ms/step - loss: 3.3934e-04 - accuracy: 1.0000 - val_loss: 3.3941e-06 - val_accuracy: 1.0000\n",
            "Epoch 85/1000\n",
            "87/87 [==============================] - 5s 55ms/step - loss: 2.1023e-04 - accuracy: 1.0000 - val_loss: 4.1855e-06 - val_accuracy: 1.0000\n",
            "Epoch 86/1000\n",
            "87/87 [==============================] - 5s 55ms/step - loss: 1.1626e-04 - accuracy: 1.0000 - val_loss: 4.0158e-06 - val_accuracy: 1.0000\n",
            "Epoch 87/1000\n",
            "87/87 [==============================] - 5s 55ms/step - loss: 2.4247e-04 - accuracy: 1.0000 - val_loss: 4.6813e-06 - val_accuracy: 1.0000\n",
            "Epoch 88/1000\n",
            "87/87 [==============================] - 5s 54ms/step - loss: 3.6811e-04 - accuracy: 1.0000 - val_loss: 2.4338e-06 - val_accuracy: 1.0000\n",
            "Epoch 89/1000\n",
            "87/87 [==============================] - 5s 55ms/step - loss: 3.5161e-04 - accuracy: 1.0000 - val_loss: 1.1093e-06 - val_accuracy: 1.0000\n",
            "Epoch 90/1000\n",
            "87/87 [==============================] - 5s 55ms/step - loss: 1.5168e-04 - accuracy: 1.0000 - val_loss: 1.2269e-06 - val_accuracy: 1.0000\n",
            "Epoch 91/1000\n",
            "87/87 [==============================] - 5s 56ms/step - loss: 1.1363e-04 - accuracy: 1.0000 - val_loss: 1.9297e-06 - val_accuracy: 1.0000\n",
            "Epoch 92/1000\n",
            "87/87 [==============================] - 5s 55ms/step - loss: 1.2700e-04 - accuracy: 1.0000 - val_loss: 1.3883e-06 - val_accuracy: 1.0000\n",
            "Epoch 93/1000\n",
            "87/87 [==============================] - 5s 55ms/step - loss: 2.6052e-04 - accuracy: 1.0000 - val_loss: 1.2972e-06 - val_accuracy: 1.0000\n",
            "Epoch 94/1000\n",
            "87/87 [==============================] - 5s 56ms/step - loss: 3.2627e-04 - accuracy: 1.0000 - val_loss: 2.9049e-06 - val_accuracy: 1.0000\n",
            "Epoch 95/1000\n",
            "87/87 [==============================] - 5s 54ms/step - loss: 1.4007e-04 - accuracy: 1.0000 - val_loss: 1.8858e-06 - val_accuracy: 1.0000\n",
            "Epoch 96/1000\n",
            "87/87 [==============================] - 5s 55ms/step - loss: 1.4738e-04 - accuracy: 1.0000 - val_loss: 2.5729e-06 - val_accuracy: 1.0000\n",
            "Epoch 97/1000\n",
            "87/87 [==============================] - 5s 55ms/step - loss: 1.4799e-04 - accuracy: 1.0000 - val_loss: 1.4893e-06 - val_accuracy: 1.0000\n",
            "Epoch 98/1000\n",
            "87/87 [==============================] - 5s 54ms/step - loss: 5.2683e-05 - accuracy: 1.0000 - val_loss: 1.2757e-06 - val_accuracy: 1.0000\n",
            "Epoch 99/1000\n",
            "87/87 [==============================] - 5s 54ms/step - loss: 0.0024 - accuracy: 1.0000 - val_loss: 1.1755e-06 - val_accuracy: 1.0000\n"
          ],
          "name": "stdout"
        }
      ]
    },
    {
      "cell_type": "code",
      "metadata": {
        "id": "55ARs1Qf_G-w",
        "colab_type": "code",
        "colab": {
          "base_uri": "https://localhost:8080/",
          "height": 34
        },
        "outputId": "b1b23787-4dbd-48d9-e791-9a1b82bc5be2"
      },
      "source": [
        "model = clf.export_model()\n",
        "print(type(model))"
      ],
      "execution_count": null,
      "outputs": [
        {
          "output_type": "stream",
          "text": [
            "<class 'tensorflow.python.keras.engine.training.Model'>\n"
          ],
          "name": "stdout"
        }
      ]
    },
    {
      "cell_type": "code",
      "metadata": {
        "id": "mMT6vZwTwM1Z",
        "colab_type": "code",
        "colab": {
          "base_uri": "https://localhost:8080/",
          "height": 34
        },
        "outputId": "da452b61-ad42-48e6-8d08-6da8ebe6b7b3"
      },
      "source": [
        "model = clf.export_model()\n",
        "print(type(model))"
      ],
      "execution_count": null,
      "outputs": [
        {
          "output_type": "stream",
          "text": [
            "<class 'tensorflow.python.keras.engine.training.Model'>\n"
          ],
          "name": "stdout"
        }
      ]
    },
    {
      "cell_type": "code",
      "metadata": {
        "id": "QpQ2Ii-SwPB9",
        "colab_type": "code",
        "colab": {}
      },
      "source": [
        "model.save('/content/drive/My Drive/Data/m.h5')"
      ],
      "execution_count": null,
      "outputs": []
    },
    {
      "cell_type": "code",
      "metadata": {
        "id": "A8ViCJVh_Ml7",
        "colab_type": "code",
        "colab": {}
      },
      "source": [
        "model.save('/content/drive/My Drive/Data/maghsood.h5')"
      ],
      "execution_count": null,
      "outputs": []
    },
    {
      "cell_type": "code",
      "metadata": {
        "id": "lNoKQq3SF36F",
        "colab_type": "code",
        "colab": {}
      },
      "source": [
        "from tensorflow.keras.models import load_model\n",
        "model = load_model('/content/drive/My Drive/Data/maghsood.h5')"
      ],
      "execution_count": null,
      "outputs": []
    },
    {
      "cell_type": "code",
      "metadata": {
        "id": "MLDk__IkwYoi",
        "colab_type": "code",
        "colab": {
          "base_uri": "https://localhost:8080/",
          "height": 34
        },
        "outputId": "6905ba86-606a-480d-d74e-41adf8acf99d"
      },
      "source": [
        "from tensorflow.keras.models import load_model\n",
        "import tensorflow as tf\n",
        "import autokeras as ak\n",
        "\n",
        "custom = {}\n",
        "custom['Normalization'] = tf.keras.layers.experimental.preprocessing.Normalization\n",
        "\n",
        "model = load_model('/content/drive/My Drive/Data/m.h5', custom_objects=custom)"
      ],
      "execution_count": null,
      "outputs": [
        {
          "output_type": "stream",
          "text": [
            "WARNING:tensorflow:Error in loading the saved optimizer state. As a result, your model is starting with a freshly initialized optimizer.\n"
          ],
          "name": "stdout"
        }
      ]
    },
    {
      "cell_type": "code",
      "metadata": {
        "id": "J0_wbLfd3Bop",
        "colab_type": "code",
        "colab": {}
      },
      "source": [
        ""
      ],
      "execution_count": null,
      "outputs": []
    },
    {
      "cell_type": "code",
      "metadata": {
        "id": "l4U43DExGuxh",
        "colab_type": "code",
        "colab": {}
      },
      "source": [
        "import tensorflow as tf\n",
        "model = tf.keras.models.model_from_config('/content/drive/My Drive/Data/maghsood.h5')"
      ],
      "execution_count": null,
      "outputs": []
    },
    {
      "cell_type": "code",
      "metadata": {
        "id": "jd2shsCr0YrA",
        "colab_type": "code",
        "colab": {}
      },
      "source": [
        "import tensorflow as tf\n",
        "model = tf.keras.models.model_from_config('/content/drive/My Drive/Data/m.h5')"
      ],
      "execution_count": null,
      "outputs": []
    },
    {
      "cell_type": "code",
      "metadata": {
        "id": "-yXbEFEYGqMt",
        "colab_type": "code",
        "colab": {}
      },
      "source": [
        "cfg = {'input_layers': [['input_1', 0, 0]],\n",
        " 'layers': [{'class_name': 'InputLayer',\n",
        "   'config': {'batch_input_shape': (None, 214, 214, 1),\n",
        "    'dtype': 'float32',\n",
        "    'name': 'input_1',\n",
        "    'ragged': False,ect has no attribute 'shape'\n",
        "\n",
        "\n",
        "    'sparse': False},\n",
        "   'inbound_nodes': [],(515, 214, 214, 1)\n",
        "(172, 214, 214, 1)\n",
        "   'name': 'input_1'},\n",
        "  {'class_name': 'Normalization',\n",
        "   'config': {'axis': -1,\n",
        "    'dtype': 'float32',\n",
        "    'name': 'normalization',\n",
        "    'trainable': True},\n",
        "   'inbound_nodes': [[['input_1', 0, 0, {}]]],\n",
        "   'name': 'normalization'},\n",
        "  {'class_name': 'Conv2D',\n",
        "   'config': {'activation': 'relu',\n",
        "    'activity_regularizer': None,\n",
        "    'bias_constraint': None,\n",
        "    'bias_initializer': {'class_name': 'Zeros', 'config': {}},\n",
        "    'bias_regularizer': None,\n",
        "    'data_format': 'channels_last',\n",
        "    'dilation_rate': (1, 1),\n",
        "    'dtype': 'float32',\n",
        "    'filters': 32,\n",
        "    'kernel_constraint': None,\n",
        "    'kernel_initializer': {'class_name': 'GlorotUniform',\n",
        "     'config': {'seed': None}},\n",
        "    'kernel_regularizer': None,\n",
        "    'kernel_size': (3, 3),\n",
        "    'name': 'conv2d',\n",
        "    'padding': 'valid',\n",
        "    'strides': (1, 1),\n",
        "    'trainable': True,\n",
        "    'use_bias': True},\n",
        "   'inbound_nodes': [[['normalization', 0, 0, {}]]],\n",
        "   'name': 'conv2d'},\n",
        "  {'class_name': 'Conv2D',\n",
        "   'config': {'activation': 'relu',\n",
        "    'activity_regularizer': None,\n",
        "    'bias_constraint': None,\n",
        "    'bias_initializer': {'class_name': 'Zeros', 'config': {}},\n",
        "    'bias_regularizer': None,\n",
        "    'data_format': 'channels_last',\n",
        "    'dilation_rate': (1, 1),\n",
        "    'dtype': 'float32',\n",
        "    'filters': 64,\n",
        "    'kernel_constraint': None,\n",
        "    'kernel_initializer': {'class_name': 'GlorotUniform',\n",
        "     'config': {'seed': None}},\n",
        "    'kernel_regularizer': None,\n",
        "    'kernel_size': (3, 3),\n",
        "    'name': 'conv2d_1',\n",
        "    'padding': 'valid',\n",
        "    'strides': (1, 1),\n",
        "    'trainable': True,\n",
        "    'use_bias': True},\n",
        "   'inbound_nodes': [[['conv2d', 0, 0, {}]]],\n",
        "   'name': 'conv2d_1'},\n",
        "  {'class_name': 'MaxPooling2D',\n",
        "   'config': {'data_format': 'channels_last',\n",
        "    'dtype': 'float32',\n",
        "    'name': 'max_pooling2d',\n",
        "    'padding': 'valid',\n",
        "    'pool_size': (2, 2),\n",
        "    'strides': (2, 2),\n",
        "    'trainable': True},\n",
        "   'inbound_nodes': [[['conv2d_1', 0, 0, {}]]],\n",
        "   'name': 'max_pooling2d'},\n",
        "  {'class_name': 'Dropout',\n",
        "   'config': {'dtype': 'float32',\n",
        "    'name': 'dropout',\n",
        "    'noise_shape': None,\n",
        "    'rate': 0.25,\n",
        "    'seed': None,\n",
        "    'trainable': True},\n",
        "   'inbound_nodes': [[['max_pooling2d', 0, 0, {}]]],\n",
        "   'name': 'dropout'},\n",
        "  {'class_name': 'Flatten',\n",
        "   'config': {'data_format': 'channels_last',\n",
        "    'dtype': 'float32',\n",
        "    'name': 'flatten',\n",
        "    'trainable': True},\n",
        "   'inbound_nodes': [[['dropout', 0, 0, {}]]],\n",
        "   'name': 'flatten'},\n",
        "  {'class_name': 'Dropout',\n",
        "   'config': {'dtype': 'float32',\n",
        "    'name': 'dropout_1',\n",
        "    'noise_shape': None,\n",
        "    'rate': 0.5,\n",
        "    'seed': None,\n",
        "    'trainable': True},\n",
        "   'inbound_nodes': [[['flatten', 0, 0, {}]]],\n",
        "   'name': 'dropout_1'},\n",
        "  {'class_name': 'Dense',\n",
        "   'config': {'activation': 'linear',\n",
        "    'activity_regularizer': None,\n",
        "    'bias_constraint': None,\n",
        "    'bias_initializer': {'class_name': 'Zeros', 'config': {}},\n",
        "    'bias_regularizer': None,\n",
        "    'dtype': 'float32',\n",
        "    'kernel_constraint': None,\n",
        "    'kernel_initializer': {'class_name': 'GlorotUniform',\n",
        "     'config': {'seed': None}},\n",
        "    'kernel_regularizer': None,\n",
        "    'name': 'dense',\n",
        "    'trainable': True,\n",
        "    'units': 5,\n",
        "    'use_bias': True},\n",
        "   'inbound_nodes': [[['dropout_1', 0, 0, {}]]],\n",
        "   'name': 'dense'},\n",
        "  {'class_name': 'Softmax',\n",
        "   'config': {'axis': -1,\n",
        "    'dtype': 'float32',\n",
        "    'name': 'classification_head_1',\n",
        "    'trainable': True},\n",
        "   'inbound_nodes': [[['dense', 0, 0, {}]]],\n",
        "   'name': 'classification_head_1'}],\n",
        " 'name': 'model',\n",
        " 'output_layers': [['classification_head_1', 0, 0]]}"
      ],
      "execution_count": null,
      "outputs": []
    },
    {
      "cell_type": "code",
      "metadata": {
        "id": "8nTfAcEIEe0y",
        "colab_type": "code",
        "colab": {
          "base_uri": "https://localhost:8080/",
          "height": 521
        },
        "outputId": "134acd36-eab1-4ed7-c8bb-cba9c7b05102"
      },
      "source": [
        "print(model.summary())"
      ],
      "execution_count": null,
      "outputs": [
        {
          "output_type": "stream",
          "text": [
            "Model: \"model\"\n",
            "_________________________________________________________________\n",
            "Layer (type)                 Output Shape              Param #   \n",
            "=================================================================\n",
            "input_1 (InputLayer)         [(None, 214, 214, 1)]     0         \n",
            "_________________________________________________________________\n",
            "normalization (Normalization (None, 214, 214, 1)       3         \n",
            "_________________________________________________________________\n",
            "conv2d (Conv2D)              (None, 212, 212, 32)      320       \n",
            "_________________________________________________________________\n",
            "conv2d_1 (Conv2D)            (None, 210, 210, 64)      18496     \n",
            "_________________________________________________________________\n",
            "max_pooling2d (MaxPooling2D) (None, 105, 105, 64)      0         \n",
            "_________________________________________________________________\n",
            "dropout (Dropout)            (None, 105, 105, 64)      0         \n",
            "_________________________________________________________________\n",
            "flatten (Flatten)            (None, 705600)            0         \n",
            "_________________________________________________________________\n",
            "dropout_1 (Dropout)          (None, 705600)            0         \n",
            "_________________________________________________________________\n",
            "dense (Dense)                (None, 5)                 3528005   \n",
            "_________________________________________________________________\n",
            "classification_head_1 (Softm (None, 5)                 0         \n",
            "=================================================================\n",
            "Total params: 3,546,824\n",
            "Trainable params: 3,546,821\n",
            "Non-trainable params: 3\n",
            "_________________________________________________________________\n",
            "None\n"
          ],
          "name": "stdout"
        }
      ]
    },
    {
      "cell_type": "code",
      "metadata": {
        "id": "ATzr-3_P_syp",
        "colab_type": "code",
        "colab": {}
      },
      "source": [
        "y_pred = model.predict(new_data)"
      ],
      "execution_count": null,
      "outputs": []
    },
    {
      "cell_type": "code",
      "metadata": {
        "id": "3tpa2kr04Red",
        "colab_type": "code",
        "colab": {
          "base_uri": "https://localhost:8080/",
          "height": 52
        },
        "outputId": "7db86eb8-a577-4e59-8fd4-1f581e336fcc"
      },
      "source": [
        "results = model.evaluate(new_data, labels)\n",
        "print(results)\n"
      ],
      "execution_count": null,
      "outputs": [
        {
          "output_type": "stream",
          "text": [
            "687/687 [==============================] - 1s 1ms/sample - loss: 6.1367e-04 - accuracy: 1.0000\n",
            "[0.0006136668363831773, 1.0]\n"
          ],
          "name": "stdout"
        }
      ]
    },
    {
      "cell_type": "code",
      "metadata": {
        "id": "M8vMU90A7anU",
        "colab_type": "code",
        "colab": {
          "base_uri": "https://localhost:8080/",
          "height": 538
        },
        "outputId": "939c169f-9a8e-4541-f572-527b09c0ee57"
      },
      "source": [
        "y_pred = model.predict(new_data)\n",
        "\n",
        "print(y_pred[0:10])\n",
        "print(labels[0:10])"
      ],
      "execution_count": null,
      "outputs": [
        {
          "output_type": "stream",
          "text": [
            "[[9.99960065e-01 1.87632995e-05 4.99003647e-07 1.43371699e-06\n",
            "  1.92641000e-05]\n",
            " [9.99999404e-01 5.84716872e-07 1.37272693e-10 2.13508278e-09\n",
            "  7.14127557e-09]\n",
            " [9.99992609e-01 7.27682436e-06 9.36701099e-08 4.48916154e-10\n",
            "  7.41519207e-11]\n",
            " [9.99081373e-01 8.06472672e-04 1.12178241e-04 5.38431610e-09\n",
            "  1.66233541e-10]\n",
            " [9.99153852e-01 1.13259712e-05 8.34874343e-04 3.17835710e-12\n",
            "  1.57718731e-15]\n",
            " [9.99963760e-01 1.96933815e-05 1.65966376e-05 8.00858457e-13\n",
            "  2.21111209e-18]\n",
            " [1.00000000e+00 3.84946617e-08 6.48032794e-10 1.56218658e-12\n",
            "  2.45710705e-08]\n",
            " [9.99997020e-01 1.68442213e-07 5.58771376e-08 4.62080596e-09\n",
            "  2.77799154e-06]\n",
            " [9.99999642e-01 2.29181296e-08 8.19562374e-09 6.93876293e-12\n",
            "  3.11754775e-07]\n",
            " [9.99975920e-01 3.39503276e-06 5.86776923e-06 1.49064945e-05\n",
            "  3.37961694e-08]]\n",
            "[[1 0 0 0 0]\n",
            " [1 0 0 0 0]\n",
            " [1 0 0 0 0]\n",
            " [1 0 0 0 0]\n",
            " [1 0 0 0 0]\n",
            " [1 0 0 0 0]\n",
            " [1 0 0 0 0]\n",
            " [1 0 0 0 0]\n",
            " [1 0 0 0 0]\n",
            " [1 0 0 0 0]]\n"
          ],
          "name": "stdout"
        }
      ]
    },
    {
      "cell_type": "code",
      "metadata": {
        "id": "h6NaYtRb5TF0",
        "colab_type": "code",
        "colab": {
          "base_uri": "https://localhost:8080/",
          "height": 503
        },
        "outputId": "90039b25-7b33-4a78-9332-84b4aae965c4"
      },
      "source": [
        "model.summary()"
      ],
      "execution_count": null,
      "outputs": [
        {
          "output_type": "stream",
          "text": [
            "Model: \"model\"\n",
            "_________________________________________________________________\n",
            "Layer (type)                 Output Shape              Param #   \n",
            "=================================================================\n",
            "input_1 (InputLayer)         [(None, 214, 214, 1)]     0         \n",
            "_________________________________________________________________\n",
            "normalization (Normalization (None, 214, 214, 1)       3         \n",
            "_________________________________________________________________\n",
            "conv2d (Conv2D)              (None, 212, 212, 32)      320       \n",
            "_________________________________________________________________\n",
            "conv2d_1 (Conv2D)            (None, 210, 210, 64)      18496     \n",
            "_________________________________________________________________\n",
            "max_pooling2d (MaxPooling2D) (None, 105, 105, 64)      0         \n",
            "_________________________________________________________________\n",
            "dropout (Dropout)            (None, 105, 105, 64)      0         \n",
            "_________________________________________________________________\n",
            "flatten (Flatten)            (None, 705600)            0         \n",
            "_________________________________________________________________\n",
            "dropout_1 (Dropout)          (None, 705600)            0         \n",
            "_________________________________________________________________\n",
            "dense (Dense)                (None, 5)                 3528005   \n",
            "_________________________________________________________________\n",
            "classification_head_1 (Softm (None, 5)                 0         \n",
            "=================================================================\n",
            "Total params: 3,546,824\n",
            "Trainable params: 3,546,821\n",
            "Non-trainable params: 3\n",
            "_________________________________________________________________\n"
          ],
          "name": "stdout"
        }
      ]
    },
    {
      "cell_type": "code",
      "metadata": {
        "id": "KV6F9uG9_Ytn",
        "colab_type": "code",
        "colab": {
          "base_uri": "https://localhost:8080/",
          "height": 953
        },
        "outputId": "293fb16d-1896-43dc-e14d-a98950ce6f51"
      },
      "source": [
        "from tensorflow.keras.utils import plot_model\n",
        "plot_model(model)"
      ],
      "execution_count": null,
      "outputs": [
        {
          "output_type": "execute_result",
          "data": {
            "image/png": "[encoded data removed]",
            "text/plain": [
              "<IPython.core.display.Image object>"
            ]
          },
          "metadata": {
            "tags": []
          },
          "execution_count": 3
        }
      ]
    },
    {
      "cell_type": "code",
      "metadata": {
        "id": "iEI2ZZNzATol",
        "colab_type": "code",
        "colab": {
          "base_uri": "https://localhost:8080/",
          "height": 1000
        },
        "outputId": "5dc7ac80-cbf8-4887-a279-990b6409c785"
      },
      "source": [
        "cfg = model.get_config()\n",
        "cfg"
      ],
      "execution_count": null,
      "outputs": [
        {
          "output_type": "execute_result",
          "data": {
            "text/plain": [
              "{'input_layers': [['input_1', 0, 0]],\n",
              " 'layers': [{'class_name': 'InputLayer',\n",
              "   'config': {'batch_input_shape': (None, 214, 214, 1),\n",
              "    'dtype': 'float32',\n",
              "    'name': 'input_1',\n",
              "    'ragged': False,\n",
              "    'sparse': False},\n",
              "   'inbound_nodes': [],\n",
              "   'name': 'input_1'},\n",
              "  {'class_name': 'Normalization',\n",
              "   'config': {'axis': -1,\n",
              "    'dtype': 'float32',\n",
              "    'name': 'normalization',\n",
              "    'trainable': True},\n",
              "   'inbound_nodes': [[['input_1', 0, 0, {}]]],\n",
              "   'name': 'normalization'},\n",
              "  {'class_name': 'Conv2D',\n",
              "   'config': {'activation': 'relu',\n",
              "    'activity_regularizer': None,\n",
              "    'bias_constraint': None,\n",
              "    'bias_initializer': {'class_name': 'Zeros', 'config': {}},\n",
              "    'bias_regularizer': None,\n",
              "    'data_format': 'channels_last',\n",
              "    'dilation_rate': (1, 1),\n",
              "    'dtype': 'float32',\n",
              "    'filters': 32,\n",
              "    'kernel_constraint': None,\n",
              "    'kernel_initializer': {'class_name': 'GlorotUniform',\n",
              "     'config': {'seed': None}},\n",
              "    'kernel_regularizer': None,\n",
              "    'kernel_size': (3, 3),\n",
              "    'name': 'conv2d',\n",
              "    'padding': 'valid',\n",
              "    'strides': (1, 1),\n",
              "    'trainable': True,\n",
              "    'use_bias': True},\n",
              "   'inbound_nodes': [[['normalization', 0, 0, {}]]],\n",
              "   'name': 'conv2d'},\n",
              "  {'class_name': 'Conv2D',\n",
              "   'config': {'activation': 'relu',\n",
              "    'activity_regularizer': None,\n",
              "    'bias_constraint': None,\n",
              "    'bias_initializer': {'class_name': 'Zeros', 'config': {}},\n",
              "    'bias_regularizer': None,\n",
              "    'data_format': 'channels_last',\n",
              "    'dilation_rate': (1, 1),\n",
              "    'dtype': 'float32',\n",
              "    'filters': 64,\n",
              "    'kernel_constraint': None,\n",
              "    'kernel_initializer': {'class_name': 'GlorotUniform',\n",
              "     'config': {'seed': None}},\n",
              "    'kernel_regularizer': None,\n",
              "    'kernel_size': (3, 3),\n",
              "    'name': 'conv2d_1',\n",
              "    'padding': 'valid',\n",
              "    'strides': (1, 1),\n",
              "    'trainable': True,\n",
              "    'use_bias': True},\n",
              "   'inbound_nodes': [[['conv2d', 0, 0, {}]]],\n",
              "   'name': 'conv2d_1'},\n",
              "  {'class_name': 'MaxPooling2D',\n",
              "   'config': {'data_format': 'channels_last',\n",
              "    'dtype': 'float32',\n",
              "    'name': 'max_pooling2d',\n",
              "    'padding': 'valid',\n",
              "    'pool_size': (2, 2),\n",
              "    'strides': (2, 2),\n",
              "    'trainable': True},\n",
              "   'inbound_nodes': [[['conv2d_1', 0, 0, {}]]],\n",
              "   'name': 'max_pooling2d'},\n",
              "  {'class_name': 'Dropout',\n",
              "   'config': {'dtype': 'float32',\n",
              "    'name': 'dropout',\n",
              "    'noise_shape': None,\n",
              "    'rate': 0.25,\n",
              "    'seed': None,\n",
              "    'trainable': True},\n",
              "   'inbound_nodes': [[['max_pooling2d', 0, 0, {}]]],\n",
              "   'name': 'dropout'},\n",
              "  {'class_name': 'Flatten',\n",
              "   'config': {'data_format': 'channels_last',\n",
              "    'dtype': 'float32',\n",
              "    'name': 'flatten',\n",
              "    'trainable': True},\n",
              "   'inbound_nodes': [[['dropout', 0, 0, {}]]],\n",
              "   'name': 'flatten'},\n",
              "  {'class_name': 'Dropout',\n",
              "   'config': {'dtype': 'float32',\n",
              "    'name': 'dropout_1',\n",
              "    'noise_shape': None,\n",
              "    'rate': 0.5,\n",
              "    'seed': None,\n",
              "    'trainable': True},\n",
              "   'inbound_nodes': [[['flatten', 0, 0, {}]]],\n",
              "   'name': 'dropout_1'},\n",
              "  {'class_name': 'Dense',\n",
              "   'config': {'activation': 'linear',\n",
              "    'activity_regularizer': None,\n",
              "    'bias_constraint': None,\n",
              "    'bias_initializer': {'class_name': 'Zeros', 'config': {}},\n",
              "    'bias_regularizer': None,\n",
              "    'dtype': 'float32',\n",
              "    'kernel_constraint': None,\n",
              "    'kernel_initializer': {'class_name': 'GlorotUniform',\n",
              "     'config': {'seed': None}},\n",
              "    'kernel_regularizer': None,\n",
              "    'name': 'dense',\n",
              "    'trainable': True,\n",
              "    'units': 5,\n",
              "    'use_bias': True},\n",
              "   'inbound_nodes': [[['dropout_1', 0, 0, {}]]],\n",
              "   'name': 'dense'},\n",
              "  {'class_name': 'Softmax',\n",
              "   'config': {'axis': -1,\n",
              "    'dtype': 'float32',\n",
              "    'name': 'classification_head_1',\n",
              "    'trainable': True},\n",
              "   'inbound_nodes': [[['dense', 0, 0, {}]]],\n",
              "   'name': 'classification_head_1'}],\n",
              " 'name': 'model',\n",
              " 'output_layers': [['classification_head_1', 0, 0]]}"
            ]
          },
          "metadata": {
            "tags": []
          },
          "execution_count": 65
        }
      ]
    },
    {
      "cell_type": "code",
      "metadata": {
        "id": "FcDyrQh5BVdg",
        "colab_type": "code",
        "colab": {
          "base_uri": "https://localhost:8080/",
          "height": 486
        },
        "outputId": "5bfef4e5-c6dd-4306-e5a5-40bf93848dad"
      },
      "source": [
        "import tensorflow as tf\n",
        "from tensorflow.keras.layers import BatchNormalization, Conv2D, Dense, Dropout, Flatten, Input, MaxPooling2D\n",
        "\n",
        "inputs = tf.keras.Input(shape=(214, 214, 1))\n",
        "x = tf.keras.layers.experimental.preprocessing.Normalization(axis=-1)(inputs)\n",
        "x = Conv2D(filters=32, kernel_size=(3, 3), padding='valid', activation='relu')(x)\n",
        "x = Conv2D(filters=64, kernel_size=(3, 3), padding='valid', activation='relu')(x)\n",
        "x = MaxPooling2D(pool_size=(2, 2))(x)\n",
        "x = Dropout(0.25)(x)\n",
        "x = Flatten()(x)\n",
        "x = Dropout(0.5)(x)\n",
        "# x = Dense(5, activation='linear')(x)\n",
        "x = Dense(5, activation='softmax')(x)\n",
        "model_clone = tf.keras.models.Model(inputs=inputs,\n",
        "                                    outputs=x)\n",
        "print(model_clone.summary())"
      ],
      "execution_count": null,
      "outputs": [
        {
          "output_type": "stream",
          "text": [
            "Model: \"model_11\"\n",
            "_________________________________________________________________\n",
            "Layer (type)                 Output Shape              Param #   \n",
            "=================================================================\n",
            "input_13 (InputLayer)        [(None, 214, 214, 1)]     0         \n",
            "_________________________________________________________________\n",
            "normalization_11 (Normalizat (None, 214, 214, 1)       3         \n",
            "_________________________________________________________________\n",
            "conv2d_22 (Conv2D)           (None, 212, 212, 32)      320       \n",
            "_________________________________________________________________\n",
            "conv2d_23 (Conv2D)           (None, 210, 210, 64)      18496     \n",
            "_________________________________________________________________\n",
            "max_pooling2d_11 (MaxPooling (None, 105, 105, 64)      0         \n",
            "_________________________________________________________________\n",
            "dropout_22 (Dropout)         (None, 105, 105, 64)      0         \n",
            "_________________________________________________________________\n",
            "flatten_11 (Flatten)         (None, 705600)            0         \n",
            "_________________________________________________________________\n",
            "dropout_23 (Dropout)         (None, 705600)            0         \n",
            "_________________________________________________________________\n",
            "dense_12 (Dense)             (None, 5)                 3528005   \n",
            "=================================================================\n",
            "Total params: 3,546,824\n",
            "Trainable params: 3,546,821\n",
            "Non-trainable params: 3\n",
            "_________________________________________________________________\n",
            "None\n"
          ],
          "name": "stdout"
        }
      ]
    },
    {
      "cell_type": "code",
      "metadata": {
        "id": "lsr77sXZ88XJ",
        "colab_type": "code",
        "colab": {}
      },
      "source": [
        "model_clone.compile(loss='categorical_crossentropy', metrics=['accuracy'],\n",
        "                    optimizer='adam')\n",
        "model_clone.load_weights('/content/drive/My Drive/Data/m.h5')"
      ],
      "execution_count": null,
      "outputs": []
    },
    {
      "cell_type": "code",
      "metadata": {
        "id": "Yp7mOMm_9Ewz",
        "colab_type": "code",
        "colab": {
          "base_uri": "https://localhost:8080/",
          "height": 52
        },
        "outputId": "afd8ff66-869a-474d-b31d-7df47684fb89"
      },
      "source": [
        "model_clone.evaluate(new_data, labels)"
      ],
      "execution_count": null,
      "outputs": [
        {
          "output_type": "stream",
          "text": [
            "687/687 [==============================] - 1s 2ms/sample - loss: 6.1367e-04 - accuracy: 1.0000\n"
          ],
          "name": "stdout"
        },
        {
          "output_type": "execute_result",
          "data": {
            "text/plain": [
              "[0.0006136668363831773, 1.0]"
            ]
          },
          "metadata": {
            "tags": []
          },
          "execution_count": 68
        }
      ]
    },
    {
      "cell_type": "code",
      "metadata": {
        "id": "gUtsaNYuFPEO",
        "colab_type": "code",
        "colab": {
          "base_uri": "https://localhost:8080/",
          "height": 1000
        },
        "outputId": "e7368cbc-0924-423e-e513-171e5c45fffa"
      },
      "source": [
        "model_clone.compile(loss='categorical_crossentropy', metrics=['accuracy'],\n",
        "                    optimizer='adam')\n",
        "model_clone.fit(X_train, Y_train, epochs=100, batch_size=16,\n",
        "                validation_data=(X_test, Y_test))"
      ],
      "execution_count": null,
      "outputs": [
        {
          "output_type": "stream",
          "text": [
            "Train on 549 samples, validate on 138 samples\n",
            "Epoch 1/100\n",
            "549/549 [==============================] - 4s 7ms/sample - loss: 1.6050 - accuracy: 0.3971 - val_loss: 1.5972 - val_accuracy: 0.4638\n",
            "Epoch 2/100\n",
            "549/549 [==============================] - 3s 5ms/sample - loss: 1.5962 - accuracy: 0.3971 - val_loss: 1.5852 - val_accuracy: 0.4638\n",
            "Epoch 3/100\n",
            "549/549 [==============================] - 3s 5ms/sample - loss: 1.5877 - accuracy: 0.3971 - val_loss: 1.5746 - val_accuracy: 0.4638\n",
            "Epoch 4/100\n",
            "549/549 [==============================] - 3s 5ms/sample - loss: 1.5800 - accuracy: 0.3971 - val_loss: 1.5643 - val_accuracy: 0.4638\n",
            "Epoch 5/100\n",
            "549/549 [==============================] - 3s 5ms/sample - loss: 1.5730 - accuracy: 0.3971 - val_loss: 1.5556 - val_accuracy: 0.4638\n",
            "Epoch 6/100\n",
            "549/549 [==============================] - 3s 5ms/sample - loss: 1.5667 - accuracy: 0.3971 - val_loss: 1.5471 - val_accuracy: 0.4638\n",
            "Epoch 7/100\n",
            "549/549 [==============================] - 3s 5ms/sample - loss: 1.5608 - accuracy: 0.3971 - val_loss: 1.5387 - val_accuracy: 0.4638\n",
            "Epoch 8/100\n",
            "549/549 [==============================] - 3s 5ms/sample - loss: 1.5552 - accuracy: 0.3971 - val_loss: 1.5307 - val_accuracy: 0.4638\n",
            "Epoch 9/100\n",
            "549/549 [==============================] - 3s 5ms/sample - loss: 1.5501 - accuracy: 0.3971 - val_loss: 1.5234 - val_accuracy: 0.4638\n",
            "Epoch 10/100\n",
            "549/549 [==============================] - 3s 5ms/sample - loss: 1.5451 - accuracy: 0.3971 - val_loss: 1.5175 - val_accuracy: 0.4638\n",
            "Epoch 11/100\n",
            "549/549 [==============================] - 3s 5ms/sample - loss: 1.5410 - accuracy: 0.3971 - val_loss: 1.5105 - val_accuracy: 0.4638\n",
            "Epoch 12/100\n",
            "549/549 [==============================] - 3s 5ms/sample - loss: 1.5370 - accuracy: 0.3971 - val_loss: 1.5052 - val_accuracy: 0.4638\n",
            "Epoch 13/100\n",
            "549/549 [==============================] - 3s 5ms/sample - loss: 1.5336 - accuracy: 0.3971 - val_loss: 1.5000 - val_accuracy: 0.4638\n",
            "Epoch 14/100\n",
            "549/549 [==============================] - 3s 5ms/sample - loss: 1.5305 - accuracy: 0.3971 - val_loss: 1.4956 - val_accuracy: 0.4638\n",
            "Epoch 15/100\n",
            "549/549 [==============================] - 3s 5ms/sample - loss: 1.5277 - accuracy: 0.3971 - val_loss: 1.4908 - val_accuracy: 0.4638\n",
            "Epoch 16/100\n",
            "549/549 [==============================] - 3s 5ms/sample - loss: 1.5250 - accuracy: 0.3971 - val_loss: 1.4864 - val_accuracy: 0.4638\n",
            "Epoch 17/100\n",
            "549/549 [==============================] - 3s 5ms/sample - loss: 1.5227 - accuracy: 0.3971 - val_loss: 1.4832 - val_accuracy: 0.4638\n",
            "Epoch 18/100\n",
            "549/549 [==============================] - 3s 5ms/sample - loss: 1.5207 - accuracy: 0.3971 - val_loss: 1.4798 - val_accuracy: 0.4638\n",
            "Epoch 19/100\n",
            "549/549 [==============================] - 3s 5ms/sample - loss: 1.5188 - accuracy: 0.3971 - val_loss: 1.4767 - val_accuracy: 0.4638\n",
            "Epoch 20/100\n",
            "549/549 [==============================] - 3s 5ms/sample - loss: 1.5172 - accuracy: 0.3971 - val_loss: 1.4733 - val_accuracy: 0.4638\n",
            "Epoch 21/100\n",
            "549/549 [==============================] - 3s 5ms/sample - loss: 1.5157 - accuracy: 0.3971 - val_loss: 1.4716 - val_accuracy: 0.4638\n",
            "Epoch 22/100\n",
            "549/549 [==============================] - 3s 5ms/sample - loss: 1.5145 - accuracy: 0.3971 - val_loss: 1.4692 - val_accuracy: 0.4638\n",
            "Epoch 23/100\n",
            "549/549 [==============================] - 3s 5ms/sample - loss: 1.5134 - accuracy: 0.3971 - val_loss: 1.4667 - val_accuracy: 0.4638\n",
            "Epoch 24/100\n",
            "549/549 [==============================] - 3s 5ms/sample - loss: 1.5123 - accuracy: 0.3971 - val_loss: 1.4646 - val_accuracy: 0.4638\n",
            "Epoch 25/100\n",
            "549/549 [==============================] - 3s 5ms/sample - loss: 1.5114 - accuracy: 0.3971 - val_loss: 1.4633 - val_accuracy: 0.4638\n",
            "Epoch 26/100\n",
            "549/549 [==============================] - 3s 5ms/sample - loss: 1.5107 - accuracy: 0.3971 - val_loss: 1.4617 - val_accuracy: 0.4638\n",
            "Epoch 27/100\n",
            "549/549 [==============================] - 3s 5ms/sample - loss: 1.5100 - accuracy: 0.3971 - val_loss: 1.4598 - val_accuracy: 0.4638\n",
            "Epoch 28/100\n",
            "549/549 [==============================] - 3s 5ms/sample - loss: 1.5093 - accuracy: 0.3971 - val_loss: 1.4586 - val_accuracy: 0.4638\n",
            "Epoch 29/100\n",
            "549/549 [==============================] - 3s 5ms/sample - loss: 1.5088 - accuracy: 0.3971 - val_loss: 1.4571 - val_accuracy: 0.4638\n",
            "Epoch 30/100\n",
            "549/549 [==============================] - 3s 5ms/sample - loss: 1.5083 - accuracy: 0.3971 - val_loss: 1.4562 - val_accuracy: 0.4638\n",
            "Epoch 31/100\n",
            "549/549 [==============================] - 3s 5ms/sample - loss: 1.5081 - accuracy: 0.3971 - val_loss: 1.4548 - val_accuracy: 0.4638\n",
            "Epoch 32/100\n",
            "549/549 [==============================] - 3s 5ms/sample - loss: 1.5076 - accuracy: 0.3971 - val_loss: 1.4545 - val_accuracy: 0.4638\n",
            "Epoch 33/100\n",
            "549/549 [==============================] - 3s 5ms/sample - loss: 1.5073 - accuracy: 0.3971 - val_loss: 1.4531 - val_accuracy: 0.4638\n",
            "Epoch 34/100\n",
            "549/549 [==============================] - 3s 5ms/sample - loss: 1.5070 - accuracy: 0.3971 - val_loss: 1.4527 - val_accuracy: 0.4638\n",
            "Epoch 35/100\n",
            "549/549 [==============================] - 3s 5ms/sample - loss: 1.5069 - accuracy: 0.3971 - val_loss: 1.4517 - val_accuracy: 0.4638\n",
            "Epoch 36/100\n",
            "549/549 [==============================] - 3s 5ms/sample - loss: 1.5066 - accuracy: 0.3971 - val_loss: 1.4511 - val_accuracy: 0.4638\n",
            "Epoch 37/100\n",
            "549/549 [==============================] - 3s 5ms/sample - loss: 1.5065 - accuracy: 0.3971 - val_loss: 1.4507 - val_accuracy: 0.4638\n",
            "Epoch 38/100\n",
            "549/549 [==============================] - 3s 5ms/sample - loss: 1.5063 - accuracy: 0.3971 - val_loss: 1.4499 - val_accuracy: 0.4638\n",
            "Epoch 39/100\n",
            "549/549 [==============================] - 3s 5ms/sample - loss: 1.5061 - accuracy: 0.3971 - val_loss: 1.4492 - val_accuracy: 0.4638\n",
            "Epoch 40/100\n",
            "549/549 [==============================] - 3s 5ms/sample - loss: 1.5060 - accuracy: 0.3971 - val_loss: 1.4488 - val_accuracy: 0.4638\n",
            "Epoch 41/100\n",
            "549/549 [==============================] - 3s 5ms/sample - loss: 1.5060 - accuracy: 0.3971 - val_loss: 1.4486 - val_accuracy: 0.4638\n",
            "Epoch 42/100\n",
            "549/549 [==============================] - 3s 5ms/sample - loss: 1.5059 - accuracy: 0.3971 - val_loss: 1.4483 - val_accuracy: 0.4638\n",
            "Epoch 43/100\n",
            "549/549 [==============================] - 3s 5ms/sample - loss: 1.5057 - accuracy: 0.3971 - val_loss: 1.4476 - val_accuracy: 0.4638\n",
            "Epoch 44/100\n",
            "549/549 [==============================] - 3s 5ms/sample - loss: 1.5058 - accuracy: 0.3971 - val_loss: 1.4474 - val_accuracy: 0.4638\n",
            "Epoch 45/100\n",
            "549/549 [==============================] - 3s 5ms/sample - loss: 1.5056 - accuracy: 0.3971 - val_loss: 1.4470 - val_accuracy: 0.4638\n",
            "Epoch 46/100\n",
            "549/549 [==============================] - 3s 5ms/sample - loss: 1.5055 - accuracy: 0.3971 - val_loss: 1.4468 - val_accuracy: 0.4638\n",
            "Epoch 47/100\n",
            "549/549 [==============================] - 3s 5ms/sample - loss: 1.5055 - accuracy: 0.3971 - val_loss: 1.4464 - val_accuracy: 0.4638\n",
            "Epoch 48/100\n",
            "549/549 [==============================] - 3s 5ms/sample - loss: 1.5055 - accuracy: 0.3971 - val_loss: 1.4461 - val_accuracy: 0.4638\n",
            "Epoch 49/100\n",
            "549/549 [==============================] - 3s 5ms/sample - loss: 1.5055 - accuracy: 0.3971 - val_loss: 1.4465 - val_accuracy: 0.4638\n",
            "Epoch 50/100\n",
            "549/549 [==============================] - 3s 5ms/sample - loss: 1.5054 - accuracy: 0.3971 - val_loss: 1.4462 - val_accuracy: 0.4638\n",
            "Epoch 51/100\n",
            "549/549 [==============================] - 3s 5ms/sample - loss: 1.5054 - accuracy: 0.3971 - val_loss: 1.4458 - val_accuracy: 0.4638\n",
            "Epoch 52/100\n",
            "549/549 [==============================] - 3s 5ms/sample - loss: 1.5054 - accuracy: 0.3971 - val_loss: 1.4459 - val_accuracy: 0.4638\n",
            "Epoch 53/100\n",
            "549/549 [==============================] - 3s 5ms/sample - loss: 1.5054 - accuracy: 0.3971 - val_loss: 1.4454 - val_accuracy: 0.4638\n",
            "Epoch 54/100\n",
            "549/549 [==============================] - 3s 5ms/sample - loss: 1.5054 - accuracy: 0.3971 - val_loss: 1.4449 - val_accuracy: 0.4638\n",
            "Epoch 55/100\n",
            "549/549 [==============================] - 3s 5ms/sample - loss: 1.5053 - accuracy: 0.3971 - val_loss: 1.4450 - val_accuracy: 0.4638\n",
            "Epoch 56/100\n",
            "549/549 [==============================] - 3s 5ms/sample - loss: 1.5054 - accuracy: 0.3971 - val_loss: 1.4444 - val_accuracy: 0.4638\n",
            "Epoch 57/100\n",
            "549/549 [==============================] - 3s 5ms/sample - loss: 1.5053 - accuracy: 0.3971 - val_loss: 1.4447 - val_accuracy: 0.4638\n",
            "Epoch 58/100\n",
            "549/549 [==============================] - 3s 5ms/sample - loss: 1.5053 - accuracy: 0.3971 - val_loss: 1.4445 - val_accuracy: 0.4638\n",
            "Epoch 59/100\n",
            "549/549 [==============================] - 3s 5ms/sample - loss: 1.5054 - accuracy: 0.3971 - val_loss: 1.4448 - val_accuracy: 0.4638\n",
            "Epoch 60/100\n",
            "549/549 [==============================] - 3s 5ms/sample - loss: 1.5053 - accuracy: 0.3971 - val_loss: 1.4443 - val_accuracy: 0.4638\n",
            "Epoch 61/100\n",
            "549/549 [==============================] - 3s 5ms/sample - loss: 1.5052 - accuracy: 0.3971 - val_loss: 1.4442 - val_accuracy: 0.4638\n",
            "Epoch 62/100\n",
            "549/549 [==============================] - 3s 5ms/sample - loss: 1.5053 - accuracy: 0.3971 - val_loss: 1.4442 - val_accuracy: 0.4638\n",
            "Epoch 63/100\n",
            "549/549 [==============================] - 3s 5ms/sample - loss: 1.5053 - accuracy: 0.3971 - val_loss: 1.4439 - val_accuracy: 0.4638\n",
            "Epoch 64/100\n",
            "549/549 [==============================] - 3s 5ms/sample - loss: 1.5052 - accuracy: 0.3971 - val_loss: 1.4438 - val_accuracy: 0.4638\n",
            "Epoch 65/100\n",
            "549/549 [==============================] - 3s 5ms/sample - loss: 1.5053 - accuracy: 0.3971 - val_loss: 1.4438 - val_accuracy: 0.4638\n",
            "Epoch 66/100\n",
            "549/549 [==============================] - 3s 5ms/sample - loss: 1.5053 - accuracy: 0.3971 - val_loss: 1.4437 - val_accuracy: 0.4638\n",
            "Epoch 67/100\n",
            "549/549 [==============================] - 3s 5ms/sample - loss: 1.5053 - accuracy: 0.3971 - val_loss: 1.4439 - val_accuracy: 0.4638\n",
            "Epoch 68/100\n",
            "549/549 [==============================] - 3s 5ms/sample - loss: 1.5052 - accuracy: 0.3971 - val_loss: 1.4440 - val_accuracy: 0.4638\n",
            "Epoch 69/100\n",
            "549/549 [==============================] - 3s 5ms/sample - loss: 1.5053 - accuracy: 0.3971 - val_loss: 1.4442 - val_accuracy: 0.4638\n",
            "Epoch 70/100\n",
            "549/549 [==============================] - 3s 5ms/sample - loss: 1.5054 - accuracy: 0.3971 - val_loss: 1.4437 - val_accuracy: 0.4638\n",
            "Epoch 71/100\n",
            "549/549 [==============================] - 3s 5ms/sample - loss: 1.5052 - accuracy: 0.3971 - val_loss: 1.4437 - val_accuracy: 0.4638\n",
            "Epoch 72/100\n",
            "549/549 [==============================] - 3s 5ms/sample - loss: 1.5053 - accuracy: 0.3971 - val_loss: 1.4439 - val_accuracy: 0.4638\n",
            "Epoch 73/100\n",
            "549/549 [==============================] - 3s 5ms/sample - loss: 1.5053 - accuracy: 0.3971 - val_loss: 1.4442 - val_accuracy: 0.4638\n",
            "Epoch 74/100\n",
            "549/549 [==============================] - 3s 5ms/sample - loss: 1.5052 - accuracy: 0.3971 - val_loss: 1.4441 - val_accuracy: 0.4638\n",
            "Epoch 75/100\n",
            "549/549 [==============================] - 3s 5ms/sample - loss: 1.5053 - accuracy: 0.3971 - val_loss: 1.4441 - val_accuracy: 0.4638\n",
            "Epoch 76/100\n",
            "549/549 [==============================] - 3s 5ms/sample - loss: 1.5053 - accuracy: 0.3971 - val_loss: 1.4439 - val_accuracy: 0.4638\n",
            "Epoch 77/100\n",
            "549/549 [==============================] - 3s 5ms/sample - loss: 1.5053 - accuracy: 0.3971 - val_loss: 1.4437 - val_accuracy: 0.4638\n",
            "Epoch 78/100\n",
            "549/549 [==============================] - 3s 5ms/sample - loss: 1.5054 - accuracy: 0.3971 - val_loss: 1.4443 - val_accuracy: 0.4638\n",
            "Epoch 79/100\n",
            "549/549 [==============================] - 3s 5ms/sample - loss: 1.5052 - accuracy: 0.3971 - val_loss: 1.4441 - val_accuracy: 0.4638\n",
            "Epoch 80/100\n",
            "549/549 [==============================] - 3s 5ms/sample - loss: 1.5052 - accuracy: 0.3971 - val_loss: 1.4437 - val_accuracy: 0.4638\n",
            "Epoch 81/100\n",
            "549/549 [==============================] - 3s 5ms/sample - loss: 1.5053 - accuracy: 0.3971 - val_loss: 1.4440 - val_accuracy: 0.4638\n",
            "Epoch 82/100\n",
            "549/549 [==============================] - 3s 5ms/sample - loss: 1.5052 - accuracy: 0.3971 - val_loss: 1.4439 - val_accuracy: 0.4638\n",
            "Epoch 83/100\n",
            "549/549 [==============================] - 3s 5ms/sample - loss: 1.5053 - accuracy: 0.3971 - val_loss: 1.4437 - val_accuracy: 0.4638\n",
            "Epoch 84/100\n",
            "549/549 [==============================] - 3s 5ms/sample - loss: 1.5052 - accuracy: 0.3971 - val_loss: 1.4436 - val_accuracy: 0.4638\n",
            "Epoch 85/100\n",
            "549/549 [==============================] - 3s 5ms/sample - loss: 1.5054 - accuracy: 0.3971 - val_loss: 1.4437 - val_accuracy: 0.4638\n",
            "Epoch 86/100\n",
            "549/549 [==============================] - 3s 5ms/sample - loss: 1.5052 - accuracy: 0.3971 - val_loss: 1.4435 - val_accuracy: 0.4638\n",
            "Epoch 87/100\n",
            "549/549 [==============================] - 3s 5ms/sample - loss: 1.5052 - accuracy: 0.3971 - val_loss: 1.4437 - val_accuracy: 0.4638\n",
            "Epoch 88/100\n",
            "549/549 [==============================] - 3s 5ms/sample - loss: 1.5053 - accuracy: 0.3971 - val_loss: 1.4438 - val_accuracy: 0.4638\n",
            "Epoch 89/100\n",
            "549/549 [==============================] - 3s 5ms/sample - loss: 1.5052 - accuracy: 0.3971 - val_loss: 1.4443 - val_accuracy: 0.4638\n",
            "Epoch 90/100\n",
            "549/549 [==============================] - 3s 5ms/sample - loss: 1.5052 - accuracy: 0.3971 - val_loss: 1.4439 - val_accuracy: 0.4638\n",
            "Epoch 91/100\n",
            "549/549 [==============================] - 3s 5ms/sample - loss: 1.5053 - accuracy: 0.3971 - val_loss: 1.4435 - val_accuracy: 0.4638\n",
            "Epoch 92/100\n",
            "549/549 [==============================] - 3s 5ms/sample - loss: 1.5052 - accuracy: 0.3971 - val_loss: 1.4439 - val_accuracy: 0.4638\n",
            "Epoch 93/100\n",
            "549/549 [==============================] - 3s 5ms/sample - loss: 1.5052 - accuracy: 0.3971 - val_loss: 1.4439 - val_accuracy: 0.4638\n",
            "Epoch 94/100\n",
            "549/549 [==============================] - 3s 5ms/sample - loss: 1.5052 - accuracy: 0.3971 - val_loss: 1.4438 - val_accuracy: 0.4638\n",
            "Epoch 95/100\n",
            "549/549 [==============================] - 3s 5ms/sample - loss: 1.5053 - accuracy: 0.3971 - val_loss: 1.4440 - val_accuracy: 0.4638\n",
            "Epoch 96/100\n",
            "549/549 [==============================] - 3s 5ms/sample - loss: 1.5053 - accuracy: 0.3971 - val_loss: 1.4439 - val_accuracy: 0.4638\n",
            "Epoch 97/100\n",
            "549/549 [==============================] - 3s 5ms/sample - loss: 1.5054 - accuracy: 0.3971 - val_loss: 1.4438 - val_accuracy: 0.4638\n",
            "Epoch 98/100\n",
            "549/549 [==============================] - 3s 5ms/sample - loss: 1.5052 - accuracy: 0.3971 - val_loss: 1.4440 - val_accuracy: 0.4638\n",
            "Epoch 99/100\n",
            "549/549 [==============================] - 3s 5ms/sample - loss: 1.5052 - accuracy: 0.3971 - val_loss: 1.4441 - val_accuracy: 0.4638\n",
            "Epoch 100/100\n",
            "549/549 [==============================] - 3s 5ms/sample - loss: 1.5052 - accuracy: 0.3971 - val_loss: 1.4441 - val_accuracy: 0.4638\n"
          ],
          "name": "stdout"
        },
        {
          "output_type": "execute_result",
          "data": {
            "text/plain": [
              "<tensorflow.python.keras.callbacks.History at 0x7f5169dc8550>"
            ]
          },
          "metadata": {
            "tags": []
          },
          "execution_count": 74
        }
      ]
    },
    {
      "cell_type": "code",
      "metadata": {
        "id": "LqU8AFbhOpUi",
        "colab_type": "code",
        "colab": {
          "base_uri": "https://localhost:8080/",
          "height": 1000
        },
        "outputId": "5c7c121e-0ead-4157-b3f8-2b32a6d5a609"
      },
      "source": [
        "\n",
        "from tensorflow.keras.preprocessing.image import ImageDataGenerator\n",
        "\n",
        "trainAug = ImageDataGenerator(\n",
        "\t#rotation_range=15,  \n",
        "  # zoom_range=0.1,\n",
        " # shear_range=0.1,\n",
        "\tfill_mode=\"nearest\")\n",
        "\n",
        "BS= 16\n",
        "model_clone.compile(loss='categorical_crossentropy', metrics=['accuracy'],\n",
        "                    optimizer='adam')\n",
        "model_clone.fit_generator(\n",
        "\ttrainAug.flow(X_train, Y_train, batch_size=BS),\n",
        "\tsteps_per_epoch=len(X_train) // BS,\n",
        "\tvalidation_data=(X_test, Y_test),\n",
        "\tvalidation_steps=len(X_test) // BS,\n",
        "\tepochs=100)\n"
      ],
      "execution_count": null,
      "outputs": [
        {
          "output_type": "stream",
          "text": [
            "Epoch 1/100\n",
            "32/32 [==============================] - 3s 78ms/step - loss: 7.8343 - accuracy: 0.2525 - val_loss: 7.0496 - val_accuracy: 0.4360\n",
            "Epoch 2/100\n",
            "32/32 [==============================] - 2s 74ms/step - loss: 1.2360 - accuracy: 0.6192 - val_loss: 2.3787 - val_accuracy: 0.5116\n",
            "Epoch 3/100\n",
            "32/32 [==============================] - 2s 78ms/step - loss: 0.4479 - accuracy: 0.8516 - val_loss: 1.3764 - val_accuracy: 0.6105\n",
            "Epoch 4/100\n",
            "32/32 [==============================] - 2s 75ms/step - loss: 0.2186 - accuracy: 0.9499 - val_loss: 1.1767 - val_accuracy: 0.6802\n",
            "Epoch 5/100\n",
            "32/32 [==============================] - 2s 75ms/step - loss: 0.1034 - accuracy: 0.9940 - val_loss: 1.1332 - val_accuracy: 0.7151\n",
            "Epoch 6/100\n",
            "32/32 [==============================] - 2s 75ms/step - loss: 0.0578 - accuracy: 1.0000 - val_loss: 1.1382 - val_accuracy: 0.7093\n",
            "Epoch 7/100\n",
            "32/32 [==============================] - 2s 76ms/step - loss: 0.0413 - accuracy: 1.0000 - val_loss: 1.1122 - val_accuracy: 0.7093\n",
            "Epoch 8/100\n",
            "32/32 [==============================] - 2s 76ms/step - loss: 0.0308 - accuracy: 1.0000 - val_loss: 1.0998 - val_accuracy: 0.7326\n",
            "Epoch 9/100\n",
            "32/32 [==============================] - 2s 74ms/step - loss: 0.0237 - accuracy: 1.0000 - val_loss: 1.0901 - val_accuracy: 0.7151\n",
            "Epoch 10/100\n",
            "32/32 [==============================] - 2s 76ms/step - loss: 0.0194 - accuracy: 1.0000 - val_loss: 1.1462 - val_accuracy: 0.7209\n",
            "Epoch 11/100\n",
            "32/32 [==============================] - 2s 74ms/step - loss: 0.0159 - accuracy: 1.0000 - val_loss: 1.1124 - val_accuracy: 0.7384\n",
            "Epoch 12/100\n",
            "32/32 [==============================] - 2s 74ms/step - loss: 0.0129 - accuracy: 1.0000 - val_loss: 1.1265 - val_accuracy: 0.7384\n",
            "Epoch 13/100\n",
            "32/32 [==============================] - 2s 74ms/step - loss: 0.0115 - accuracy: 1.0000 - val_loss: 1.1433 - val_accuracy: 0.7326\n",
            "Epoch 14/100\n",
            "32/32 [==============================] - 2s 75ms/step - loss: 0.0098 - accuracy: 1.0000 - val_loss: 1.1546 - val_accuracy: 0.7151\n",
            "Epoch 15/100\n",
            "32/32 [==============================] - 2s 75ms/step - loss: 0.0081 - accuracy: 1.0000 - val_loss: 1.1638 - val_accuracy: 0.7267\n",
            "Epoch 16/100\n",
            "32/32 [==============================] - 2s 73ms/step - loss: 0.0074 - accuracy: 1.0000 - val_loss: 1.1733 - val_accuracy: 0.7151\n",
            "Epoch 17/100\n",
            "32/32 [==============================] - 2s 76ms/step - loss: 0.0065 - accuracy: 1.0000 - val_loss: 1.1717 - val_accuracy: 0.7384\n",
            "Epoch 18/100\n",
            "32/32 [==============================] - 2s 76ms/step - loss: 0.0060 - accuracy: 1.0000 - val_loss: 1.1985 - val_accuracy: 0.7209\n",
            "Epoch 19/100\n",
            "32/32 [==============================] - 2s 73ms/step - loss: 0.0053 - accuracy: 1.0000 - val_loss: 1.1987 - val_accuracy: 0.7267\n",
            "Epoch 20/100\n",
            "32/32 [==============================] - 2s 77ms/step - loss: 0.0051 - accuracy: 1.0000 - val_loss: 1.2129 - val_accuracy: 0.7267\n",
            "Epoch 21/100\n",
            "32/32 [==============================] - 2s 75ms/step - loss: 0.0044 - accuracy: 1.0000 - val_loss: 1.1970 - val_accuracy: 0.7326\n",
            "Epoch 22/100\n",
            "32/32 [==============================] - 2s 75ms/step - loss: 0.0040 - accuracy: 1.0000 - val_loss: 1.2074 - val_accuracy: 0.7267\n",
            "Epoch 23/100\n",
            "32/32 [==============================] - 2s 75ms/step - loss: 0.0036 - accuracy: 1.0000 - val_loss: 1.2180 - val_accuracy: 0.7384\n",
            "Epoch 24/100\n",
            "32/32 [==============================] - 2s 74ms/step - loss: 0.0034 - accuracy: 1.0000 - val_loss: 1.2397 - val_accuracy: 0.7384\n",
            "Epoch 25/100\n",
            "32/32 [==============================] - 2s 76ms/step - loss: 0.0030 - accuracy: 1.0000 - val_loss: 1.2302 - val_accuracy: 0.7326\n",
            "Epoch 26/100\n",
            "32/32 [==============================] - 2s 76ms/step - loss: 0.0027 - accuracy: 1.0000 - val_loss: 1.2423 - val_accuracy: 0.7326\n",
            "Epoch 27/100\n",
            "32/32 [==============================] - 2s 77ms/step - loss: 0.0025 - accuracy: 1.0000 - val_loss: 1.2447 - val_accuracy: 0.7326\n",
            "Epoch 28/100\n",
            "32/32 [==============================] - 2s 77ms/step - loss: 0.0024 - accuracy: 1.0000 - val_loss: 1.2457 - val_accuracy: 0.7442\n",
            "Epoch 29/100\n",
            "32/32 [==============================] - 2s 76ms/step - loss: 0.0022 - accuracy: 1.0000 - val_loss: 1.2530 - val_accuracy: 0.7384\n",
            "Epoch 30/100\n",
            "32/32 [==============================] - 2s 75ms/step - loss: 0.0021 - accuracy: 1.0000 - val_loss: 1.2623 - val_accuracy: 0.7384\n",
            "Epoch 31/100\n",
            "32/32 [==============================] - 2s 75ms/step - loss: 0.0019 - accuracy: 1.0000 - val_loss: 1.2755 - val_accuracy: 0.7384\n",
            "Epoch 32/100\n",
            "32/32 [==============================] - 2s 75ms/step - loss: 0.0017 - accuracy: 1.0000 - val_loss: 1.2773 - val_accuracy: 0.7267\n",
            "Epoch 33/100\n",
            "32/32 [==============================] - 2s 75ms/step - loss: 0.0018 - accuracy: 1.0000 - val_loss: 1.2828 - val_accuracy: 0.7326\n",
            "Epoch 34/100\n",
            "32/32 [==============================] - 2s 75ms/step - loss: 0.0016 - accuracy: 1.0000 - val_loss: 1.2938 - val_accuracy: 0.7384\n",
            "Epoch 35/100\n",
            "32/32 [==============================] - 3s 78ms/step - loss: 0.0015 - accuracy: 1.0000 - val_loss: 1.2932 - val_accuracy: 0.7442\n",
            "Epoch 36/100\n",
            "32/32 [==============================] - 2s 77ms/step - loss: 0.0015 - accuracy: 1.0000 - val_loss: 1.3053 - val_accuracy: 0.7442\n",
            "Epoch 37/100\n",
            "32/32 [==============================] - 2s 76ms/step - loss: 0.0013 - accuracy: 1.0000 - val_loss: 1.3026 - val_accuracy: 0.7326\n",
            "Epoch 38/100\n",
            "32/32 [==============================] - 2s 76ms/step - loss: 0.0012 - accuracy: 1.0000 - val_loss: 1.3107 - val_accuracy: 0.7442\n",
            "Epoch 39/100\n",
            "32/32 [==============================] - 2s 76ms/step - loss: 0.0012 - accuracy: 1.0000 - val_loss: 1.3273 - val_accuracy: 0.7326\n",
            "Epoch 40/100\n",
            "32/32 [==============================] - 2s 76ms/step - loss: 0.0012 - accuracy: 1.0000 - val_loss: 1.3210 - val_accuracy: 0.7500\n",
            "Epoch 41/100\n",
            "32/32 [==============================] - 2s 76ms/step - loss: 0.0011 - accuracy: 1.0000 - val_loss: 1.3226 - val_accuracy: 0.7326\n",
            "Epoch 42/100\n",
            "32/32 [==============================] - 2s 76ms/step - loss: 0.0010 - accuracy: 1.0000 - val_loss: 1.3379 - val_accuracy: 0.7500\n",
            "Epoch 43/100\n",
            "32/32 [==============================] - 2s 78ms/step - loss: 9.8486e-04 - accuracy: 1.0000 - val_loss: 1.3307 - val_accuracy: 0.7267\n",
            "Epoch 44/100\n",
            "32/32 [==============================] - 2s 75ms/step - loss: 9.8150e-04 - accuracy: 1.0000 - val_loss: 1.3458 - val_accuracy: 0.7442\n",
            "Epoch 45/100\n",
            "32/32 [==============================] - 2s 75ms/step - loss: 9.1428e-04 - accuracy: 1.0000 - val_loss: 1.3392 - val_accuracy: 0.7384\n",
            "Epoch 46/100\n",
            "32/32 [==============================] - 2s 74ms/step - loss: 8.5011e-04 - accuracy: 1.0000 - val_loss: 1.3500 - val_accuracy: 0.7384\n",
            "Epoch 47/100\n",
            "32/32 [==============================] - 2s 74ms/step - loss: 7.7523e-04 - accuracy: 1.0000 - val_loss: 1.3424 - val_accuracy: 0.7384\n",
            "Epoch 48/100\n",
            "32/32 [==============================] - 2s 73ms/step - loss: 8.1705e-04 - accuracy: 1.0000 - val_loss: 1.3503 - val_accuracy: 0.7384\n",
            "Epoch 49/100\n",
            "32/32 [==============================] - 2s 74ms/step - loss: 7.7660e-04 - accuracy: 1.0000 - val_loss: 1.3613 - val_accuracy: 0.7384\n",
            "Epoch 50/100\n",
            "32/32 [==============================] - 2s 75ms/step - loss: 6.8266e-04 - accuracy: 1.0000 - val_loss: 1.3605 - val_accuracy: 0.7442\n",
            "Epoch 51/100\n",
            "32/32 [==============================] - 2s 75ms/step - loss: 6.8114e-04 - accuracy: 1.0000 - val_loss: 1.3644 - val_accuracy: 0.7500\n",
            "Epoch 52/100\n",
            "32/32 [==============================] - 2s 77ms/step - loss: 6.4400e-04 - accuracy: 1.0000 - val_loss: 1.3705 - val_accuracy: 0.7384\n",
            "Epoch 53/100\n",
            "32/32 [==============================] - 2s 76ms/step - loss: 6.5249e-04 - accuracy: 1.0000 - val_loss: 1.3727 - val_accuracy: 0.7326\n",
            "Epoch 54/100\n",
            "32/32 [==============================] - 2s 76ms/step - loss: 6.2836e-04 - accuracy: 1.0000 - val_loss: 1.3730 - val_accuracy: 0.7442\n",
            "Epoch 55/100\n",
            "32/32 [==============================] - 2s 75ms/step - loss: 5.5962e-04 - accuracy: 1.0000 - val_loss: 1.3907 - val_accuracy: 0.7384\n",
            "Epoch 56/100\n",
            "32/32 [==============================] - 2s 76ms/step - loss: 5.7477e-04 - accuracy: 1.0000 - val_loss: 1.3856 - val_accuracy: 0.7500\n",
            "Epoch 57/100\n",
            "32/32 [==============================] - 2s 76ms/step - loss: 5.3772e-04 - accuracy: 1.0000 - val_loss: 1.3947 - val_accuracy: 0.7442\n",
            "Epoch 58/100\n",
            "32/32 [==============================] - 2s 74ms/step - loss: 5.0120e-04 - accuracy: 1.0000 - val_loss: 1.4006 - val_accuracy: 0.7442\n",
            "Epoch 59/100\n",
            "32/32 [==============================] - 2s 75ms/step - loss: 4.9285e-04 - accuracy: 1.0000 - val_loss: 1.3980 - val_accuracy: 0.7442\n",
            "Epoch 60/100\n",
            "32/32 [==============================] - 2s 76ms/step - loss: 4.4393e-04 - accuracy: 1.0000 - val_loss: 1.4152 - val_accuracy: 0.7442\n",
            "Epoch 61/100\n",
            "32/32 [==============================] - 2s 75ms/step - loss: 4.4777e-04 - accuracy: 1.0000 - val_loss: 1.4093 - val_accuracy: 0.7558\n",
            "Epoch 62/100\n",
            "32/32 [==============================] - 2s 75ms/step - loss: 4.2502e-04 - accuracy: 1.0000 - val_loss: 1.4170 - val_accuracy: 0.7442\n",
            "Epoch 63/100\n",
            "32/32 [==============================] - 2s 74ms/step - loss: 4.1767e-04 - accuracy: 1.0000 - val_loss: 1.4239 - val_accuracy: 0.7442\n",
            "Epoch 64/100\n",
            "32/32 [==============================] - 2s 75ms/step - loss: 4.1414e-04 - accuracy: 1.0000 - val_loss: 1.4111 - val_accuracy: 0.7442\n",
            "Epoch 65/100\n",
            "32/32 [==============================] - 2s 73ms/step - loss: 3.8496e-04 - accuracy: 1.0000 - val_loss: 1.4237 - val_accuracy: 0.7500\n",
            "Epoch 66/100\n",
            "32/32 [==============================] - 2s 73ms/step - loss: 3.8251e-04 - accuracy: 1.0000 - val_loss: 1.4238 - val_accuracy: 0.7558\n",
            "Epoch 67/100\n",
            "32/32 [==============================] - 2s 75ms/step - loss: 3.6308e-04 - accuracy: 1.0000 - val_loss: 1.4252 - val_accuracy: 0.7500\n",
            "Epoch 68/100\n",
            "32/32 [==============================] - 2s 75ms/step - loss: 3.4497e-04 - accuracy: 1.0000 - val_loss: 1.4419 - val_accuracy: 0.7384\n",
            "Epoch 69/100\n",
            "32/32 [==============================] - 2s 76ms/step - loss: 3.4507e-04 - accuracy: 1.0000 - val_loss: 1.4284 - val_accuracy: 0.7558\n",
            "Epoch 70/100\n",
            "32/32 [==============================] - 2s 75ms/step - loss: 3.4635e-04 - accuracy: 1.0000 - val_loss: 1.4300 - val_accuracy: 0.7500\n",
            "Epoch 71/100\n",
            "32/32 [==============================] - 2s 75ms/step - loss: 3.2799e-04 - accuracy: 1.0000 - val_loss: 1.4421 - val_accuracy: 0.7558\n",
            "Epoch 72/100\n",
            "32/32 [==============================] - 2s 75ms/step - loss: 3.1590e-04 - accuracy: 1.0000 - val_loss: 1.4455 - val_accuracy: 0.7500\n",
            "Epoch 73/100\n",
            "32/32 [==============================] - 2s 75ms/step - loss: 3.0151e-04 - accuracy: 1.0000 - val_loss: 1.4493 - val_accuracy: 0.7558\n",
            "Epoch 74/100\n",
            "32/32 [==============================] - 2s 77ms/step - loss: 2.9534e-04 - accuracy: 1.0000 - val_loss: 1.4531 - val_accuracy: 0.7558\n",
            "Epoch 75/100\n",
            "32/32 [==============================] - 2s 77ms/step - loss: 2.7633e-04 - accuracy: 1.0000 - val_loss: 1.4590 - val_accuracy: 0.7442\n",
            "Epoch 76/100\n",
            "32/32 [==============================] - 2s 76ms/step - loss: 2.7460e-04 - accuracy: 1.0000 - val_loss: 1.4630 - val_accuracy: 0.7384\n",
            "Epoch 77/100\n",
            "32/32 [==============================] - 2s 77ms/step - loss: 2.6221e-04 - accuracy: 1.0000 - val_loss: 1.4580 - val_accuracy: 0.7500\n",
            "Epoch 78/100\n",
            "32/32 [==============================] - 2s 76ms/step - loss: 2.5509e-04 - accuracy: 1.0000 - val_loss: 1.4608 - val_accuracy: 0.7500\n",
            "Epoch 79/100\n",
            "32/32 [==============================] - 2s 76ms/step - loss: 2.4683e-04 - accuracy: 1.0000 - val_loss: 1.4581 - val_accuracy: 0.7558\n",
            "Epoch 80/100\n",
            "32/32 [==============================] - 2s 75ms/step - loss: 2.4690e-04 - accuracy: 1.0000 - val_loss: 1.4653 - val_accuracy: 0.7558\n",
            "Epoch 81/100\n",
            "32/32 [==============================] - 2s 76ms/step - loss: 2.3378e-04 - accuracy: 1.0000 - val_loss: 1.4740 - val_accuracy: 0.7558\n",
            "Epoch 82/100\n",
            "32/32 [==============================] - 2s 77ms/step - loss: 2.2437e-04 - accuracy: 1.0000 - val_loss: 1.4736 - val_accuracy: 0.7558\n",
            "Epoch 83/100\n",
            "32/32 [==============================] - 2s 76ms/step - loss: 2.2061e-04 - accuracy: 1.0000 - val_loss: 1.4786 - val_accuracy: 0.7500\n",
            "Epoch 84/100\n",
            "32/32 [==============================] - 2s 77ms/step - loss: 2.1118e-04 - accuracy: 1.0000 - val_loss: 1.4840 - val_accuracy: 0.7558\n",
            "Epoch 85/100\n",
            "32/32 [==============================] - 2s 76ms/step - loss: 2.0872e-04 - accuracy: 1.0000 - val_loss: 1.4842 - val_accuracy: 0.7558\n",
            "Epoch 86/100\n",
            "32/32 [==============================] - 2s 76ms/step - loss: 2.0575e-04 - accuracy: 1.0000 - val_loss: 1.4874 - val_accuracy: 0.7558\n",
            "Epoch 87/100\n",
            "32/32 [==============================] - 2s 76ms/step - loss: 1.9951e-04 - accuracy: 1.0000 - val_loss: 1.4924 - val_accuracy: 0.7500\n",
            "Epoch 88/100\n",
            "32/32 [==============================] - 2s 77ms/step - loss: 1.9036e-04 - accuracy: 1.0000 - val_loss: 1.5009 - val_accuracy: 0.7500\n",
            "Epoch 89/100\n",
            "32/32 [==============================] - 2s 75ms/step - loss: 1.8436e-04 - accuracy: 1.0000 - val_loss: 1.4919 - val_accuracy: 0.7558\n",
            "Epoch 90/100\n",
            "32/32 [==============================] - 2s 76ms/step - loss: 1.7803e-04 - accuracy: 1.0000 - val_loss: 1.5026 - val_accuracy: 0.7500\n",
            "Epoch 91/100\n",
            "32/32 [==============================] - 2s 74ms/step - loss: 1.7604e-04 - accuracy: 1.0000 - val_loss: 1.5011 - val_accuracy: 0.7500\n",
            "Epoch 92/100\n",
            "32/32 [==============================] - 2s 74ms/step - loss: 1.6972e-04 - accuracy: 1.0000 - val_loss: 1.5040 - val_accuracy: 0.7500\n",
            "Epoch 93/100\n",
            "32/32 [==============================] - 2s 77ms/step - loss: 1.6146e-04 - accuracy: 1.0000 - val_loss: 1.5051 - val_accuracy: 0.7558\n",
            "Epoch 94/100\n",
            "32/32 [==============================] - 2s 75ms/step - loss: 1.6607e-04 - accuracy: 1.0000 - val_loss: 1.5084 - val_accuracy: 0.7500\n",
            "Epoch 95/100\n",
            "32/32 [==============================] - 2s 75ms/step - loss: 1.5978e-04 - accuracy: 1.0000 - val_loss: 1.5141 - val_accuracy: 0.7500\n",
            "Epoch 96/100\n",
            "32/32 [==============================] - 2s 75ms/step - loss: 1.4757e-04 - accuracy: 1.0000 - val_loss: 1.5171 - val_accuracy: 0.7500\n",
            "Epoch 97/100\n",
            "32/32 [==============================] - 2s 75ms/step - loss: 1.4726e-04 - accuracy: 1.0000 - val_loss: 1.5186 - val_accuracy: 0.7500\n",
            "Epoch 98/100\n",
            "32/32 [==============================] - 2s 75ms/step - loss: 1.4334e-04 - accuracy: 1.0000 - val_loss: 1.5217 - val_accuracy: 0.7500\n",
            "Epoch 99/100\n",
            "32/32 [==============================] - 2s 76ms/step - loss: 1.3440e-04 - accuracy: 1.0000 - val_loss: 1.5205 - val_accuracy: 0.7558\n",
            "Epoch 100/100\n",
            "32/32 [==============================] - 2s 77ms/step - loss: 1.3352e-04 - accuracy: 1.0000 - val_loss: 1.5284 - val_accuracy: 0.7500\n"
          ],
          "name": "stdout"
        },
        {
          "output_type": "execute_result",
          "data": {
            "text/plain": [
              "<tensorflow.python.keras.callbacks.History at 0x7f051a501eb8>"
            ]
          },
          "metadata": {
            "tags": []
          },
          "execution_count": 82
        }
      ]
    },
    {
      "cell_type": "code",
      "metadata": {
        "id": "6w56UqZx_zkT",
        "colab_type": "code",
        "colab": {
          "base_uri": "https://localhost:8080/",
          "height": 69
        },
        "outputId": "72d68afd-bf17-4c68-c8cd-ee5040d0bc1c"
      },
      "source": [
        "import numpy as np\n",
        "print(np.sum(np.around(y_pred[0:]) == labels[0:]))\n",
        "print('=====')\n",
        "print(229 * 5)"
      ],
      "execution_count": null,
      "outputs": [
        {
          "output_type": "stream",
          "text": [
            "1145\n",
            "=====\n",
            "1145\n"
          ],
          "name": "stdout"
        }
      ]
    },
    {
      "cell_type": "code",
      "metadata": {
        "id": "X8JNuo2oPkND",
        "colab_type": "code",
        "colab": {
          "base_uri": "https://localhost:8080/",
          "height": 34
        },
        "outputId": "26032ab4-03d3-4cf9-dfa0-2be4feb73e79"
      },
      "source": [
        "data.shape, labels.shape"
      ],
      "execution_count": null,
      "outputs": [
        {
          "output_type": "execute_result",
          "data": {
            "text/plain": [
              "((230,), (230,))"
            ]
          },
          "metadata": {
            "tags": []
          },
          "execution_count": 3
        }
      ]
    },
    {
      "cell_type": "code",
      "metadata": {
        "id": "O__iKtUBPrwE",
        "colab_type": "code",
        "colab": {
          "base_uri": "https://localhost:8080/",
          "height": 34
        },
        "outputId": "7429478b-246d-46e3-ff85-882339b4224f"
      },
      "source": [
        "import numpy as np\n",
        "\n",
        "np.unique(labels)"
      ],
      "execution_count": null,
      "outputs": [
        {
          "output_type": "execute_result",
          "data": {
            "text/plain": [
              "array([0., 1., 2., 3., 4.])"
            ]
          },
          "metadata": {
            "tags": []
          },
          "execution_count": 2
        }
      ]
    },
    {
      "cell_type": "code",
      "metadata": {
        "id": "q6Tc8MntNtE5",
        "colab_type": "code",
        "colab": {
          "base_uri": "https://localhost:8080/",
          "height": 248
        },
        "outputId": "b622126c-7902-4685-d241-16b77ba89e18"
      },
      "source": [
        "from google.colab.patches import cv2_imshow\n",
        "#cv2_imshow(data[200][22])\n",
        "# optional reshape\n",
        "import cv2\n",
        "\n",
        "for i, _ in enumerate(data):\n",
        "   #print(i)\n",
        "  for j, _ in enumerate(data[i]):\n",
        "      data[i][j]=(cv2.resize(data[i][j], (214, 214)))\n",
        "      data[i][j]=(cv2.cvtColor(data[i][j], cv2.COLOR_RGB2GRAY))\n",
        "      \n",
        "\n",
        "print(len(data))\n",
        "\n",
        "\n",
        "cv2_imshow(data[2][15])\n"
      ],
      "execution_count": null,
      "outputs": [
        {
          "output_type": "stream",
          "text": [
            "230\n"
          ],
          "name": "stdout"
        },
        {
          "output_type": "display_data",
          "data": {
            "image/png": "[encoded data removed]",
            "text/plain": [
              "<PIL.Image.Image image mode=L size=214x214 at 0x7F529A02D7F0>"
            ]
          },
          "metadata": {
            "tags": []
          }
        }
      ]
    },
    {
      "cell_type": "code",
      "metadata": {
        "id": "9G1qPiScXC6i",
        "colab_type": "code",
        "colab": {}
      },
      "source": [
        "from google.colab.patches import cv2_imshow\n",
        "#cv2_imshow(data[200][22])\n",
        "# optional reshape\n",
        "import cv2\n",
        "\n",
        "for i, _ in enumerate(data):\n",
        "   #print(i)\n",
        "  for j, _ in enumerate(data[i]):\n",
        "      #threshold image\n",
        "      data[i][j]=(cv2.cvtColor(data[i][j], cv2.COLOR_RGB2GRAY))\n",
        "      data[i][j]=cv2.threshold(data[i][j],190,200, cv2.THRESH_BINARY_INV)[1]\n",
        "      data[i][j]=(cv2.resize(data[i][j], (214, 214)))\n",
        "  \n",
        "      \n",
        "\n",
        "print(len(data))\n",
        "\n",
        "\n",
        "cv2_imshow(data[2][15])\n"
      ],
      "execution_count": null,
      "outputs": []
    },
    {
      "cell_type": "code",
      "metadata": {
        "id": "H4sautqOYN45",
        "colab_type": "code",
        "colab": {
          "base_uri": "https://localhost:8080/",
          "height": 529
        },
        "outputId": "af14c660-d2fc-4ffd-d904-f1734619951a"
      },
      "source": [
        "import cv2\n",
        "from google.colab.patches import cv2_imshow\n",
        "\n",
        "gray=(cv2.cvtColor(data[6][15], cv2.COLOR_RGB2GRAY))\n",
        "thresh=cv2.threshold(gray,180,240, cv2.THRESH_BINARY_INV)[1]\n",
        "\n",
        "\n",
        "cv2_imshow(thresh)"
      ],
      "execution_count": 76,
      "outputs": [
        {
          "output_type": "display_data",
          "data": {
            "image/png": "[encoded data removed]",
            "text/plain": [
              "<PIL.Image.Image image mode=L size=512x512 at 0x7FC092B776A0>"
            ]
          },
          "metadata": {
            "tags": []
          }
        }
      ]
    },
    {
      "cell_type": "code",
      "metadata": {
        "id": "haQHLpaEk1D0",
        "colab_type": "code",
        "colab": {
          "base_uri": "https://localhost:8080/",
          "height": 267
        },
        "outputId": "23c1f9df-5d6b-45e5-e34b-d8bc60cdff80"
      },
      "source": [
        "roi=thresh[150:400 ,100:420]\n",
        "cv2_imshow(roi)"
      ],
      "execution_count": 77,
      "outputs": [
        {
          "output_type": "display_data",
          "data": {
            "image/png": "[encoded data removed]",
            "text/plain": [
              "<PIL.Image.Image image mode=L size=320x250 at 0x7FC092B77978>"
            ]
          },
          "metadata": {
            "tags": []
          }
        }
      ]
    },
    {
      "cell_type": "code",
      "metadata": {
        "id": "bRNmoewwZ6SN",
        "colab_type": "code",
        "colab": {
          "base_uri": "https://localhost:8080/",
          "height": 267
        },
        "outputId": "9379c52b-01f9-42a7-b989-ec62109f08bf"
      },
      "source": [
        "#find contours\n",
        "\n",
        "import imutils\n",
        "#cropping extracting ROIs\n",
        "\n",
        "cnts=cv2.findContours(roi ,cv2.RETR_EXTERNAL,cv2.CHAIN_APPROX_SIMPLE)\n",
        "cnts=imutils.grab_contours(cnts)\n",
        "\n",
        "#resized=(cv2.resize(data[6][15], (512, 512)))\n",
        "\n",
        "output=data[6][15][150:400 ,100:420].copy()\n",
        "for c in cnts:\n",
        "  cv2.drawContours(output,[c],-1,(240,0,149),3)\n",
        "  \n",
        "cv2_imshow(output)"
      ],
      "execution_count": 78,
      "outputs": [
        {
          "output_type": "display_data",
          "data": {
            "image/png": "[encoded data removed]",
            "text/plain": [
              "<PIL.Image.Image image mode=RGB size=320x250 at 0x7FC091351F28>"
            ]
          },
          "metadata": {
            "tags": []
          }
        }
      ]
    },
    {
      "cell_type": "code",
      "metadata": {
        "id": "iYgMtB7QPuYb",
        "colab_type": "code",
        "colab": {
          "base_uri": "https://localhost:8080/",
          "height": 34
        },
        "outputId": "a975792b-bda4-4206-f5ec-bf36e5d2251d"
      },
      "source": [
        "import numpy as np\n",
        "\n",
        "data = np.delete(data, 74)\n",
        "labels = np.delete(labels, 74)\n",
        "data.shape, labels.shape"
      ],
      "execution_count": null,
      "outputs": [
        {
          "output_type": "execute_result",
          "data": {
            "text/plain": [
              "((229,), (229,))"
            ]
          },
          "metadata": {
            "tags": []
          },
          "execution_count": 10
        }
      ]
    },
    {
      "cell_type": "code",
      "metadata": {
        "id": "DtjiSQFk2u9Z",
        "colab_type": "code",
        "colab": {
          "base_uri": "https://localhost:8080/",
          "height": 34
        },
        "outputId": "cd1e22d5-a039-4891-b047-7e45d3894b48"
      },
      "source": [
        "# get the first 22 elements 0:22\n",
        "# and recreate the data.\n",
        "import cv2\n",
        "from operator import itemgetter\n",
        "\n",
        "new_data = []\n",
        "images_selected = [15, 17]\n",
        "for i, _ in enumerate(data):\n",
        "   new_data.append([data[i][15],data[i][16], data[i][17]])\n",
        "  #new_data.append(data[i][15])\n",
        "     \n",
        "print(len(new_data))"
      ],
      "execution_count": null,
      "outputs": [
        {
          "output_type": "stream",
          "text": [
            "229\n"
          ],
          "name": "stdout"
        }
      ]
    },
    {
      "cell_type": "code",
      "metadata": {
        "id": "T9Yt6aeT9y60",
        "colab_type": "code",
        "colab": {
          "base_uri": "https://localhost:8080/",
          "height": 34
        },
        "outputId": "fb0dfcf1-14e6-4b98-8b83-d16e8363990d"
      },
      "source": [
        "new_data=np.array(new_data)\n",
        "\n",
        "new_data = new_data.reshape(687,214,214,1)\n",
        "new_data.shape"
      ],
      "execution_count": null,
      "outputs": [
        {
          "output_type": "execute_result",
          "data": {
            "text/plain": [
              "(687, 214, 214, 1)"
            ]
          },
          "metadata": {
            "tags": []
          },
          "execution_count": 24
        }
      ]
    },
    {
      "cell_type": "code",
      "metadata": {
        "id": "XWmmwxDqEonO",
        "colab_type": "code",
        "colab": {
          "base_uri": "https://localhost:8080/",
          "height": 139
        },
        "outputId": "5a0d8f23-ae23-48c5-f38b-d037898a1db3"
      },
      "source": [
        "labels"
      ],
      "execution_count": null,
      "outputs": [
        {
          "output_type": "execute_result",
          "data": {
            "text/plain": [
              "array([[1, 0, 0, 0, 0],\n",
              "       [1, 0, 0, 0, 0],\n",
              "       [1, 0, 0, 0, 0],\n",
              "       ...,\n",
              "       [0, 0, 0, 0, 1],\n",
              "       [0, 0, 0, 0, 1],\n",
              "       [0, 0, 0, 0, 1]])"
            ]
          },
          "metadata": {
            "tags": []
          },
          "execution_count": 51
        }
      ]
    },
    {
      "cell_type": "code",
      "metadata": {
        "id": "9vZU4rieDmnu",
        "colab_type": "code",
        "colab": {}
      },
      "source": [
        "import os\n",
        "import numpy as np\n",
        "import cv2\n",
        "\n",
        "\n",
        "\n",
        "\n",
        "NL = np.zeros((282,))\n",
        "E = np.ones((105,))\n",
        "\n",
        "lb = np.concatenate((NL,E) , axis=0)\n",
        "lb2=np.concatenate((PE,PR),axis=0)\n",
        "lb3=np.concatenate((lb,lb2),axis=0)\n",
        "labels=np.concatenate((lb3,AB),axis=0)\n",
        "\n",
        "\n"
      ],
      "execution_count": null,
      "outputs": []
    },
    {
      "cell_type": "code",
      "metadata": {
        "id": "SOgMQUt8EPcm",
        "colab_type": "code",
        "colab": {}
      },
      "source": [
        "\n",
        "import numpy as np\n",
        "\n",
        "AB=[]\n",
        "for i in range(102):\n",
        "  AB.append(4.)\n",
        "\n",
        "AB=np.array(AB)\n",
        "AB=AB.transpose()\n",
        "\n",
        " "
      ],
      "execution_count": null,
      "outputs": []
    },
    {
      "cell_type": "code",
      "metadata": {
        "id": "8OkHiUAlETTf",
        "colab_type": "code",
        "colab": {}
      },
      "source": [
        "\n",
        "PR=[]\n",
        "\n",
        "for i in range(87):\n",
        "  PR.append(3.)\n",
        "\n",
        "PR=np.array(PR)\n",
        "PR=PR.transpose()\n"
      ],
      "execution_count": null,
      "outputs": []
    },
    {
      "cell_type": "code",
      "metadata": {
        "id": "jztBxcIZEVbQ",
        "colab_type": "code",
        "colab": {}
      },
      "source": [
        "\n",
        "import numpy as np\n",
        "\n",
        "PE=[]\n",
        "for i in range(111):\n",
        "  PE.append(2.)\n",
        "\n",
        "PE=np.array(PE)\n",
        "PE=PE.transpose()\n",
        "\n",
        "\n",
        "\n",
        "\n",
        " "
      ],
      "execution_count": null,
      "outputs": []
    },
    {
      "cell_type": "code",
      "metadata": {
        "id": "1qsQm-QGJGjy",
        "colab_type": "code",
        "colab": {
          "base_uri": "https://localhost:8080/",
          "height": 34
        },
        "outputId": "5d4bdbdb-452b-400b-ba81-a775e7425bcc"
      },
      "source": [
        "len(labels)"
      ],
      "execution_count": null,
      "outputs": [
        {
          "output_type": "execute_result",
          "data": {
            "text/plain": [
              "687"
            ]
          },
          "metadata": {
            "tags": []
          },
          "execution_count": 22
        }
      ]
    },
    {
      "cell_type": "code",
      "metadata": {
        "id": "HSkts2bxQNQu",
        "colab_type": "code",
        "colab": {
          "base_uri": "https://localhost:8080/",
          "height": 34
        },
        "outputId": "3df2876a-f253-4559-b0b9-50130c71b5bf"
      },
      "source": [
        "# get the first 22 elements 0:22\n",
        "# and recreate the data.\n",
        "import cv2\n",
        "new_data = []\n",
        "images_selected = 16\n",
        "for i, _ in enumerate(data):\n",
        "  new_data.append(data[i][15])\n",
        "  \n",
        "print(len(new_data))"
      ],
      "execution_count": null,
      "outputs": [
        {
          "output_type": "stream",
          "text": [
            "229\n"
          ],
          "name": "stdout"
        }
      ]
    },
    {
      "cell_type": "code",
      "metadata": {
        "id": "QbBCIe9qQjKU",
        "colab_type": "code",
        "colab": {}
      },
      "source": [
        "del data"
      ],
      "execution_count": null,
      "outputs": []
    },
    {
      "cell_type": "markdown",
      "metadata": {
        "id": "FUrqpfgyKwev",
        "colab_type": "text"
      },
      "source": [
        ""
      ]
    },
    {
      "cell_type": "code",
      "metadata": {
        "id": "sv8z_1rzQQ1B",
        "colab_type": "code",
        "colab": {
          "base_uri": "https://localhost:8080/",
          "height": 34
        },
        "outputId": "cc3c668c-34af-4c22-8a33-bd95b1179cfd"
      },
      "source": [
        "import numpy as np\n",
        "new_data = np.array(new_data)\n",
        "print(new_data.shape)"
      ],
      "execution_count": null,
      "outputs": [
        {
          "output_type": "stream",
          "text": [
            "(229, 214, 214)\n"
          ],
          "name": "stdout"
        }
      ]
    },
    {
      "cell_type": "code",
      "metadata": {
        "id": "p5FzQMO-Qr5E",
        "colab_type": "code",
        "colab": {}
      },
      "source": [
        "new_labels = np.array(labels)"
      ],
      "execution_count": null,
      "outputs": []
    },
    {
      "cell_type": "code",
      "metadata": {
        "id": "zm0wtCaBkf5C",
        "colab_type": "code",
        "colab": {}
      },
      "source": [
        "import numpy as np\n",
        "new_data=new_data.reshape(229, 10, 112, 112, 1)y: 0.75"
      ],
      "execution_count": null,
      "outputs": []
    },
    {
      "cell_type": "code",
      "metadata": {
        "id": "4rAUcKH4P_XC",
        "colab_type": "code",
        "colab": {}
      },
      "source": [
        "import numpy as np\n",
        "new_data=new_data.reshape(229, 214, 214, 3)"
      ],
      "execution_count": null,
      "outputs": []
    },
    {
      "cell_type": "code",
      "metadata": {
        "id": "H7vgIlBsa49z",
        "colab_type": "code",
        "colab": {}
      },
      "source": [
        "import numpy as np\n",
        "new_data=new_data.reshape(229, 214, 214, 1)"
      ],
      "execution_count": null,
      "outputs": []
    },
    {
      "cell_type": "code",
      "metadata": {
        "id": "PIJwHgvNXTmp",
        "colab_type": "code",
        "colab": {}
      },
      "source": [
        "import numpy as np\n",
        "new_data=new_data.reshape(229,45796)"
      ],
      "execution_count": null,
      "outputs": []
    },
    {
      "cell_type": "code",
      "metadata": {
        "id": "eri_XYXtQvPo",
        "colab_type": "code",
        "colab": {
          "base_uri": "https://localhost:8080/",
          "height": 34
        },
        "outputId": "3ab9f6b6-e2d4-4a92-ae50-e79b02c7683f"
      },
      "source": [
        "print(new_data.shape, labels.shape)"
      ],
      "execution_count": null,
      "outputs": [
        {
          "output_type": "stream",
          "text": [
            "(229, 214, 214, 1) (229, 5)\n"
          ],
          "name": "stdout"
        }
      ]
    },
    {
      "cell_type": "code",
      "metadata": {
        "id": "P2-DdOD1Qz5C",
        "colab_type": "code",
        "colab": {}
      },
      "source": [
        "np.save('/content/drive/My Drive/Data/data.npy', new_data)\n",
        "np.save('/content/drive/My Drive/Data/labels.npy', new_labels)"
      ],
      "execution_count": null,
      "outputs": []
    },
    {
      "cell_type": "code",
      "metadata": {
        "id": "_2h8woyigrBS",
        "colab_type": "code",
        "colab": {
          "base_uri": "https://localhost:8080/",
          "height": 139
        },
        "outputId": "ee12fd4b-0007-4170-eab6-901f0ef4f7e8"
      },
      "source": [
        "\n",
        "from sklearn.preprocessing import LabelBinarizer\n",
        "\n",
        "lb = LabelBinarizer()\n",
        "labels = lb.fit_transform(labels)\n",
        "print(labels)\n",
        "# print(Y[0:10])\n",
        "\n"
      ],
      "execution_count": null,
      "outputs": [
        {
          "output_type": "stream",
          "text": [
            "[[1 0 0 0 0]\n",
            " [1 0 0 0 0]\n",
            " [1 0 0 0 0]\n",
            " ...\n",
            " [0 0 0 0 1]\n",
            " [0 0 0 0 1]\n",
            " [0 0 0 0 1]]\n"
          ],
          "name": "stdout"
        }
      ]
    },
    {
      "cell_type": "code",
      "metadata": {
        "id": "E0ZIRltOhQNH",
        "colab_type": "code",
        "colab": {
          "base_uri": "https://localhost:8080/",
          "height": 173
        },
        "outputId": "1e227195-9765-4dfc-a988-e42ead7691e0"
      },
      "source": [
        "from sklearn.model_selection import train_test_split\n",
        "\n",
        "X_train, X_test, Y_train, Y_test = train_test_split(new_data, labels, test_size=0.2) #test_size=0.2, #random_state=78, #shuffle=True,\n",
        "                                                  #stratify=labels)\n",
        "#X_train = X_train / 255.0\n",
        "#X_test = X_test / 255.0\n",
        "print(X_train.shape)\n",
        "print(X_test.shape)\n",
        "#print(Y_test)\n",
        "labels.shape\n",
        "print(labels)"
      ],
      "execution_count": null,
      "outputs": [
        {
          "output_type": "stream",
          "text": [
            "(549, 214, 214, 1)\n",
            "(138, 214, 214, 1)\n",
            "[[1 0 0 0 0]\n",
            " [1 0 0 0 0]\n",
            " [1 0 0 0 0]\n",
            " ...\n",
            " [0 0 0 0 1]\n",
            " [0 0 0 0 1]\n",
            " [0 0 0 0 1]]\n"
          ],
          "name": "stdout"
        }
      ]
    },
    {
      "cell_type": "code",
      "metadata": {
        "id": "JNQ8aCL-YBPu",
        "colab_type": "code",
        "colab": {}
      },
      "source": [
        "\n",
        "from sklearn.preprocessing import StandardScaler\n",
        "\n",
        "sc = StandardScaler()Epoch 1/20\n",
        "63/64 [============================>.] - ETA: 0s - loss: 6.5773 - accuracy: 0.2605WARNING:tensorflow:Your input ran out of data; interrupting training. Make sure that your dataset or generator can generate at least `steps_per_epoch * epochs` batches (in this case, 21 batches). You may need to use the repeat() function when building your dataset.\n",
        "64/64 [==============================] - 4s 58ms/step - loss: 6.4958 - accuracy: 0.2643 - val_loss: 6.0708 - val_accuracy: 0.4128\n",
        "Epoch 2/20\n",
        "64/64 [==============================] - ETA: 0s - loss: 2.1684 - accuEpoch 1/20\n",
        "63/64 [============================>.] - ETA: 0s - loss: 6.5773 - accuracy: 0.2605WARNING:tensorflow:Your input ran out of data; interrupting training. Make sure that your dataset or generator can generate at least `steps_per_epoch * epochs` batches (in this case, 21 batches). You may need to use the repeat() function when building your dataset.\n",
        "64/64 [==============================] - 4s 58ms/step - loss: 6.4958 - accuracy: 0.2643 - val_loss: 6.0708 - val_accuracy: 0.4128\n",
        "Epoch 2/20\n",
        "64/64 [==============================] - ETA: 0s - loss: 2.1684 - accuracy: 0.3511WARNING:tensorflow:Your input ran out of data; interrupting training. Make sure that your dataset or generator can generate at least `steps_per_epoch * epochs` batches (in this case, 21 batches). You may need to use the repeat() function when building your dataset.\n",
        "64/64 [==============================] - 3s 52ms/step - loss: 2.1684 - accuracy: 0.3511 - val_loss: 2.2314 - val_accuracy: 0.3023\n",
        "Epoch 3/20\n",
        "64/64 [==============================] - ETA: 0s - loss: 1.7423 - accuracy: 0.3590WARNING:tensorflow:Your input ran out of data; interrupting training. Make sure that your dataset or generator can generate at least `steps_per_epoch * epochs` batches (in this case, 21 batches). You may need to use the repeat() function when building your dataset.\n",
        "64/64 [==============================] - 3s 53ms/step - loss: 1.7423 - accuracy: 0.3590 - val_loss: 1.7033 - val_accuracy: 0.3837\n",
        "Epoch 4/20\n",
        "63/64 [============================>.] - ETA: 0s - loss: 1.6771 - accuracy: 0.3828WARNING:tensorflow:Your input ran out of data; interrupting training. Make sure that your dataset or generator can generate at least `steps_per_epoch * epochs` batches (in this case, 21 batches). You may need to use the repeat() function when building your dataset.\n",
        "64/64 [==============================] - 3s 52ms/step - loss: 1.6828 - accuracy: 0.3807 - val_loss: 1.8179 - val_accuracy: 0.3721\n",
        "Epoch 5/20\n",
        "racy: 0.3511WARNING:tensorflow:Your input ran out of data; interrupting training. Make sure that your dataset or generator can generate at least `steps_per_epoch * epochs` batches (in this case, 21 batches). You may need to use the repeat() function when building your dataset.\n",
        "64/64 [==============================] - 3s 52ms/step - loss: 2.1684 - accuracy: 0.3511 - val_loss: 2.2314 - val_accuracy: 0.3023\n",
        "Epoch 3/20\n",
        "64/64 [==============================] - ETA: 0s - loss: 1.7423 - accuracy: 0.3590WARNING:tensorflow:Your input ran out of data; interrupting training. Make sure that your dataset or generator can generate at least `steps_per_epoch * epochs` batches (in this case, 21 batches). You may need to use the repeat() function when building your dataset.\n",
        "64/64 [==============================] - 3s 53ms/step - loss: 1.7423 - accuracy: 0.3590 - val_loss: 1.7033 - val_accuracy: 0.3837\n",
        "Epoch 4/20\n",
        "63/64 [============================>.] - ETA: 0s - loss: 1.6771 - accuracy: 0.3828WARNING:tensorflow:Your input ran out of data; interrupting training. Make sure that your dataset or generator can generate at least `steps_per_epoch * epochs` batches (in this case, 21 batches). You may need to use the repeat() function when building your dataset.\n",
        "64/64 [==============================] - 3s 52ms/step - loss: 1.6828 - accuracy: 0.3807 - val_loss: 1.8179 - val_accuracy: 0.3721\n",
        "Epoch 5/20\n",
        "\n",
        "X_train = sc.fit_transform(X_train)\n",
        "X_test = sc.transform(X_test)\n",
        "\n",
        "\n",
        "from sklearn.ensemble import RandomForestClassifier\n",
        "from sklearn.datasets import make_classification\n",
        "\n",
        "\n",
        "\n",
        "clf = RandomForestClassifier(max_depth=2, random_state=0)\n",
        "clf.fit(X_train, Y_train)\n",
        "\n",
        "y_pred = clf.predict(X_test)\n",
        "\n",
        "\n",
        "from sklearn.metrics import confusion_matrix\n",
        "from sklearn.metrics import accuracy_score\n",
        "\n"
      ],
      "execution_count": null,
      "outputs": []
    },
    {
      "cell_type": "code",
      "metadata": {
        "id": "OPEOfvNPbJ2E",
        "colab_type": "code",
        "colab": {
          "base_uri": "https://localhost:8080/",
          "height": 34
        },
        "outputId": "7aa7190b-a94e-44b3-aab0-f69713599819"
      },
      "source": [
        ""
      ],
      "execution_count": null,
      "outputs": [
        {
          "output_type": "execute_result",
          "data": {
            "text/plain": [
              "58"
            ]
          },
          "metadata": {
            "tags": []
          },
          "execution_count": 25
        }
      ]
    },
    {
      "cell_type": "code",
      "metadata": {
        "id": "CqJMcI5vgrR7",
        "colab_type": "code",
        "colab": {}
      },
      "source": [
        "import tensorflow as tf\n",
        "from tensorflow.keras.layers import Input\n",
        "\n",
        "def convnet(input_shape):\n",
        "  image_input = Input(input_shape)\n",
        "  model = tf.keras.applications.VGG16(include_top=False, weights=None,\n",
        "  input_shape=input_shape, pooling='avg') \n",
        "  #for layer in model.layers[:-1]:\n",
        "    #layer.trainable = False\n",
        "  last_layer = model(image_input)\n",
        "  custom_model = tf.keras.models.Model(inputs=image_input, outputs=last_layer)\n",
        "  return model \n",
        "\n"
      ],
      "execution_count": null,
      "outputs": []
    },
    {
      "cell_type": "code",
      "metadata": {
        "id": "XvBqfJaJg26H",
        "colab_type": "code",
        "colab": {
          "base_uri": "https://localhost:8080/",
          "height": 293
        },
        "outputId": "dc667a7c-62b2-4d45-b740-4c7d409ecfc9"
      },
      "source": [
        "net = convnet((224, 224, 1))\n",
        "\n",
        "from tensorflow.keras.layers import TimeDistributed, LSTM, Dense, Dropout, Flatten, GRU\n",
        "from tensorflow.keras.constraints import max_norm\n",
        "\n",
        "cnn_lstm = tf.keras.models.Sequential()\n",
        "cnn_lstm.add(TimeDistributed(net, input_shape=(10, 224, 224, 1)))\n",
        "# cnn_lstm.add(tf.keras.layers.GRU(128, return_sequences=True))\n",
        "cnn_lstm.add(tf.keras.layers.GRU(64, return_sequences=False))\n",
        "# cnn_lstm.add(Dense(64, activation='relu'))\n",
        "# cnn_lstm.add(Dense(32, activation='relu'))\n",
        "cnn_lstm.add(Dense(5, activation='softmax'))\n",
        "\n",
        "print(cnn_lstm.summary())"
      ],
      "execution_count": null,
      "outputs": [
        {
          "output_type": "stream",
          "text": [
            "Model: \"sequential_2\"\n",
            "_________________________________________________________________\n",
            "Layer (type)                 Output Shape              Param #   \n",
            "=================================================================\n",
            "time_distributed_2 (TimeDist (None, 10, 512)           14713536  \n",
            "_________________________________________________________________\n",
            "gru_2 (GRU)                  (None, 64)                110976    \n",
            "_________________________________________________________________\n",
            "dense_2 (Dense)              (None, 5)                 325       \n",
            "=================================================================\n",
            "Total params: 14,824,837\n",
            "Trainable params: 14,824,837\n",
            "Non-trainable params: 0\n",
            "_________________________________________________________________\n",
            "None\n"
          ],
          "name": "stdout"
        }
      ]
    },
    {
      "cell_type": "code",
      "metadata": {
        "id": "wqTw38OPHvIv",
        "colab_type": "code",
        "colab": {
          "base_uri": "https://localhost:8080/",
          "height": 521
        },
        "outputId": "04b63ec6-b939-4fd1-cd87-eae250e34be2"
      },
      "source": [
        "import tensorflow as tf\n",
        "from tensorflow.keras.layers import BatchNormalization, Conv2D, Dense, Dropout, Flatten, Input, MaxPooling2D\n",
        "from tensorflow.keras.constraints import max_norm\n",
        "\n",
        "inputs = tf.keras.Input(shape=(214, 214, 1))\n",
        "x = BatchNormalization(axis=3)(inputs)\n",
        "x = Conv2D(filters=4, kernel_size=(2, 2), padding='valid', kernel_constraint=max_norm(1),)(x)\n",
        "x = Dropout(0.5)(x)\n",
        "x = Conv2D(filters=8, kernel_size=(2, 2), padding='valid', kernel_constraint=max_norm(1),)(x)\n",
        "x = MaxPooling2D(pool_size=(2, 2))(x)\n",
        "x = Dropout(0.5)(x)\n",
        "x = Flatten()(x)\n",
        "x = Dropout(0.5)(x)\n",
        "x = Dense(5, activation='linear', kernel_constraint=max_norm(1),)(x)\n",
        "# x = Dense(5, activation='softmax')(x)\n",
        "model_clone = tf.keras.models.Model(inputs=inputs,\n",
        "                                    outputs=x)\n",
        "print(model_clone.summary())"
      ],
      "execution_count": null,
      "outputs": [
        {
          "output_type": "stream",
          "text": [
            "Model: \"model_2\"\n",
            "_________________________________________________________________\n",
            "Layer (type)                 Output Shape              Param #   \n",
            "=================================================================\n",
            "input_3 (InputLayer)         [(None, 214, 214, 1)]     0         \n",
            "_________________________________________________________________\n",
            "batch_normalization_1 (Batch (None, 214, 214, 1)       4         \n",
            "_________________________________________________________________\n",
            "conv2d_4 (Conv2D)            (None, 213, 213, 4)       20        \n",
            "_________________________________________________________________\n",
            "dropout_4 (Dropout)          (None, 213, 213, 4)       0         \n",
            "_________________________________________________________________\n",
            "conv2d_5 (Conv2D)            (None, 212, 212, 8)       136       \n",
            "_________________________________________________________________\n",
            "max_pooling2d_2 (MaxPooling2 (None, 106, 106, 8)       0         \n",
            "_________________________________________________________________\n",
            "dropout_5 (Dropout)          (None, 106, 106, 8)       0         \n",
            "_________________________________________________________________\n",
            "flatten_2 (Flatten)          (None, 89888)             0         \n",
            "_________________________________________________________________\n",
            "dropout_6 (Dropout)          (None, 89888)             0         \n",
            "_________________________________________________________________\n",
            "dense_3 (Dense)              (None, 5)                 449445    \n",
            "=================================================================\n",
            "Total params: 449,605\n",
            "Trainable params: 449,603\n",
            "Non-trainable params: 2\n",
            "_________________________________________________________________\n",
            "None\n"
          ],
          "name": "stdout"
        }
      ]
    },
    {
      "cell_type": "code",
      "metadata": {
        "id": "MwRotTqTFmVu",
        "colab_type": "code",
        "colab": {
          "base_uri": "https://localhost:8080/",
          "height": 278
        },
        "outputId": "e2a41e66-3612-4a04-bb7d-3e2fc8e124ab"
      },
      "source": [
        "net = model_clone\n",
        "\n",
        "from tensorflow.keras.layers import TimeDistributed, LSTM, Dense, Dropout, Flatten, GRU\n",
        "from tensorflow.keras.constraints import max_norm\n",
        "\n",
        "cnn_lstm = tf.keras.models.Sequential()\n",
        "cnn_lstm.add(TimeDistributed(net, input_shape=(10, 214, 214, 1)))\n",
        "cnn_lstm.add(Flatten())\n",
        "# cnn_lstm.add(tf.keras.layers.GRU(128, return_sequences=True))\n",
        "# cnn_lstm.add(tf.keras.layers.GRU(64, return_sequences=False))\n",
        "# cnn_lstm.add(Dense(64, activation='relu'))\n",
        "# cnn_lstm.add(Dense(32, activation='relu'))\n",
        "cnn_lstm.add(Dense(5, activation='softmax'))\n",
        "\n",
        "print(cnn_lstm.summary())"
      ],
      "execution_count": null,
      "outputs": [
        {
          "output_type": "stream",
          "text": [
            "Model: \"sequential_9\"\n",
            "_________________________________________________________________\n",
            "Layer (type)                 Output Shape              Param #   \n",
            "=================================================================\n",
            "time_distributed_9 (TimeDist (None, 10, 5)             449605    \n",
            "_________________________________________________________________\n",
            "flatten_17 (Flatten)         (None, 50)                0         \n",
            "_________________________________________________________________\n",
            "dense_19 (Dense)             (None, 5)                 255       \n",
            "=================================================================\n",
            "Total params: 449,860\n",
            "Trainable params: 449,858\n",
            "Non-trainable params: 2\n",
            "_________________________________________________________________\n",
            "None\n"
          ],
          "name": "stdout"
        }
      ]
    },
    {
      "cell_type": "code",
      "metadata": {
        "id": "PHG7QU8WhAWq",
        "colab_type": "code",
        "colab": {
          "base_uri": "https://localhost:8080/",
          "height": 1000
        },
        "outputId": "8e667a7b-64e7-4bae-9b67-e0ac75388b80"
      },
      "source": [
        "from tensorflow.keras.optimizers import Adam\n",
        "# adm = Adam(learning_rate=0.001)\n",
        "\n",
        "cnn_lstm.compile(loss='categorical_crossentropy', metrics=['accuracy'],\n",
        "              optimizer='adam')\n",
        "history = cnn_lstm.fit(X_train, Y_train, batch_size=8, epochs=50, verbose=1,\n",
        "          class_weight={0:0.58541667,\n",
        "                        1:1.29444444,\n",
        "                        2:1.39487179,\n",
        "                        3:1.60689655, \n",
        "                        4:1.41212121},\n",
        "                       validation_data=(X_test, Y_test))"
      ],
      "execution_count": null,
      "outputs": [
        {
          "output_type": "stream",
          "text": [
            "WARNING:tensorflow:sample_weight modes were coerced from\n",
            "  ...\n",
            "    to  \n",
            "  ['...']\n",
            "WARNING:tensorflow:sample_weight modes were coerced from\n",
            "  ...\n",
            "    to  \n",
            "  ['...']\n",
            "Train on 183 samples, validate on 46 samples\n",
            "Epoch 1/50\n",
            "183/183 [==============================] - 4s 20ms/sample - loss: 15.2688 - accuracy: 0.2678 - val_loss: 2.9102 - val_accuracy: 0.1739\n",
            "Epoch 2/50\n",
            "183/183 [==============================] - 2s 13ms/sample - loss: 5.6838 - accuracy: 0.2295 - val_loss: 2.2951 - val_accuracy: 0.1304\n",
            "Epoch 3/50\n",
            "183/183 [==============================] - 2s 13ms/sample - loss: 3.4278 - accuracy: 0.3169 - val_loss: 2.0973 - val_accuracy: 0.1304\n",
            "Epoch 4/50\n",
            "183/183 [==============================] - 2s 13ms/sample - loss: 2.1401 - accuracy: 0.3388 - val_loss: 1.9332 - val_accuracy: 0.0870\n",
            "Epoch 5/50\n",
            "183/183 [==============================] - 2s 13ms/sample - loss: 2.3388 - accuracy: 0.3661 - val_loss: 1.8177 - val_accuracy: 0.1304\n",
            "Epoch 6/50\n",
            "183/183 [==============================] - 2s 13ms/sample - loss: 2.6195 - accuracy: 0.3169 - val_loss: 1.8602 - val_accuracy: 0.1304\n",
            "Epoch 7/50\n",
            "183/183 [==============================] - 2s 13ms/sample - loss: 1.4010 - accuracy: 0.5027 - val_loss: 1.9112 - val_accuracy: 0.1957\n",
            "Epoch 8/50\n",
            "183/183 [==============================] - 2s 13ms/sample - loss: 1.4653 - accuracy: 0.4481 - val_loss: 1.8532 - val_accuracy: 0.1957\n",
            "Epoch 9/50\n",
            "183/183 [==============================] - 2s 13ms/sample - loss: 1.1527 - accuracy: 0.5191 - val_loss: 1.9647 - val_accuracy: 0.1739\n",
            "Epoch 10/50\n",
            "183/183 [==============================] - 2s 13ms/sample - loss: 1.3924 - accuracy: 0.4426 - val_loss: 2.0328 - val_accuracy: 0.1087\n",
            "Epoch 11/50\n",
            "183/183 [==============================] - 2s 13ms/sample - loss: 1.1728 - accuracy: 0.5191 - val_loss: 2.0754 - val_accuracy: 0.1304\n",
            "Epoch 12/50\n",
            "183/183 [==============================] - 2s 13ms/sample - loss: 1.1633 - accuracy: 0.5628 - val_loss: 2.0718 - val_accuracy: 0.1087\n",
            "Epoch 13/50\n",
            "183/183 [==============================] - 2s 13ms/sample - loss: 1.0663 - accuracy: 0.5738 - val_loss: 1.9529 - val_accuracy: 0.1087\n",
            "Epoch 14/50\n",
            "183/183 [==============================] - 2s 13ms/sample - loss: 1.0152 - accuracy: 0.6066 - val_loss: 1.9008 - val_accuracy: 0.1087\n",
            "Epoch 15/50\n",
            "183/183 [==============================] - 2s 13ms/sample - loss: 0.8800 - accuracy: 0.6831 - val_loss: 1.9708 - val_accuracy: 0.1087\n",
            "Epoch 16/50\n",
            "183/183 [==============================] - 2s 13ms/sample - loss: 0.8239 - accuracy: 0.6885 - val_loss: 1.9654 - val_accuracy: 0.1304\n",
            "Epoch 17/50\n",
            "183/183 [==============================] - 2s 13ms/sample - loss: 0.7703 - accuracy: 0.7158 - val_loss: 2.0706 - val_accuracy: 0.1304\n",
            "Epoch 18/50\n",
            "183/183 [==============================] - 2s 13ms/sample - loss: 0.8046 - accuracy: 0.7213 - val_loss: 1.9795 - val_accuracy: 0.0870\n",
            "Epoch 19/50\n",
            "183/183 [==============================] - 2s 13ms/sample - loss: 0.7210 - accuracy: 0.7377 - val_loss: 1.9944 - val_accuracy: 0.1087\n",
            "Epoch 20/50\n",
            "183/183 [==============================] - 2s 13ms/sample - loss: 0.7766 - accuracy: 0.7213 - val_loss: 1.9648 - val_accuracy: 0.1522\n",
            "Epoch 21/50\n",
            "183/183 [==============================] - 2s 13ms/sample - loss: 0.7009 - accuracy: 0.7814 - val_loss: 2.2124 - val_accuracy: 0.1304\n",
            "Epoch 22/50\n",
            "183/183 [==============================] - 2s 13ms/sample - loss: 0.7630 - accuracy: 0.7596 - val_loss: 2.0216 - val_accuracy: 0.1522\n",
            "Epoch 23/50\n",
            "183/183 [==============================] - 2s 13ms/sample - loss: 0.6693 - accuracy: 0.7760 - val_loss: 2.2881 - val_accuracy: 0.1522\n",
            "Epoch 24/50\n",
            "183/183 [==============================] - 2s 13ms/sample - loss: 0.7336 - accuracy: 0.7486 - val_loss: 2.0693 - val_accuracy: 0.1087\n",
            "Epoch 25/50\n",
            "183/183 [==============================] - 2s 13ms/sample - loss: 0.6831 - accuracy: 0.7650 - val_loss: 1.9866 - val_accuracy: 0.1522\n",
            "Epoch 26/50\n",
            "183/183 [==============================] - 2s 13ms/sample - loss: 0.6987 - accuracy: 0.7705 - val_loss: 2.0542 - val_accuracy: 0.1304\n",
            "Epoch 27/50\n",
            "183/183 [==============================] - 2s 13ms/sample - loss: 0.6331 - accuracy: 0.7978 - val_loss: 1.9684 - val_accuracy: 0.1522\n",
            "Epoch 28/50\n",
            "183/183 [==============================] - 2s 13ms/sample - loss: 0.6466 - accuracy: 0.7814 - val_loss: 1.9769 - val_accuracy: 0.0870\n",
            "Epoch 29/50\n",
            "183/183 [==============================] - 2s 13ms/sample - loss: 0.5057 - accuracy: 0.8634 - val_loss: 2.0048 - val_accuracy: 0.1087\n",
            "Epoch 30/50\n",
            "183/183 [==============================] - 2s 13ms/sample - loss: 0.5140 - accuracy: 0.8033 - val_loss: 1.9412 - val_accuracy: 0.1304\n",
            "Epoch 31/50\n",
            "183/183 [==============================] - 2s 13ms/sample - loss: 0.6077 - accuracy: 0.7923 - val_loss: 1.8836 - val_accuracy: 0.1739\n",
            "Epoch 32/50\n",
            "183/183 [==============================] - 2s 13ms/sample - loss: 0.6791 - accuracy: 0.7705 - val_loss: 1.9550 - val_accuracy: 0.1087\n",
            "Epoch 33/50\n",
            "183/183 [==============================] - 2s 13ms/sample - loss: 0.5947 - accuracy: 0.7978 - val_loss: 2.0820 - val_accuracy: 0.1522\n",
            "Epoch 34/50\n",
            "183/183 [==============================] - 2s 13ms/sample - loss: 0.6512 - accuracy: 0.8197 - val_loss: 2.1112 - val_accuracy: 0.1087\n",
            "Epoch 35/50\n",
            "183/183 [==============================] - 2s 13ms/sample - loss: 0.6667 - accuracy: 0.8033 - val_loss: 2.0521 - val_accuracy: 0.1522\n",
            "Epoch 36/50\n",
            "183/183 [==============================] - 2s 13ms/sample - loss: 0.5259 - accuracy: 0.8361 - val_loss: 2.1092 - val_accuracy: 0.1522\n",
            "Epoch 37/50\n",
            "183/183 [==============================] - 2s 13ms/sample - loss: 0.5546 - accuracy: 0.8251 - val_loss: 1.9814 - val_accuracy: 0.1739\n",
            "Epoch 38/50\n",
            "183/183 [==============================] - 2s 13ms/sample - loss: 0.5193 - accuracy: 0.8470 - val_loss: 2.0509 - val_accuracy: 0.1304\n",
            "Epoch 39/50\n",
            "183/183 [==============================] - 2s 13ms/sample - loss: 0.4403 - accuracy: 0.8525 - val_loss: 2.0292 - val_accuracy: 0.1522\n",
            "Epoch 40/50\n",
            "183/183 [==============================] - 2s 13ms/sample - loss: 0.3819 - accuracy: 0.9180 - val_loss: 1.9790 - val_accuracy: 0.1304\n",
            "Epoch 41/50\n",
            "183/183 [==============================] - 2s 13ms/sample - loss: 0.3056 - accuracy: 0.9344 - val_loss: 2.1983 - val_accuracy: 0.1304\n",
            "Epoch 42/50\n",
            "183/183 [==============================] - 2s 13ms/sample - loss: 0.4119 - accuracy: 0.8798 - val_loss: 2.1611 - val_accuracy: 0.1522\n",
            "Epoch 43/50\n",
            "183/183 [==============================] - 2s 13ms/sample - loss: 0.4194 - accuracy: 0.8962 - val_loss: 2.1878 - val_accuracy: 0.2174\n",
            "Epoch 44/50\n",
            "183/183 [==============================] - 2s 13ms/sample - loss: 0.4389 - accuracy: 0.8689 - val_loss: 2.1763 - val_accuracy: 0.1957\n",
            "Epoch 45/50\n",
            "183/183 [==============================] - 2s 13ms/sample - loss: 0.4877 - accuracy: 0.8251 - val_loss: 2.1153 - val_accuracy: 0.1522\n",
            "Epoch 46/50\n",
            "183/183 [==============================] - 2s 13ms/sample - loss: 0.4294 - accuracy: 0.8689 - val_loss: 1.9946 - val_accuracy: 0.2174\n",
            "Epoch 47/50\n",
            "183/183 [==============================] - 2s 13ms/sample - loss: 0.5262 - accuracy: 0.7923 - val_loss: 1.9374 - val_accuracy: 0.1957\n",
            "Epoch 48/50\n",
            "183/183 [==============================] - 2s 13ms/sample - loss: 0.5409 - accuracy: 0.7978 - val_loss: 2.1447 - val_accuracy: 0.1739\n",
            "Epoch 49/50\n",
            "183/183 [==============================] - 2s 13ms/sample - loss: 0.4510 - accuracy: 0.8415 - val_loss: 2.3657 - val_accuracy: 0.1522\n",
            "Epoch 50/50\n",
            "183/183 [==============================] - 2s 13ms/sample - loss: 0.4962 - accuracy: 0.8361 - val_loss: 2.1117 - val_accuracy: 0.1739\n"
          ],
          "name": "stdout"
        }
      ]
    },
    {
      "cell_type": "code",
      "metadata": {
        "id": "7sQXeIO_MPXl",
        "colab_type": "code",
        "colab": {
          "base_uri": "https://localhost:8080/",
          "height": 34
        },
        "outputId": "887291ad-cf7f-41d9-f0eb-7f8f6fdb720a"
      },
      "source": [
        "new_data = new_data.reshape(-1, 112, 112, 10)\n",
        "new_data.shape, labels.shape"
      ],
      "execution_count": null,
      "outputs": [
        {
          "output_type": "execute_result",
          "data": {
            "text/plain": [
              "((229, 112, 112, 10), (229, 5))"
            ]
          },
          "metadata": {
            "tags": []
          },
          "execution_count": 14
        }
      ]
    },
    {
      "cell_type": "code",
      "metadata": {
        "id": "b-K8_WLuLJ1n",
        "colab_type": "code",
        "colab": {
          "base_uri": "https://localhost:8080/",
          "height": 1000
        },
        "outputId": "90dbe060-6efc-4b12-b48f-f888afc4baf7"
      },
      "source": [
        "import autokeras as ak\n",
        "\n",
        "clf = ak.AutoModel(\n",
        "    inputs=ak.ImageInput(),\n",
        "    outputs=ak.ClassificationHead(),\n",
        "    max_trials=50,\n",
        ")\n",
        "clf.fit(new_data, labels)"
      ],
      "execution_count": null,
      "outputs": [
        {
          "output_type": "stream",
          "text": [
            "INFO:tensorflow:Reloading Oracle from existing project ./auto_model/oracle.json\n",
            "INFO:tensorflow:Reloading Tuner from ./auto_model/tuner0.json\n",
            "Train for 6 steps, validate for 2 steps\n",
            "Epoch 1/1000\n",
            "6/6 [==============================] - 2s 342ms/step - loss: 82.4535 - accuracy: 0.3370 - val_loss: 27.9072 - val_accuracy: 0.0000e+00\n",
            "Epoch 2/1000\n",
            "6/6 [==============================] - 1s 97ms/step - loss: 6.9117 - accuracy: 0.2880 - val_loss: 13.4968 - val_accuracy: 0.2444\n",
            "Epoch 3/1000\n",
            "6/6 [==============================] - 1s 94ms/step - loss: 4.6485 - accuracy: 0.3315 - val_loss: 14.5264 - val_accuracy: 0.0000e+00\n",
            "Epoch 4/1000\n",
            "6/6 [==============================] - 1s 90ms/step - loss: 1.7276 - accuracy: 0.4185 - val_loss: 13.5245 - val_accuracy: 0.0000e+00\n",
            "Epoch 5/1000\n",
            "6/6 [==============================] - 1s 97ms/step - loss: 2.0567 - accuracy: 0.0870 - val_loss: 10.7341 - val_accuracy: 0.0000e+00\n",
            "Epoch 6/1000\n",
            "6/6 [==============================] - 1s 97ms/step - loss: 1.6217 - accuracy: 0.4511 - val_loss: 8.8574 - val_accuracy: 0.0000e+00\n",
            "Epoch 7/1000\n",
            "6/6 [==============================] - 1s 98ms/step - loss: 1.5272 - accuracy: 0.5109 - val_loss: 8.0502 - val_accuracy: 0.0000e+00\n",
            "Epoch 8/1000\n",
            "6/6 [==============================] - 1s 92ms/step - loss: 1.3992 - accuracy: 0.5054 - val_loss: 8.4151 - val_accuracy: 0.0000e+00\n",
            "Epoch 9/1000\n",
            "6/6 [==============================] - 1s 92ms/step - loss: 1.3799 - accuracy: 0.5054 - val_loss: 8.9487 - val_accuracy: 0.0000e+00\n",
            "Epoch 10/1000\n",
            "6/6 [==============================] - 1s 88ms/step - loss: 1.4002 - accuracy: 0.5109 - val_loss: 8.9870 - val_accuracy: 0.0000e+00\n",
            "Epoch 11/1000\n",
            "6/6 [==============================] - 1s 94ms/step - loss: 1.3889 - accuracy: 0.5109 - val_loss: 8.6741 - val_accuracy: 0.0000e+00\n",
            "Epoch 12/1000\n",
            "6/6 [==============================] - 1s 88ms/step - loss: 1.3824 - accuracy: 0.5054 - val_loss: 8.3969 - val_accuracy: 0.0000e+00\n",
            "Epoch 13/1000\n",
            "6/6 [==============================] - 1s 93ms/step - loss: 1.3855 - accuracy: 0.5109 - val_loss: 8.2723 - val_accuracy: 0.0000e+00\n",
            "Epoch 14/1000\n",
            "6/6 [==============================] - 1s 91ms/step - loss: 1.3700 - accuracy: 0.5109 - val_loss: 8.2309 - val_accuracy: 0.0000e+00\n",
            "Epoch 15/1000\n",
            "6/6 [==============================] - 1s 93ms/step - loss: 1.3529 - accuracy: 0.5109 - val_loss: 8.2141 - val_accuracy: 0.0000e+00\n",
            "Epoch 16/1000\n",
            "6/6 [==============================] - 1s 92ms/step - loss: 1.3522 - accuracy: 0.5109 - val_loss: 8.1961 - val_accuracy: 0.0000e+00\n",
            "Epoch 17/1000\n",
            "6/6 [==============================] - 1s 91ms/step - loss: 1.3531 - accuracy: 0.5109 - val_loss: 8.1455 - val_accuracy: 0.0000e+00\n"
          ],
          "name": "stdout"
        },
        {
          "output_type": "display_data",
          "data": {
            "text/html": [
              "<span style=\"color:#4527A0\"><h1 style=\"font-size:18px\">Trial complete</h1></span>"
            ],
            "text/plain": [
              "<IPython.core.display.HTML object>"
            ]
          },
          "metadata": {
            "tags": []
          }
        },
        {
          "output_type": "display_data",
          "data": {
            "text/html": [
              "<span style=\"color:#4527A0\"><h1 style=\"font-size:18px\">Trial summary</h1></span>"
            ],
            "text/plain": [
              "<IPython.core.display.HTML object>"
            ]
          },
          "metadata": {
            "tags": []
          }
        },
        {
          "output_type": "display_data",
          "data": {
            "text/html": [
              "<span style=\"color:cyan\"> |-Trial ID: 5280213d338767915e475a2cd4b31ca0</span>"
            ],
            "text/plain": [
              "<IPython.core.display.HTML object>"
            ]
          },
          "metadata": {
            "tags": []
          }
        },
        {
          "output_type": "display_data",
          "data": {
            "text/html": [
              "<span style=\"color:cyan\"> |-Score: 8.05015230178833</span>"
            ],
            "text/plain": [
              "<IPython.core.display.HTML object>"
            ]
          },
          "metadata": {
            "tags": []
          }
        },
        {
          "output_type": "display_data",
          "data": {
            "text/html": [
              "<span style=\"color:cyan\"> |-Best step: 0</span>"
            ],
            "text/plain": [
              "<IPython.core.display.HTML object>"
            ]
          },
          "metadata": {
            "tags": []
          }
        },
        {
          "output_type": "display_data",
          "data": {
            "text/html": [
              "<span style=\"color:#7E57C2\"><h2 style=\"font-size:16px\">Hyperparameters:</h2></span>"
            ],
            "text/plain": [
              "<IPython.core.display.HTML object>"
            ]
          },
          "metadata": {
            "tags": []
          }
        },
        {
          "output_type": "display_data",
          "data": {
            "text/html": [
              "<span style=\"color:cyan\"> |-classification_head_1/dropout_rate: 0</span>"
            ],
            "text/plain": [
              "<IPython.core.display.HTML object>"
            ]
          },
          "metadata": {
            "tags": []
          }
        },
        {
          "output_type": "display_data",
          "data": {
            "text/html": [
              "<span style=\"color:blue\"> |-classification_head_1/spatial_reduction_1/reduction_type: global_avg</span>"
            ],
            "text/plain": [
              "<IPython.core.display.HTML object>"
            ]
          },
          "metadata": {
            "tags": []
          }
        },
        {
          "output_type": "display_data",
          "data": {
            "text/html": [
              "<span style=\"color:cyan\"> |-classification_head_4/dropout_rate: 0</span>"
            ],
            "text/plain": [
              "<IPython.core.display.HTML object>"
            ]
          },
          "metadata": {
            "tags": []
          }
        },
        {
          "output_type": "display_data",
          "data": {
            "text/html": [
              "<span style=\"color:blue\"> |-classification_head_4/spatial_reduction_1/reduction_type: global_avg</span>"
            ],
            "text/plain": [
              "<IPython.core.display.HTML object>"
            ]
          },
          "metadata": {
            "tags": []
          }
        },
        {
          "output_type": "display_data",
          "data": {
            "text/html": [
              "<span style=\"color:cyan\"> |-image_block_1/augment: False</span>"
            ],
            "text/plain": [
              "<IPython.core.display.HTML object>"
            ]
          },
          "metadata": {
            "tags": []
          }
        },
        {
          "output_type": "display_data",
          "data": {
            "text/html": [
              "<span style=\"color:blue\"> |-image_block_1/block_type: vanilla</span>"
            ],
            "text/plain": [
              "<IPython.core.display.HTML object>"
            ]
          },
          "metadata": {
            "tags": []
          }
        },
        {
          "output_type": "display_data",
          "data": {
            "text/html": [
              "<span style=\"color:cyan\"> |-image_block_1/conv_block_1/dropout_rate: 0</span>"
            ],
            "text/plain": [
              "<IPython.core.display.HTML object>"
            ]
          },
          "metadata": {
            "tags": []
          }
        },
        {
          "output_type": "display_data",
          "data": {
            "text/html": [
              "<span style=\"color:blue\"> |-image_block_1/conv_block_1/filters_0_0: 32</span>"
            ],
            "text/plain": [
              "<IPython.core.display.HTML object>"
            ]
          },
          "metadata": {
            "tags": []
          }
        },
        {
          "output_type": "display_data",
          "data": {
            "text/html": [
              "<span style=\"color:cyan\"> |-image_block_1/conv_block_1/filters_0_1: 32</span>"
            ],
            "text/plain": [
              "<IPython.core.display.HTML object>"
            ]
          },
          "metadata": {
            "tags": []
          }
        },
        {
          "output_type": "display_data",
          "data": {
            "text/html": [
              "<span style=\"color:blue\"> |-image_block_1/conv_block_1/filters_1_0: 32</span>"
            ],
            "text/plain": [
              "<IPython.core.display.HTML object>"
            ]
          },
          "metadata": {
            "tags": []
          }
        },
        {
          "output_type": "display_data",
          "data": {
            "text/html": [
              "<span style=\"color:cyan\"> |-image_block_1/conv_block_1/filters_1_1: 32</span>"
            ],
            "text/plain": [
              "<IPython.core.display.HTML object>"
            ]
          },
          "metadata": {
            "tags": []
          }
        },
        {
          "output_type": "display_data",
          "data": {
            "text/html": [
              "<span style=\"color:blue\"> |-image_block_1/conv_block_1/kernel_size: 3</span>"
            ],
            "text/plain": [
              "<IPython.core.display.HTML object>"
            ]
          },
          "metadata": {
            "tags": []
          }
        },
        {
          "output_type": "display_data",
          "data": {
            "text/html": [
              "<span style=\"color:cyan\"> |-image_block_1/conv_block_1/max_pooling: True</span>"
            ],
            "text/plain": [
              "<IPython.core.display.HTML object>"
            ]
          },
          "metadata": {
            "tags": []
          }
        },
        {
          "output_type": "display_data",
          "data": {
            "text/html": [
              "<span style=\"color:blue\"> |-image_block_1/conv_block_1/num_blocks: 2</span>"
            ],
            "text/plain": [
              "<IPython.core.display.HTML object>"
            ]
          },
          "metadata": {
            "tags": []
          }
        },
        {
          "output_type": "display_data",
          "data": {
            "text/html": [
              "<span style=\"color:cyan\"> |-image_block_1/conv_block_1/num_layers: 2</span>"
            ],
            "text/plain": [
              "<IPython.core.display.HTML object>"
            ]
          },
          "metadata": {
            "tags": []
          }
        },
        {
          "output_type": "display_data",
          "data": {
            "text/html": [
              "<span style=\"color:blue\"> |-image_block_1/conv_block_1/separable: False</span>"
            ],
            "text/plain": [
              "<IPython.core.display.HTML object>"
            ]
          },
          "metadata": {
            "tags": []
          }
        },
        {
          "output_type": "display_data",
          "data": {
            "text/html": [
              "<span style=\"color:cyan\"> |-image_block_1/normalize: False</span>"
            ],
            "text/plain": [
              "<IPython.core.display.HTML object>"
            ]
          },
          "metadata": {
            "tags": []
          }
        },
        {
          "output_type": "display_data",
          "data": {
            "text/html": [
              "<span style=\"color:blue\"> |-image_block_2/augment: True</span>"
            ],
            "text/plain": [
              "<IPython.core.display.HTML object>"
            ]
          },
          "metadata": {
            "tags": []
          }
        },
        {
          "output_type": "display_data",
          "data": {
            "text/html": [
              "<span style=\"color:cyan\"> |-image_block_2/block_type: vanilla</span>"
            ],
            "text/plain": [
              "<IPython.core.display.HTML object>"
            ]
          },
          "metadata": {
            "tags": []
          }
        },
        {
          "output_type": "display_data",
          "data": {
            "text/html": [
              "<span style=\"color:blue\"> |-image_block_2/conv_block_1/dropout_rate: 0.0</span>"
            ],
            "text/plain": [
              "<IPython.core.display.HTML object>"
            ]
          },
          "metadata": {
            "tags": []
          }
        },
        {
          "output_type": "display_data",
          "data": {
            "text/html": [
              "<span style=\"color:cyan\"> |-image_block_2/conv_block_1/filters_0_0: 256</span>"
            ],
            "text/plain": [
              "<IPython.core.display.HTML object>"
            ]
          },
          "metadata": {
            "tags": []
          }
        },
        {
          "output_type": "display_data",
          "data": {
            "text/html": [
              "<span style=\"color:blue\"> |-image_block_2/conv_block_1/filters_0_1: 128</span>"
            ],
            "text/plain": [
              "<IPython.core.display.HTML object>"
            ]
          },
          "metadata": {
            "tags": []
          }
        },
        {
          "output_type": "display_data",
          "data": {
            "text/html": [
              "<span style=\"color:cyan\"> |-image_block_2/conv_block_1/filters_1_0: 512</span>"
            ],
            "text/plain": [
              "<IPython.core.display.HTML object>"
            ]
          },
          "metadata": {
            "tags": []
          }
        },
        {
          "output_type": "display_data",
          "data": {
            "text/html": [
              "<span style=\"color:blue\"> |-image_block_2/conv_block_1/filters_1_1: 16</span>"
            ],
            "text/plain": [
              "<IPython.core.display.HTML object>"
            ]
          },
          "metadata": {
            "tags": []
          }
        },
        {
          "output_type": "display_data",
          "data": {
            "text/html": [
              "<span style=\"color:cyan\"> |-image_block_2/conv_block_1/kernel_size: 5</span>"
            ],
            "text/plain": [
              "<IPython.core.display.HTML object>"
            ]
          },
          "metadata": {
            "tags": []
          }
        },
        {
          "output_type": "display_data",
          "data": {
            "text/html": [
              "<span style=\"color:blue\"> |-image_block_2/conv_block_1/max_pooling: True</span>"
            ],
            "text/plain": [
              "<IPython.core.display.HTML object>"
            ]
          },
          "metadata": {
            "tags": []
          }
        },
        {
          "output_type": "display_data",
          "data": {
            "text/html": [
              "<span style=\"color:cyan\"> |-image_block_2/conv_block_1/num_blocks: 1</span>"
            ],
            "text/plain": [
              "<IPython.core.display.HTML object>"
            ]
          },
          "metadata": {
            "tags": []
          }
        },
        {
          "output_type": "display_data",
          "data": {
            "text/html": [
              "<span style=\"color:blue\"> |-image_block_2/conv_block_1/num_layers: 1</span>"
            ],
            "text/plain": [
              "<IPython.core.display.HTML object>"
            ]
          },
          "metadata": {
            "tags": []
          }
        },
        {
          "output_type": "display_data",
          "data": {
            "text/html": [
              "<span style=\"color:cyan\"> |-image_block_2/conv_block_1/separable: False</span>"
            ],
            "text/plain": [
              "<IPython.core.display.HTML object>"
            ]
          },
          "metadata": {
            "tags": []
          }
        },
        {
          "output_type": "display_data",
          "data": {
            "text/html": [
              "<span style=\"color:blue\"> |-image_block_2/normalize: False</span>"
            ],
            "text/plain": [
              "<IPython.core.display.HTML object>"
            ]
          },
          "metadata": {
            "tags": []
          }
        },
        {
          "output_type": "display_data",
          "data": {
            "text/html": [
              "<span style=\"color:cyan\"> |-image_block_2/res_net_block_1/conv3_depth: 4</span>"
            ],
            "text/plain": [
              "<IPython.core.display.HTML object>"
            ]
          },
          "metadata": {
            "tags": []
          }
        },
        {
          "output_type": "display_data",
          "data": {
            "text/html": [
              "<span style=\"color:blue\"> |-image_block_2/res_net_block_1/conv4_depth: 23</span>"
            ],
            "text/plain": [
              "<IPython.core.display.HTML object>"
            ]
          },
          "metadata": {
            "tags": []
          }
        },
        {
          "output_type": "display_data",
          "data": {
            "text/html": [
              "<span style=\"color:cyan\"> |-image_block_2/res_net_block_1/pooling: avg</span>"
            ],
            "text/plain": [
              "<IPython.core.display.HTML object>"
            ]
          },
          "metadata": {
            "tags": []
          }
        },
        {
          "output_type": "display_data",
          "data": {
            "text/html": [
              "<span style=\"color:blue\"> |-image_block_2/res_net_block_1/version: v1</span>"
            ],
            "text/plain": [
              "<IPython.core.display.HTML object>"
            ]
          },
          "metadata": {
            "tags": []
          }
        },
        {
          "output_type": "display_data",
          "data": {
            "text/html": [
              "<span style=\"color:cyan\"> |-optimizer: adam</span>"
            ],
            "text/plain": [
              "<IPython.core.display.HTML object>"
            ]
          },
          "metadata": {
            "tags": []
          }
        },
        {
          "output_type": "stream",
          "text": [
            "Train for 6 steps, validate for 2 steps\n",
            "Epoch 1/1000\n",
            "6/6 [==============================] - 5s 797ms/step - loss: 9.0161 - accuracy: 0.3804 - val_loss: 15.3072 - val_accuracy: 0.0000e+00\n",
            "Epoch 2/1000\n",
            "6/6 [==============================] - 3s 566ms/step - loss: 1.3110 - accuracy: 0.3207 - val_loss: 12.6137 - val_accuracy: 0.0000e+00\n",
            "Epoch 3/1000\n",
            "6/6 [==============================] - 3s 563ms/step - loss: 2.7113 - accuracy: 0.1630 - val_loss: 12.3119 - val_accuracy: 0.0000e+00\n",
            "Epoch 4/1000\n",
            "6/6 [==============================] - 3s 561ms/step - loss: 1.2775 - accuracy: 0.5217 - val_loss: 10.2759 - val_accuracy: 0.0000e+00\n",
            "Epoch 5/1000\n",
            "6/6 [==============================] - 3s 577ms/step - loss: 1.7561 - accuracy: 0.0000e+00 - val_loss: 10.5453 - val_accuracy: 0.0000e+00\n",
            "Epoch 6/1000\n",
            "6/6 [==============================] - 3s 550ms/step - loss: 1.5511 - accuracy: 0.5109 - val_loss: 10.5137 - val_accuracy: 0.0000e+00\n",
            "Epoch 7/1000\n",
            "6/6 [==============================] - 3s 562ms/step - loss: 1.3421 - accuracy: 0.5000 - val_loss: 9.8782 - val_accuracy: 0.0000e+00\n",
            "Epoch 8/1000\n",
            "6/6 [==============================] - 3s 555ms/step - loss: 1.4622 - accuracy: 0.3804 - val_loss: 9.8139 - val_accuracy: 0.0000e+00\n",
            "Epoch 9/1000\n",
            "6/6 [==============================] - 3s 570ms/step - loss: 1.3975 - accuracy: 0.5000 - val_loss: 9.6633 - val_accuracy: 0.0000e+00\n",
            "Epoch 10/1000\n",
            "6/6 [==============================] - 3s 557ms/step - loss: 1.3451 - accuracy: 0.5054 - val_loss: 9.4593 - val_accuracy: 0.0000e+00\n",
            "Epoch 11/1000\n",
            "6/6 [==============================] - 3s 569ms/step - loss: 1.3549 - accuracy: 0.5000 - val_loss: 9.3668 - val_accuracy: 0.0000e+00\n",
            "Epoch 12/1000\n",
            "6/6 [==============================] - 3s 563ms/step - loss: 1.3862 - accuracy: 0.5000 - val_loss: 9.2709 - val_accuracy: 0.0000e+00\n",
            "Epoch 13/1000\n",
            "6/6 [==============================] - 3s 577ms/step - loss: 1.3529 - accuracy: 0.5054 - val_loss: 9.1638 - val_accuracy: 0.0000e+00\n",
            "Epoch 14/1000\n",
            "6/6 [==============================] - 3s 550ms/step - loss: 1.3602 - accuracy: 0.4946 - val_loss: 9.0727 - val_accuracy: 0.0000e+00\n",
            "Epoch 15/1000\n",
            "6/6 [==============================] - 3s 567ms/step - loss: 1.3321 - accuracy: 0.5109 - val_loss: 8.9697 - val_accuracy: 0.0000e+00\n",
            "Epoch 16/1000\n",
            "6/6 [==============================] - 3s 560ms/step - loss: 1.3527 - accuracy: 0.5054 - val_loss: 8.8720 - val_accuracy: 0.0000e+00\n",
            "Epoch 17/1000\n",
            "6/6 [==============================] - 3s 563ms/step - loss: 1.3170 - accuracy: 0.5000 - val_loss: 8.7982 - val_accuracy: 0.0000e+00\n",
            "Epoch 18/1000\n",
            "6/6 [==============================] - 3s 555ms/step - loss: 1.3433 - accuracy: 0.5000 - val_loss: 8.7344 - val_accuracy: 0.0000e+00\n",
            "Epoch 19/1000\n",
            "6/6 [==============================] - 3s 571ms/step - loss: 1.3422 - accuracy: 0.5000 - val_loss: 8.6632 - val_accuracy: 0.0000e+00\n",
            "Epoch 20/1000\n",
            "6/6 [==============================] - 3s 563ms/step - loss: 1.3328 - accuracy: 0.4946 - val_loss: 8.5789 - val_accuracy: 0.0000e+00\n",
            "Epoch 21/1000\n",
            "6/6 [==============================] - 3s 568ms/step - loss: 1.3142 - accuracy: 0.5109 - val_loss: 8.4830 - val_accuracy: 0.0000e+00\n",
            "Epoch 22/1000\n",
            "6/6 [==============================] - 3s 555ms/step - loss: 1.3207 - accuracy: 0.4946 - val_loss: 8.4049 - val_accuracy: 0.0000e+00\n",
            "Epoch 23/1000\n",
            "6/6 [==============================] - 3s 568ms/step - loss: 1.3107 - accuracy: 0.5054 - val_loss: 8.3347 - val_accuracy: 0.0000e+00\n",
            "Epoch 24/1000\n",
            "6/6 [==============================] - 3s 557ms/step - loss: 1.3251 - accuracy: 0.4837 - val_loss: 8.2587 - val_accuracy: 0.0000e+00\n",
            "Epoch 25/1000\n",
            "6/6 [==============================] - 3s 572ms/step - loss: 1.3117 - accuracy: 0.5163 - val_loss: 8.1838 - val_accuracy: 0.0000e+00\n",
            "Epoch 26/1000\n",
            "6/6 [==============================] - 3s 545ms/step - loss: 1.3265 - accuracy: 0.4946 - val_loss: 8.1437 - val_accuracy: 0.0000e+00\n",
            "Epoch 27/1000\n",
            "6/6 [==============================] - 3s 564ms/step - loss: 1.3051 - accuracy: 0.5054 - val_loss: 8.1010 - val_accuracy: 0.0000e+00\n",
            "Epoch 28/1000\n",
            "6/6 [==============================] - 3s 563ms/step - loss: 1.2889 - accuracy: 0.5054 - val_loss: 8.0580 - val_accuracy: 0.0000e+00\n",
            "Epoch 29/1000\n",
            "6/6 [==============================] - 3s 554ms/step - loss: 1.3007 - accuracy: 0.5000 - val_loss: 8.0145 - val_accuracy: 0.0000e+00\n",
            "Epoch 30/1000\n",
            "6/6 [==============================] - 3s 559ms/step - loss: 1.2872 - accuracy: 0.4946 - val_loss: 7.9654 - val_accuracy: 0.0000e+00\n",
            "Epoch 31/1000\n",
            "6/6 [==============================] - 3s 558ms/step - loss: 1.2549 - accuracy: 0.5054 - val_loss: 7.9383 - val_accuracy: 0.0000e+00\n",
            "Epoch 32/1000\n",
            "6/6 [==============================] - 3s 563ms/step - loss: 1.2914 - accuracy: 0.5000 - val_loss: 7.9009 - val_accuracy: 0.0000e+00\n",
            "Epoch 33/1000\n",
            "6/6 [==============================] - 3s 551ms/step - loss: 1.2892 - accuracy: 0.4946 - val_loss: 7.8471 - val_accuracy: 0.0000e+00\n",
            "Epoch 34/1000\n",
            "6/6 [==============================] - 3s 557ms/step - loss: 1.2491 - accuracy: 0.5054 - val_loss: 7.8102 - val_accuracy: 0.0000e+00\n",
            "Epoch 35/1000\n",
            "6/6 [==============================] - 3s 563ms/step - loss: 1.2582 - accuracy: 0.5000 - val_loss: 7.7608 - val_accuracy: 0.0000e+00\n",
            "Epoch 36/1000\n",
            "6/6 [==============================] - 3s 563ms/step - loss: 1.2709 - accuracy: 0.5000 - val_loss: 7.7230 - val_accuracy: 0.0000e+00\n",
            "Epoch 37/1000\n",
            "6/6 [==============================] - 3s 565ms/step - loss: 1.2501 - accuracy: 0.5054 - val_loss: 7.6986 - val_accuracy: 0.0000e+00\n",
            "Epoch 38/1000\n",
            "6/6 [==============================] - 3s 565ms/step - loss: 1.2690 - accuracy: 0.4891 - val_loss: 7.6684 - val_accuracy: 0.0000e+00\n",
            "Epoch 39/1000\n",
            "6/6 [==============================] - 3s 570ms/step - loss: 1.2517 - accuracy: 0.5109 - val_loss: 7.6276 - val_accuracy: 0.0000e+00\n",
            "Epoch 40/1000\n",
            "6/6 [==============================] - 3s 559ms/step - loss: 1.2475 - accuracy: 0.5109 - val_loss: 7.6176 - val_accuracy: 0.0000e+00\n",
            "Epoch 41/1000\n",
            "6/6 [==============================] - 3s 559ms/step - loss: 1.2604 - accuracy: 0.5000 - val_loss: 7.6194 - val_accuracy: 0.0000e+00\n",
            "Epoch 42/1000\n",
            "6/6 [==============================] - 3s 561ms/step - loss: 1.2454 - accuracy: 0.5054 - val_loss: 7.6120 - val_accuracy: 0.0000e+00\n",
            "Epoch 43/1000\n",
            "6/6 [==============================] - 3s 566ms/step - loss: 1.2446 - accuracy: 0.5000 - val_loss: 7.5539 - val_accuracy: 0.0000e+00\n",
            "Epoch 44/1000\n",
            "6/6 [==============================] - 3s 558ms/step - loss: 1.2287 - accuracy: 0.5000 - val_loss: 7.5154 - val_accuracy: 0.0000e+00\n",
            "Epoch 45/1000\n",
            "6/6 [==============================] - 3s 559ms/step - loss: 1.2390 - accuracy: 0.5109 - val_loss: 7.4882 - val_accuracy: 0.0000e+00\n",
            "Epoch 46/1000\n",
            "6/6 [==============================] - 3s 557ms/step - loss: 1.2409 - accuracy: 0.5163 - val_loss: 7.4560 - val_accuracy: 0.0000e+00\n",
            "Epoch 47/1000\n",
            "6/6 [==============================] - 3s 561ms/step - loss: 1.2412 - accuracy: 0.5000 - val_loss: 7.4328 - val_accuracy: 0.0000e+00\n",
            "Epoch 48/1000\n",
            "6/6 [==============================] - 3s 548ms/step - loss: 1.2209 - accuracy: 0.5163 - val_loss: 7.4367 - val_accuracy: 0.0000e+00\n",
            "Epoch 49/1000\n",
            "6/6 [==============================] - 3s 561ms/step - loss: 1.2238 - accuracy: 0.5109 - val_loss: 7.4445 - val_accuracy: 0.0000e+00\n",
            "Epoch 50/1000\n",
            "6/6 [==============================] - 3s 564ms/step - loss: 1.2310 - accuracy: 0.5054 - val_loss: 7.4287 - val_accuracy: 0.0000e+00\n",
            "Epoch 51/1000\n",
            "6/6 [==============================] - 3s 562ms/step - loss: 1.2193 - accuracy: 0.4946 - val_loss: 7.4205 - val_accuracy: 0.0000e+00\n",
            "Epoch 52/1000\n",
            "6/6 [==============================] - 3s 559ms/step - loss: 1.2163 - accuracy: 0.5163 - val_loss: 7.4242 - val_accuracy: 0.0000e+00\n",
            "Epoch 53/1000\n",
            "6/6 [==============================] - 3s 557ms/step - loss: 1.2208 - accuracy: 0.5000 - val_loss: 7.4282 - val_accuracy: 0.0000e+00\n",
            "Epoch 54/1000\n",
            "6/6 [==============================] - 3s 557ms/step - loss: 1.1913 - accuracy: 0.4946 - val_loss: 7.4211 - val_accuracy: 0.0000e+00\n",
            "Epoch 55/1000\n",
            "6/6 [==============================] - 3s 554ms/step - loss: 1.2259 - accuracy: 0.5054 - val_loss: 7.4278 - val_accuracy: 0.0000e+00\n",
            "Epoch 56/1000\n",
            "6/6 [==============================] - 3s 558ms/step - loss: 1.2198 - accuracy: 0.5054 - val_loss: 7.4228 - val_accuracy: 0.0000e+00\n",
            "Epoch 57/1000\n",
            "6/6 [==============================] - 3s 560ms/step - loss: 1.1953 - accuracy: 0.5054 - val_loss: 7.4322 - val_accuracy: 0.0000e+00\n",
            "Epoch 58/1000\n",
            "6/6 [==============================] - 3s 559ms/step - loss: 1.2056 - accuracy: 0.5000 - val_loss: 7.4474 - val_accuracy: 0.0000e+00\n",
            "Epoch 59/1000\n",
            "6/6 [==============================] - 3s 552ms/step - loss: 1.1958 - accuracy: 0.5109 - val_loss: 7.4494 - val_accuracy: 0.0000e+00\n",
            "Epoch 60/1000\n",
            "6/6 [==============================] - 3s 550ms/step - loss: 1.2032 - accuracy: 0.5054 - val_loss: 7.4534 - val_accuracy: 0.0000e+00\n",
            "Epoch 61/1000\n",
            "6/6 [==============================] - 3s 555ms/step - loss: 1.1937 - accuracy: 0.5000 - val_loss: 7.4826 - val_accuracy: 0.0000e+00\n"
          ],
          "name": "stdout"
        },
        {
          "output_type": "display_data",
          "data": {
            "text/html": [
              "<span style=\"color:#4527A0\"><h1 style=\"font-size:18px\">Trial complete</h1></span>"
            ],
            "text/plain": [
              "<IPython.core.display.HTML object>"
            ]
          },
          "metadata": {
            "tags": []
          }
        },
        {
          "output_type": "display_data",
          "data": {
            "text/html": [
              "<span style=\"color:#4527A0\"><h1 style=\"font-size:18px\">Trial summary</h1></span>"
            ],
            "text/plain": [
              "<IPython.core.display.HTML object>"
            ]
          },
          "metadata": {
            "tags": []
          }
        },
        {
          "output_type": "display_data",
          "data": {
            "text/html": [
              "<span style=\"color:cyan\"> |-Trial ID: 17a3da3dbf0faf933a9d31db2a7c5b4d</span>"
            ],
            "text/plain": [
              "<IPython.core.display.HTML object>"
            ]
          },
          "metadata": {
            "tags": []
          }
        },
        {
          "output_type": "display_data",
          "data": {
            "text/html": [
              "<span style=\"color:cyan\"> |-Score: 7.420451641082764</span>"
            ],
            "text/plain": [
              "<IPython.core.display.HTML object>"
            ]
          },
          "metadata": {
            "tags": []
          }
        },
        {
          "output_type": "display_data",
          "data": {
            "text/html": [
              "<span style=\"color:cyan\"> |-Best step: 0</span>"
            ],
            "text/plain": [
              "<IPython.core.display.HTML object>"
            ]
          },
          "metadata": {
            "tags": []
          }
        },
        {
          "output_type": "display_data",
          "data": {
            "text/html": [
              "<span style=\"color:#7E57C2\"><h2 style=\"font-size:16px\">Hyperparameters:</h2></span>"
            ],
            "text/plain": [
              "<IPython.core.display.HTML object>"
            ]
          },
          "metadata": {
            "tags": []
          }
        },
        {
          "output_type": "display_data",
          "data": {
            "text/html": [
              "<span style=\"color:cyan\"> |-classification_head_1/dropout_rate: 0</span>"
            ],
            "text/plain": [
              "<IPython.core.display.HTML object>"
            ]
          },
          "metadata": {
            "tags": []
          }
        },
        {
          "output_type": "display_data",
          "data": {
            "text/html": [
              "<span style=\"color:blue\"> |-classification_head_1/spatial_reduction_1/reduction_type: global_avg</span>"
            ],
            "text/plain": [
              "<IPython.core.display.HTML object>"
            ]
          },
          "metadata": {
            "tags": []
          }
        },
        {
          "output_type": "display_data",
          "data": {
            "text/html": [
              "<span style=\"color:cyan\"> |-classification_head_4/dropout_rate: 0</span>"
            ],
            "text/plain": [
              "<IPython.core.display.HTML object>"
            ]
          },
          "metadata": {
            "tags": []
          }
        },
        {
          "output_type": "display_data",
          "data": {
            "text/html": [
              "<span style=\"color:blue\"> |-classification_head_4/spatial_reduction_1/reduction_type: global_avg</span>"
            ],
            "text/plain": [
              "<IPython.core.display.HTML object>"
            ]
          },
          "metadata": {
            "tags": []
          }
        },
        {
          "output_type": "display_data",
          "data": {
            "text/html": [
              "<span style=\"color:cyan\"> |-image_block_1/augment: False</span>"
            ],
            "text/plain": [
              "<IPython.core.display.HTML object>"
            ]
          },
          "metadata": {
            "tags": []
          }
        },
        {
          "output_type": "display_data",
          "data": {
            "text/html": [
              "<span style=\"color:blue\"> |-image_block_1/block_type: vanilla</span>"
            ],
            "text/plain": [
              "<IPython.core.display.HTML object>"
            ]
          },
          "metadata": {
            "tags": []
          }
        },
        {
          "output_type": "display_data",
          "data": {
            "text/html": [
              "<span style=\"color:cyan\"> |-image_block_1/conv_block_1/dropout_rate: 0.5</span>"
            ],
            "text/plain": [
              "<IPython.core.display.HTML object>"
            ]
          },
          "metadata": {
            "tags": []
          }
        },
        {
          "output_type": "display_data",
          "data": {
            "text/html": [
              "<span style=\"color:blue\"> |-image_block_1/conv_block_1/filters_0_0: 128</span>"
            ],
            "text/plain": [
              "<IPython.core.display.HTML object>"
            ]
          },
          "metadata": {
            "tags": []
          }
        },
        {
          "output_type": "display_data",
          "data": {
            "text/html": [
              "<span style=\"color:cyan\"> |-image_block_1/conv_block_1/filters_0_1: 64</span>"
            ],
            "text/plain": [
              "<IPython.core.display.HTML object>"
            ]
          },
          "metadata": {
            "tags": []
          }
        },
        {
          "output_type": "display_data",
          "data": {
            "text/html": [
              "<span style=\"color:blue\"> |-image_block_1/conv_block_1/filters_1_0: 64</span>"
            ],
            "text/plain": [
              "<IPython.core.display.HTML object>"
            ]
          },
          "metadata": {
            "tags": []
          }
        },
        {
          "output_type": "display_data",
          "data": {
            "text/html": [
              "<span style=\"color:cyan\"> |-image_block_1/conv_block_1/filters_1_1: 256</span>"
            ],
            "text/plain": [
              "<IPython.core.display.HTML object>"
            ]
          },
          "metadata": {
            "tags": []
          }
        },
        {
          "output_type": "display_data",
          "data": {
            "text/html": [
              "<span style=\"color:blue\"> |-image_block_1/conv_block_1/kernel_size: 7</span>"
            ],
            "text/plain": [
              "<IPython.core.display.HTML object>"
            ]
          },
          "metadata": {
            "tags": []
          }
        },
        {
          "output_type": "display_data",
          "data": {
            "text/html": [
              "<span style=\"color:cyan\"> |-image_block_1/conv_block_1/max_pooling: True</span>"
            ],
            "text/plain": [
              "<IPython.core.display.HTML object>"
            ]
          },
          "metadata": {
            "tags": []
          }
        },
        {
          "output_type": "display_data",
          "data": {
            "text/html": [
              "<span style=\"color:blue\"> |-image_block_1/conv_block_1/num_blocks: 1</span>"
            ],
            "text/plain": [
              "<IPython.core.display.HTML object>"
            ]
          },
          "metadata": {
            "tags": []
          }
        },
        {
          "output_type": "display_data",
          "data": {
            "text/html": [
              "<span style=\"color:cyan\"> |-image_block_1/conv_block_1/num_layers: 2</span>"
            ],
            "text/plain": [
              "<IPython.core.display.HTML object>"
            ]
          },
          "metadata": {
            "tags": []
          }
        },
        {
          "output_type": "display_data",
          "data": {
            "text/html": [
              "<span style=\"color:blue\"> |-image_block_1/conv_block_1/separable: True</span>"
            ],
            "text/plain": [
              "<IPython.core.display.HTML object>"
            ]
          },
          "metadata": {
            "tags": []
          }
        },
        {
          "output_type": "display_data",
          "data": {
            "text/html": [
              "<span style=\"color:cyan\"> |-image_block_1/normalize: False</span>"
            ],
            "text/plain": [
              "<IPython.core.display.HTML object>"
            ]
          },
          "metadata": {
            "tags": []
          }
        },
        {
          "output_type": "display_data",
          "data": {
            "text/html": [
              "<span style=\"color:blue\"> |-image_block_2/augment: False</span>"
            ],
            "text/plain": [
              "<IPython.core.display.HTML object>"
            ]
          },
          "metadata": {
            "tags": []
          }
        },
        {
          "output_type": "display_data",
          "data": {
            "text/html": [
              "<span style=\"color:cyan\"> |-image_block_2/block_type: vanilla</span>"
            ],
            "text/plain": [
              "<IPython.core.display.HTML object>"
            ]
          },
          "metadata": {
            "tags": []
          }
        },
        {
          "output_type": "display_data",
          "data": {
            "text/html": [
              "<span style=\"color:blue\"> |-image_block_2/conv_block_1/dropout_rate: 0</span>"
            ],
            "text/plain": [
              "<IPython.core.display.HTML object>"
            ]
          },
          "metadata": {
            "tags": []
          }
        },
        {
          "output_type": "display_data",
          "data": {
            "text/html": [
              "<span style=\"color:cyan\"> |-image_block_2/conv_block_1/filters_0_0: 32</span>"
            ],
            "text/plain": [
              "<IPython.core.display.HTML object>"
            ]
          },
          "metadata": {
            "tags": []
          }
        },
        {
          "output_type": "display_data",
          "data": {
            "text/html": [
              "<span style=\"color:blue\"> |-image_block_2/conv_block_1/filters_0_1: 32</span>"
            ],
            "text/plain": [
              "<IPython.core.display.HTML object>"
            ]
          },
          "metadata": {
            "tags": []
          }
        },
        {
          "output_type": "display_data",
          "data": {
            "text/html": [
              "<span style=\"color:cyan\"> |-image_block_2/conv_block_1/filters_1_0: 32</span>"
            ],
            "text/plain": [
              "<IPython.core.display.HTML object>"
            ]
          },
          "metadata": {
            "tags": []
          }
        },
        {
          "output_type": "display_data",
          "data": {
            "text/html": [
              "<span style=\"color:blue\"> |-image_block_2/conv_block_1/filters_1_1: 32</span>"
            ],
            "text/plain": [
              "<IPython.core.display.HTML object>"
            ]
          },
          "metadata": {
            "tags": []
          }
        },
        {
          "output_type": "display_data",
          "data": {
            "text/html": [
              "<span style=\"color:cyan\"> |-image_block_2/conv_block_1/kernel_size: 3</span>"
            ],
            "text/plain": [
              "<IPython.core.display.HTML object>"
            ]
          },
          "metadata": {
            "tags": []
          }
        },
        {
          "output_type": "display_data",
          "data": {
            "text/html": [
              "<span style=\"color:blue\"> |-image_block_2/conv_block_1/max_pooling: True</span>"
            ],
            "text/plain": [
              "<IPython.core.display.HTML object>"
            ]
          },
          "metadata": {
            "tags": []
          }
        },
        {
          "output_type": "display_data",
          "data": {
            "text/html": [
              "<span style=\"color:cyan\"> |-image_block_2/conv_block_1/num_blocks: 2</span>"
            ],
            "text/plain": [
              "<IPython.core.display.HTML object>"
            ]
          },
          "metadata": {
            "tags": []
          }
        },
        {
          "output_type": "display_data",
          "data": {
            "text/html": [
              "<span style=\"color:blue\"> |-image_block_2/conv_block_1/num_layers: 2</span>"
            ],
            "text/plain": [
              "<IPython.core.display.HTML object>"
            ]
          },
          "metadata": {
            "tags": []
          }
        },
        {
          "output_type": "display_data",
          "data": {
            "text/html": [
              "<span style=\"color:cyan\"> |-image_block_2/conv_block_1/separable: False</span>"
            ],
            "text/plain": [
              "<IPython.core.display.HTML object>"
            ]
          },
          "metadata": {
            "tags": []
          }
        },
        {
          "output_type": "display_data",
          "data": {
            "text/html": [
              "<span style=\"color:blue\"> |-image_block_2/normalize: False</span>"
            ],
            "text/plain": [
              "<IPython.core.display.HTML object>"
            ]
          },
          "metadata": {
            "tags": []
          }
        },
        {
          "output_type": "display_data",
          "data": {
            "text/html": [
              "<span style=\"color:cyan\"> |-optimizer: adam</span>"
            ],
            "text/plain": [
              "<IPython.core.display.HTML object>"
            ]
          },
          "metadata": {
            "tags": []
          }
        },
        {
          "output_type": "stream",
          "text": [
            "Train for 6 steps, validate for 2 steps\n",
            "Epoch 1/1000\n",
            "6/6 [==============================] - 6s 974ms/step - loss: 1.6099 - accuracy: 0.3370 - val_loss: 1.6146 - val_accuracy: 0.0000e+00\n",
            "Epoch 2/1000\n",
            "6/6 [==============================] - 3s 565ms/step - loss: 1.6030 - accuracy: 0.5109 - val_loss: 1.6211 - val_accuracy: 0.0000e+00\n",
            "Epoch 3/1000\n",
            "6/6 [==============================] - 3s 564ms/step - loss: 1.5982 - accuracy: 0.5109 - val_loss: 1.6281 - val_accuracy: 0.0000e+00\n",
            "Epoch 4/1000\n",
            "6/6 [==============================] - 3s 563ms/step - loss: 1.5934 - accuracy: 0.5109 - val_loss: 1.6356 - val_accuracy: 0.0000e+00\n",
            "Epoch 5/1000\n",
            "6/6 [==============================] - 3s 561ms/step - loss: 1.5884 - accuracy: 0.5109 - val_loss: 1.6436 - val_accuracy: 0.0000e+00\n",
            "Epoch 6/1000\n",
            "6/6 [==============================] - 3s 566ms/step - loss: 1.5831 - accuracy: 0.5109 - val_loss: 1.6523 - val_accuracy: 0.0000e+00\n",
            "Epoch 7/1000\n",
            "6/6 [==============================] - 3s 562ms/step - loss: 1.5775 - accuracy: 0.5109 - val_loss: 1.6618 - val_accuracy: 0.0000e+00\n",
            "Epoch 8/1000\n",
            "6/6 [==============================] - 3s 565ms/step - loss: 1.5714 - accuracy: 0.5109 - val_loss: 1.6724 - val_accuracy: 0.0000e+00\n",
            "Epoch 9/1000\n",
            "6/6 [==============================] - 3s 564ms/step - loss: 1.5648 - accuracy: 0.5109 - val_loss: 1.6843 - val_accuracy: 0.0000e+00\n",
            "Epoch 10/1000\n",
            "6/6 [==============================] - 3s 566ms/step - loss: 1.5574 - accuracy: 0.5109 - val_loss: 1.6979 - val_accuracy: 0.0000e+00\n",
            "Epoch 11/1000\n",
            "6/6 [==============================] - 3s 566ms/step - loss: 1.5492 - accuracy: 0.5109 - val_loss: 1.7143 - val_accuracy: 0.0000e+00\n"
          ],
          "name": "stdout"
        },
        {
          "output_type": "display_data",
          "data": {
            "text/html": [
              "<span style=\"color:#4527A0\"><h1 style=\"font-size:18px\">Trial complete</h1></span>"
            ],
            "text/plain": [
              "<IPython.core.display.HTML object>"
            ]
          },
          "metadata": {
            "tags": []
          }
        },
        {
          "output_type": "display_data",
          "data": {
            "text/html": [
              "<span style=\"color:#4527A0\"><h1 style=\"font-size:18px\">Trial summary</h1></span>"
            ],
            "text/plain": [
              "<IPython.core.display.HTML object>"
            ]
          },
          "metadata": {
            "tags": []
          }
        },
        {
          "output_type": "display_data",
          "data": {
            "text/html": [
              "<span style=\"color:cyan\"> |-Trial ID: 0a8c6eddf8ec87b3f55f84bd30e27b8c</span>"
            ],
            "text/plain": [
              "<IPython.core.display.HTML object>"
            ]
          },
          "metadata": {
            "tags": []
          }
        },
        {
          "output_type": "display_data",
          "data": {
            "text/html": [
              "<span style=\"color:cyan\"> |-Score: 1.6145631074905396</span>"
            ],
            "text/plain": [
              "<IPython.core.display.HTML object>"
            ]
          },
          "metadata": {
            "tags": []
          }
        },
        {
          "output_type": "display_data",
          "data": {
            "text/html": [
              "<span style=\"color:cyan\"> |-Best step: 0</span>"
            ],
            "text/plain": [
              "<IPython.core.display.HTML object>"
            ]
          },
          "metadata": {
            "tags": []
          }
        },
        {
          "output_type": "display_data",
          "data": {
            "text/html": [
              "<span style=\"color:#7E57C2\"><h2 style=\"font-size:16px\">Hyperparameters:</h2></span>"
            ],
            "text/plain": [
              "<IPython.core.display.HTML object>"
            ]
          },
          "metadata": {
            "tags": []
          }
        },
        {
          "output_type": "display_data",
          "data": {
            "text/html": [
              "<span style=\"color:cyan\"> |-classification_head_1/dropout_rate: 0</span>"
            ],
            "text/plain": [
              "<IPython.core.display.HTML object>"
            ]
          },
          "metadata": {
            "tags": []
          }
        },
        {
          "output_type": "display_data",
          "data": {
            "text/html": [
              "<span style=\"color:blue\"> |-classification_head_1/spatial_reduction_1/reduction_type: global_avg</span>"
            ],
            "text/plain": [
              "<IPython.core.display.HTML object>"
            ]
          },
          "metadata": {
            "tags": []
          }
        },
        {
          "output_type": "display_data",
          "data": {
            "text/html": [
              "<span style=\"color:cyan\"> |-classification_head_4/dropout_rate: 0</span>"
            ],
            "text/plain": [
              "<IPython.core.display.HTML object>"
            ]
          },
          "metadata": {
            "tags": []
          }
        },
        {
          "output_type": "display_data",
          "data": {
            "text/html": [
              "<span style=\"color:blue\"> |-classification_head_4/spatial_reduction_1/reduction_type: global_avg</span>"
            ],
            "text/plain": [
              "<IPython.core.display.HTML object>"
            ]
          },
          "metadata": {
            "tags": []
          }
        },
        {
          "output_type": "display_data",
          "data": {
            "text/html": [
              "<span style=\"color:cyan\"> |-image_block_1/augment: True</span>"
            ],
            "text/plain": [
              "<IPython.core.display.HTML object>"
            ]
          },
          "metadata": {
            "tags": []
          }
        },
        {
          "output_type": "display_data",
          "data": {
            "text/html": [
              "<span style=\"color:blue\"> |-image_block_1/block_type: vanilla</span>"
            ],
            "text/plain": [
              "<IPython.core.display.HTML object>"
            ]
          },
          "metadata": {
            "tags": []
          }
        },
        {
          "output_type": "display_data",
          "data": {
            "text/html": [
              "<span style=\"color:cyan\"> |-image_block_1/conv_block_1/dropout_rate: 0.0</span>"
            ],
            "text/plain": [
              "<IPython.core.display.HTML object>"
            ]
          },
          "metadata": {
            "tags": []
          }
        },
        {
          "output_type": "display_data",
          "data": {
            "text/html": [
              "<span style=\"color:blue\"> |-image_block_1/conv_block_1/filters_0_0: 16</span>"
            ],
            "text/plain": [
              "<IPython.core.display.HTML object>"
            ]
          },
          "metadata": {
            "tags": []
          }
        },
        {
          "output_type": "display_data",
          "data": {
            "text/html": [
              "<span style=\"color:cyan\"> |-image_block_1/conv_block_1/filters_0_1: 256</span>"
            ],
            "text/plain": [
              "<IPython.core.display.HTML object>"
            ]
          },
          "metadata": {
            "tags": []
          }
        },
        {
          "output_type": "display_data",
          "data": {
            "text/html": [
              "<span style=\"color:blue\"> |-image_block_1/conv_block_1/filters_1_0: 16</span>"
            ],
            "text/plain": [
              "<IPython.core.display.HTML object>"
            ]
          },
          "metadata": {
            "tags": []
          }
        },
        {
          "output_type": "display_data",
          "data": {
            "text/html": [
              "<span style=\"color:cyan\"> |-image_block_1/conv_block_1/filters_1_1: 16</span>"
            ],
            "text/plain": [
              "<IPython.core.display.HTML object>"
            ]
          },
          "metadata": {
            "tags": []
          }
        },
        {
          "output_type": "display_data",
          "data": {
            "text/html": [
              "<span style=\"color:blue\"> |-image_block_1/conv_block_1/filters_2_0: 32</span>"
            ],
            "text/plain": [
              "<IPython.core.display.HTML object>"
            ]
          },
          "metadata": {
            "tags": []
          }
        },
        {
          "output_type": "display_data",
          "data": {
            "text/html": [
              "<span style=\"color:cyan\"> |-image_block_1/conv_block_1/filters_2_1: 32</span>"
            ],
            "text/plain": [
              "<IPython.core.display.HTML object>"
            ]
          },
          "metadata": {
            "tags": []
          }
        },
        {
          "output_type": "display_data",
          "data": {
            "text/html": [
              "<span style=\"color:blue\"> |-image_block_1/conv_block_1/kernel_size: 3</span>"
            ],
            "text/plain": [
              "<IPython.core.display.HTML object>"
            ]
          },
          "metadata": {
            "tags": []
          }
        },
        {
          "output_type": "display_data",
          "data": {
            "text/html": [
              "<span style=\"color:cyan\"> |-image_block_1/conv_block_1/max_pooling: False</span>"
            ],
            "text/plain": [
              "<IPython.core.display.HTML object>"
            ]
          },
          "metadata": {
            "tags": []
          }
        },
        {
          "output_type": "display_data",
          "data": {
            "text/html": [
              "<span style=\"color:blue\"> |-image_block_1/conv_block_1/num_blocks: 3</span>"
            ],
            "text/plain": [
              "<IPython.core.display.HTML object>"
            ]
          },
          "metadata": {
            "tags": []
          }
        },
        {
          "output_type": "display_data",
          "data": {
            "text/html": [
              "<span style=\"color:cyan\"> |-image_block_1/conv_block_1/num_layers: 2</span>"
            ],
            "text/plain": [
              "<IPython.core.display.HTML object>"
            ]
          },
          "metadata": {
            "tags": []
          }
        },
        {
          "output_type": "display_data",
          "data": {
            "text/html": [
              "<span style=\"color:blue\"> |-image_block_1/conv_block_1/separable: True</span>"
            ],
            "text/plain": [
              "<IPython.core.display.HTML object>"
            ]
          },
          "metadata": {
            "tags": []
          }
        },
        {
          "output_type": "display_data",
          "data": {
            "text/html": [
              "<span style=\"color:cyan\"> |-image_block_1/normalize: True</span>"
            ],
            "text/plain": [
              "<IPython.core.display.HTML object>"
            ]
          },
          "metadata": {
            "tags": []
          }
        },
        {
          "output_type": "display_data",
          "data": {
            "text/html": [
              "<span style=\"color:blue\"> |-image_block_2/augment: False</span>"
            ],
            "text/plain": [
              "<IPython.core.display.HTML object>"
            ]
          },
          "metadata": {
            "tags": []
          }
        },
        {
          "output_type": "display_data",
          "data": {
            "text/html": [
              "<span style=\"color:cyan\"> |-image_block_2/block_type: vanilla</span>"
            ],
            "text/plain": [
              "<IPython.core.display.HTML object>"
            ]
          },
          "metadata": {
            "tags": []
          }
        },
        {
          "output_type": "display_data",
          "data": {
            "text/html": [
              "<span style=\"color:blue\"> |-image_block_2/conv_block_1/dropout_rate: 0</span>"
            ],
            "text/plain": [
              "<IPython.core.display.HTML object>"
            ]
          },
          "metadata": {
            "tags": []
          }
        },
        {
          "output_type": "display_data",
          "data": {
            "text/html": [
              "<span style=\"color:cyan\"> |-image_block_2/conv_block_1/filters_0_0: 32</span>"
            ],
            "text/plain": [
              "<IPython.core.display.HTML object>"
            ]
          },
          "metadata": {
            "tags": []
          }
        },
        {
          "output_type": "display_data",
          "data": {
            "text/html": [
              "<span style=\"color:blue\"> |-image_block_2/conv_block_1/filters_0_1: 32</span>"
            ],
            "text/plain": [
              "<IPython.core.display.HTML object>"
            ]
          },
          "metadata": {
            "tags": []
          }
        },
        {
          "output_type": "display_data",
          "data": {
            "text/html": [
              "<span style=\"color:cyan\"> |-image_block_2/conv_block_1/filters_1_0: 32</span>"
            ],
            "text/plain": [
              "<IPython.core.display.HTML object>"
            ]
          },
          "metadata": {
            "tags": []
          }
        },
        {
          "output_type": "display_data",
          "data": {
            "text/html": [
              "<span style=\"color:blue\"> |-image_block_2/conv_block_1/filters_1_1: 32</span>"
            ],
            "text/plain": [
              "<IPython.core.display.HTML object>"
            ]
          },
          "metadata": {
            "tags": []
          }
        },
        {
          "output_type": "display_data",
          "data": {
            "text/html": [
              "<span style=\"color:cyan\"> |-image_block_2/conv_block_1/kernel_size: 3</span>"
            ],
            "text/plain": [
              "<IPython.core.display.HTML object>"
            ]
          },
          "metadata": {
            "tags": []
          }
        },
        {
          "output_type": "display_data",
          "data": {
            "text/html": [
              "<span style=\"color:blue\"> |-image_block_2/conv_block_1/max_pooling: True</span>"
            ],
            "text/plain": [
              "<IPython.core.display.HTML object>"
            ]
          },
          "metadata": {
            "tags": []
          }
        },
        {
          "output_type": "display_data",
          "data": {
            "text/html": [
              "<span style=\"color:cyan\"> |-image_block_2/conv_block_1/num_blocks: 2</span>"
            ],
            "text/plain": [
              "<IPython.core.display.HTML object>"
            ]
          },
          "metadata": {
            "tags": []
          }
        },
        {
          "output_type": "display_data",
          "data": {
            "text/html": [
              "<span style=\"color:blue\"> |-image_block_2/conv_block_1/num_layers: 2</span>"
            ],
            "text/plain": [
              "<IPython.core.display.HTML object>"
            ]
          },
          "metadata": {
            "tags": []
          }
        },
        {
          "output_type": "display_data",
          "data": {
            "text/html": [
              "<span style=\"color:cyan\"> |-image_block_2/conv_block_1/separable: False</span>"
            ],
            "text/plain": [
              "<IPython.core.display.HTML object>"
            ]
          },
          "metadata": {
            "tags": []
          }
        },
        {
          "output_type": "display_data",
          "data": {
            "text/html": [
              "<span style=\"color:blue\"> |-image_block_2/normalize: False</span>"
            ],
            "text/plain": [
              "<IPython.core.display.HTML object>"
            ]
          },
          "metadata": {
            "tags": []
          }
        },
        {
          "output_type": "display_data",
          "data": {
            "text/html": [
              "<span style=\"color:cyan\"> |-optimizer: adam</span>"
            ],
            "text/plain": [
              "<IPython.core.display.HTML object>"
            ]
          },
          "metadata": {
            "tags": []
          }
        },
        {
          "output_type": "stream",
          "text": [
            "Train for 6 steps, validate for 2 steps\n",
            "Epoch 1/1000\n",
            "6/6 [==============================] - 1s 202ms/step - loss: 75.9311 - accuracy: 0.3098 - val_loss: 75.2881 - val_accuracy: 0.0000e+00\n",
            "Epoch 2/1000\n",
            "6/6 [==============================] - 1s 100ms/step - loss: 10.3858 - accuracy: 0.3207 - val_loss: 23.5259 - val_accuracy: 0.0000e+00\n",
            "Epoch 3/1000\n",
            "6/6 [==============================] - 1s 98ms/step - loss: 6.1277 - accuracy: 0.2446 - val_loss: 10.3630 - val_accuracy: 0.0000e+00\n",
            "Epoch 4/1000\n",
            "6/6 [==============================] - 1s 93ms/step - loss: 4.8828 - accuracy: 0.1902 - val_loss: 9.2116 - val_accuracy: 0.0000e+00\n",
            "Epoch 5/1000\n",
            "6/6 [==============================] - 1s 99ms/step - loss: 2.8328 - accuracy: 0.3261 - val_loss: 7.7727 - val_accuracy: 0.0000e+00\n",
            "Epoch 6/1000\n",
            "6/6 [==============================] - 1s 96ms/step - loss: 2.1880 - accuracy: 0.3261 - val_loss: 5.7766 - val_accuracy: 0.0000e+00\n",
            "Epoch 7/1000\n",
            "6/6 [==============================] - 1s 96ms/step - loss: 1.7608 - accuracy: 0.2772 - val_loss: 4.3681 - val_accuracy: 0.0000e+00\n",
            "Epoch 8/1000\n",
            "6/6 [==============================] - 1s 98ms/step - loss: 1.6873 - accuracy: 0.3424 - val_loss: 4.0549 - val_accuracy: 0.0000e+00\n",
            "Epoch 9/1000\n",
            "6/6 [==============================] - 1s 87ms/step - loss: 1.6789 - accuracy: 0.2989 - val_loss: 4.0728 - val_accuracy: 0.0000e+00\n",
            "Epoch 10/1000\n",
            "6/6 [==============================] - 1s 91ms/step - loss: 1.6332 - accuracy: 0.3967 - val_loss: 4.0938 - val_accuracy: 0.0000e+00\n",
            "Epoch 11/1000\n",
            "6/6 [==============================] - 1s 89ms/step - loss: 1.5365 - accuracy: 0.3315 - val_loss: 4.1310 - val_accuracy: 0.0000e+00\n",
            "Epoch 12/1000\n",
            "6/6 [==============================] - 1s 99ms/step - loss: 1.5896 - accuracy: 0.3098 - val_loss: 3.8734 - val_accuracy: 0.0000e+00\n",
            "Epoch 13/1000\n",
            "6/6 [==============================] - 1s 92ms/step - loss: 1.5379 - accuracy: 0.3641 - val_loss: 3.9553 - val_accuracy: 0.0000e+00\n",
            "Epoch 14/1000\n",
            "6/6 [==============================] - 1s 92ms/step - loss: 1.4435 - accuracy: 0.3859 - val_loss: 3.8898 - val_accuracy: 0.0000e+00\n",
            "Epoch 15/1000\n",
            "6/6 [==============================] - 1s 94ms/step - loss: 1.4018 - accuracy: 0.4239 - val_loss: 3.8382 - val_accuracy: 0.0000e+00\n",
            "Epoch 16/1000\n",
            "6/6 [==============================] - 1s 90ms/step - loss: 1.4263 - accuracy: 0.4076 - val_loss: 3.8689 - val_accuracy: 0.0000e+00\n",
            "Epoch 17/1000\n",
            "6/6 [==============================] - 1s 92ms/step - loss: 1.4475 - accuracy: 0.3478 - val_loss: 3.7880 - val_accuracy: 0.0000e+00\n",
            "Epoch 18/1000\n",
            "6/6 [==============================] - 1s 94ms/step - loss: 1.3872 - accuracy: 0.4293 - val_loss: 4.0230 - val_accuracy: 0.0000e+00\n",
            "Epoch 19/1000\n",
            "6/6 [==============================] - 1s 90ms/step - loss: 1.4426 - accuracy: 0.3370 - val_loss: 3.9887 - val_accuracy: 0.0000e+00\n",
            "Epoch 20/1000\n",
            "6/6 [==============================] - 1s 88ms/step - loss: 1.4332 - accuracy: 0.3967 - val_loss: 3.8600 - val_accuracy: 0.0000e+00\n",
            "Epoch 21/1000\n",
            "6/6 [==============================] - 1s 90ms/step - loss: 1.3756 - accuracy: 0.4402 - val_loss: 3.8101 - val_accuracy: 0.0000e+00\n",
            "Epoch 22/1000\n",
            "6/6 [==============================] - 1s 96ms/step - loss: 1.3968 - accuracy: 0.4130 - val_loss: 3.7720 - val_accuracy: 0.0000e+00\n",
            "Epoch 23/1000\n",
            "6/6 [==============================] - 1s 95ms/step - loss: 1.3343 - accuracy: 0.4674 - val_loss: 3.6840 - val_accuracy: 0.0000e+00\n",
            "Epoch 24/1000\n",
            "6/6 [==============================] - 1s 91ms/step - loss: 1.3853 - accuracy: 0.4239 - val_loss: 3.7409 - val_accuracy: 0.0000e+00\n",
            "Epoch 25/1000\n",
            "6/6 [==============================] - 1s 91ms/step - loss: 1.4346 - accuracy: 0.4348 - val_loss: 3.7493 - val_accuracy: 0.0000e+00\n",
            "Epoch 26/1000\n",
            "6/6 [==============================] - 1s 95ms/step - loss: 1.3059 - accuracy: 0.4946 - val_loss: 3.3507 - val_accuracy: 0.0000e+00\n",
            "Epoch 27/1000\n",
            "6/6 [==============================] - 1s 94ms/step - loss: 1.3051 - accuracy: 0.4891 - val_loss: 3.5290 - val_accuracy: 0.0000e+00\n",
            "Epoch 28/1000\n",
            "6/6 [==============================] - 1s 97ms/step - loss: 1.3705 - accuracy: 0.4565 - val_loss: 3.7878 - val_accuracy: 0.0000e+00\n",
            "Epoch 29/1000\n",
            "6/6 [==============================] - 1s 89ms/step - loss: 1.2972 - accuracy: 0.4728 - val_loss: 3.8927 - val_accuracy: 0.0000e+00\n",
            "Epoch 30/1000\n",
            "6/6 [==============================] - 1s 91ms/step - loss: 1.3504 - accuracy: 0.4946 - val_loss: 3.8437 - val_accuracy: 0.0000e+00\n",
            "Epoch 31/1000\n",
            "6/6 [==============================] - 1s 90ms/step - loss: 1.3206 - accuracy: 0.4946 - val_loss: 3.5931 - val_accuracy: 0.0000e+00\n",
            "Epoch 32/1000\n",
            "6/6 [==============================] - 1s 92ms/step - loss: 1.3218 - accuracy: 0.4891 - val_loss: 3.5277 - val_accuracy: 0.0000e+00\n",
            "Epoch 33/1000\n",
            "6/6 [==============================] - 1s 91ms/step - loss: 1.3230 - accuracy: 0.4946 - val_loss: 3.5334 - val_accuracy: 0.0000e+00\n",
            "Epoch 34/1000\n",
            "6/6 [==============================] - 1s 91ms/step - loss: 1.3311 - accuracy: 0.5000 - val_loss: 3.4645 - val_accuracy: 0.0000e+00\n",
            "Epoch 35/1000\n",
            "6/6 [==============================] - 1s 94ms/step - loss: 1.3210 - accuracy: 0.4728 - val_loss: 3.6458 - val_accuracy: 0.0000e+00\n",
            "Epoch 36/1000\n",
            "6/6 [==============================] - 1s 91ms/step - loss: 1.3040 - accuracy: 0.5000 - val_loss: 3.7381 - val_accuracy: 0.0000e+00\n"
          ],
          "name": "stdout"
        },
        {
          "output_type": "display_data",
          "data": {
            "text/html": [
              "<span style=\"color:#4527A0\"><h1 style=\"font-size:18px\">Trial complete</h1></span>"
            ],
            "text/plain": [
              "<IPython.core.display.HTML object>"
            ]
          },
          "metadata": {
            "tags": []
          }
        },
        {
          "output_type": "display_data",
          "data": {
            "text/html": [
              "<span style=\"color:#4527A0\"><h1 style=\"font-size:18px\">Trial summary</h1></span>"
            ],
            "text/plain": [
              "<IPython.core.display.HTML object>"
            ]
          },
          "metadata": {
            "tags": []
          }
        },
        {
          "output_type": "display_data",
          "data": {
            "text/html": [
              "<span style=\"color:cyan\"> |-Trial ID: 8db0437cc39426bf1fed91aa77158d35</span>"
            ],
            "text/plain": [
              "<IPython.core.display.HTML object>"
            ]
          },
          "metadata": {
            "tags": []
          }
        },
        {
          "output_type": "display_data",
          "data": {
            "text/html": [
              "<span style=\"color:cyan\"> |-Score: 3.35074782371521</span>"
            ],
            "text/plain": [
              "<IPython.core.display.HTML object>"
            ]
          },
          "metadata": {
            "tags": []
          }
        },
        {
          "output_type": "display_data",
          "data": {
            "text/html": [
              "<span style=\"color:cyan\"> |-Best step: 0</span>"
            ],
            "text/plain": [
              "<IPython.core.display.HTML object>"
            ]
          },
          "metadata": {
            "tags": []
          }
        },
        {
          "output_type": "display_data",
          "data": {
            "text/html": [
              "<span style=\"color:#7E57C2\"><h2 style=\"font-size:16px\">Hyperparameters:</h2></span>"
            ],
            "text/plain": [
              "<IPython.core.display.HTML object>"
            ]
          },
          "metadata": {
            "tags": []
          }
        },
        {
          "output_type": "display_data",
          "data": {
            "text/html": [
              "<span style=\"color:cyan\"> |-classification_head_1/dropout_rate: 0.25</span>"
            ],
            "text/plain": [
              "<IPython.core.display.HTML object>"
            ]
          },
          "metadata": {
            "tags": []
          }
        },
        {
          "output_type": "display_data",
          "data": {
            "text/html": [
              "<span style=\"color:blue\"> |-classification_head_1/spatial_reduction_1/reduction_type: global_avg</span>"
            ],
            "text/plain": [
              "<IPython.core.display.HTML object>"
            ]
          },
          "metadata": {
            "tags": []
          }
        },
        {
          "output_type": "display_data",
          "data": {
            "text/html": [
              "<span style=\"color:cyan\"> |-classification_head_4/dropout_rate: 0</span>"
            ],
            "text/plain": [
              "<IPython.core.display.HTML object>"
            ]
          },
          "metadata": {
            "tags": []
          }
        },
        {
          "output_type": "display_data",
          "data": {
            "text/html": [
              "<span style=\"color:blue\"> |-classification_head_4/spatial_reduction_1/reduction_type: global_avg</span>"
            ],
            "text/plain": [
              "<IPython.core.display.HTML object>"
            ]
          },
          "metadata": {
            "tags": []
          }
        },
        {
          "output_type": "display_data",
          "data": {
            "text/html": [
              "<span style=\"color:cyan\"> |-image_block_1/augment: False</span>"
            ],
            "text/plain": [
              "<IPython.core.display.HTML object>"
            ]
          },
          "metadata": {
            "tags": []
          }
        },
        {
          "output_type": "display_data",
          "data": {
            "text/html": [
              "<span style=\"color:blue\"> |-image_block_1/block_type: vanilla</span>"
            ],
            "text/plain": [
              "<IPython.core.display.HTML object>"
            ]
          },
          "metadata": {
            "tags": []
          }
        },
        {
          "output_type": "display_data",
          "data": {
            "text/html": [
              "<span style=\"color:cyan\"> |-image_block_1/conv_block_1/dropout_rate: 0</span>"
            ],
            "text/plain": [
              "<IPython.core.display.HTML object>"
            ]
          },
          "metadata": {
            "tags": []
          }
        },
        {
          "output_type": "display_data",
          "data": {
            "text/html": [
              "<span style=\"color:blue\"> |-image_block_1/conv_block_1/filters_0_0: 32</span>"
            ],
            "text/plain": [
              "<IPython.core.display.HTML object>"
            ]
          },
          "metadata": {
            "tags": []
          }
        },
        {
          "output_type": "display_data",
          "data": {
            "text/html": [
              "<span style=\"color:cyan\"> |-image_block_1/conv_block_1/filters_0_1: 32</span>"
            ],
            "text/plain": [
              "<IPython.core.display.HTML object>"
            ]
          },
          "metadata": {
            "tags": []
          }
        },
        {
          "output_type": "display_data",
          "data": {
            "text/html": [
              "<span style=\"color:blue\"> |-image_block_1/conv_block_1/filters_1_0: 32</span>"
            ],
            "text/plain": [
              "<IPython.core.display.HTML object>"
            ]
          },
          "metadata": {
            "tags": []
          }
        },
        {
          "output_type": "display_data",
          "data": {
            "text/html": [
              "<span style=\"color:cyan\"> |-image_block_1/conv_block_1/filters_1_1: 32</span>"
            ],
            "text/plain": [
              "<IPython.core.display.HTML object>"
            ]
          },
          "metadata": {
            "tags": []
          }
        },
        {
          "output_type": "display_data",
          "data": {
            "text/html": [
              "<span style=\"color:blue\"> |-image_block_1/conv_block_1/kernel_size: 3</span>"
            ],
            "text/plain": [
              "<IPython.core.display.HTML object>"
            ]
          },
          "metadata": {
            "tags": []
          }
        },
        {
          "output_type": "display_data",
          "data": {
            "text/html": [
              "<span style=\"color:cyan\"> |-image_block_1/conv_block_1/max_pooling: True</span>"
            ],
            "text/plain": [
              "<IPython.core.display.HTML object>"
            ]
          },
          "metadata": {
            "tags": []
          }
        },
        {
          "output_type": "display_data",
          "data": {
            "text/html": [
              "<span style=\"color:blue\"> |-image_block_1/conv_block_1/num_blocks: 2</span>"
            ],
            "text/plain": [
              "<IPython.core.display.HTML object>"
            ]
          },
          "metadata": {
            "tags": []
          }
        },
        {
          "output_type": "display_data",
          "data": {
            "text/html": [
              "<span style=\"color:cyan\"> |-image_block_1/conv_block_1/num_layers: 2</span>"
            ],
            "text/plain": [
              "<IPython.core.display.HTML object>"
            ]
          },
          "metadata": {
            "tags": []
          }
        },
        {
          "output_type": "display_data",
          "data": {
            "text/html": [
              "<span style=\"color:blue\"> |-image_block_1/conv_block_1/separable: False</span>"
            ],
            "text/plain": [
              "<IPython.core.display.HTML object>"
            ]
          },
          "metadata": {
            "tags": []
          }
        },
        {
          "output_type": "display_data",
          "data": {
            "text/html": [
              "<span style=\"color:cyan\"> |-image_block_1/normalize: False</span>"
            ],
            "text/plain": [
              "<IPython.core.display.HTML object>"
            ]
          },
          "metadata": {
            "tags": []
          }
        },
        {
          "output_type": "display_data",
          "data": {
            "text/html": [
              "<span style=\"color:blue\"> |-image_block_2/augment: False</span>"
            ],
            "text/plain": [
              "<IPython.core.display.HTML object>"
            ]
          },
          "metadata": {
            "tags": []
          }
        },
        {
          "output_type": "display_data",
          "data": {
            "text/html": [
              "<span style=\"color:cyan\"> |-image_block_2/block_type: vanilla</span>"
            ],
            "text/plain": [
              "<IPython.core.display.HTML object>"
            ]
          },
          "metadata": {
            "tags": []
          }
        },
        {
          "output_type": "display_data",
          "data": {
            "text/html": [
              "<span style=\"color:blue\"> |-image_block_2/conv_block_1/dropout_rate: 0</span>"
            ],
            "text/plain": [
              "<IPython.core.display.HTML object>"
            ]
          },
          "metadata": {
            "tags": []
          }
        },
        {
          "output_type": "display_data",
          "data": {
            "text/html": [
              "<span style=\"color:cyan\"> |-image_block_2/conv_block_1/filters_0_0: 32</span>"
            ],
            "text/plain": [
              "<IPython.core.display.HTML object>"
            ]
          },
          "metadata": {
            "tags": []
          }
        },
        {
          "output_type": "display_data",
          "data": {
            "text/html": [
              "<span style=\"color:blue\"> |-image_block_2/conv_block_1/filters_0_1: 32</span>"
            ],
            "text/plain": [
              "<IPython.core.display.HTML object>"
            ]
          },
          "metadata": {
            "tags": []
          }
        },
        {
          "output_type": "display_data",
          "data": {
            "text/html": [
              "<span style=\"color:cyan\"> |-image_block_2/conv_block_1/filters_1_0: 32</span>"
            ],
            "text/plain": [
              "<IPython.core.display.HTML object>"
            ]
          },
          "metadata": {
            "tags": []
          }
        },
        {
          "output_type": "display_data",
          "data": {
            "text/html": [
              "<span style=\"color:blue\"> |-image_block_2/conv_block_1/filters_1_1: 32</span>"
            ],
            "text/plain": [
              "<IPython.core.display.HTML object>"
            ]
          },
          "metadata": {
            "tags": []
          }
        },
        {
          "output_type": "display_data",
          "data": {
            "text/html": [
              "<span style=\"color:cyan\"> |-image_block_2/conv_block_1/kernel_size: 3</span>"
            ],
            "text/plain": [
              "<IPython.core.display.HTML object>"
            ]
          },
          "metadata": {
            "tags": []
          }
        },
        {
          "output_type": "display_data",
          "data": {
            "text/html": [
              "<span style=\"color:blue\"> |-image_block_2/conv_block_1/max_pooling: True</span>"
            ],
            "text/plain": [
              "<IPython.core.display.HTML object>"
            ]
          },
          "metadata": {
            "tags": []
          }
        },
        {
          "output_type": "display_data",
          "data": {
            "text/html": [
              "<span style=\"color:cyan\"> |-image_block_2/conv_block_1/num_blocks: 2</span>"
            ],
            "text/plain": [
              "<IPython.core.display.HTML object>"
            ]
          },
          "metadata": {
            "tags": []
          }
        },
        {
          "output_type": "display_data",
          "data": {
            "text/html": [
              "<span style=\"color:blue\"> |-image_block_2/conv_block_1/num_layers: 2</span>"
            ],
            "text/plain": [
              "<IPython.core.display.HTML object>"
            ]
          },
          "metadata": {
            "tags": []
          }
        },
        {
          "output_type": "display_data",
          "data": {
            "text/html": [
              "<span style=\"color:cyan\"> |-image_block_2/conv_block_1/separable: False</span>"
            ],
            "text/plain": [
              "<IPython.core.display.HTML object>"
            ]
          },
          "metadata": {
            "tags": []
          }
        },
        {
          "output_type": "display_data",
          "data": {
            "text/html": [
              "<span style=\"color:blue\"> |-image_block_2/normalize: False</span>"
            ],
            "text/plain": [
              "<IPython.core.display.HTML object>"
            ]
          },
          "metadata": {
            "tags": []
          }
        },
        {
          "output_type": "display_data",
          "data": {
            "text/html": [
              "<span style=\"color:cyan\"> |-optimizer: adam</span>"
            ],
            "text/plain": [
              "<IPython.core.display.HTML object>"
            ]
          },
          "metadata": {
            "tags": []
          }
        },
        {
          "output_type": "stream",
          "text": [
            "Train for 6 steps, validate for 2 steps\n",
            "Epoch 1/1000\n",
            "6/6 [==============================] - 6s 953ms/step - loss: 2.7903 - accuracy: 0.3370 - val_loss: 3.0903 - val_accuracy: 0.0000e+00\n",
            "Epoch 2/1000\n",
            "6/6 [==============================] - 2s 257ms/step - loss: 1.1540 - accuracy: 0.5109 - val_loss: 2.4806 - val_accuracy: 0.0000e+00\n",
            "Epoch 3/1000\n",
            "6/6 [==============================] - 2s 250ms/step - loss: 1.3797 - accuracy: 0.5109 - val_loss: 2.8120 - val_accuracy: 0.0000e+00\n",
            "Epoch 4/1000\n",
            "6/6 [==============================] - 2s 253ms/step - loss: 1.4030 - accuracy: 0.5000 - val_loss: 3.4050 - val_accuracy: 0.0000e+00\n",
            "Epoch 5/1000\n",
            "6/6 [==============================] - 2s 252ms/step - loss: 1.3682 - accuracy: 0.5109 - val_loss: 4.0494 - val_accuracy: 0.0000e+00\n",
            "Epoch 6/1000\n",
            "6/6 [==============================] - 2s 254ms/step - loss: 1.3264 - accuracy: 0.5109 - val_loss: 4.4324 - val_accuracy: 0.0000e+00\n",
            "Epoch 7/1000\n",
            "6/6 [==============================] - 1s 248ms/step - loss: 1.2813 - accuracy: 0.5109 - val_loss: 4.4748 - val_accuracy: 0.0000e+00\n",
            "Epoch 8/1000\n",
            "6/6 [==============================] - 1s 250ms/step - loss: 1.2583 - accuracy: 0.5109 - val_loss: 4.4223 - val_accuracy: 0.0000e+00\n",
            "Epoch 9/1000\n",
            "6/6 [==============================] - 1s 250ms/step - loss: 1.2605 - accuracy: 0.5109 - val_loss: 4.4433 - val_accuracy: 0.0000e+00\n",
            "Epoch 10/1000\n",
            "6/6 [==============================] - 2s 252ms/step - loss: 1.2682 - accuracy: 0.5109 - val_loss: 4.5537 - val_accuracy: 0.0000e+00\n",
            "Epoch 11/1000\n",
            "6/6 [==============================] - 2s 253ms/step - loss: 1.2717 - accuracy: 0.5109 - val_loss: 4.7107 - val_accuracy: 0.0000e+00\n",
            "Epoch 12/1000\n",
            "6/6 [==============================] - 1s 250ms/step - loss: 1.2708 - accuracy: 0.5109 - val_loss: 4.8643 - val_accuracy: 0.0000e+00\n"
          ],
          "name": "stdout"
        },
        {
          "output_type": "display_data",
          "data": {
            "text/html": [
              "<span style=\"color:#4527A0\"><h1 style=\"font-size:18px\">Trial complete</h1></span>"
            ],
            "text/plain": [
              "<IPython.core.display.HTML object>"
            ]
          },
          "metadata": {
            "tags": []
          }
        },
        {
          "output_type": "display_data",
          "data": {
            "text/html": [
              "<span style=\"color:#4527A0\"><h1 style=\"font-size:18px\">Trial summary</h1></span>"
            ],
            "text/plain": [
              "<IPython.core.display.HTML object>"
            ]
          },
          "metadata": {
            "tags": []
          }
        },
        {
          "output_type": "display_data",
          "data": {
            "text/html": [
              "<span style=\"color:cyan\"> |-Trial ID: 27b851447277da3219aa45c5ea8e348a</span>"
            ],
            "text/plain": [
              "<IPython.core.display.HTML object>"
            ]
          },
          "metadata": {
            "tags": []
          }
        },
        {
          "output_type": "display_data",
          "data": {
            "text/html": [
              "<span style=\"color:cyan\"> |-Score: 2.4805564880371094</span>"
            ],
            "text/plain": [
              "<IPython.core.display.HTML object>"
            ]
          },
          "metadata": {
            "tags": []
          }
        },
        {
          "output_type": "display_data",
          "data": {
            "text/html": [
              "<span style=\"color:cyan\"> |-Best step: 0</span>"
            ],
            "text/plain": [
              "<IPython.core.display.HTML object>"
            ]
          },
          "metadata": {
            "tags": []
          }
        },
        {
          "output_type": "display_data",
          "data": {
            "text/html": [
              "<span style=\"color:#7E57C2\"><h2 style=\"font-size:16px\">Hyperparameters:</h2></span>"
            ],
            "text/plain": [
              "<IPython.core.display.HTML object>"
            ]
          },
          "metadata": {
            "tags": []
          }
        },
        {
          "output_type": "display_data",
          "data": {
            "text/html": [
              "<span style=\"color:cyan\"> |-classification_head_1/dropout_rate: 0</span>"
            ],
            "text/plain": [
              "<IPython.core.display.HTML object>"
            ]
          },
          "metadata": {
            "tags": []
          }
        },
        {
          "output_type": "display_data",
          "data": {
            "text/html": [
              "<span style=\"color:blue\"> |-classification_head_1/spatial_reduction_1/reduction_type: global_avg</span>"
            ],
            "text/plain": [
              "<IPython.core.display.HTML object>"
            ]
          },
          "metadata": {
            "tags": []
          }
        },
        {
          "output_type": "display_data",
          "data": {
            "text/html": [
              "<span style=\"color:cyan\"> |-classification_head_4/dropout_rate: 0</span>"
            ],
            "text/plain": [
              "<IPython.core.display.HTML object>"
            ]
          },
          "metadata": {
            "tags": []
          }
        },
        {
          "output_type": "display_data",
          "data": {
            "text/html": [
              "<span style=\"color:blue\"> |-classification_head_4/spatial_reduction_1/reduction_type: global_avg</span>"
            ],
            "text/plain": [
              "<IPython.core.display.HTML object>"
            ]
          },
          "metadata": {
            "tags": []
          }
        },
        {
          "output_type": "display_data",
          "data": {
            "text/html": [
              "<span style=\"color:cyan\"> |-image_block_1/augment: True</span>"
            ],
            "text/plain": [
              "<IPython.core.display.HTML object>"
            ]
          },
          "metadata": {
            "tags": []
          }
        },
        {
          "output_type": "display_data",
          "data": {
            "text/html": [
              "<span style=\"color:blue\"> |-image_block_1/block_type: vanilla</span>"
            ],
            "text/plain": [
              "<IPython.core.display.HTML object>"
            ]
          },
          "metadata": {
            "tags": []
          }
        },
        {
          "output_type": "display_data",
          "data": {
            "text/html": [
              "<span style=\"color:cyan\"> |-image_block_1/conv_block_1/dropout_rate: 0.0</span>"
            ],
            "text/plain": [
              "<IPython.core.display.HTML object>"
            ]
          },
          "metadata": {
            "tags": []
          }
        },
        {
          "output_type": "display_data",
          "data": {
            "text/html": [
              "<span style=\"color:blue\"> |-image_block_1/conv_block_1/filters_0_0: 256</span>"
            ],
            "text/plain": [
              "<IPython.core.display.HTML object>"
            ]
          },
          "metadata": {
            "tags": []
          }
        },
        {
          "output_type": "display_data",
          "data": {
            "text/html": [
              "<span style=\"color:cyan\"> |-image_block_1/conv_block_1/filters_0_1: 64</span>"
            ],
            "text/plain": [
              "<IPython.core.display.HTML object>"
            ]
          },
          "metadata": {
            "tags": []
          }
        },
        {
          "output_type": "display_data",
          "data": {
            "text/html": [
              "<span style=\"color:blue\"> |-image_block_1/conv_block_1/filters_1_0: 256</span>"
            ],
            "text/plain": [
              "<IPython.core.display.HTML object>"
            ]
          },
          "metadata": {
            "tags": []
          }
        },
        {
          "output_type": "display_data",
          "data": {
            "text/html": [
              "<span style=\"color:cyan\"> |-image_block_1/conv_block_1/filters_1_1: 32</span>"
            ],
            "text/plain": [
              "<IPython.core.display.HTML object>"
            ]
          },
          "metadata": {
            "tags": []
          }
        },
        {
          "output_type": "display_data",
          "data": {
            "text/html": [
              "<span style=\"color:blue\"> |-image_block_1/conv_block_1/filters_2_0: 64</span>"
            ],
            "text/plain": [
              "<IPython.core.display.HTML object>"
            ]
          },
          "metadata": {
            "tags": []
          }
        },
        {
          "output_type": "display_data",
          "data": {
            "text/html": [
              "<span style=\"color:cyan\"> |-image_block_1/conv_block_1/filters_2_1: 32</span>"
            ],
            "text/plain": [
              "<IPython.core.display.HTML object>"
            ]
          },
          "metadata": {
            "tags": []
          }
        },
        {
          "output_type": "display_data",
          "data": {
            "text/html": [
              "<span style=\"color:blue\"> |-image_block_1/conv_block_1/kernel_size: 3</span>"
            ],
            "text/plain": [
              "<IPython.core.display.HTML object>"
            ]
          },
          "metadata": {
            "tags": []
          }
        },
        {
          "output_type": "display_data",
          "data": {
            "text/html": [
              "<span style=\"color:cyan\"> |-image_block_1/conv_block_1/max_pooling: False</span>"
            ],
            "text/plain": [
              "<IPython.core.display.HTML object>"
            ]
          },
          "metadata": {
            "tags": []
          }
        },
        {
          "output_type": "display_data",
          "data": {
            "text/html": [
              "<span style=\"color:blue\"> |-image_block_1/conv_block_1/num_blocks: 1</span>"
            ],
            "text/plain": [
              "<IPython.core.display.HTML object>"
            ]
          },
          "metadata": {
            "tags": []
          }
        },
        {
          "output_type": "display_data",
          "data": {
            "text/html": [
              "<span style=\"color:cyan\"> |-image_block_1/conv_block_1/num_layers: 2</span>"
            ],
            "text/plain": [
              "<IPython.core.display.HTML object>"
            ]
          },
          "metadata": {
            "tags": []
          }
        },
        {
          "output_type": "display_data",
          "data": {
            "text/html": [
              "<span style=\"color:blue\"> |-image_block_1/conv_block_1/separable: False</span>"
            ],
            "text/plain": [
              "<IPython.core.display.HTML object>"
            ]
          },
          "metadata": {
            "tags": []
          }
        },
        {
          "output_type": "display_data",
          "data": {
            "text/html": [
              "<span style=\"color:cyan\"> |-image_block_1/normalize: True</span>"
            ],
            "text/plain": [
              "<IPython.core.display.HTML object>"
            ]
          },
          "metadata": {
            "tags": []
          }
        },
        {
          "output_type": "display_data",
          "data": {
            "text/html": [
              "<span style=\"color:blue\"> |-image_block_2/augment: False</span>"
            ],
            "text/plain": [
              "<IPython.core.display.HTML object>"
            ]
          },
          "metadata": {
            "tags": []
          }
        },
        {
          "output_type": "display_data",
          "data": {
            "text/html": [
              "<span style=\"color:cyan\"> |-image_block_2/block_type: vanilla</span>"
            ],
            "text/plain": [
              "<IPython.core.display.HTML object>"
            ]
          },
          "metadata": {
            "tags": []
          }
        },
        {
          "output_type": "display_data",
          "data": {
            "text/html": [
              "<span style=\"color:blue\"> |-image_block_2/conv_block_1/dropout_rate: 0</span>"
            ],
            "text/plain": [
              "<IPython.core.display.HTML object>"
            ]
          },
          "metadata": {
            "tags": []
          }
        },
        {
          "output_type": "display_data",
          "data": {
            "text/html": [
              "<span style=\"color:cyan\"> |-image_block_2/conv_block_1/filters_0_0: 32</span>"
            ],
            "text/plain": [
              "<IPython.core.display.HTML object>"
            ]
          },
          "metadata": {
            "tags": []
          }
        },
        {
          "output_type": "display_data",
          "data": {
            "text/html": [
              "<span style=\"color:blue\"> |-image_block_2/conv_block_1/filters_0_1: 32</span>"
            ],
            "text/plain": [
              "<IPython.core.display.HTML object>"
            ]
          },
          "metadata": {
            "tags": []
          }
        },
        {
          "output_type": "display_data",
          "data": {
            "text/html": [
              "<span style=\"color:cyan\"> |-image_block_2/conv_block_1/filters_1_0: 32</span>"
            ],
            "text/plain": [
              "<IPython.core.display.HTML object>"
            ]
          },
          "metadata": {
            "tags": []
          }
        },
        {
          "output_type": "display_data",
          "data": {
            "text/html": [
              "<span style=\"color:blue\"> |-image_block_2/conv_block_1/filters_1_1: 32</span>"
            ],
            "text/plain": [
              "<IPython.core.display.HTML object>"
            ]
          },
          "metadata": {
            "tags": []
          }
        },
        {
          "output_type": "display_data",
          "data": {
            "text/html": [
              "<span style=\"color:cyan\"> |-image_block_2/conv_block_1/kernel_size: 3</span>"
            ],
            "text/plain": [
              "<IPython.core.display.HTML object>"
            ]
          },
          "metadata": {
            "tags": []
          }
        },
        {
          "output_type": "display_data",
          "data": {
            "text/html": [
              "<span style=\"color:blue\"> |-image_block_2/conv_block_1/max_pooling: True</span>"
            ],
            "text/plain": [
              "<IPython.core.display.HTML object>"
            ]
          },
          "metadata": {
            "tags": []
          }
        },
        {
          "output_type": "display_data",
          "data": {
            "text/html": [
              "<span style=\"color:cyan\"> |-image_block_2/conv_block_1/num_blocks: 2</span>"
            ],
            "text/plain": [
              "<IPython.core.display.HTML object>"
            ]
          },
          "metadata": {
            "tags": []
          }
        },
        {
          "output_type": "display_data",
          "data": {
            "text/html": [
              "<span style=\"color:blue\"> |-image_block_2/conv_block_1/num_layers: 2</span>"
            ],
            "text/plain": [
              "<IPython.core.display.HTML object>"
            ]
          },
          "metadata": {
            "tags": []
          }
        },
        {
          "output_type": "display_data",
          "data": {
            "text/html": [
              "<span style=\"color:cyan\"> |-image_block_2/conv_block_1/separable: False</span>"
            ],
            "text/plain": [
              "<IPython.core.display.HTML object>"
            ]
          },
          "metadata": {
            "tags": []
          }
        },
        {
          "output_type": "display_data",
          "data": {
            "text/html": [
              "<span style=\"color:blue\"> |-image_block_2/normalize: False</span>"
            ],
            "text/plain": [
              "<IPython.core.display.HTML object>"
            ]
          },
          "metadata": {
            "tags": []
          }
        },
        {
          "output_type": "display_data",
          "data": {
            "text/html": [
              "<span style=\"color:cyan\"> |-optimizer: adam</span>"
            ],
            "text/plain": [
              "<IPython.core.display.HTML object>"
            ]
          },
          "metadata": {
            "tags": []
          }
        },
        {
          "output_type": "stream",
          "text": [
            "Train for 6 steps, validate for 2 steps\n",
            "Epoch 1/1000\n",
            "6/6 [==============================] - 16s 3s/step - loss: 5.7051 - accuracy: 0.4837 - val_loss: 1.6478 - val_accuracy: 0.0000e+00\n",
            "Epoch 2/1000\n",
            "6/6 [==============================] - 3s 581ms/step - loss: 1.5962 - accuracy: 0.0109 - val_loss: 1.6277 - val_accuracy: 0.0000e+00\n",
            "Epoch 3/1000\n",
            "6/6 [==============================] - 3s 566ms/step - loss: 1.6005 - accuracy: 0.5109 - val_loss: 1.6467 - val_accuracy: 0.0000e+00\n",
            "Epoch 4/1000\n",
            "6/6 [==============================] - 3s 562ms/step - loss: 1.5918 - accuracy: 0.5109 - val_loss: 1.6753 - val_accuracy: 0.0000e+00\n",
            "Epoch 5/1000\n",
            "6/6 [==============================] - 3s 566ms/step - loss: 1.5778 - accuracy: 0.5109 - val_loss: 1.7181 - val_accuracy: 0.0000e+00\n",
            "Epoch 6/1000\n",
            "6/6 [==============================] - 3s 560ms/step - loss: 1.5576 - accuracy: 0.5109 - val_loss: 1.7789 - val_accuracy: 0.0000e+00\n",
            "Epoch 7/1000\n",
            "6/6 [==============================] - 3s 559ms/step - loss: 1.5308 - accuracy: 0.5109 - val_loss: 1.8639 - val_accuracy: 0.0000e+00\n",
            "Epoch 8/1000\n",
            "6/6 [==============================] - 3s 559ms/step - loss: 1.4975 - accuracy: 0.5109 - val_loss: 1.9792 - val_accuracy: 0.0000e+00\n",
            "Epoch 9/1000\n",
            "6/6 [==============================] - 3s 557ms/step - loss: 1.4597 - accuracy: 0.5109 - val_loss: 2.1292 - val_accuracy: 0.0000e+00\n",
            "Epoch 10/1000\n",
            "6/6 [==============================] - 3s 563ms/step - loss: 1.4198 - accuracy: 0.5109 - val_loss: 2.3153 - val_accuracy: 0.0000e+00\n",
            "Epoch 11/1000\n",
            "6/6 [==============================] - 3s 563ms/step - loss: 1.3812 - accuracy: 0.5109 - val_loss: 2.5333 - val_accuracy: 0.0000e+00\n",
            "Epoch 12/1000\n",
            "6/6 [==============================] - 3s 561ms/step - loss: 1.3473 - accuracy: 0.5109 - val_loss: 2.7729 - val_accuracy: 0.0000e+00\n"
          ],
          "name": "stdout"
        },
        {
          "output_type": "display_data",
          "data": {
            "text/html": [
              "<span style=\"color:#4527A0\"><h1 style=\"font-size:18px\">Trial complete</h1></span>"
            ],
            "text/plain": [
              "<IPython.core.display.HTML object>"
            ]
          },
          "metadata": {
            "tags": []
          }
        },
        {
          "output_type": "display_data",
          "data": {
            "text/html": [
              "<span style=\"color:#4527A0\"><h1 style=\"font-size:18px\">Trial summary</h1></span>"
            ],
            "text/plain": [
              "<IPython.core.display.HTML object>"
            ]
          },
          "metadata": {
            "tags": []
          }
        },
        {
          "output_type": "display_data",
          "data": {
            "text/html": [
              "<span style=\"color:cyan\"> |-Trial ID: 2028d734e9718e871f7e57a42e227964</span>"
            ],
            "text/plain": [
              "<IPython.core.display.HTML object>"
            ]
          },
          "metadata": {
            "tags": []
          }
        },
        {
          "output_type": "display_data",
          "data": {
            "text/html": [
              "<span style=\"color:cyan\"> |-Score: 1.627718448638916</span>"
            ],
            "text/plain": [
              "<IPython.core.display.HTML object>"
            ]
          },
          "metadata": {
            "tags": []
          }
        },
        {
          "output_type": "display_data",
          "data": {
            "text/html": [
              "<span style=\"color:cyan\"> |-Best step: 0</span>"
            ],
            "text/plain": [
              "<IPython.core.display.HTML object>"
            ]
          },
          "metadata": {
            "tags": []
          }
        },
        {
          "output_type": "display_data",
          "data": {
            "text/html": [
              "<span style=\"color:#7E57C2\"><h2 style=\"font-size:16px\">Hyperparameters:</h2></span>"
            ],
            "text/plain": [
              "<IPython.core.display.HTML object>"
            ]
          },
          "metadata": {
            "tags": []
          }
        },
        {
          "output_type": "display_data",
          "data": {
            "text/html": [
              "<span style=\"color:cyan\"> |-classification_head_1/dropout_rate: 0</span>"
            ],
            "text/plain": [
              "<IPython.core.display.HTML object>"
            ]
          },
          "metadata": {
            "tags": []
          }
        },
        {
          "output_type": "display_data",
          "data": {
            "text/html": [
              "<span style=\"color:blue\"> |-classification_head_1/spatial_reduction_1/reduction_type: global_avg</span>"
            ],
            "text/plain": [
              "<IPython.core.display.HTML object>"
            ]
          },
          "metadata": {
            "tags": []
          }
        },
        {
          "output_type": "display_data",
          "data": {
            "text/html": [
              "<span style=\"color:cyan\"> |-classification_head_4/dropout_rate: 0</span>"
            ],
            "text/plain": [
              "<IPython.core.display.HTML object>"
            ]
          },
          "metadata": {
            "tags": []
          }
        },
        {
          "output_type": "display_data",
          "data": {
            "text/html": [
              "<span style=\"color:blue\"> |-classification_head_4/spatial_reduction_1/reduction_type: global_avg</span>"
            ],
            "text/plain": [
              "<IPython.core.display.HTML object>"
            ]
          },
          "metadata": {
            "tags": []
          }
        },
        {
          "output_type": "display_data",
          "data": {
            "text/html": [
              "<span style=\"color:cyan\"> |-image_block_1/augment: True</span>"
            ],
            "text/plain": [
              "<IPython.core.display.HTML object>"
            ]
          },
          "metadata": {
            "tags": []
          }
        },
        {
          "output_type": "display_data",
          "data": {
            "text/html": [
              "<span style=\"color:blue\"> |-image_block_1/block_type: vanilla</span>"
            ],
            "text/plain": [
              "<IPython.core.display.HTML object>"
            ]
          },
          "metadata": {
            "tags": []
          }
        },
        {
          "output_type": "display_data",
          "data": {
            "text/html": [
              "<span style=\"color:cyan\"> |-image_block_1/conv_block_1/dropout_rate: 0.25</span>"
            ],
            "text/plain": [
              "<IPython.core.display.HTML object>"
            ]
          },
          "metadata": {
            "tags": []
          }
        },
        {
          "output_type": "display_data",
          "data": {
            "text/html": [
              "<span style=\"color:blue\"> |-image_block_1/conv_block_1/filters_0_0: 16</span>"
            ],
            "text/plain": [
              "<IPython.core.display.HTML object>"
            ]
          },
          "metadata": {
            "tags": []
          }
        },
        {
          "output_type": "display_data",
          "data": {
            "text/html": [
              "<span style=\"color:cyan\"> |-image_block_1/conv_block_1/filters_0_1: 32</span>"
            ],
            "text/plain": [
              "<IPython.core.display.HTML object>"
            ]
          },
          "metadata": {
            "tags": []
          }
        },
        {
          "output_type": "display_data",
          "data": {
            "text/html": [
              "<span style=\"color:blue\"> |-image_block_1/conv_block_1/filters_1_0: 64</span>"
            ],
            "text/plain": [
              "<IPython.core.display.HTML object>"
            ]
          },
          "metadata": {
            "tags": []
          }
        },
        {
          "output_type": "display_data",
          "data": {
            "text/html": [
              "<span style=\"color:cyan\"> |-image_block_1/conv_block_1/filters_1_1: 128</span>"
            ],
            "text/plain": [
              "<IPython.core.display.HTML object>"
            ]
          },
          "metadata": {
            "tags": []
          }
        },
        {
          "output_type": "display_data",
          "data": {
            "text/html": [
              "<span style=\"color:blue\"> |-image_block_1/conv_block_1/filters_2_0: 128</span>"
            ],
            "text/plain": [
              "<IPython.core.display.HTML object>"
            ]
          },
          "metadata": {
            "tags": []
          }
        },
        {
          "output_type": "display_data",
          "data": {
            "text/html": [
              "<span style=\"color:cyan\"> |-image_block_1/conv_block_1/filters_2_1: 256</span>"
            ],
            "text/plain": [
              "<IPython.core.display.HTML object>"
            ]
          },
          "metadata": {
            "tags": []
          }
        },
        {
          "output_type": "display_data",
          "data": {
            "text/html": [
              "<span style=\"color:blue\"> |-image_block_1/conv_block_1/kernel_size: 5</span>"
            ],
            "text/plain": [
              "<IPython.core.display.HTML object>"
            ]
          },
          "metadata": {
            "tags": []
          }
        },
        {
          "output_type": "display_data",
          "data": {
            "text/html": [
              "<span style=\"color:cyan\"> |-image_block_1/conv_block_1/max_pooling: False</span>"
            ],
            "text/plain": [
              "<IPython.core.display.HTML object>"
            ]
          },
          "metadata": {
            "tags": []
          }
        },
        {
          "output_type": "display_data",
          "data": {
            "text/html": [
              "<span style=\"color:blue\"> |-image_block_1/conv_block_1/num_blocks: 3</span>"
            ],
            "text/plain": [
              "<IPython.core.display.HTML object>"
            ]
          },
          "metadata": {
            "tags": []
          }
        },
        {
          "output_type": "display_data",
          "data": {
            "text/html": [
              "<span style=\"color:cyan\"> |-image_block_1/conv_block_1/num_layers: 2</span>"
            ],
            "text/plain": [
              "<IPython.core.display.HTML object>"
            ]
          },
          "metadata": {
            "tags": []
          }
        },
        {
          "output_type": "display_data",
          "data": {
            "text/html": [
              "<span style=\"color:blue\"> |-image_block_1/conv_block_1/separable: False</span>"
            ],
            "text/plain": [
              "<IPython.core.display.HTML object>"
            ]
          },
          "metadata": {
            "tags": []
          }
        },
        {
          "output_type": "display_data",
          "data": {
            "text/html": [
              "<span style=\"color:cyan\"> |-image_block_1/normalize: True</span>"
            ],
            "text/plain": [
              "<IPython.core.display.HTML object>"
            ]
          },
          "metadata": {
            "tags": []
          }
        },
        {
          "output_type": "display_data",
          "data": {
            "text/html": [
              "<span style=\"color:blue\"> |-image_block_2/augment: False</span>"
            ],
            "text/plain": [
              "<IPython.core.display.HTML object>"
            ]
          },
          "metadata": {
            "tags": []
          }
        },
        {
          "output_type": "display_data",
          "data": {
            "text/html": [
              "<span style=\"color:cyan\"> |-image_block_2/block_type: vanilla</span>"
            ],
            "text/plain": [
              "<IPython.core.display.HTML object>"
            ]
          },
          "metadata": {
            "tags": []
          }
        },
        {
          "output_type": "display_data",
          "data": {
            "text/html": [
              "<span style=\"color:blue\"> |-image_block_2/conv_block_1/dropout_rate: 0</span>"
            ],
            "text/plain": [
              "<IPython.core.display.HTML object>"
            ]
          },
          "metadata": {
            "tags": []
          }
        },
        {
          "output_type": "display_data",
          "data": {
            "text/html": [
              "<span style=\"color:cyan\"> |-image_block_2/conv_block_1/filters_0_0: 32</span>"
            ],
            "text/plain": [
              "<IPython.core.display.HTML object>"
            ]
          },
          "metadata": {
            "tags": []
          }
        },
        {
          "output_type": "display_data",
          "data": {
            "text/html": [
              "<span style=\"color:blue\"> |-image_block_2/conv_block_1/filters_0_1: 32</span>"
            ],
            "text/plain": [
              "<IPython.core.display.HTML object>"
            ]
          },
          "metadata": {
            "tags": []
          }
        },
        {
          "output_type": "display_data",
          "data": {
            "text/html": [
              "<span style=\"color:cyan\"> |-image_block_2/conv_block_1/filters_1_0: 32</span>"
            ],
            "text/plain": [
              "<IPython.core.display.HTML object>"
            ]
          },
          "metadata": {
            "tags": []
          }
        },
        {
          "output_type": "display_data",
          "data": {
            "text/html": [
              "<span style=\"color:blue\"> |-image_block_2/conv_block_1/filters_1_1: 32</span>"
            ],
            "text/plain": [
              "<IPython.core.display.HTML object>"
            ]
          },
          "metadata": {
            "tags": []
          }
        },
        {
          "output_type": "display_data",
          "data": {
            "text/html": [
              "<span style=\"color:cyan\"> |-image_block_2/conv_block_1/kernel_size: 3</span>"
            ],
            "text/plain": [
              "<IPython.core.display.HTML object>"
            ]
          },
          "metadata": {
            "tags": []
          }
        },
        {
          "output_type": "display_data",
          "data": {
            "text/html": [
              "<span style=\"color:blue\"> |-image_block_2/conv_block_1/max_pooling: True</span>"
            ],
            "text/plain": [
              "<IPython.core.display.HTML object>"
            ]
          },
          "metadata": {
            "tags": []
          }
        },
        {
          "output_type": "display_data",
          "data": {
            "text/html": [
              "<span style=\"color:cyan\"> |-image_block_2/conv_block_1/num_blocks: 2</span>"
            ],
            "text/plain": [
              "<IPython.core.display.HTML object>"
            ]
          },
          "metadata": {
            "tags": []
          }
        },
        {
          "output_type": "display_data",
          "data": {
            "text/html": [
              "<span style=\"color:blue\"> |-image_block_2/conv_block_1/num_layers: 2</span>"
            ],
            "text/plain": [
              "<IPython.core.display.HTML object>"
            ]
          },
          "metadata": {
            "tags": []
          }
        },
        {
          "output_type": "display_data",
          "data": {
            "text/html": [
              "<span style=\"color:cyan\"> |-image_block_2/conv_block_1/separable: False</span>"
            ],
            "text/plain": [
              "<IPython.core.display.HTML object>"
            ]
          },
          "metadata": {
            "tags": []
          }
        },
        {
          "output_type": "display_data",
          "data": {
            "text/html": [
              "<span style=\"color:blue\"> |-image_block_2/normalize: False</span>"
            ],
            "text/plain": [
              "<IPython.core.display.HTML object>"
            ]
          },
          "metadata": {
            "tags": []
          }
        },
        {
          "output_type": "display_data",
          "data": {
            "text/html": [
              "<span style=\"color:cyan\"> |-optimizer: adam</span>"
            ],
            "text/plain": [
              "<IPython.core.display.HTML object>"
            ]
          },
          "metadata": {
            "tags": []
          }
        },
        {
          "output_type": "stream",
          "text": [
            "Train for 6 steps, validate for 2 steps\n",
            "Epoch 1/1000\n",
            "6/6 [==============================] - 14s 2s/step - loss: 2.9483 - accuracy: 0.3370 - val_loss: 2.3912 - val_accuracy: 0.0000e+00\n",
            "Epoch 2/1000\n",
            "6/6 [==============================] - 2s 302ms/step - loss: 1.3073 - accuracy: 0.5163 - val_loss: 3.3620 - val_accuracy: 0.0000e+00\n",
            "Epoch 3/1000\n",
            "6/6 [==============================] - 2s 299ms/step - loss: 1.5696 - accuracy: 0.1413 - val_loss: 5.6970 - val_accuracy: 0.0000e+00\n",
            "Epoch 4/1000\n",
            "6/6 [==============================] - 2s 301ms/step - loss: 1.4779 - accuracy: 0.2989 - val_loss: 7.4143 - val_accuracy: 0.0000e+00\n",
            "Epoch 5/1000\n",
            "6/6 [==============================] - 2s 299ms/step - loss: 1.6301 - accuracy: 0.3098 - val_loss: 5.8204 - val_accuracy: 0.0000e+00\n",
            "Epoch 6/1000\n",
            "6/6 [==============================] - 2s 299ms/step - loss: 1.3054 - accuracy: 0.4891 - val_loss: 13.6324 - val_accuracy: 0.0000e+00\n",
            "Epoch 7/1000\n",
            "6/6 [==============================] - 2s 300ms/step - loss: 0.9545 - accuracy: 0.6576 - val_loss: 16.8736 - val_accuracy: 0.0000e+00\n",
            "Epoch 8/1000\n",
            "6/6 [==============================] - 2s 300ms/step - loss: 0.8187 - accuracy: 0.6467 - val_loss: 18.1697 - val_accuracy: 0.0000e+00\n",
            "Epoch 9/1000\n",
            "6/6 [==============================] - 2s 300ms/step - loss: 0.8227 - accuracy: 0.6957 - val_loss: 22.8287 - val_accuracy: 0.0000e+00\n",
            "Epoch 10/1000\n",
            "6/6 [==============================] - 2s 297ms/step - loss: 0.9233 - accuracy: 0.5707 - val_loss: 17.3997 - val_accuracy: 0.0000e+00\n",
            "Epoch 11/1000\n",
            "6/6 [==============================] - 2s 302ms/step - loss: 1.3789 - accuracy: 0.4130 - val_loss: 16.9266 - val_accuracy: 0.0000e+00\n"
          ],
          "name": "stdout"
        },
        {
          "output_type": "display_data",
          "data": {
            "text/html": [
              "<span style=\"color:#4527A0\"><h1 style=\"font-size:18px\">Trial complete</h1></span>"
            ],
            "text/plain": [
              "<IPython.core.display.HTML object>"
            ]
          },
          "metadata": {
            "tags": []
          }
        },
        {
          "output_type": "display_data",
          "data": {
            "text/html": [
              "<span style=\"color:#4527A0\"><h1 style=\"font-size:18px\">Trial summary</h1></span>"
            ],
            "text/plain": [
              "<IPython.core.display.HTML object>"
            ]
          },
          "metadata": {
            "tags": []
          }
        },
        {
          "output_type": "display_data",
          "data": {
            "text/html": [
              "<span style=\"color:cyan\"> |-Trial ID: 1482e315ff29063f8cc8ed9dee643100</span>"
            ],
            "text/plain": [
              "<IPython.core.display.HTML object>"
            ]
          },
          "metadata": {
            "tags": []
          }
        },
        {
          "output_type": "display_data",
          "data": {
            "text/html": [
              "<span style=\"color:cyan\"> |-Score: 2.3911526203155518</span>"
            ],
            "text/plain": [
              "<IPython.core.display.HTML object>"
            ]
          },
          "metadata": {
            "tags": []
          }
        },
        {
          "output_type": "display_data",
          "data": {
            "text/html": [
              "<span style=\"color:cyan\"> |-Best step: 0</span>"
            ],
            "text/plain": [
              "<IPython.core.display.HTML object>"
            ]
          },
          "metadata": {
            "tags": []
          }
        },
        {
          "output_type": "display_data",
          "data": {
            "text/html": [
              "<span style=\"color:#7E57C2\"><h2 style=\"font-size:16px\">Hyperparameters:</h2></span>"
            ],
            "text/plain": [
              "<IPython.core.display.HTML object>"
            ]
          },
          "metadata": {
            "tags": []
          }
        },
        {
          "output_type": "display_data",
          "data": {
            "text/html": [
              "<span style=\"color:cyan\"> |-classification_head_1/dropout_rate: 0</span>"
            ],
            "text/plain": [
              "<IPython.core.display.HTML object>"
            ]
          },
          "metadata": {
            "tags": []
          }
        },
        {
          "output_type": "display_data",
          "data": {
            "text/html": [
              "<span style=\"color:blue\"> |-classification_head_4/dropout_rate: 0</span>"
            ],
            "text/plain": [
              "<IPython.core.display.HTML object>"
            ]
          },
          "metadata": {
            "tags": []
          }
        },
        {
          "output_type": "display_data",
          "data": {
            "text/html": [
              "<span style=\"color:cyan\"> |-classification_head_4/spatial_reduction_1/reduction_type: global_avg</span>"
            ],
            "text/plain": [
              "<IPython.core.display.HTML object>"
            ]
          },
          "metadata": {
            "tags": []
          }
        },
        {
          "output_type": "display_data",
          "data": {
            "text/html": [
              "<span style=\"color:blue\"> |-image_block_1/augment: False</span>"
            ],
            "text/plain": [
              "<IPython.core.display.HTML object>"
            ]
          },
          "metadata": {
            "tags": []
          }
        },
        {
          "output_type": "display_data",
          "data": {
            "text/html": [
              "<span style=\"color:cyan\"> |-image_block_1/block_type: resnet</span>"
            ],
            "text/plain": [
              "<IPython.core.display.HTML object>"
            ]
          },
          "metadata": {
            "tags": []
          }
        },
        {
          "output_type": "display_data",
          "data": {
            "text/html": [
              "<span style=\"color:blue\"> |-image_block_1/conv_block_1/dropout_rate: 0.5</span>"
            ],
            "text/plain": [
              "<IPython.core.display.HTML object>"
            ]
          },
          "metadata": {
            "tags": []
          }
        },
        {
          "output_type": "display_data",
          "data": {
            "text/html": [
              "<span style=\"color:cyan\"> |-image_block_1/conv_block_1/filters_0_0: 16</span>"
            ],
            "text/plain": [
              "<IPython.core.display.HTML object>"
            ]
          },
          "metadata": {
            "tags": []
          }
        },
        {
          "output_type": "display_data",
          "data": {
            "text/html": [
              "<span style=\"color:blue\"> |-image_block_1/conv_block_1/filters_0_1: 256</span>"
            ],
            "text/plain": [
              "<IPython.core.display.HTML object>"
            ]
          },
          "metadata": {
            "tags": []
          }
        },
        {
          "output_type": "display_data",
          "data": {
            "text/html": [
              "<span style=\"color:cyan\"> |-image_block_1/conv_block_1/filters_1_0: 64</span>"
            ],
            "text/plain": [
              "<IPython.core.display.HTML object>"
            ]
          },
          "metadata": {
            "tags": []
          }
        },
        {
          "output_type": "display_data",
          "data": {
            "text/html": [
              "<span style=\"color:blue\"> |-image_block_1/conv_block_1/filters_1_1: 64</span>"
            ],
            "text/plain": [
              "<IPython.core.display.HTML object>"
            ]
          },
          "metadata": {
            "tags": []
          }
        },
        {
          "output_type": "display_data",
          "data": {
            "text/html": [
              "<span style=\"color:cyan\"> |-image_block_1/conv_block_1/filters_2_0: 256</span>"
            ],
            "text/plain": [
              "<IPython.core.display.HTML object>"
            ]
          },
          "metadata": {
            "tags": []
          }
        },
        {
          "output_type": "display_data",
          "data": {
            "text/html": [
              "<span style=\"color:blue\"> |-image_block_1/conv_block_1/filters_2_1: 64</span>"
            ],
            "text/plain": [
              "<IPython.core.display.HTML object>"
            ]
          },
          "metadata": {
            "tags": []
          }
        },
        {
          "output_type": "display_data",
          "data": {
            "text/html": [
              "<span style=\"color:cyan\"> |-image_block_1/conv_block_1/kernel_size: 7</span>"
            ],
            "text/plain": [
              "<IPython.core.display.HTML object>"
            ]
          },
          "metadata": {
            "tags": []
          }
        },
        {
          "output_type": "display_data",
          "data": {
            "text/html": [
              "<span style=\"color:blue\"> |-image_block_1/conv_block_1/max_pooling: True</span>"
            ],
            "text/plain": [
              "<IPython.core.display.HTML object>"
            ]
          },
          "metadata": {
            "tags": []
          }
        },
        {
          "output_type": "display_data",
          "data": {
            "text/html": [
              "<span style=\"color:cyan\"> |-image_block_1/conv_block_1/num_blocks: 3</span>"
            ],
            "text/plain": [
              "<IPython.core.display.HTML object>"
            ]
          },
          "metadata": {
            "tags": []
          }
        },
        {
          "output_type": "display_data",
          "data": {
            "text/html": [
              "<span style=\"color:blue\"> |-image_block_1/conv_block_1/num_layers: 2</span>"
            ],
            "text/plain": [
              "<IPython.core.display.HTML object>"
            ]
          },
          "metadata": {
            "tags": []
          }
        },
        {
          "output_type": "display_data",
          "data": {
            "text/html": [
              "<span style=\"color:cyan\"> |-image_block_1/conv_block_1/separable: True</span>"
            ],
            "text/plain": [
              "<IPython.core.display.HTML object>"
            ]
          },
          "metadata": {
            "tags": []
          }
        },
        {
          "output_type": "display_data",
          "data": {
            "text/html": [
              "<span style=\"color:blue\"> |-image_block_1/normalize: True</span>"
            ],
            "text/plain": [
              "<IPython.core.display.HTML object>"
            ]
          },
          "metadata": {
            "tags": []
          }
        },
        {
          "output_type": "display_data",
          "data": {
            "text/html": [
              "<span style=\"color:cyan\"> |-image_block_1/res_net_block_1/conv3_depth: 4</span>"
            ],
            "text/plain": [
              "<IPython.core.display.HTML object>"
            ]
          },
          "metadata": {
            "tags": []
          }
        },
        {
          "output_type": "display_data",
          "data": {
            "text/html": [
              "<span style=\"color:blue\"> |-image_block_1/res_net_block_1/conv4_depth: 6</span>"
            ],
            "text/plain": [
              "<IPython.core.display.HTML object>"
            ]
          },
          "metadata": {
            "tags": []
          }
        },
        {
          "output_type": "display_data",
          "data": {
            "text/html": [
              "<span style=\"color:cyan\"> |-image_block_1/res_net_block_1/pooling: avg</span>"
            ],
            "text/plain": [
              "<IPython.core.display.HTML object>"
            ]
          },
          "metadata": {
            "tags": []
          }
        },
        {
          "output_type": "display_data",
          "data": {
            "text/html": [
              "<span style=\"color:blue\"> |-image_block_1/res_net_block_1/version: v2</span>"
            ],
            "text/plain": [
              "<IPython.core.display.HTML object>"
            ]
          },
          "metadata": {
            "tags": []
          }
        },
        {
          "output_type": "display_data",
          "data": {
            "text/html": [
              "<span style=\"color:cyan\"> |-image_block_2/augment: False</span>"
            ],
            "text/plain": [
              "<IPython.core.display.HTML object>"
            ]
          },
          "metadata": {
            "tags": []
          }
        },
        {
          "output_type": "display_data",
          "data": {
            "text/html": [
              "<span style=\"color:blue\"> |-image_block_2/block_type: vanilla</span>"
            ],
            "text/plain": [
              "<IPython.core.display.HTML object>"
            ]
          },
          "metadata": {
            "tags": []
          }
        },
        {
          "output_type": "display_data",
          "data": {
            "text/html": [
              "<span style=\"color:cyan\"> |-image_block_2/conv_block_1/dropout_rate: 0</span>"
            ],
            "text/plain": [
              "<IPython.core.display.HTML object>"
            ]
          },
          "metadata": {
            "tags": []
          }
        },
        {
          "output_type": "display_data",
          "data": {
            "text/html": [
              "<span style=\"color:blue\"> |-image_block_2/conv_block_1/filters_0_0: 32</span>"
            ],
            "text/plain": [
              "<IPython.core.display.HTML object>"
            ]
          },
          "metadata": {
            "tags": []
          }
        },
        {
          "output_type": "display_data",
          "data": {
            "text/html": [
              "<span style=\"color:cyan\"> |-image_block_2/conv_block_1/filters_0_1: 32</span>"
            ],
            "text/plain": [
              "<IPython.core.display.HTML object>"
            ]
          },
          "metadata": {
            "tags": []
          }
        },
        {
          "output_type": "display_data",
          "data": {
            "text/html": [
              "<span style=\"color:blue\"> |-image_block_2/conv_block_1/filters_1_0: 32</span>"
            ],
            "text/plain": [
              "<IPython.core.display.HTML object>"
            ]
          },
          "metadata": {
            "tags": []
          }
        },
        {
          "output_type": "display_data",
          "data": {
            "text/html": [
              "<span style=\"color:cyan\"> |-image_block_2/conv_block_1/filters_1_1: 32</span>"
            ],
            "text/plain": [
              "<IPython.core.display.HTML object>"
            ]
          },
          "metadata": {
            "tags": []
          }
        },
        {
          "output_type": "display_data",
          "data": {
            "text/html": [
              "<span style=\"color:blue\"> |-image_block_2/conv_block_1/kernel_size: 3</span>"
            ],
            "text/plain": [
              "<IPython.core.display.HTML object>"
            ]
          },
          "metadata": {
            "tags": []
          }
        },
        {
          "output_type": "display_data",
          "data": {
            "text/html": [
              "<span style=\"color:cyan\"> |-image_block_2/conv_block_1/max_pooling: True</span>"
            ],
            "text/plain": [
              "<IPython.core.display.HTML object>"
            ]
          },
          "metadata": {
            "tags": []
          }
        },
        {
          "output_type": "display_data",
          "data": {
            "text/html": [
              "<span style=\"color:blue\"> |-image_block_2/conv_block_1/num_blocks: 2</span>"
            ],
            "text/plain": [
              "<IPython.core.display.HTML object>"
            ]
          },
          "metadata": {
            "tags": []
          }
        },
        {
          "output_type": "display_data",
          "data": {
            "text/html": [
              "<span style=\"color:cyan\"> |-image_block_2/conv_block_1/num_layers: 2</span>"
            ],
            "text/plain": [
              "<IPython.core.display.HTML object>"
            ]
          },
          "metadata": {
            "tags": []
          }
        },
        {
          "output_type": "display_data",
          "data": {
            "text/html": [
              "<span style=\"color:blue\"> |-image_block_2/conv_block_1/separable: False</span>"
            ],
            "text/plain": [
              "<IPython.core.display.HTML object>"
            ]
          },
          "metadata": {
            "tags": []
          }
        },
        {
          "output_type": "display_data",
          "data": {
            "text/html": [
              "<span style=\"color:cyan\"> |-image_block_2/normalize: False</span>"
            ],
            "text/plain": [
              "<IPython.core.display.HTML object>"
            ]
          },
          "metadata": {
            "tags": []
          }
        },
        {
          "output_type": "display_data",
          "data": {
            "text/html": [
              "<span style=\"color:blue\"> |-optimizer: adam</span>"
            ],
            "text/plain": [
              "<IPython.core.display.HTML object>"
            ]
          },
          "metadata": {
            "tags": []
          }
        },
        {
          "output_type": "stream",
          "text": [
            "Train for 6 steps, validate for 2 steps\n",
            "Epoch 1/1000\n",
            "6/6 [==============================] - 29s 5s/step - loss: 4.2897 - accuracy: 0.3533 - val_loss: 172764.6719 - val_accuracy: 0.2444\n",
            "Epoch 2/1000\n",
            "6/6 [==============================] - 4s 676ms/step - loss: 3.1979 - accuracy: 0.3315 - val_loss: 27478303.0000 - val_accuracy: 0.0000e+00\n",
            "Epoch 3/1000\n",
            "6/6 [==============================] - 4s 682ms/step - loss: 1.6339 - accuracy: 0.5000 - val_loss: 12552309.0000 - val_accuracy: 0.0000e+00\n",
            "Epoch 4/1000\n",
            "6/6 [==============================] - 4s 680ms/step - loss: 1.5700 - accuracy: 0.1902 - val_loss: 1049178.9375 - val_accuracy: 0.2222\n",
            "Epoch 5/1000\n",
            "6/6 [==============================] - 7s 1s/step - loss: 1.6230 - accuracy: 0.4946 - val_loss: 9563.8340 - val_accuracy: 0.0000e+00\n",
            "Epoch 6/1000\n",
            "6/6 [==============================] - 7s 1s/step - loss: 1.5456 - accuracy: 0.5000 - val_loss: 2.9003 - val_accuracy: 0.0000e+00\n",
            "Epoch 7/1000\n",
            "6/6 [==============================] - 4s 681ms/step - loss: 1.2610 - accuracy: 0.5054 - val_loss: 3.1100 - val_accuracy: 0.0000e+00\n",
            "Epoch 8/1000\n",
            "6/6 [==============================] - 4s 686ms/step - loss: 1.4417 - accuracy: 0.4891 - val_loss: 3.2987 - val_accuracy: 0.0000e+00\n",
            "Epoch 9/1000\n",
            "6/6 [==============================] - 4s 682ms/step - loss: 1.2882 - accuracy: 0.5163 - val_loss: 3.4667 - val_accuracy: 0.0000e+00\n",
            "Epoch 10/1000\n",
            "6/6 [==============================] - 4s 680ms/step - loss: 1.2767 - accuracy: 0.5054 - val_loss: 3.6356 - val_accuracy: 0.0000e+00\n",
            "Epoch 11/1000\n",
            "6/6 [==============================] - 4s 679ms/step - loss: 1.2680 - accuracy: 0.4946 - val_loss: 3.7729 - val_accuracy: 0.0000e+00\n",
            "Epoch 12/1000\n",
            "6/6 [==============================] - 4s 683ms/step - loss: 1.1599 - accuracy: 0.5163 - val_loss: 3.8934 - val_accuracy: 0.0000e+00\n",
            "Epoch 13/1000\n",
            "6/6 [==============================] - 4s 680ms/step - loss: 1.0230 - accuracy: 0.6793 - val_loss: 4.0146 - val_accuracy: 0.0000e+00\n",
            "Epoch 14/1000\n",
            "6/6 [==============================] - 4s 680ms/step - loss: 1.0044 - accuracy: 0.5380 - val_loss: 4.1542 - val_accuracy: 0.0000e+00\n",
            "Epoch 15/1000\n",
            "6/6 [==============================] - 4s 684ms/step - loss: 0.8922 - accuracy: 0.6957 - val_loss: 4.2878 - val_accuracy: 0.0000e+00\n",
            "Epoch 16/1000\n",
            "6/6 [==============================] - 4s 678ms/step - loss: 0.8610 - accuracy: 0.7826 - val_loss: 4.3690 - val_accuracy: 0.0000e+00\n"
          ],
          "name": "stdout"
        },
        {
          "output_type": "display_data",
          "data": {
            "text/html": [
              "<span style=\"color:#4527A0\"><h1 style=\"font-size:18px\">Trial complete</h1></span>"
            ],
            "text/plain": [
              "<IPython.core.display.HTML object>"
            ]
          },
          "metadata": {
            "tags": []
          }
        },
        {
          "output_type": "display_data",
          "data": {
            "text/html": [
              "<span style=\"color:#4527A0\"><h1 style=\"font-size:18px\">Trial summary</h1></span>"
            ],
            "text/plain": [
              "<IPython.core.display.HTML object>"
            ]
          },
          "metadata": {
            "tags": []
          }
        },
        {
          "output_type": "display_data",
          "data": {
            "text/html": [
              "<span style=\"color:cyan\"> |-Trial ID: b736ec347ca2c80d4229342854f2453d</span>"
            ],
            "text/plain": [
              "<IPython.core.display.HTML object>"
            ]
          },
          "metadata": {
            "tags": []
          }
        },
        {
          "output_type": "display_data",
          "data": {
            "text/html": [
              "<span style=\"color:cyan\"> |-Score: 2.900333285331726</span>"
            ],
            "text/plain": [
              "<IPython.core.display.HTML object>"
            ]
          },
          "metadata": {
            "tags": []
          }
        },
        {
          "output_type": "display_data",
          "data": {
            "text/html": [
              "<span style=\"color:cyan\"> |-Best step: 0</span>"
            ],
            "text/plain": [
              "<IPython.core.display.HTML object>"
            ]
          },
          "metadata": {
            "tags": []
          }
        },
        {
          "output_type": "display_data",
          "data": {
            "text/html": [
              "<span style=\"color:#7E57C2\"><h2 style=\"font-size:16px\">Hyperparameters:</h2></span>"
            ],
            "text/plain": [
              "<IPython.core.display.HTML object>"
            ]
          },
          "metadata": {
            "tags": []
          }
        },
        {
          "output_type": "display_data",
          "data": {
            "text/html": [
              "<span style=\"color:cyan\"> |-classification_head_1/dropout_rate: 0</span>"
            ],
            "text/plain": [
              "<IPython.core.display.HTML object>"
            ]
          },
          "metadata": {
            "tags": []
          }
        },
        {
          "output_type": "display_data",
          "data": {
            "text/html": [
              "<span style=\"color:blue\"> |-classification_head_4/dropout_rate: 0</span>"
            ],
            "text/plain": [
              "<IPython.core.display.HTML object>"
            ]
          },
          "metadata": {
            "tags": []
          }
        },
        {
          "output_type": "display_data",
          "data": {
            "text/html": [
              "<span style=\"color:cyan\"> |-classification_head_4/spatial_reduction_1/reduction_type: global_avg</span>"
            ],
            "text/plain": [
              "<IPython.core.display.HTML object>"
            ]
          },
          "metadata": {
            "tags": []
          }
        },
        {
          "output_type": "display_data",
          "data": {
            "text/html": [
              "<span style=\"color:blue\"> |-image_block_1/augment: True</span>"
            ],
            "text/plain": [
              "<IPython.core.display.HTML object>"
            ]
          },
          "metadata": {
            "tags": []
          }
        },
        {
          "output_type": "display_data",
          "data": {
            "text/html": [
              "<span style=\"color:cyan\"> |-image_block_1/block_type: resnet</span>"
            ],
            "text/plain": [
              "<IPython.core.display.HTML object>"
            ]
          },
          "metadata": {
            "tags": []
          }
        },
        {
          "output_type": "display_data",
          "data": {
            "text/html": [
              "<span style=\"color:blue\"> |-image_block_1/conv_block_1/dropout_rate: 0.0</span>"
            ],
            "text/plain": [
              "<IPython.core.display.HTML object>"
            ]
          },
          "metadata": {
            "tags": []
          }
        },
        {
          "output_type": "display_data",
          "data": {
            "text/html": [
              "<span style=\"color:cyan\"> |-image_block_1/conv_block_1/filters_0_0: 32</span>"
            ],
            "text/plain": [
              "<IPython.core.display.HTML object>"
            ]
          },
          "metadata": {
            "tags": []
          }
        },
        {
          "output_type": "display_data",
          "data": {
            "text/html": [
              "<span style=\"color:blue\"> |-image_block_1/conv_block_1/filters_0_1: 512</span>"
            ],
            "text/plain": [
              "<IPython.core.display.HTML object>"
            ]
          },
          "metadata": {
            "tags": []
          }
        },
        {
          "output_type": "display_data",
          "data": {
            "text/html": [
              "<span style=\"color:cyan\"> |-image_block_1/conv_block_1/filters_1_0: 32</span>"
            ],
            "text/plain": [
              "<IPython.core.display.HTML object>"
            ]
          },
          "metadata": {
            "tags": []
          }
        },
        {
          "output_type": "display_data",
          "data": {
            "text/html": [
              "<span style=\"color:blue\"> |-image_block_1/conv_block_1/filters_1_1: 256</span>"
            ],
            "text/plain": [
              "<IPython.core.display.HTML object>"
            ]
          },
          "metadata": {
            "tags": []
          }
        },
        {
          "output_type": "display_data",
          "data": {
            "text/html": [
              "<span style=\"color:cyan\"> |-image_block_1/conv_block_1/filters_2_0: 128</span>"
            ],
            "text/plain": [
              "<IPython.core.display.HTML object>"
            ]
          },
          "metadata": {
            "tags": []
          }
        },
        {
          "output_type": "display_data",
          "data": {
            "text/html": [
              "<span style=\"color:blue\"> |-image_block_1/conv_block_1/filters_2_1: 128</span>"
            ],
            "text/plain": [
              "<IPython.core.display.HTML object>"
            ]
          },
          "metadata": {
            "tags": []
          }
        },
        {
          "output_type": "display_data",
          "data": {
            "text/html": [
              "<span style=\"color:cyan\"> |-image_block_1/conv_block_1/kernel_size: 7</span>"
            ],
            "text/plain": [
              "<IPython.core.display.HTML object>"
            ]
          },
          "metadata": {
            "tags": []
          }
        },
        {
          "output_type": "display_data",
          "data": {
            "text/html": [
              "<span style=\"color:blue\"> |-image_block_1/conv_block_1/max_pooling: True</span>"
            ],
            "text/plain": [
              "<IPython.core.display.HTML object>"
            ]
          },
          "metadata": {
            "tags": []
          }
        },
        {
          "output_type": "display_data",
          "data": {
            "text/html": [
              "<span style=\"color:cyan\"> |-image_block_1/conv_block_1/num_blocks: 2</span>"
            ],
            "text/plain": [
              "<IPython.core.display.HTML object>"
            ]
          },
          "metadata": {
            "tags": []
          }
        },
        {
          "output_type": "display_data",
          "data": {
            "text/html": [
              "<span style=\"color:blue\"> |-image_block_1/conv_block_1/num_layers: 2</span>"
            ],
            "text/plain": [
              "<IPython.core.display.HTML object>"
            ]
          },
          "metadata": {
            "tags": []
          }
        },
        {
          "output_type": "display_data",
          "data": {
            "text/html": [
              "<span style=\"color:cyan\"> |-image_block_1/conv_block_1/separable: False</span>"
            ],
            "text/plain": [
              "<IPython.core.display.HTML object>"
            ]
          },
          "metadata": {
            "tags": []
          }
        },
        {
          "output_type": "display_data",
          "data": {
            "text/html": [
              "<span style=\"color:blue\"> |-image_block_1/normalize: True</span>"
            ],
            "text/plain": [
              "<IPython.core.display.HTML object>"
            ]
          },
          "metadata": {
            "tags": []
          }
        },
        {
          "output_type": "display_data",
          "data": {
            "text/html": [
              "<span style=\"color:cyan\"> |-image_block_1/res_net_block_1/conv3_depth: 4</span>"
            ],
            "text/plain": [
              "<IPython.core.display.HTML object>"
            ]
          },
          "metadata": {
            "tags": []
          }
        },
        {
          "output_type": "display_data",
          "data": {
            "text/html": [
              "<span style=\"color:blue\"> |-image_block_1/res_net_block_1/conv4_depth: 36</span>"
            ],
            "text/plain": [
              "<IPython.core.display.HTML object>"
            ]
          },
          "metadata": {
            "tags": []
          }
        },
        {
          "output_type": "display_data",
          "data": {
            "text/html": [
              "<span style=\"color:cyan\"> |-image_block_1/res_net_block_1/pooling: avg</span>"
            ],
            "text/plain": [
              "<IPython.core.display.HTML object>"
            ]
          },
          "metadata": {
            "tags": []
          }
        },
        {
          "output_type": "display_data",
          "data": {
            "text/html": [
              "<span style=\"color:blue\"> |-image_block_1/res_net_block_1/version: v1</span>"
            ],
            "text/plain": [
              "<IPython.core.display.HTML object>"
            ]
          },
          "metadata": {
            "tags": []
          }
        },
        {
          "output_type": "display_data",
          "data": {
            "text/html": [
              "<span style=\"color:cyan\"> |-image_block_2/augment: False</span>"
            ],
            "text/plain": [
              "<IPython.core.display.HTML object>"
            ]
          },
          "metadata": {
            "tags": []
          }
        },
        {
          "output_type": "display_data",
          "data": {
            "text/html": [
              "<span style=\"color:blue\"> |-image_block_2/block_type: vanilla</span>"
            ],
            "text/plain": [
              "<IPython.core.display.HTML object>"
            ]
          },
          "metadata": {
            "tags": []
          }
        },
        {
          "output_type": "display_data",
          "data": {
            "text/html": [
              "<span style=\"color:cyan\"> |-image_block_2/conv_block_1/dropout_rate: 0</span>"
            ],
            "text/plain": [
              "<IPython.core.display.HTML object>"
            ]
          },
          "metadata": {
            "tags": []
          }
        },
        {
          "output_type": "display_data",
          "data": {
            "text/html": [
              "<span style=\"color:blue\"> |-image_block_2/conv_block_1/filters_0_0: 32</span>"
            ],
            "text/plain": [
              "<IPython.core.display.HTML object>"
            ]
          },
          "metadata": {
            "tags": []
          }
        },
        {
          "output_type": "display_data",
          "data": {
            "text/html": [
              "<span style=\"color:cyan\"> |-image_block_2/conv_block_1/filters_0_1: 32</span>"
            ],
            "text/plain": [
              "<IPython.core.display.HTML object>"
            ]
          },
          "metadata": {
            "tags": []
          }
        },
        {
          "output_type": "display_data",
          "data": {
            "text/html": [
              "<span style=\"color:blue\"> |-image_block_2/conv_block_1/filters_1_0: 32</span>"
            ],
            "text/plain": [
              "<IPython.core.display.HTML object>"
            ]
          },
          "metadata": {
            "tags": []
          }
        },
        {
          "output_type": "display_data",
          "data": {
            "text/html": [
              "<span style=\"color:cyan\"> |-image_block_2/conv_block_1/filters_1_1: 32</span>"
            ],
            "text/plain": [
              "<IPython.core.display.HTML object>"
            ]
          },
          "metadata": {
            "tags": []
          }
        },
        {
          "output_type": "display_data",
          "data": {
            "text/html": [
              "<span style=\"color:blue\"> |-image_block_2/conv_block_1/kernel_size: 3</span>"
            ],
            "text/plain": [
              "<IPython.core.display.HTML object>"
            ]
          },
          "metadata": {
            "tags": []
          }
        },
        {
          "output_type": "display_data",
          "data": {
            "text/html": [
              "<span style=\"color:cyan\"> |-image_block_2/conv_block_1/max_pooling: True</span>"
            ],
            "text/plain": [
              "<IPython.core.display.HTML object>"
            ]
          },
          "metadata": {
            "tags": []
          }
        },
        {
          "output_type": "display_data",
          "data": {
            "text/html": [
              "<span style=\"color:blue\"> |-image_block_2/conv_block_1/num_blocks: 2</span>"
            ],
            "text/plain": [
              "<IPython.core.display.HTML object>"
            ]
          },
          "metadata": {
            "tags": []
          }
        },
        {
          "output_type": "display_data",
          "data": {
            "text/html": [
              "<span style=\"color:cyan\"> |-image_block_2/conv_block_1/num_layers: 2</span>"
            ],
            "text/plain": [
              "<IPython.core.display.HTML object>"
            ]
          },
          "metadata": {
            "tags": []
          }
        },
        {
          "output_type": "display_data",
          "data": {
            "text/html": [
              "<span style=\"color:blue\"> |-image_block_2/conv_block_1/separable: False</span>"
            ],
            "text/plain": [
              "<IPython.core.display.HTML object>"
            ]
          },
          "metadata": {
            "tags": []
          }
        },
        {
          "output_type": "display_data",
          "data": {
            "text/html": [
              "<span style=\"color:cyan\"> |-image_block_2/normalize: False</span>"
            ],
            "text/plain": [
              "<IPython.core.display.HTML object>"
            ]
          },
          "metadata": {
            "tags": []
          }
        },
        {
          "output_type": "display_data",
          "data": {
            "text/html": [
              "<span style=\"color:blue\"> |-optimizer: adam</span>"
            ],
            "text/plain": [
              "<IPython.core.display.HTML object>"
            ]
          },
          "metadata": {
            "tags": []
          }
        },
        {
          "output_type": "stream",
          "text": [
            "Train for 6 steps, validate for 2 steps\n",
            "Epoch 1/1000\n",
            "6/6 [==============================] - 17s 3s/step - loss: 1.6100 - accuracy: 0.3370 - val_loss: 1.6246 - val_accuracy: 0.0000e+00\n",
            "Epoch 2/1000\n",
            "6/6 [==============================] - 11s 2s/step - loss: 1.5948 - accuracy: 0.5109 - val_loss: 1.6487 - val_accuracy: 0.0000e+00\n",
            "Epoch 3/1000\n",
            "6/6 [==============================] - 11s 2s/step - loss: 1.5797 - accuracy: 0.5109 - val_loss: 1.6937 - val_accuracy: 0.0000e+00\n",
            "Epoch 4/1000\n",
            "6/6 [==============================] - 11s 2s/step - loss: 1.5540 - accuracy: 0.5109 - val_loss: 1.7969 - val_accuracy: 0.0000e+00\n",
            "Epoch 5/1000\n",
            "6/6 [==============================] - 11s 2s/step - loss: 1.5065 - accuracy: 0.5109 - val_loss: 2.0502 - val_accuracy: 0.0000e+00\n",
            "Epoch 6/1000\n",
            "6/6 [==============================] - 11s 2s/step - loss: 1.4396 - accuracy: 0.5109 - val_loss: 2.5716 - val_accuracy: 0.0000e+00\n",
            "Epoch 7/1000\n",
            "6/6 [==============================] - 11s 2s/step - loss: 1.3813 - accuracy: 0.5109 - val_loss: 3.1676 - val_accuracy: 0.0000e+00\n",
            "Epoch 8/1000\n",
            "6/6 [==============================] - 11s 2s/step - loss: 1.3225 - accuracy: 0.5109 - val_loss: 3.4044 - val_accuracy: 0.0000e+00\n",
            "Epoch 9/1000\n",
            "6/6 [==============================] - 11s 2s/step - loss: 1.2839 - accuracy: 0.5109 - val_loss: 3.4069 - val_accuracy: 0.0000e+00\n",
            "Epoch 10/1000\n",
            "6/6 [==============================] - 11s 2s/step - loss: 1.2744 - accuracy: 0.5109 - val_loss: 3.4087 - val_accuracy: 0.0000e+00\n",
            "Epoch 11/1000\n",
            "6/6 [==============================] - 11s 2s/step - loss: 1.2759 - accuracy: 0.5109 - val_loss: 3.4790 - val_accuracy: 0.0000e+00\n"
          ],
          "name": "stdout"
        },
        {
          "output_type": "display_data",
          "data": {
            "text/html": [
              "<span style=\"color:#4527A0\"><h1 style=\"font-size:18px\">Trial complete</h1></span>"
            ],
            "text/plain": [
              "<IPython.core.display.HTML object>"
            ]
          },
          "metadata": {
            "tags": []
          }
        },
        {
          "output_type": "display_data",
          "data": {
            "text/html": [
              "<span style=\"color:#4527A0\"><h1 style=\"font-size:18px\">Trial summary</h1></span>"
            ],
            "text/plain": [
              "<IPython.core.display.HTML object>"
            ]
          },
          "metadata": {
            "tags": []
          }
        },
        {
          "output_type": "display_data",
          "data": {
            "text/html": [
              "<span style=\"color:cyan\"> |-Trial ID: acc5e85cbf530f091fe4c3d019ed47fa</span>"
            ],
            "text/plain": [
              "<IPython.core.display.HTML object>"
            ]
          },
          "metadata": {
            "tags": []
          }
        },
        {
          "output_type": "display_data",
          "data": {
            "text/html": [
              "<span style=\"color:cyan\"> |-Score: 1.6246203184127808</span>"
            ],
            "text/plain": [
              "<IPython.core.display.HTML object>"
            ]
          },
          "metadata": {
            "tags": []
          }
        },
        {
          "output_type": "display_data",
          "data": {
            "text/html": [
              "<span style=\"color:cyan\"> |-Best step: 0</span>"
            ],
            "text/plain": [
              "<IPython.core.display.HTML object>"
            ]
          },
          "metadata": {
            "tags": []
          }
        },
        {
          "output_type": "display_data",
          "data": {
            "text/html": [
              "<span style=\"color:#7E57C2\"><h2 style=\"font-size:16px\">Hyperparameters:</h2></span>"
            ],
            "text/plain": [
              "<IPython.core.display.HTML object>"
            ]
          },
          "metadata": {
            "tags": []
          }
        },
        {
          "output_type": "display_data",
          "data": {
            "text/html": [
              "<span style=\"color:cyan\"> |-classification_head_1/dropout_rate: 0</span>"
            ],
            "text/plain": [
              "<IPython.core.display.HTML object>"
            ]
          },
          "metadata": {
            "tags": []
          }
        },
        {
          "output_type": "display_data",
          "data": {
            "text/html": [
              "<span style=\"color:blue\"> |-classification_head_1/spatial_reduction_1/reduction_type: global_avg</span>"
            ],
            "text/plain": [
              "<IPython.core.display.HTML object>"
            ]
          },
          "metadata": {
            "tags": []
          }
        },
        {
          "output_type": "display_data",
          "data": {
            "text/html": [
              "<span style=\"color:cyan\"> |-classification_head_4/dropout_rate: 0</span>"
            ],
            "text/plain": [
              "<IPython.core.display.HTML object>"
            ]
          },
          "metadata": {
            "tags": []
          }
        },
        {
          "output_type": "display_data",
          "data": {
            "text/html": [
              "<span style=\"color:blue\"> |-classification_head_4/spatial_reduction_1/reduction_type: global_avg</span>"
            ],
            "text/plain": [
              "<IPython.core.display.HTML object>"
            ]
          },
          "metadata": {
            "tags": []
          }
        },
        {
          "output_type": "display_data",
          "data": {
            "text/html": [
              "<span style=\"color:cyan\"> |-image_block_1/augment: True</span>"
            ],
            "text/plain": [
              "<IPython.core.display.HTML object>"
            ]
          },
          "metadata": {
            "tags": []
          }
        },
        {
          "output_type": "display_data",
          "data": {
            "text/html": [
              "<span style=\"color:blue\"> |-image_block_1/block_type: vanilla</span>"
            ],
            "text/plain": [
              "<IPython.core.display.HTML object>"
            ]
          },
          "metadata": {
            "tags": []
          }
        },
        {
          "output_type": "display_data",
          "data": {
            "text/html": [
              "<span style=\"color:cyan\"> |-image_block_1/conv_block_1/dropout_rate: 0.25</span>"
            ],
            "text/plain": [
              "<IPython.core.display.HTML object>"
            ]
          },
          "metadata": {
            "tags": []
          }
        },
        {
          "output_type": "display_data",
          "data": {
            "text/html": [
              "<span style=\"color:blue\"> |-image_block_1/conv_block_1/filters_0_0: 512</span>"
            ],
            "text/plain": [
              "<IPython.core.display.HTML object>"
            ]
          },
          "metadata": {
            "tags": []
          }
        },
        {
          "output_type": "display_data",
          "data": {
            "text/html": [
              "<span style=\"color:cyan\"> |-image_block_1/conv_block_1/filters_0_1: 16</span>"
            ],
            "text/plain": [
              "<IPython.core.display.HTML object>"
            ]
          },
          "metadata": {
            "tags": []
          }
        },
        {
          "output_type": "display_data",
          "data": {
            "text/html": [
              "<span style=\"color:blue\"> |-image_block_1/conv_block_1/filters_1_0: 512</span>"
            ],
            "text/plain": [
              "<IPython.core.display.HTML object>"
            ]
          },
          "metadata": {
            "tags": []
          }
        },
        {
          "output_type": "display_data",
          "data": {
            "text/html": [
              "<span style=\"color:cyan\"> |-image_block_1/conv_block_1/filters_1_1: 32</span>"
            ],
            "text/plain": [
              "<IPython.core.display.HTML object>"
            ]
          },
          "metadata": {
            "tags": []
          }
        },
        {
          "output_type": "display_data",
          "data": {
            "text/html": [
              "<span style=\"color:blue\"> |-image_block_1/conv_block_1/filters_2_0: 128</span>"
            ],
            "text/plain": [
              "<IPython.core.display.HTML object>"
            ]
          },
          "metadata": {
            "tags": []
          }
        },
        {
          "output_type": "display_data",
          "data": {
            "text/html": [
              "<span style=\"color:cyan\"> |-image_block_1/conv_block_1/filters_2_1: 16</span>"
            ],
            "text/plain": [
              "<IPython.core.display.HTML object>"
            ]
          },
          "metadata": {
            "tags": []
          }
        },
        {
          "output_type": "display_data",
          "data": {
            "text/html": [
              "<span style=\"color:blue\"> |-image_block_1/conv_block_1/kernel_size: 3</span>"
            ],
            "text/plain": [
              "<IPython.core.display.HTML object>"
            ]
          },
          "metadata": {
            "tags": []
          }
        },
        {
          "output_type": "display_data",
          "data": {
            "text/html": [
              "<span style=\"color:cyan\"> |-image_block_1/conv_block_1/max_pooling: False</span>"
            ],
            "text/plain": [
              "<IPython.core.display.HTML object>"
            ]
          },
          "metadata": {
            "tags": []
          }
        },
        {
          "output_type": "display_data",
          "data": {
            "text/html": [
              "<span style=\"color:blue\"> |-image_block_1/conv_block_1/num_blocks: 3</span>"
            ],
            "text/plain": [
              "<IPython.core.display.HTML object>"
            ]
          },
          "metadata": {
            "tags": []
          }
        },
        {
          "output_type": "display_data",
          "data": {
            "text/html": [
              "<span style=\"color:cyan\"> |-image_block_1/conv_block_1/num_layers: 1</span>"
            ],
            "text/plain": [
              "<IPython.core.display.HTML object>"
            ]
          },
          "metadata": {
            "tags": []
          }
        },
        {
          "output_type": "display_data",
          "data": {
            "text/html": [
              "<span style=\"color:blue\"> |-image_block_1/conv_block_1/separable: True</span>"
            ],
            "text/plain": [
              "<IPython.core.display.HTML object>"
            ]
          },
          "metadata": {
            "tags": []
          }
        },
        {
          "output_type": "display_data",
          "data": {
            "text/html": [
              "<span style=\"color:cyan\"> |-image_block_1/normalize: True</span>"
            ],
            "text/plain": [
              "<IPython.core.display.HTML object>"
            ]
          },
          "metadata": {
            "tags": []
          }
        },
        {
          "output_type": "display_data",
          "data": {
            "text/html": [
              "<span style=\"color:blue\"> |-image_block_1/res_net_block_1/conv3_depth: 8</span>"
            ],
            "text/plain": [
              "<IPython.core.display.HTML object>"
            ]
          },
          "metadata": {
            "tags": []
          }
        },
        {
          "output_type": "display_data",
          "data": {
            "text/html": [
              "<span style=\"color:cyan\"> |-image_block_1/res_net_block_1/conv4_depth: 6</span>"
            ],
            "text/plain": [
              "<IPython.core.display.HTML object>"
            ]
          },
          "metadata": {
            "tags": []
          }
        },
        {
          "output_type": "display_data",
          "data": {
            "text/html": [
              "<span style=\"color:blue\"> |-image_block_1/res_net_block_1/pooling: avg</span>"
            ],
            "text/plain": [
              "<IPython.core.display.HTML object>"
            ]
          },
          "metadata": {
            "tags": []
          }
        },
        {
          "output_type": "display_data",
          "data": {
            "text/html": [
              "<span style=\"color:cyan\"> |-image_block_1/res_net_block_1/version: v2</span>"
            ],
            "text/plain": [
              "<IPython.core.display.HTML object>"
            ]
          },
          "metadata": {
            "tags": []
          }
        },
        {
          "output_type": "display_data",
          "data": {
            "text/html": [
              "<span style=\"color:blue\"> |-image_block_2/augment: False</span>"
            ],
            "text/plain": [
              "<IPython.core.display.HTML object>"
            ]
          },
          "metadata": {
            "tags": []
          }
        },
        {
          "output_type": "display_data",
          "data": {
            "text/html": [
              "<span style=\"color:cyan\"> |-image_block_2/block_type: vanilla</span>"
            ],
            "text/plain": [
              "<IPython.core.display.HTML object>"
            ]
          },
          "metadata": {
            "tags": []
          }
        },
        {
          "output_type": "display_data",
          "data": {
            "text/html": [
              "<span style=\"color:blue\"> |-image_block_2/conv_block_1/dropout_rate: 0</span>"
            ],
            "text/plain": [
              "<IPython.core.display.HTML object>"
            ]
          },
          "metadata": {
            "tags": []
          }
        },
        {
          "output_type": "display_data",
          "data": {
            "text/html": [
              "<span style=\"color:cyan\"> |-image_block_2/conv_block_1/filters_0_0: 32</span>"
            ],
            "text/plain": [
              "<IPython.core.display.HTML object>"
            ]
          },
          "metadata": {
            "tags": []
          }
        },
        {
          "output_type": "display_data",
          "data": {
            "text/html": [
              "<span style=\"color:blue\"> |-image_block_2/conv_block_1/filters_0_1: 32</span>"
            ],
            "text/plain": [
              "<IPython.core.display.HTML object>"
            ]
          },
          "metadata": {
            "tags": []
          }
        },
        {
          "output_type": "display_data",
          "data": {
            "text/html": [
              "<span style=\"color:cyan\"> |-image_block_2/conv_block_1/filters_1_0: 32</span>"
            ],
            "text/plain": [
              "<IPython.core.display.HTML object>"
            ]
          },
          "metadata": {
            "tags": []
          }
        },
        {
          "output_type": "display_data",
          "data": {
            "text/html": [
              "<span style=\"color:blue\"> |-image_block_2/conv_block_1/filters_1_1: 32</span>"
            ],
            "text/plain": [
              "<IPython.core.display.HTML object>"
            ]
          },
          "metadata": {
            "tags": []
          }
        },
        {
          "output_type": "display_data",
          "data": {
            "text/html": [
              "<span style=\"color:cyan\"> |-image_block_2/conv_block_1/kernel_size: 3</span>"
            ],
            "text/plain": [
              "<IPython.core.display.HTML object>"
            ]
          },
          "metadata": {
            "tags": []
          }
        },
        {
          "output_type": "display_data",
          "data": {
            "text/html": [
              "<span style=\"color:blue\"> |-image_block_2/conv_block_1/max_pooling: True</span>"
            ],
            "text/plain": [
              "<IPython.core.display.HTML object>"
            ]
          },
          "metadata": {
            "tags": []
          }
        },
        {
          "output_type": "display_data",
          "data": {
            "text/html": [
              "<span style=\"color:cyan\"> |-image_block_2/conv_block_1/num_blocks: 2</span>"
            ],
            "text/plain": [
              "<IPython.core.display.HTML object>"
            ]
          },
          "metadata": {
            "tags": []
          }
        },
        {
          "output_type": "display_data",
          "data": {
            "text/html": [
              "<span style=\"color:blue\"> |-image_block_2/conv_block_1/num_layers: 2</span>"
            ],
            "text/plain": [
              "<IPython.core.display.HTML object>"
            ]
          },
          "metadata": {
            "tags": []
          }
        },
        {
          "output_type": "display_data",
          "data": {
            "text/html": [
              "<span style=\"color:cyan\"> |-image_block_2/conv_block_1/separable: False</span>"
            ],
            "text/plain": [
              "<IPython.core.display.HTML object>"
            ]
          },
          "metadata": {
            "tags": []
          }
        },
        {
          "output_type": "display_data",
          "data": {
            "text/html": [
              "<span style=\"color:blue\"> |-image_block_2/normalize: False</span>"
            ],
            "text/plain": [
              "<IPython.core.display.HTML object>"
            ]
          },
          "metadata": {
            "tags": []
          }
        },
        {
          "output_type": "display_data",
          "data": {
            "text/html": [
              "<span style=\"color:cyan\"> |-optimizer: adam</span>"
            ],
            "text/plain": [
              "<IPython.core.display.HTML object>"
            ]
          },
          "metadata": {
            "tags": []
          }
        },
        {
          "output_type": "stream",
          "text": [
            "Train for 6 steps, validate for 2 steps\n",
            "Epoch 1/1000\n",
            "6/6 [==============================] - 2s 375ms/step - loss: 2.6014 - accuracy: 0.4185 - val_loss: 4.2052 - val_accuracy: 0.0000e+00\n",
            "Epoch 2/1000\n",
            "6/6 [==============================] - 1s 155ms/step - loss: 1.0947 - accuracy: 0.5109 - val_loss: 3.6618 - val_accuracy: 0.0000e+00\n",
            "Epoch 3/1000\n",
            "6/6 [==============================] - 1s 152ms/step - loss: 1.5714 - accuracy: 0.0815 - val_loss: 4.2854 - val_accuracy: 0.0000e+00\n",
            "Epoch 4/1000\n",
            "6/6 [==============================] - 1s 151ms/step - loss: 1.5001 - accuracy: 0.4620 - val_loss: 5.0073 - val_accuracy: 0.0000e+00\n",
            "Epoch 5/1000\n",
            "6/6 [==============================] - 1s 153ms/step - loss: 1.2967 - accuracy: 0.5109 - val_loss: 5.1694 - val_accuracy: 0.0000e+00\n",
            "Epoch 6/1000\n",
            "6/6 [==============================] - 1s 150ms/step - loss: 1.2447 - accuracy: 0.5109 - val_loss: 5.3027 - val_accuracy: 0.0000e+00\n",
            "Epoch 7/1000\n",
            "6/6 [==============================] - 1s 153ms/step - loss: 1.3233 - accuracy: 0.4674 - val_loss: 5.5425 - val_accuracy: 0.0000e+00\n",
            "Epoch 8/1000\n",
            "6/6 [==============================] - 1s 153ms/step - loss: 1.3293 - accuracy: 0.4946 - val_loss: 5.7544 - val_accuracy: 0.0000e+00\n",
            "Epoch 9/1000\n",
            "6/6 [==============================] - 1s 150ms/step - loss: 1.2891 - accuracy: 0.5109 - val_loss: 5.8391 - val_accuracy: 0.0000e+00\n",
            "Epoch 10/1000\n",
            "6/6 [==============================] - 1s 151ms/step - loss: 1.2728 - accuracy: 0.5109 - val_loss: 5.8838 - val_accuracy: 0.0000e+00\n",
            "Epoch 11/1000\n",
            "6/6 [==============================] - 1s 155ms/step - loss: 1.2842 - accuracy: 0.5000 - val_loss: 5.9635 - val_accuracy: 0.0000e+00\n",
            "Epoch 12/1000\n",
            "6/6 [==============================] - 1s 156ms/step - loss: 1.2893 - accuracy: 0.5109 - val_loss: 6.0514 - val_accuracy: 0.0000e+00\n"
          ],
          "name": "stdout"
        },
        {
          "output_type": "display_data",
          "data": {
            "text/html": [
              "<span style=\"color:#4527A0\"><h1 style=\"font-size:18px\">Trial complete</h1></span>"
            ],
            "text/plain": [
              "<IPython.core.display.HTML object>"
            ]
          },
          "metadata": {
            "tags": []
          }
        },
        {
          "output_type": "display_data",
          "data": {
            "text/html": [
              "<span style=\"color:#4527A0\"><h1 style=\"font-size:18px\">Trial summary</h1></span>"
            ],
            "text/plain": [
              "<IPython.core.display.HTML object>"
            ]
          },
          "metadata": {
            "tags": []
          }
        },
        {
          "output_type": "display_data",
          "data": {
            "text/html": [
              "<span style=\"color:cyan\"> |-Trial ID: 2f814ce82889339df5ae061aa85df4d9</span>"
            ],
            "text/plain": [
              "<IPython.core.display.HTML object>"
            ]
          },
          "metadata": {
            "tags": []
          }
        },
        {
          "output_type": "display_data",
          "data": {
            "text/html": [
              "<span style=\"color:cyan\"> |-Score: 3.6617836952209473</span>"
            ],
            "text/plain": [
              "<IPython.core.display.HTML object>"
            ]
          },
          "metadata": {
            "tags": []
          }
        },
        {
          "output_type": "display_data",
          "data": {
            "text/html": [
              "<span style=\"color:cyan\"> |-Best step: 0</span>"
            ],
            "text/plain": [
              "<IPython.core.display.HTML object>"
            ]
          },
          "metadata": {
            "tags": []
          }
        },
        {
          "output_type": "display_data",
          "data": {
            "text/html": [
              "<span style=\"color:#7E57C2\"><h2 style=\"font-size:16px\">Hyperparameters:</h2></span>"
            ],
            "text/plain": [
              "<IPython.core.display.HTML object>"
            ]
          },
          "metadata": {
            "tags": []
          }
        },
        {
          "output_type": "display_data",
          "data": {
            "text/html": [
              "<span style=\"color:cyan\"> |-classification_head_1/dropout_rate: 0</span>"
            ],
            "text/plain": [
              "<IPython.core.display.HTML object>"
            ]
          },
          "metadata": {
            "tags": []
          }
        },
        {
          "output_type": "display_data",
          "data": {
            "text/html": [
              "<span style=\"color:blue\"> |-classification_head_1/spatial_reduction_1/reduction_type: global_avg</span>"
            ],
            "text/plain": [
              "<IPython.core.display.HTML object>"
            ]
          },
          "metadata": {
            "tags": []
          }
        },
        {
          "output_type": "display_data",
          "data": {
            "text/html": [
              "<span style=\"color:cyan\"> |-classification_head_4/dropout_rate: 0</span>"
            ],
            "text/plain": [
              "<IPython.core.display.HTML object>"
            ]
          },
          "metadata": {
            "tags": []
          }
        },
        {
          "output_type": "display_data",
          "data": {
            "text/html": [
              "<span style=\"color:blue\"> |-classification_head_4/spatial_reduction_1/reduction_type: global_avg</span>"
            ],
            "text/plain": [
              "<IPython.core.display.HTML object>"
            ]
          },
          "metadata": {
            "tags": []
          }
        },
        {
          "output_type": "display_data",
          "data": {
            "text/html": [
              "<span style=\"color:cyan\"> |-image_block_1/augment: True</span>"
            ],
            "text/plain": [
              "<IPython.core.display.HTML object>"
            ]
          },
          "metadata": {
            "tags": []
          }
        },
        {
          "output_type": "display_data",
          "data": {
            "text/html": [
              "<span style=\"color:blue\"> |-image_block_1/block_type: vanilla</span>"
            ],
            "text/plain": [
              "<IPython.core.display.HTML object>"
            ]
          },
          "metadata": {
            "tags": []
          }
        },
        {
          "output_type": "display_data",
          "data": {
            "text/html": [
              "<span style=\"color:cyan\"> |-image_block_1/conv_block_1/dropout_rate: 0.5</span>"
            ],
            "text/plain": [
              "<IPython.core.display.HTML object>"
            ]
          },
          "metadata": {
            "tags": []
          }
        },
        {
          "output_type": "display_data",
          "data": {
            "text/html": [
              "<span style=\"color:blue\"> |-image_block_1/conv_block_1/filters_0_0: 256</span>"
            ],
            "text/plain": [
              "<IPython.core.display.HTML object>"
            ]
          },
          "metadata": {
            "tags": []
          }
        },
        {
          "output_type": "display_data",
          "data": {
            "text/html": [
              "<span style=\"color:cyan\"> |-image_block_1/conv_block_1/filters_0_1: 32</span>"
            ],
            "text/plain": [
              "<IPython.core.display.HTML object>"
            ]
          },
          "metadata": {
            "tags": []
          }
        },
        {
          "output_type": "display_data",
          "data": {
            "text/html": [
              "<span style=\"color:blue\"> |-image_block_1/conv_block_1/filters_1_0: 64</span>"
            ],
            "text/plain": [
              "<IPython.core.display.HTML object>"
            ]
          },
          "metadata": {
            "tags": []
          }
        },
        {
          "output_type": "display_data",
          "data": {
            "text/html": [
              "<span style=\"color:cyan\"> |-image_block_1/conv_block_1/filters_1_1: 16</span>"
            ],
            "text/plain": [
              "<IPython.core.display.HTML object>"
            ]
          },
          "metadata": {
            "tags": []
          }
        },
        {
          "output_type": "display_data",
          "data": {
            "text/html": [
              "<span style=\"color:blue\"> |-image_block_1/conv_block_1/filters_2_0: 32</span>"
            ],
            "text/plain": [
              "<IPython.core.display.HTML object>"
            ]
          },
          "metadata": {
            "tags": []
          }
        },
        {
          "output_type": "display_data",
          "data": {
            "text/html": [
              "<span style=\"color:cyan\"> |-image_block_1/conv_block_1/filters_2_1: 128</span>"
            ],
            "text/plain": [
              "<IPython.core.display.HTML object>"
            ]
          },
          "metadata": {
            "tags": []
          }
        },
        {
          "output_type": "display_data",
          "data": {
            "text/html": [
              "<span style=\"color:blue\"> |-image_block_1/conv_block_1/kernel_size: 5</span>"
            ],
            "text/plain": [
              "<IPython.core.display.HTML object>"
            ]
          },
          "metadata": {
            "tags": []
          }
        },
        {
          "output_type": "display_data",
          "data": {
            "text/html": [
              "<span style=\"color:cyan\"> |-image_block_1/conv_block_1/max_pooling: True</span>"
            ],
            "text/plain": [
              "<IPython.core.display.HTML object>"
            ]
          },
          "metadata": {
            "tags": []
          }
        },
        {
          "output_type": "display_data",
          "data": {
            "text/html": [
              "<span style=\"color:blue\"> |-image_block_1/conv_block_1/num_blocks: 1</span>"
            ],
            "text/plain": [
              "<IPython.core.display.HTML object>"
            ]
          },
          "metadata": {
            "tags": []
          }
        },
        {
          "output_type": "display_data",
          "data": {
            "text/html": [
              "<span style=\"color:cyan\"> |-image_block_1/conv_block_1/num_layers: 1</span>"
            ],
            "text/plain": [
              "<IPython.core.display.HTML object>"
            ]
          },
          "metadata": {
            "tags": []
          }
        },
        {
          "output_type": "display_data",
          "data": {
            "text/html": [
              "<span style=\"color:blue\"> |-image_block_1/conv_block_1/separable: False</span>"
            ],
            "text/plain": [
              "<IPython.core.display.HTML object>"
            ]
          },
          "metadata": {
            "tags": []
          }
        },
        {
          "output_type": "display_data",
          "data": {
            "text/html": [
              "<span style=\"color:cyan\"> |-image_block_1/normalize: True</span>"
            ],
            "text/plain": [
              "<IPython.core.display.HTML object>"
            ]
          },
          "metadata": {
            "tags": []
          }
        },
        {
          "output_type": "display_data",
          "data": {
            "text/html": [
              "<span style=\"color:blue\"> |-image_block_1/res_net_block_1/conv3_depth: 4</span>"
            ],
            "text/plain": [
              "<IPython.core.display.HTML object>"
            ]
          },
          "metadata": {
            "tags": []
          }
        },
        {
          "output_type": "display_data",
          "data": {
            "text/html": [
              "<span style=\"color:cyan\"> |-image_block_1/res_net_block_1/conv4_depth: 36</span>"
            ],
            "text/plain": [
              "<IPython.core.display.HTML object>"
            ]
          },
          "metadata": {
            "tags": []
          }
        },
        {
          "output_type": "display_data",
          "data": {
            "text/html": [
              "<span style=\"color:blue\"> |-image_block_1/res_net_block_1/pooling: max</span>"
            ],
            "text/plain": [
              "<IPython.core.display.HTML object>"
            ]
          },
          "metadata": {
            "tags": []
          }
        },
        {
          "output_type": "display_data",
          "data": {
            "text/html": [
              "<span style=\"color:cyan\"> |-image_block_1/res_net_block_1/version: v2</span>"
            ],
            "text/plain": [
              "<IPython.core.display.HTML object>"
            ]
          },
          "metadata": {
            "tags": []
          }
        },
        {
          "output_type": "display_data",
          "data": {
            "text/html": [
              "<span style=\"color:blue\"> |-image_block_2/augment: False</span>"
            ],
            "text/plain": [
              "<IPython.core.display.HTML object>"
            ]
          },
          "metadata": {
            "tags": []
          }
        },
        {
          "output_type": "display_data",
          "data": {
            "text/html": [
              "<span style=\"color:cyan\"> |-image_block_2/block_type: vanilla</span>"
            ],
            "text/plain": [
              "<IPython.core.display.HTML object>"
            ]
          },
          "metadata": {
            "tags": []
          }
        },
        {
          "output_type": "display_data",
          "data": {
            "text/html": [
              "<span style=\"color:blue\"> |-image_block_2/conv_block_1/dropout_rate: 0</span>"
            ],
            "text/plain": [
              "<IPython.core.display.HTML object>"
            ]
          },
          "metadata": {
            "tags": []
          }
        },
        {
          "output_type": "display_data",
          "data": {
            "text/html": [
              "<span style=\"color:cyan\"> |-image_block_2/conv_block_1/filters_0_0: 32</span>"
            ],
            "text/plain": [
              "<IPython.core.display.HTML object>"
            ]
          },
          "metadata": {
            "tags": []
          }
        },
        {
          "output_type": "display_data",
          "data": {
            "text/html": [
              "<span style=\"color:blue\"> |-image_block_2/conv_block_1/filters_0_1: 32</span>"
            ],
            "text/plain": [
              "<IPython.core.display.HTML object>"
            ]
          },
          "metadata": {
            "tags": []
          }
        },
        {
          "output_type": "display_data",
          "data": {
            "text/html": [
              "<span style=\"color:cyan\"> |-image_block_2/conv_block_1/filters_1_0: 32</span>"
            ],
            "text/plain": [
              "<IPython.core.display.HTML object>"
            ]
          },
          "metadata": {
            "tags": []
          }
        },
        {
          "output_type": "display_data",
          "data": {
            "text/html": [
              "<span style=\"color:blue\"> |-image_block_2/conv_block_1/filters_1_1: 32</span>"
            ],
            "text/plain": [
              "<IPython.core.display.HTML object>"
            ]
          },
          "metadata": {
            "tags": []
          }
        },
        {
          "output_type": "display_data",
          "data": {
            "text/html": [
              "<span style=\"color:cyan\"> |-image_block_2/conv_block_1/kernel_size: 3</span>"
            ],
            "text/plain": [
              "<IPython.core.display.HTML object>"
            ]
          },
          "metadata": {
            "tags": []
          }
        },
        {
          "output_type": "display_data",
          "data": {
            "text/html": [
              "<span style=\"color:blue\"> |-image_block_2/conv_block_1/max_pooling: True</span>"
            ],
            "text/plain": [
              "<IPython.core.display.HTML object>"
            ]
          },
          "metadata": {
            "tags": []
          }
        },
        {
          "output_type": "display_data",
          "data": {
            "text/html": [
              "<span style=\"color:cyan\"> |-image_block_2/conv_block_1/num_blocks: 2</span>"
            ],
            "text/plain": [
              "<IPython.core.display.HTML object>"
            ]
          },
          "metadata": {
            "tags": []
          }
        },
        {
          "output_type": "display_data",
          "data": {
            "text/html": [
              "<span style=\"color:blue\"> |-image_block_2/conv_block_1/num_layers: 2</span>"
            ],
            "text/plain": [
              "<IPython.core.display.HTML object>"
            ]
          },
          "metadata": {
            "tags": []
          }
        },
        {
          "output_type": "display_data",
          "data": {
            "text/html": [
              "<span style=\"color:cyan\"> |-image_block_2/conv_block_1/separable: False</span>"
            ],
            "text/plain": [
              "<IPython.core.display.HTML object>"
            ]
          },
          "metadata": {
            "tags": []
          }
        },
        {
          "output_type": "display_data",
          "data": {
            "text/html": [
              "<span style=\"color:blue\"> |-image_block_2/normalize: False</span>"
            ],
            "text/plain": [
              "<IPython.core.display.HTML object>"
            ]
          },
          "metadata": {
            "tags": []
          }
        },
        {
          "output_type": "display_data",
          "data": {
            "text/html": [
              "<span style=\"color:cyan\"> |-optimizer: adam</span>"
            ],
            "text/plain": [
              "<IPython.core.display.HTML object>"
            ]
          },
          "metadata": {
            "tags": []
          }
        },
        {
          "output_type": "stream",
          "text": [
            "Train for 6 steps, validate for 2 steps\n",
            "Epoch 1/1000\n",
            "6/6 [==============================] - 3s 448ms/step - loss: 1.6620 - accuracy: 0.0000e+00 - val_loss: 1.6660 - val_accuracy: 0.0000e+00\n",
            "Epoch 2/1000\n",
            "6/6 [==============================] - 2s 255ms/step - loss: 1.5525 - accuracy: 0.5109 - val_loss: 1.7995 - val_accuracy: 0.0000e+00\n",
            "Epoch 3/1000\n",
            "6/6 [==============================] - 2s 251ms/step - loss: 1.4912 - accuracy: 0.5109 - val_loss: 1.9675 - val_accuracy: 0.0000e+00\n",
            "Epoch 4/1000\n",
            "6/6 [==============================] - 2s 253ms/step - loss: 1.4379 - accuracy: 0.5109 - val_loss: 2.1947 - val_accuracy: 0.0000e+00\n",
            "Epoch 5/1000\n",
            "6/6 [==============================] - 1s 248ms/step - loss: 1.3895 - accuracy: 0.5109 - val_loss: 2.4913 - val_accuracy: 0.0000e+00\n",
            "Epoch 6/1000\n",
            "6/6 [==============================] - 2s 252ms/step - loss: 1.3502 - accuracy: 0.5109 - val_loss: 2.8338 - val_accuracy: 0.0000e+00\n",
            "Epoch 7/1000\n",
            "6/6 [==============================] - 2s 251ms/step - loss: 1.3214 - accuracy: 0.5109 - val_loss: 3.1651 - val_accuracy: 0.0000e+00\n",
            "Epoch 8/1000\n",
            "6/6 [==============================] - 2s 254ms/step - loss: 1.3004 - accuracy: 0.5109 - val_loss: 3.4348 - val_accuracy: 0.0000e+00\n",
            "Epoch 9/1000\n",
            "6/6 [==============================] - 2s 250ms/step - loss: 1.2846 - accuracy: 0.5109 - val_loss: 3.6328 - val_accuracy: 0.0000e+00\n",
            "Epoch 10/1000\n",
            "6/6 [==============================] - 2s 252ms/step - loss: 1.2740 - accuracy: 0.5109 - val_loss: 3.7795 - val_accuracy: 0.0000e+00\n",
            "Epoch 11/1000\n",
            "6/6 [==============================] - 1s 246ms/step - loss: 1.2679 - accuracy: 0.5109 - val_loss: 3.8997 - val_accuracy: 0.0000e+00\n"
          ],
          "name": "stdout"
        },
        {
          "output_type": "display_data",
          "data": {
            "text/html": [
              "<span style=\"color:#4527A0\"><h1 style=\"font-size:18px\">Trial complete</h1></span>"
            ],
            "text/plain": [
              "<IPython.core.display.HTML object>"
            ]
          },
          "metadata": {
            "tags": []
          }
        },
        {
          "output_type": "display_data",
          "data": {
            "text/html": [
              "<span style=\"color:#4527A0\"><h1 style=\"font-size:18px\">Trial summary</h1></span>"
            ],
            "text/plain": [
              "<IPython.core.display.HTML object>"
            ]
          },
          "metadata": {
            "tags": []
          }
        },
        {
          "output_type": "display_data",
          "data": {
            "text/html": [
              "<span style=\"color:cyan\"> |-Trial ID: 6b10058f7a3681e900a4f0ad7094835b</span>"
            ],
            "text/plain": [
              "<IPython.core.display.HTML object>"
            ]
          },
          "metadata": {
            "tags": []
          }
        },
        {
          "output_type": "display_data",
          "data": {
            "text/html": [
              "<span style=\"color:cyan\"> |-Score: 1.6660046577453613</span>"
            ],
            "text/plain": [
              "<IPython.core.display.HTML object>"
            ]
          },
          "metadata": {
            "tags": []
          }
        },
        {
          "output_type": "display_data",
          "data": {
            "text/html": [
              "<span style=\"color:cyan\"> |-Best step: 0</span>"
            ],
            "text/plain": [
              "<IPython.core.display.HTML object>"
            ]
          },
          "metadata": {
            "tags": []
          }
        },
        {
          "output_type": "display_data",
          "data": {
            "text/html": [
              "<span style=\"color:#7E57C2\"><h2 style=\"font-size:16px\">Hyperparameters:</h2></span>"
            ],
            "text/plain": [
              "<IPython.core.display.HTML object>"
            ]
          },
          "metadata": {
            "tags": []
          }
        },
        {
          "output_type": "display_data",
          "data": {
            "text/html": [
              "<span style=\"color:cyan\"> |-classification_head_1/dropout_rate: 0</span>"
            ],
            "text/plain": [
              "<IPython.core.display.HTML object>"
            ]
          },
          "metadata": {
            "tags": []
          }
        },
        {
          "output_type": "display_data",
          "data": {
            "text/html": [
              "<span style=\"color:blue\"> |-classification_head_1/spatial_reduction_1/reduction_type: global_avg</span>"
            ],
            "text/plain": [
              "<IPython.core.display.HTML object>"
            ]
          },
          "metadata": {
            "tags": []
          }
        },
        {
          "output_type": "display_data",
          "data": {
            "text/html": [
              "<span style=\"color:cyan\"> |-classification_head_4/dropout_rate: 0</span>"
            ],
            "text/plain": [
              "<IPython.core.display.HTML object>"
            ]
          },
          "metadata": {
            "tags": []
          }
        },
        {
          "output_type": "display_data",
          "data": {
            "text/html": [
              "<span style=\"color:blue\"> |-classification_head_4/spatial_reduction_1/reduction_type: global_avg</span>"
            ],
            "text/plain": [
              "<IPython.core.display.HTML object>"
            ]
          },
          "metadata": {
            "tags": []
          }
        },
        {
          "output_type": "display_data",
          "data": {
            "text/html": [
              "<span style=\"color:cyan\"> |-image_block_1/augment: True</span>"
            ],
            "text/plain": [
              "<IPython.core.display.HTML object>"
            ]
          },
          "metadata": {
            "tags": []
          }
        },
        {
          "output_type": "display_data",
          "data": {
            "text/html": [
              "<span style=\"color:blue\"> |-image_block_1/block_type: vanilla</span>"
            ],
            "text/plain": [
              "<IPython.core.display.HTML object>"
            ]
          },
          "metadata": {
            "tags": []
          }
        },
        {
          "output_type": "display_data",
          "data": {
            "text/html": [
              "<span style=\"color:cyan\"> |-image_block_1/conv_block_1/dropout_rate: 0.0</span>"
            ],
            "text/plain": [
              "<IPython.core.display.HTML object>"
            ]
          },
          "metadata": {
            "tags": []
          }
        },
        {
          "output_type": "display_data",
          "data": {
            "text/html": [
              "<span style=\"color:blue\"> |-image_block_1/conv_block_1/filters_0_0: 32</span>"
            ],
            "text/plain": [
              "<IPython.core.display.HTML object>"
            ]
          },
          "metadata": {
            "tags": []
          }
        },
        {
          "output_type": "display_data",
          "data": {
            "text/html": [
              "<span style=\"color:cyan\"> |-image_block_1/conv_block_1/filters_0_1: 128</span>"
            ],
            "text/plain": [
              "<IPython.core.display.HTML object>"
            ]
          },
          "metadata": {
            "tags": []
          }
        },
        {
          "output_type": "display_data",
          "data": {
            "text/html": [
              "<span style=\"color:blue\"> |-image_block_1/conv_block_1/filters_1_0: 512</span>"
            ],
            "text/plain": [
              "<IPython.core.display.HTML object>"
            ]
          },
          "metadata": {
            "tags": []
          }
        },
        {
          "output_type": "display_data",
          "data": {
            "text/html": [
              "<span style=\"color:cyan\"> |-image_block_1/conv_block_1/filters_1_1: 128</span>"
            ],
            "text/plain": [
              "<IPython.core.display.HTML object>"
            ]
          },
          "metadata": {
            "tags": []
          }
        },
        {
          "output_type": "display_data",
          "data": {
            "text/html": [
              "<span style=\"color:blue\"> |-image_block_1/conv_block_1/filters_2_0: 64</span>"
            ],
            "text/plain": [
              "<IPython.core.display.HTML object>"
            ]
          },
          "metadata": {
            "tags": []
          }
        },
        {
          "output_type": "display_data",
          "data": {
            "text/html": [
              "<span style=\"color:cyan\"> |-image_block_1/conv_block_1/filters_2_1: 16</span>"
            ],
            "text/plain": [
              "<IPython.core.display.HTML object>"
            ]
          },
          "metadata": {
            "tags": []
          }
        },
        {
          "output_type": "display_data",
          "data": {
            "text/html": [
              "<span style=\"color:blue\"> |-image_block_1/conv_block_1/kernel_size: 7</span>"
            ],
            "text/plain": [
              "<IPython.core.display.HTML object>"
            ]
          },
          "metadata": {
            "tags": []
          }
        },
        {
          "output_type": "display_data",
          "data": {
            "text/html": [
              "<span style=\"color:cyan\"> |-image_block_1/conv_block_1/max_pooling: True</span>"
            ],
            "text/plain": [
              "<IPython.core.display.HTML object>"
            ]
          },
          "metadata": {
            "tags": []
          }
        },
        {
          "output_type": "display_data",
          "data": {
            "text/html": [
              "<span style=\"color:blue\"> |-image_block_1/conv_block_1/num_blocks: 1</span>"
            ],
            "text/plain": [
              "<IPython.core.display.HTML object>"
            ]
          },
          "metadata": {
            "tags": []
          }
        },
        {
          "output_type": "display_data",
          "data": {
            "text/html": [
              "<span style=\"color:cyan\"> |-image_block_1/conv_block_1/num_layers: 2</span>"
            ],
            "text/plain": [
              "<IPython.core.display.HTML object>"
            ]
          },
          "metadata": {
            "tags": []
          }
        },
        {
          "output_type": "display_data",
          "data": {
            "text/html": [
              "<span style=\"color:blue\"> |-image_block_1/conv_block_1/separable: True</span>"
            ],
            "text/plain": [
              "<IPython.core.display.HTML object>"
            ]
          },
          "metadata": {
            "tags": []
          }
        },
        {
          "output_type": "display_data",
          "data": {
            "text/html": [
              "<span style=\"color:cyan\"> |-image_block_1/normalize: True</span>"
            ],
            "text/plain": [
              "<IPython.core.display.HTML object>"
            ]
          },
          "metadata": {
            "tags": []
          }
        },
        {
          "output_type": "display_data",
          "data": {
            "text/html": [
              "<span style=\"color:blue\"> |-image_block_1/res_net_block_1/conv3_depth: 8</span>"
            ],
            "text/plain": [
              "<IPython.core.display.HTML object>"
            ]
          },
          "metadata": {
            "tags": []
          }
        },
        {
          "output_type": "display_data",
          "data": {
            "text/html": [
              "<span style=\"color:cyan\"> |-image_block_1/res_net_block_1/conv4_depth: 23</span>"
            ],
            "text/plain": [
              "<IPython.core.display.HTML object>"
            ]
          },
          "metadata": {
            "tags": []
          }
        },
        {
          "output_type": "display_data",
          "data": {
            "text/html": [
              "<span style=\"color:blue\"> |-image_block_1/res_net_block_1/pooling: avg</span>"
            ],
            "text/plain": [
              "<IPython.core.display.HTML object>"
            ]
          },
          "metadata": {
            "tags": []
          }
        },
        {
          "output_type": "display_data",
          "data": {
            "text/html": [
              "<span style=\"color:cyan\"> |-image_block_1/res_net_block_1/version: v1</span>"
            ],
            "text/plain": [
              "<IPython.core.display.HTML object>"
            ]
          },
          "metadata": {
            "tags": []
          }
        },
        {
          "output_type": "display_data",
          "data": {
            "text/html": [
              "<span style=\"color:blue\"> |-image_block_2/augment: False</span>"
            ],
            "text/plain": [
              "<IPython.core.display.HTML object>"
            ]
          },
          "metadata": {
            "tags": []
          }
        },
        {
          "output_type": "display_data",
          "data": {
            "text/html": [
              "<span style=\"color:cyan\"> |-image_block_2/block_type: vanilla</span>"
            ],
            "text/plain": [
              "<IPython.core.display.HTML object>"
            ]
          },
          "metadata": {
            "tags": []
          }
        },
        {
          "output_type": "display_data",
          "data": {
            "text/html": [
              "<span style=\"color:blue\"> |-image_block_2/conv_block_1/dropout_rate: 0</span>"
            ],
            "text/plain": [
              "<IPython.core.display.HTML object>"
            ]
          },
          "metadata": {
            "tags": []
          }
        },
        {
          "output_type": "display_data",
          "data": {
            "text/html": [
              "<span style=\"color:cyan\"> |-image_block_2/conv_block_1/filters_0_0: 32</span>"
            ],
            "text/plain": [
              "<IPython.core.display.HTML object>"
            ]
          },
          "metadata": {
            "tags": []
          }
        },
        {
          "output_type": "display_data",
          "data": {
            "text/html": [
              "<span style=\"color:blue\"> |-image_block_2/conv_block_1/filters_0_1: 32</span>"
            ],
            "text/plain": [
              "<IPython.core.display.HTML object>"
            ]
          },
          "metadata": {
            "tags": []
          }
        },
        {
          "output_type": "display_data",
          "data": {
            "text/html": [
              "<span style=\"color:cyan\"> |-image_block_2/conv_block_1/filters_1_0: 32</span>"
            ],
            "text/plain": [
              "<IPython.core.display.HTML object>"
            ]
          },
          "metadata": {
            "tags": []
          }
        },
        {
          "output_type": "display_data",
          "data": {
            "text/html": [
              "<span style=\"color:blue\"> |-image_block_2/conv_block_1/filters_1_1: 32</span>"
            ],
            "text/plain": [
              "<IPython.core.display.HTML object>"
            ]
          },
          "metadata": {
            "tags": []
          }
        },
        {
          "output_type": "display_data",
          "data": {
            "text/html": [
              "<span style=\"color:cyan\"> |-image_block_2/conv_block_1/kernel_size: 3</span>"
            ],
            "text/plain": [
              "<IPython.core.display.HTML object>"
            ]
          },
          "metadata": {
            "tags": []
          }
        },
        {
          "output_type": "display_data",
          "data": {
            "text/html": [
              "<span style=\"color:blue\"> |-image_block_2/conv_block_1/max_pooling: True</span>"
            ],
            "text/plain": [
              "<IPython.core.display.HTML object>"
            ]
          },
          "metadata": {
            "tags": []
          }
        },
        {
          "output_type": "display_data",
          "data": {
            "text/html": [
              "<span style=\"color:cyan\"> |-image_block_2/conv_block_1/num_blocks: 2</span>"
            ],
            "text/plain": [
              "<IPython.core.display.HTML object>"
            ]
          },
          "metadata": {
            "tags": []
          }
        },
        {
          "output_type": "display_data",
          "data": {
            "text/html": [
              "<span style=\"color:blue\"> |-image_block_2/conv_block_1/num_layers: 2</span>"
            ],
            "text/plain": [
              "<IPython.core.display.HTML object>"
            ]
          },
          "metadata": {
            "tags": []
          }
        },
        {
          "output_type": "display_data",
          "data": {
            "text/html": [
              "<span style=\"color:cyan\"> |-image_block_2/conv_block_1/separable: False</span>"
            ],
            "text/plain": [
              "<IPython.core.display.HTML object>"
            ]
          },
          "metadata": {
            "tags": []
          }
        },
        {
          "output_type": "display_data",
          "data": {
            "text/html": [
              "<span style=\"color:blue\"> |-image_block_2/normalize: False</span>"
            ],
            "text/plain": [
              "<IPython.core.display.HTML object>"
            ]
          },
          "metadata": {
            "tags": []
          }
        },
        {
          "output_type": "display_data",
          "data": {
            "text/html": [
              "<span style=\"color:cyan\"> |-optimizer: adam</span>"
            ],
            "text/plain": [
              "<IPython.core.display.HTML object>"
            ]
          },
          "metadata": {
            "tags": []
          }
        },
        {
          "output_type": "stream",
          "text": [
            "Train for 6 steps, validate for 2 steps\n",
            "Epoch 1/1000\n",
            "6/6 [==============================] - 29s 5s/step - loss: 13.5987 - accuracy: 0.3804 - val_loss: 9960.2822 - val_accuracy: 0.0000e+00\n",
            "Epoch 2/1000\n",
            "6/6 [==============================] - 4s 680ms/step - loss: 8.9171 - accuracy: 0.3315 - val_loss: 536705.2344 - val_accuracy: 0.0000e+00\n",
            "Epoch 3/1000\n",
            "6/6 [==============================] - 4s 683ms/step - loss: 2.9129 - accuracy: 0.1739 - val_loss: 532671.3906 - val_accuracy: 0.0000e+00\n",
            "Epoch 4/1000\n",
            "6/6 [==============================] - 4s 685ms/step - loss: 2.1769 - accuracy: 0.4946 - val_loss: 67012.8848 - val_accuracy: 0.0000e+00\n",
            "Epoch 5/1000\n",
            "6/6 [==============================] - 7s 1s/step - loss: 1.4793 - accuracy: 0.5109 - val_loss: 56.6918 - val_accuracy: 0.0000e+00\n",
            "Epoch 6/1000\n",
            "6/6 [==============================] - 7s 1s/step - loss: 2.1501 - accuracy: 0.5109 - val_loss: 2.7067 - val_accuracy: 0.0000e+00\n",
            "Epoch 7/1000\n",
            "6/6 [==============================] - 4s 687ms/step - loss: 2.2154 - accuracy: 0.5109 - val_loss: 2.8731 - val_accuracy: 0.0000e+00\n",
            "Epoch 8/1000\n",
            "6/6 [==============================] - 4s 688ms/step - loss: 1.4409 - accuracy: 0.5217 - val_loss: 3.0197 - val_accuracy: 0.0000e+00\n",
            "Epoch 9/1000\n",
            "6/6 [==============================] - 4s 687ms/step - loss: 1.5225 - accuracy: 0.5054 - val_loss: 3.1748 - val_accuracy: 0.0000e+00\n",
            "Epoch 10/1000\n",
            "6/6 [==============================] - 4s 689ms/step - loss: 1.2894 - accuracy: 0.5163 - val_loss: 3.3341 - val_accuracy: 0.0000e+00\n",
            "Epoch 11/1000\n",
            "6/6 [==============================] - 4s 691ms/step - loss: 1.4736 - accuracy: 0.5272 - val_loss: 3.5095 - val_accuracy: 0.0000e+00\n",
            "Epoch 12/1000\n",
            "6/6 [==============================] - 4s 686ms/step - loss: 1.3244 - accuracy: 0.5217 - val_loss: 3.7032 - val_accuracy: 0.0000e+00\n",
            "Epoch 13/1000\n",
            "6/6 [==============================] - 4s 686ms/step - loss: 1.0656 - accuracy: 0.5326 - val_loss: 3.8353 - val_accuracy: 0.0000e+00\n",
            "Epoch 14/1000\n",
            "6/6 [==============================] - 4s 686ms/step - loss: 1.2654 - accuracy: 0.5217 - val_loss: 3.9826 - val_accuracy: 0.0000e+00\n",
            "Epoch 15/1000\n",
            "6/6 [==============================] - 4s 687ms/step - loss: 1.6537 - accuracy: 0.6413 - val_loss: 4.1590 - val_accuracy: 0.0000e+00\n",
            "Epoch 16/1000\n",
            "6/6 [==============================] - 4s 687ms/step - loss: 1.2078 - accuracy: 0.8750 - val_loss: 4.3266 - val_accuracy: 0.0000e+00\n"
          ],
          "name": "stdout"
        },
        {
          "output_type": "display_data",
          "data": {
            "text/html": [
              "<span style=\"color:#4527A0\"><h1 style=\"font-size:18px\">Trial complete</h1></span>"
            ],
            "text/plain": [
              "<IPython.core.display.HTML object>"
            ]
          },
          "metadata": {
            "tags": []
          }
        },
        {
          "output_type": "display_data",
          "data": {
            "text/html": [
              "<span style=\"color:#4527A0\"><h1 style=\"font-size:18px\">Trial summary</h1></span>"
            ],
            "text/plain": [
              "<IPython.core.display.HTML object>"
            ]
          },
          "metadata": {
            "tags": []
          }
        },
        {
          "output_type": "display_data",
          "data": {
            "text/html": [
              "<span style=\"color:cyan\"> |-Trial ID: 9cb27216c125fc949b4e5822e48f8700</span>"
            ],
            "text/plain": [
              "<IPython.core.display.HTML object>"
            ]
          },
          "metadata": {
            "tags": []
          }
        },
        {
          "output_type": "display_data",
          "data": {
            "text/html": [
              "<span style=\"color:cyan\"> |-Score: 2.70665180683136</span>"
            ],
            "text/plain": [
              "<IPython.core.display.HTML object>"
            ]
          },
          "metadata": {
            "tags": []
          }
        },
        {
          "output_type": "display_data",
          "data": {
            "text/html": [
              "<span style=\"color:cyan\"> |-Best step: 0</span>"
            ],
            "text/plain": [
              "<IPython.core.display.HTML object>"
            ]
          },
          "metadata": {
            "tags": []
          }
        },
        {
          "output_type": "display_data",
          "data": {
            "text/html": [
              "<span style=\"color:#7E57C2\"><h2 style=\"font-size:16px\">Hyperparameters:</h2></span>"
            ],
            "text/plain": [
              "<IPython.core.display.HTML object>"
            ]
          },
          "metadata": {
            "tags": []
          }
        },
        {
          "output_type": "display_data",
          "data": {
            "text/html": [
              "<span style=\"color:cyan\"> |-classification_head_1/dropout_rate: 0</span>"
            ],
            "text/plain": [
              "<IPython.core.display.HTML object>"
            ]
          },
          "metadata": {
            "tags": []
          }
        },
        {
          "output_type": "display_data",
          "data": {
            "text/html": [
              "<span style=\"color:blue\"> |-classification_head_4/dropout_rate: 0</span>"
            ],
            "text/plain": [
              "<IPython.core.display.HTML object>"
            ]
          },
          "metadata": {
            "tags": []
          }
        },
        {
          "output_type": "display_data",
          "data": {
            "text/html": [
              "<span style=\"color:cyan\"> |-classification_head_4/spatial_reduction_1/reduction_type: global_avg</span>"
            ],
            "text/plain": [
              "<IPython.core.display.HTML object>"
            ]
          },
          "metadata": {
            "tags": []
          }
        },
        {
          "output_type": "display_data",
          "data": {
            "text/html": [
              "<span style=\"color:blue\"> |-image_block_1/augment: False</span>"
            ],
            "text/plain": [
              "<IPython.core.display.HTML object>"
            ]
          },
          "metadata": {
            "tags": []
          }
        },
        {
          "output_type": "display_data",
          "data": {
            "text/html": [
              "<span style=\"color:cyan\"> |-image_block_1/block_type: resnet</span>"
            ],
            "text/plain": [
              "<IPython.core.display.HTML object>"
            ]
          },
          "metadata": {
            "tags": []
          }
        },
        {
          "output_type": "display_data",
          "data": {
            "text/html": [
              "<span style=\"color:blue\"> |-image_block_1/conv_block_1/dropout_rate: 0.25</span>"
            ],
            "text/plain": [
              "<IPython.core.display.HTML object>"
            ]
          },
          "metadata": {
            "tags": []
          }
        },
        {
          "output_type": "display_data",
          "data": {
            "text/html": [
              "<span style=\"color:cyan\"> |-image_block_1/conv_block_1/filters_0_0: 512</span>"
            ],
            "text/plain": [
              "<IPython.core.display.HTML object>"
            ]
          },
          "metadata": {
            "tags": []
          }
        },
        {
          "output_type": "display_data",
          "data": {
            "text/html": [
              "<span style=\"color:blue\"> |-image_block_1/conv_block_1/filters_0_1: 32</span>"
            ],
            "text/plain": [
              "<IPython.core.display.HTML object>"
            ]
          },
          "metadata": {
            "tags": []
          }
        },
        {
          "output_type": "display_data",
          "data": {
            "text/html": [
              "<span style=\"color:cyan\"> |-image_block_1/conv_block_1/filters_1_0: 512</span>"
            ],
            "text/plain": [
              "<IPython.core.display.HTML object>"
            ]
          },
          "metadata": {
            "tags": []
          }
        },
        {
          "output_type": "display_data",
          "data": {
            "text/html": [
              "<span style=\"color:blue\"> |-image_block_1/conv_block_1/filters_1_1: 64</span>"
            ],
            "text/plain": [
              "<IPython.core.display.HTML object>"
            ]
          },
          "metadata": {
            "tags": []
          }
        },
        {
          "output_type": "display_data",
          "data": {
            "text/html": [
              "<span style=\"color:cyan\"> |-image_block_1/conv_block_1/filters_2_0: 512</span>"
            ],
            "text/plain": [
              "<IPython.core.display.HTML object>"
            ]
          },
          "metadata": {
            "tags": []
          }
        },
        {
          "output_type": "display_data",
          "data": {
            "text/html": [
              "<span style=\"color:blue\"> |-image_block_1/conv_block_1/filters_2_1: 64</span>"
            ],
            "text/plain": [
              "<IPython.core.display.HTML object>"
            ]
          },
          "metadata": {
            "tags": []
          }
        },
        {
          "output_type": "display_data",
          "data": {
            "text/html": [
              "<span style=\"color:cyan\"> |-image_block_1/conv_block_1/kernel_size: 3</span>"
            ],
            "text/plain": [
              "<IPython.core.display.HTML object>"
            ]
          },
          "metadata": {
            "tags": []
          }
        },
        {
          "output_type": "display_data",
          "data": {
            "text/html": [
              "<span style=\"color:blue\"> |-image_block_1/conv_block_1/max_pooling: True</span>"
            ],
            "text/plain": [
              "<IPython.core.display.HTML object>"
            ]
          },
          "metadata": {
            "tags": []
          }
        },
        {
          "output_type": "display_data",
          "data": {
            "text/html": [
              "<span style=\"color:cyan\"> |-image_block_1/conv_block_1/num_blocks: 1</span>"
            ],
            "text/plain": [
              "<IPython.core.display.HTML object>"
            ]
          },
          "metadata": {
            "tags": []
          }
        },
        {
          "output_type": "display_data",
          "data": {
            "text/html": [
              "<span style=\"color:blue\"> |-image_block_1/conv_block_1/num_layers: 2</span>"
            ],
            "text/plain": [
              "<IPython.core.display.HTML object>"
            ]
          },
          "metadata": {
            "tags": []
          }
        },
        {
          "output_type": "display_data",
          "data": {
            "text/html": [
              "<span style=\"color:cyan\"> |-image_block_1/conv_block_1/separable: False</span>"
            ],
            "text/plain": [
              "<IPython.core.display.HTML object>"
            ]
          },
          "metadata": {
            "tags": []
          }
        },
        {
          "output_type": "display_data",
          "data": {
            "text/html": [
              "<span style=\"color:blue\"> |-image_block_1/normalize: True</span>"
            ],
            "text/plain": [
              "<IPython.core.display.HTML object>"
            ]
          },
          "metadata": {
            "tags": []
          }
        },
        {
          "output_type": "display_data",
          "data": {
            "text/html": [
              "<span style=\"color:cyan\"> |-image_block_1/res_net_block_1/conv3_depth: 4</span>"
            ],
            "text/plain": [
              "<IPython.core.display.HTML object>"
            ]
          },
          "metadata": {
            "tags": []
          }
        },
        {
          "output_type": "display_data",
          "data": {
            "text/html": [
              "<span style=\"color:blue\"> |-image_block_1/res_net_block_1/conv4_depth: 36</span>"
            ],
            "text/plain": [
              "<IPython.core.display.HTML object>"
            ]
          },
          "metadata": {
            "tags": []
          }
        },
        {
          "output_type": "display_data",
          "data": {
            "text/html": [
              "<span style=\"color:cyan\"> |-image_block_1/res_net_block_1/pooling: max</span>"
            ],
            "text/plain": [
              "<IPython.core.display.HTML object>"
            ]
          },
          "metadata": {
            "tags": []
          }
        },
        {
          "output_type": "display_data",
          "data": {
            "text/html": [
              "<span style=\"color:blue\"> |-image_block_1/res_net_block_1/version: v1</span>"
            ],
            "text/plain": [
              "<IPython.core.display.HTML object>"
            ]
          },
          "metadata": {
            "tags": []
          }
        },
        {
          "output_type": "display_data",
          "data": {
            "text/html": [
              "<span style=\"color:cyan\"> |-image_block_2/augment: False</span>"
            ],
            "text/plain": [
              "<IPython.core.display.HTML object>"
            ]
          },
          "metadata": {
            "tags": []
          }
        },
        {
          "output_type": "display_data",
          "data": {
            "text/html": [
              "<span style=\"color:blue\"> |-image_block_2/block_type: vanilla</span>"
            ],
            "text/plain": [
              "<IPython.core.display.HTML object>"
            ]
          },
          "metadata": {
            "tags": []
          }
        },
        {
          "output_type": "display_data",
          "data": {
            "text/html": [
              "<span style=\"color:cyan\"> |-image_block_2/conv_block_1/dropout_rate: 0</span>"
            ],
            "text/plain": [
              "<IPython.core.display.HTML object>"
            ]
          },
          "metadata": {
            "tags": []
          }
        },
        {
          "output_type": "display_data",
          "data": {
            "text/html": [
              "<span style=\"color:blue\"> |-image_block_2/conv_block_1/filters_0_0: 32</span>"
            ],
            "text/plain": [
              "<IPython.core.display.HTML object>"
            ]
          },
          "metadata": {
            "tags": []
          }
        },
        {
          "output_type": "display_data",
          "data": {
            "text/html": [
              "<span style=\"color:cyan\"> |-image_block_2/conv_block_1/filters_0_1: 32</span>"
            ],
            "text/plain": [
              "<IPython.core.display.HTML object>"
            ]
          },
          "metadata": {
            "tags": []
          }
        },
        {
          "output_type": "display_data",
          "data": {
            "text/html": [
              "<span style=\"color:blue\"> |-image_block_2/conv_block_1/filters_1_0: 32</span>"
            ],
            "text/plain": [
              "<IPython.core.display.HTML object>"
            ]
          },
          "metadata": {
            "tags": []
          }
        },
        {
          "output_type": "display_data",
          "data": {
            "text/html": [
              "<span style=\"color:cyan\"> |-image_block_2/conv_block_1/filters_1_1: 32</span>"
            ],
            "text/plain": [
              "<IPython.core.display.HTML object>"
            ]
          },
          "metadata": {
            "tags": []
          }
        },
        {
          "output_type": "display_data",
          "data": {
            "text/html": [
              "<span style=\"color:blue\"> |-image_block_2/conv_block_1/kernel_size: 3</span>"
            ],
            "text/plain": [
              "<IPython.core.display.HTML object>"
            ]
          },
          "metadata": {
            "tags": []
          }
        },
        {
          "output_type": "display_data",
          "data": {
            "text/html": [
              "<span style=\"color:cyan\"> |-image_block_2/conv_block_1/max_pooling: True</span>"
            ],
            "text/plain": [
              "<IPython.core.display.HTML object>"
            ]
          },
          "metadata": {
            "tags": []
          }
        },
        {
          "output_type": "display_data",
          "data": {
            "text/html": [
              "<span style=\"color:blue\"> |-image_block_2/conv_block_1/num_blocks: 2</span>"
            ],
            "text/plain": [
              "<IPython.core.display.HTML object>"
            ]
          },
          "metadata": {
            "tags": []
          }
        },
        {
          "output_type": "display_data",
          "data": {
            "text/html": [
              "<span style=\"color:cyan\"> |-image_block_2/conv_block_1/num_layers: 2</span>"
            ],
            "text/plain": [
              "<IPython.core.display.HTML object>"
            ]
          },
          "metadata": {
            "tags": []
          }
        },
        {
          "output_type": "display_data",
          "data": {
            "text/html": [
              "<span style=\"color:blue\"> |-image_block_2/conv_block_1/separable: False</span>"
            ],
            "text/plain": [
              "<IPython.core.display.HTML object>"
            ]
          },
          "metadata": {
            "tags": []
          }
        },
        {
          "output_type": "display_data",
          "data": {
            "text/html": [
              "<span style=\"color:cyan\"> |-image_block_2/normalize: False</span>"
            ],
            "text/plain": [
              "<IPython.core.display.HTML object>"
            ]
          },
          "metadata": {
            "tags": []
          }
        },
        {
          "output_type": "display_data",
          "data": {
            "text/html": [
              "<span style=\"color:blue\"> |-optimizer: adam</span>"
            ],
            "text/plain": [
              "<IPython.core.display.HTML object>"
            ]
          },
          "metadata": {
            "tags": []
          }
        },
        {
          "output_type": "stream",
          "text": [
            "Train for 6 steps, validate for 2 steps\n",
            "Epoch 1/1000\n",
            "6/6 [==============================] - 22s 4s/step - loss: 7.2538 - accuracy: 0.3967 - val_loss: 10829630.0000 - val_accuracy: 0.0000e+00\n",
            "Epoch 2/1000\n",
            "6/6 [==============================] - 3s 565ms/step - loss: 3.6112 - accuracy: 0.1685 - val_loss: 36957834240.0000 - val_accuracy: 0.0000e+00\n",
            "Epoch 3/1000\n",
            "6/6 [==============================] - 3s 565ms/step - loss: 1.7260 - accuracy: 0.4783 - val_loss: 175056265216.0000 - val_accuracy: 0.0000e+00\n",
            "Epoch 4/1000\n",
            "6/6 [==============================] - 3s 565ms/step - loss: 1.3887 - accuracy: 0.5326 - val_loss: 56320751616.0000 - val_accuracy: 0.0000e+00\n",
            "Epoch 5/1000\n",
            "6/6 [==============================] - 3s 568ms/step - loss: 1.4128 - accuracy: 0.4946 - val_loss: 9023055360.0000 - val_accuracy: 0.0000e+00\n",
            "Epoch 6/1000\n",
            "6/6 [==============================] - 3s 565ms/step - loss: 1.2378 - accuracy: 0.5326 - val_loss: 1167426112.0000 - val_accuracy: 0.0000e+00\n",
            "Epoch 7/1000\n",
            "6/6 [==============================] - 3s 566ms/step - loss: 1.2798 - accuracy: 0.5380 - val_loss: 209881264.0000 - val_accuracy: 0.0000e+00\n",
            "Epoch 8/1000\n",
            "6/6 [==============================] - 3s 561ms/step - loss: 1.2440 - accuracy: 0.5380 - val_loss: 45433202.0000 - val_accuracy: 0.0000e+00\n",
            "Epoch 9/1000\n",
            "6/6 [==============================] - 6s 946ms/step - loss: 1.1590 - accuracy: 0.5380 - val_loss: 10500129.5000 - val_accuracy: 0.0000e+00\n",
            "Epoch 10/1000\n",
            "6/6 [==============================] - 6s 935ms/step - loss: 1.2677 - accuracy: 0.5217 - val_loss: 3757681.6250 - val_accuracy: 0.0000e+00\n",
            "Epoch 11/1000\n",
            "6/6 [==============================] - 6s 941ms/step - loss: 1.2857 - accuracy: 0.5380 - val_loss: 1386364.8125 - val_accuracy: 0.0000e+00\n",
            "Epoch 12/1000\n",
            "6/6 [==============================] - 6s 974ms/step - loss: 1.1632 - accuracy: 0.5380 - val_loss: 467264.5938 - val_accuracy: 0.0000e+00\n",
            "Epoch 13/1000\n",
            "6/6 [==============================] - 16s 3s/step - loss: 1.1866 - accuracy: 0.5380 - val_loss: 267971.5469 - val_accuracy: 0.0000e+00\n",
            "Epoch 14/1000\n",
            "6/6 [==============================] - 17s 3s/step - loss: 1.2351 - accuracy: 0.5326 - val_loss: 164233.4219 - val_accuracy: 0.0000e+00\n",
            "Epoch 15/1000\n",
            "6/6 [==============================] - 14s 2s/step - loss: 1.1121 - accuracy: 0.5489 - val_loss: 95424.7930 - val_accuracy: 0.0000e+00\n",
            "Epoch 16/1000\n",
            "6/6 [==============================] - 8s 1s/step - loss: 1.1120 - accuracy: 0.5489 - val_loss: 55350.3242 - val_accuracy: 0.0000e+00\n",
            "Epoch 17/1000\n",
            "6/6 [==============================] - 18s 3s/step - loss: 1.1028 - accuracy: 0.5598 - val_loss: 29807.0156 - val_accuracy: 0.0000e+00\n",
            "Epoch 18/1000\n",
            "6/6 [==============================] - 12s 2s/step - loss: 1.0496 - accuracy: 0.5598 - val_loss: 18569.7988 - val_accuracy: 0.0000e+00\n",
            "Epoch 19/1000\n",
            "6/6 [==============================] - 13s 2s/step - loss: 0.9775 - accuracy: 0.5707 - val_loss: 12947.6055 - val_accuracy: 0.0000e+00\n",
            "Epoch 20/1000\n",
            "6/6 [==============================] - 12s 2s/step - loss: 0.9463 - accuracy: 0.5761 - val_loss: 8844.4395 - val_accuracy: 0.0000e+00\n",
            "Epoch 21/1000\n",
            "6/6 [==============================] - 15s 2s/step - loss: 0.8565 - accuracy: 0.5761 - val_loss: 5419.4993 - val_accuracy: 0.0000e+00\n",
            "Epoch 22/1000\n",
            "6/6 [==============================] - 14s 2s/step - loss: 0.7910 - accuracy: 0.6522 - val_loss: 3849.7002 - val_accuracy: 0.0000e+00\n",
            "Epoch 23/1000\n",
            "6/6 [==============================] - 8s 1s/step - loss: 0.7568 - accuracy: 0.7609 - val_loss: 2887.4789 - val_accuracy: 0.0000e+00\n",
            "Epoch 24/1000\n",
            "6/6 [==============================] - 16s 3s/step - loss: 0.7408 - accuracy: 0.8043 - val_loss: 1903.9894 - val_accuracy: 0.0000e+00\n",
            "Epoch 25/1000\n",
            "6/6 [==============================] - 12s 2s/step - loss: 0.6296 - accuracy: 0.8098 - val_loss: 1197.5505 - val_accuracy: 0.0000e+00\n",
            "Epoch 26/1000\n",
            "6/6 [==============================] - 14s 2s/step - loss: 0.7130 - accuracy: 0.8967 - val_loss: 1091.5650 - val_accuracy: 0.0000e+00\n",
            "Epoch 27/1000\n",
            "6/6 [==============================] - 13s 2s/step - loss: 0.5063 - accuracy: 0.8641 - val_loss: 919.2434 - val_accuracy: 0.0000e+00\n",
            "Epoch 28/1000\n",
            "6/6 [==============================] - 13s 2s/step - loss: 0.3919 - accuracy: 0.9837 - val_loss: 537.2284 - val_accuracy: 0.0000e+00\n",
            "Epoch 29/1000\n",
            "6/6 [==============================] - 10s 2s/step - loss: 0.2042 - accuracy: 1.0000 - val_loss: 475.0616 - val_accuracy: 0.0000e+00\n",
            "Epoch 30/1000\n",
            "6/6 [==============================] - 17s 3s/step - loss: 0.0801 - accuracy: 1.0000 - val_loss: 395.9597 - val_accuracy: 0.0000e+00\n",
            "Epoch 31/1000\n",
            "6/6 [==============================] - 9s 2s/step - loss: 0.0479 - accuracy: 0.9946 - val_loss: 311.1384 - val_accuracy: 0.0000e+00\n",
            "Epoch 32/1000\n",
            "6/6 [==============================] - 13s 2s/step - loss: 0.2331 - accuracy: 0.9783 - val_loss: 209.7494 - val_accuracy: 0.0000e+00\n",
            "Epoch 33/1000\n",
            "6/6 [==============================] - 15s 2s/step - loss: 0.2361 - accuracy: 0.9946 - val_loss: 202.2444 - val_accuracy: 0.0222\n",
            "Epoch 34/1000\n",
            "6/6 [==============================] - 4s 585ms/step - loss: 0.1343 - accuracy: 0.9946 - val_loss: 344.2934 - val_accuracy: 0.1333\n",
            "Epoch 35/1000\n",
            "6/6 [==============================] - 3s 564ms/step - loss: 0.5034 - accuracy: 0.9783 - val_loss: 528.3119 - val_accuracy: 0.0000e+00\n",
            "Epoch 36/1000\n",
            "6/6 [==============================] - 3s 565ms/step - loss: 0.4063 - accuracy: 0.9946 - val_loss: 699.1320 - val_accuracy: 0.0222\n",
            "Epoch 37/1000\n",
            "6/6 [==============================] - 3s 567ms/step - loss: 0.5648 - accuracy: 0.9728 - val_loss: 379.9138 - val_accuracy: 0.0000e+00\n",
            "Epoch 38/1000\n",
            "6/6 [==============================] - 6s 935ms/step - loss: 0.2009 - accuracy: 0.9891 - val_loss: 182.4711 - val_accuracy: 0.0222\n",
            "Epoch 39/1000\n",
            "6/6 [==============================] - 6s 932ms/step - loss: 0.1384 - accuracy: 0.9891 - val_loss: 148.1535 - val_accuracy: 0.0444\n",
            "Epoch 40/1000\n",
            "6/6 [==============================] - 3s 560ms/step - loss: 0.1396 - accuracy: 0.9674 - val_loss: 205.5328 - val_accuracy: 0.0000e+00\n",
            "Epoch 41/1000\n",
            "6/6 [==============================] - 3s 562ms/step - loss: 0.1557 - accuracy: 0.9891 - val_loss: 221.8302 - val_accuracy: 0.0000e+00\n",
            "Epoch 42/1000\n",
            "6/6 [==============================] - 3s 563ms/step - loss: 0.0216 - accuracy: 1.0000 - val_loss: 163.7018 - val_accuracy: 0.0000e+00\n",
            "Epoch 43/1000\n",
            "6/6 [==============================] - 6s 936ms/step - loss: 0.0128 - accuracy: 1.0000 - val_loss: 117.1474 - val_accuracy: 0.0000e+00\n",
            "Epoch 44/1000\n",
            "6/6 [==============================] - 14s 2s/step - loss: 0.0237 - accuracy: 0.9891 - val_loss: 52.7330 - val_accuracy: 0.0000e+00\n",
            "Epoch 45/1000\n",
            "6/6 [==============================] - 8s 1s/step - loss: 0.1145 - accuracy: 0.9891 - val_loss: 29.8148 - val_accuracy: 0.0000e+00\n",
            "Epoch 46/1000\n",
            "6/6 [==============================] - 3s 556ms/step - loss: 0.0285 - accuracy: 1.0000 - val_loss: 34.0348 - val_accuracy: 0.0000e+00\n",
            "Epoch 47/1000\n",
            "6/6 [==============================] - 3s 563ms/step - loss: 0.1750 - accuracy: 0.9837 - val_loss: 56.8849 - val_accuracy: 0.0000e+00\n",
            "Epoch 48/1000\n",
            "6/6 [==============================] - 3s 565ms/step - loss: 0.4638 - accuracy: 0.9620 - val_loss: 85.4778 - val_accuracy: 0.0000e+00\n",
            "Epoch 49/1000\n",
            "6/6 [==============================] - 3s 564ms/step - loss: 0.1370 - accuracy: 0.9783 - val_loss: 48.9903 - val_accuracy: 0.0000e+00\n",
            "Epoch 50/1000\n",
            "6/6 [==============================] - 3s 565ms/step - loss: 0.2727 - accuracy: 0.9946 - val_loss: 40.3742 - val_accuracy: 0.0000e+00\n",
            "Epoch 51/1000\n",
            "6/6 [==============================] - 3s 567ms/step - loss: 0.1119 - accuracy: 0.9946 - val_loss: 57.2377 - val_accuracy: 0.0000e+00\n",
            "Epoch 52/1000\n",
            "6/6 [==============================] - 3s 560ms/step - loss: 0.0231 - accuracy: 1.0000 - val_loss: 68.8818 - val_accuracy: 0.0000e+00\n",
            "Epoch 53/1000\n",
            "6/6 [==============================] - 3s 564ms/step - loss: 0.0285 - accuracy: 0.9891 - val_loss: 46.3670 - val_accuracy: 0.0000e+00\n",
            "Epoch 54/1000\n",
            "6/6 [==============================] - 6s 947ms/step - loss: 0.0190 - accuracy: 0.9946 - val_loss: 24.4626 - val_accuracy: 0.0000e+00\n",
            "Epoch 55/1000\n",
            "6/6 [==============================] - 6s 940ms/step - loss: 0.0073 - accuracy: 1.0000 - val_loss: 19.0943 - val_accuracy: 0.0000e+00\n",
            "Epoch 56/1000\n",
            "6/6 [==============================] - 6s 947ms/step - loss: 0.0048 - accuracy: 1.0000 - val_loss: 17.1960 - val_accuracy: 0.0000e+00\n",
            "Epoch 57/1000\n",
            "6/6 [==============================] - 7s 1s/step - loss: 0.0024 - accuracy: 1.0000 - val_loss: 16.3495 - val_accuracy: 0.0000e+00\n",
            "Epoch 58/1000\n",
            "6/6 [==============================] - 15s 3s/step - loss: 0.0014 - accuracy: 1.0000 - val_loss: 15.9571 - val_accuracy: 0.0000e+00\n",
            "Epoch 59/1000\n",
            "6/6 [==============================] - 13s 2s/step - loss: 8.9608e-04 - accuracy: 1.0000 - val_loss: 15.7984 - val_accuracy: 0.0000e+00\n",
            "Epoch 60/1000\n",
            "6/6 [==============================] - 14s 2s/step - loss: 6.5985e-04 - accuracy: 1.0000 - val_loss: 15.7520 - val_accuracy: 0.0000e+00\n",
            "Epoch 61/1000\n",
            "6/6 [==============================] - 3s 567ms/step - loss: 5.2600e-04 - accuracy: 1.0000 - val_loss: 15.7786 - val_accuracy: 0.0000e+00\n",
            "Epoch 62/1000\n",
            "6/6 [==============================] - 3s 560ms/step - loss: 4.4214e-04 - accuracy: 1.0000 - val_loss: 15.8565 - val_accuracy: 0.0000e+00\n",
            "Epoch 63/1000\n",
            "6/6 [==============================] - 3s 564ms/step - loss: 3.8516e-04 - accuracy: 1.0000 - val_loss: 15.9750 - val_accuracy: 0.0000e+00\n",
            "Epoch 64/1000\n",
            "6/6 [==============================] - 3s 565ms/step - loss: 3.4381e-04 - accuracy: 1.0000 - val_loss: 16.1266 - val_accuracy: 0.0000e+00\n",
            "Epoch 65/1000\n",
            "6/6 [==============================] - 3s 566ms/step - loss: 3.1219e-04 - accuracy: 1.0000 - val_loss: 16.3066 - val_accuracy: 0.0000e+00\n",
            "Epoch 66/1000\n",
            "6/6 [==============================] - 3s 563ms/step - loss: 2.8698e-04 - accuracy: 1.0000 - val_loss: 16.5056 - val_accuracy: 0.0000e+00\n",
            "Epoch 67/1000\n",
            "6/6 [==============================] - 3s 564ms/step - loss: 2.6624e-04 - accuracy: 1.0000 - val_loss: 16.7267 - val_accuracy: 0.0000e+00\n",
            "Epoch 68/1000\n",
            "6/6 [==============================] - 3s 562ms/step - loss: 2.4870e-04 - accuracy: 1.0000 - val_loss: 16.9615 - val_accuracy: 0.0000e+00\n",
            "Epoch 69/1000\n",
            "6/6 [==============================] - 3s 562ms/step - loss: 2.3358e-04 - accuracy: 1.0000 - val_loss: 17.2090 - val_accuracy: 0.0000e+00\n",
            "Epoch 70/1000\n",
            "6/6 [==============================] - 3s 561ms/step - loss: 2.2034e-04 - accuracy: 1.0000 - val_loss: 17.4682 - val_accuracy: 0.0000e+00\n"
          ],
          "name": "stdout"
        },
        {
          "output_type": "display_data",
          "data": {
            "text/html": [
              "<span style=\"color:#4527A0\"><h1 style=\"font-size:18px\">Trial complete</h1></span>"
            ],
            "text/plain": [
              "<IPython.core.display.HTML object>"
            ]
          },
          "metadata": {
            "tags": []
          }
        },
        {
          "output_type": "display_data",
          "data": {
            "text/html": [
              "<span style=\"color:#4527A0\"><h1 style=\"font-size:18px\">Trial summary</h1></span>"
            ],
            "text/plain": [
              "<IPython.core.display.HTML object>"
            ]
          },
          "metadata": {
            "tags": []
          }
        },
        {
          "output_type": "display_data",
          "data": {
            "text/html": [
              "<span style=\"color:cyan\"> |-Trial ID: 2ec4ee80ce012c63bdd0ab6a166b38e0</span>"
            ],
            "text/plain": [
              "<IPython.core.display.HTML object>"
            ]
          },
          "metadata": {
            "tags": []
          }
        },
        {
          "output_type": "display_data",
          "data": {
            "text/html": [
              "<span style=\"color:cyan\"> |-Score: 15.75199031829834</span>"
            ],
            "text/plain": [
              "<IPython.core.display.HTML object>"
            ]
          },
          "metadata": {
            "tags": []
          }
        },
        {
          "output_type": "display_data",
          "data": {
            "text/html": [
              "<span style=\"color:cyan\"> |-Best step: 0</span>"
            ],
            "text/plain": [
              "<IPython.core.display.HTML object>"
            ]
          },
          "metadata": {
            "tags": []
          }
        },
        {
          "output_type": "display_data",
          "data": {
            "text/html": [
              "<span style=\"color:#7E57C2\"><h2 style=\"font-size:16px\">Hyperparameters:</h2></span>"
            ],
            "text/plain": [
              "<IPython.core.display.HTML object>"
            ]
          },
          "metadata": {
            "tags": []
          }
        },
        {
          "output_type": "display_data",
          "data": {
            "text/html": [
              "<span style=\"color:cyan\"> |-classification_head_1/dropout_rate: 0</span>"
            ],
            "text/plain": [
              "<IPython.core.display.HTML object>"
            ]
          },
          "metadata": {
            "tags": []
          }
        },
        {
          "output_type": "display_data",
          "data": {
            "text/html": [
              "<span style=\"color:blue\"> |-classification_head_4/dropout_rate: 0</span>"
            ],
            "text/plain": [
              "<IPython.core.display.HTML object>"
            ]
          },
          "metadata": {
            "tags": []
          }
        },
        {
          "output_type": "display_data",
          "data": {
            "text/html": [
              "<span style=\"color:cyan\"> |-classification_head_4/spatial_reduction_1/reduction_type: global_avg</span>"
            ],
            "text/plain": [
              "<IPython.core.display.HTML object>"
            ]
          },
          "metadata": {
            "tags": []
          }
        },
        {
          "output_type": "display_data",
          "data": {
            "text/html": [
              "<span style=\"color:blue\"> |-image_block_1/augment: True</span>"
            ],
            "text/plain": [
              "<IPython.core.display.HTML object>"
            ]
          },
          "metadata": {
            "tags": []
          }
        },
        {
          "output_type": "display_data",
          "data": {
            "text/html": [
              "<span style=\"color:cyan\"> |-image_block_1/block_type: resnet</span>"
            ],
            "text/plain": [
              "<IPython.core.display.HTML object>"
            ]
          },
          "metadata": {
            "tags": []
          }
        },
        {
          "output_type": "display_data",
          "data": {
            "text/html": [
              "<span style=\"color:blue\"> |-image_block_1/conv_block_1/dropout_rate: 0.25</span>"
            ],
            "text/plain": [
              "<IPython.core.display.HTML object>"
            ]
          },
          "metadata": {
            "tags": []
          }
        },
        {
          "output_type": "display_data",
          "data": {
            "text/html": [
              "<span style=\"color:cyan\"> |-image_block_1/conv_block_1/filters_0_0: 128</span>"
            ],
            "text/plain": [
              "<IPython.core.display.HTML object>"
            ]
          },
          "metadata": {
            "tags": []
          }
        },
        {
          "output_type": "display_data",
          "data": {
            "text/html": [
              "<span style=\"color:blue\"> |-image_block_1/conv_block_1/filters_0_1: 16</span>"
            ],
            "text/plain": [
              "<IPython.core.display.HTML object>"
            ]
          },
          "metadata": {
            "tags": []
          }
        },
        {
          "output_type": "display_data",
          "data": {
            "text/html": [
              "<span style=\"color:cyan\"> |-image_block_1/conv_block_1/filters_1_0: 64</span>"
            ],
            "text/plain": [
              "<IPython.core.display.HTML object>"
            ]
          },
          "metadata": {
            "tags": []
          }
        },
        {
          "output_type": "display_data",
          "data": {
            "text/html": [
              "<span style=\"color:blue\"> |-image_block_1/conv_block_1/filters_1_1: 64</span>"
            ],
            "text/plain": [
              "<IPython.core.display.HTML object>"
            ]
          },
          "metadata": {
            "tags": []
          }
        },
        {
          "output_type": "display_data",
          "data": {
            "text/html": [
              "<span style=\"color:cyan\"> |-image_block_1/conv_block_1/filters_2_0: 256</span>"
            ],
            "text/plain": [
              "<IPython.core.display.HTML object>"
            ]
          },
          "metadata": {
            "tags": []
          }
        },
        {
          "output_type": "display_data",
          "data": {
            "text/html": [
              "<span style=\"color:blue\"> |-image_block_1/conv_block_1/filters_2_1: 256</span>"
            ],
            "text/plain": [
              "<IPython.core.display.HTML object>"
            ]
          },
          "metadata": {
            "tags": []
          }
        },
        {
          "output_type": "display_data",
          "data": {
            "text/html": [
              "<span style=\"color:cyan\"> |-image_block_1/conv_block_1/kernel_size: 7</span>"
            ],
            "text/plain": [
              "<IPython.core.display.HTML object>"
            ]
          },
          "metadata": {
            "tags": []
          }
        },
        {
          "output_type": "display_data",
          "data": {
            "text/html": [
              "<span style=\"color:blue\"> |-image_block_1/conv_block_1/max_pooling: False</span>"
            ],
            "text/plain": [
              "<IPython.core.display.HTML object>"
            ]
          },
          "metadata": {
            "tags": []
          }
        },
        {
          "output_type": "display_data",
          "data": {
            "text/html": [
              "<span style=\"color:cyan\"> |-image_block_1/conv_block_1/num_blocks: 2</span>"
            ],
            "text/plain": [
              "<IPython.core.display.HTML object>"
            ]
          },
          "metadata": {
            "tags": []
          }
        },
        {
          "output_type": "display_data",
          "data": {
            "text/html": [
              "<span style=\"color:blue\"> |-image_block_1/conv_block_1/num_layers: 1</span>"
            ],
            "text/plain": [
              "<IPython.core.display.HTML object>"
            ]
          },
          "metadata": {
            "tags": []
          }
        },
        {
          "output_type": "display_data",
          "data": {
            "text/html": [
              "<span style=\"color:cyan\"> |-image_block_1/conv_block_1/separable: False</span>"
            ],
            "text/plain": [
              "<IPython.core.display.HTML object>"
            ]
          },
          "metadata": {
            "tags": []
          }
        },
        {
          "output_type": "display_data",
          "data": {
            "text/html": [
              "<span style=\"color:blue\"> |-image_block_1/normalize: False</span>"
            ],
            "text/plain": [
              "<IPython.core.display.HTML object>"
            ]
          },
          "metadata": {
            "tags": []
          }
        },
        {
          "output_type": "display_data",
          "data": {
            "text/html": [
              "<span style=\"color:cyan\"> |-image_block_1/res_net_block_1/conv3_depth: 8</span>"
            ],
            "text/plain": [
              "<IPython.core.display.HTML object>"
            ]
          },
          "metadata": {
            "tags": []
          }
        },
        {
          "output_type": "display_data",
          "data": {
            "text/html": [
              "<span style=\"color:blue\"> |-image_block_1/res_net_block_1/conv4_depth: 23</span>"
            ],
            "text/plain": [
              "<IPython.core.display.HTML object>"
            ]
          },
          "metadata": {
            "tags": []
          }
        },
        {
          "output_type": "display_data",
          "data": {
            "text/html": [
              "<span style=\"color:cyan\"> |-image_block_1/res_net_block_1/pooling: max</span>"
            ],
            "text/plain": [
              "<IPython.core.display.HTML object>"
            ]
          },
          "metadata": {
            "tags": []
          }
        },
        {
          "output_type": "display_data",
          "data": {
            "text/html": [
              "<span style=\"color:blue\"> |-image_block_1/res_net_block_1/version: v2</span>"
            ],
            "text/plain": [
              "<IPython.core.display.HTML object>"
            ]
          },
          "metadata": {
            "tags": []
          }
        },
        {
          "output_type": "display_data",
          "data": {
            "text/html": [
              "<span style=\"color:cyan\"> |-image_block_2/augment: False</span>"
            ],
            "text/plain": [
              "<IPython.core.display.HTML object>"
            ]
          },
          "metadata": {
            "tags": []
          }
        },
        {
          "output_type": "display_data",
          "data": {
            "text/html": [
              "<span style=\"color:blue\"> |-image_block_2/block_type: vanilla</span>"
            ],
            "text/plain": [
              "<IPython.core.display.HTML object>"
            ]
          },
          "metadata": {
            "tags": []
          }
        },
        {
          "output_type": "display_data",
          "data": {
            "text/html": [
              "<span style=\"color:cyan\"> |-image_block_2/conv_block_1/dropout_rate: 0</span>"
            ],
            "text/plain": [
              "<IPython.core.display.HTML object>"
            ]
          },
          "metadata": {
            "tags": []
          }
        },
        {
          "output_type": "display_data",
          "data": {
            "text/html": [
              "<span style=\"color:blue\"> |-image_block_2/conv_block_1/filters_0_0: 32</span>"
            ],
            "text/plain": [
              "<IPython.core.display.HTML object>"
            ]
          },
          "metadata": {
            "tags": []
          }
        },
        {
          "output_type": "display_data",
          "data": {
            "text/html": [
              "<span style=\"color:cyan\"> |-image_block_2/conv_block_1/filters_0_1: 32</span>"
            ],
            "text/plain": [
              "<IPython.core.display.HTML object>"
            ]
          },
          "metadata": {
            "tags": []
          }
        },
        {
          "output_type": "display_data",
          "data": {
            "text/html": [
              "<span style=\"color:blue\"> |-image_block_2/conv_block_1/filters_1_0: 32</span>"
            ],
            "text/plain": [
              "<IPython.core.display.HTML object>"
            ]
          },
          "metadata": {
            "tags": []
          }
        },
        {
          "output_type": "display_data",
          "data": {
            "text/html": [
              "<span style=\"color:cyan\"> |-image_block_2/conv_block_1/filters_1_1: 32</span>"
            ],
            "text/plain": [
              "<IPython.core.display.HTML object>"
            ]
          },
          "metadata": {
            "tags": []
          }
        },
        {
          "output_type": "display_data",
          "data": {
            "text/html": [
              "<span style=\"color:blue\"> |-image_block_2/conv_block_1/kernel_size: 3</span>"
            ],
            "text/plain": [
              "<IPython.core.display.HTML object>"
            ]
          },
          "metadata": {
            "tags": []
          }
        },
        {
          "output_type": "display_data",
          "data": {
            "text/html": [
              "<span style=\"color:cyan\"> |-image_block_2/conv_block_1/max_pooling: True</span>"
            ],
            "text/plain": [
              "<IPython.core.display.HTML object>"
            ]
          },
          "metadata": {
            "tags": []
          }
        },
        {
          "output_type": "display_data",
          "data": {
            "text/html": [
              "<span style=\"color:blue\"> |-image_block_2/conv_block_1/num_blocks: 2</span>"
            ],
            "text/plain": [
              "<IPython.core.display.HTML object>"
            ]
          },
          "metadata": {
            "tags": []
          }
        },
        {
          "output_type": "display_data",
          "data": {
            "text/html": [
              "<span style=\"color:cyan\"> |-image_block_2/conv_block_1/num_layers: 2</span>"
            ],
            "text/plain": [
              "<IPython.core.display.HTML object>"
            ]
          },
          "metadata": {
            "tags": []
          }
        },
        {
          "output_type": "display_data",
          "data": {
            "text/html": [
              "<span style=\"color:blue\"> |-image_block_2/conv_block_1/separable: False</span>"
            ],
            "text/plain": [
              "<IPython.core.display.HTML object>"
            ]
          },
          "metadata": {
            "tags": []
          }
        },
        {
          "output_type": "display_data",
          "data": {
            "text/html": [
              "<span style=\"color:cyan\"> |-image_block_2/normalize: False</span>"
            ],
            "text/plain": [
              "<IPython.core.display.HTML object>"
            ]
          },
          "metadata": {
            "tags": []
          }
        },
        {
          "output_type": "display_data",
          "data": {
            "text/html": [
              "<span style=\"color:blue\"> |-optimizer: adam</span>"
            ],
            "text/plain": [
              "<IPython.core.display.HTML object>"
            ]
          },
          "metadata": {
            "tags": []
          }
        },
        {
          "output_type": "stream",
          "text": [
            "Train for 6 steps, validate for 2 steps\n",
            "Epoch 1/1000\n",
            "6/6 [==============================] - 12s 2s/step - loss: 10.9159 - accuracy: 0.3370 - val_loss: 2.7771 - val_accuracy: 0.0000e+00\n",
            "Epoch 2/1000\n",
            "6/6 [==============================] - 7s 1s/step - loss: 3.8218 - accuracy: 0.2174 - val_loss: 3.1141 - val_accuracy: 0.0000e+00\n",
            "Epoch 3/1000\n",
            "6/6 [==============================] - 8s 1s/step - loss: 2.5257 - accuracy: 0.3424 - val_loss: 2.5984 - val_accuracy: 0.0000e+00\n",
            "Epoch 4/1000\n",
            "6/6 [==============================] - 8s 1s/step - loss: 2.4760 - accuracy: 0.1359 - val_loss: 2.1981 - val_accuracy: 0.0000e+00\n",
            "Epoch 5/1000\n",
            "6/6 [==============================] - 8s 1s/step - loss: 1.6683 - accuracy: 0.2283 - val_loss: 2.0038 - val_accuracy: 0.0000e+00\n",
            "Epoch 6/1000\n",
            "6/6 [==============================] - 8s 1s/step - loss: 1.9687 - accuracy: 0.1522 - val_loss: 1.6322 - val_accuracy: 0.0000e+00\n",
            "Epoch 7/1000\n",
            "6/6 [==============================] - 7s 1s/step - loss: 1.4750 - accuracy: 0.2989 - val_loss: 1.6718 - val_accuracy: 0.0000e+00\n",
            "Epoch 8/1000\n",
            "6/6 [==============================] - 7s 1s/step - loss: 1.2892 - accuracy: 0.5109 - val_loss: 1.6635 - val_accuracy: 0.0000e+00\n",
            "Epoch 9/1000\n",
            "6/6 [==============================] - 8s 1s/step - loss: 1.2415 - accuracy: 0.5380 - val_loss: 1.5259 - val_accuracy: 0.0000e+00\n",
            "Epoch 10/1000\n",
            "6/6 [==============================] - 8s 1s/step - loss: 1.0825 - accuracy: 0.5489 - val_loss: 1.5456 - val_accuracy: 0.0000e+00\n",
            "Epoch 11/1000\n",
            "6/6 [==============================] - 7s 1s/step - loss: 1.0254 - accuracy: 0.5707 - val_loss: 1.5324 - val_accuracy: 0.0000e+00\n",
            "Epoch 12/1000\n",
            "6/6 [==============================] - 8s 1s/step - loss: 0.9379 - accuracy: 0.5870 - val_loss: 1.4795 - val_accuracy: 0.0000e+00\n",
            "Epoch 13/1000\n",
            "6/6 [==============================] - 7s 1s/step - loss: 0.8649 - accuracy: 0.6576 - val_loss: 1.5113 - val_accuracy: 0.0000e+00\n",
            "Epoch 14/1000\n",
            "6/6 [==============================] - 7s 1s/step - loss: 0.7965 - accuracy: 0.6957 - val_loss: 1.4979 - val_accuracy: 0.0000e+00\n",
            "Epoch 15/1000\n",
            "6/6 [==============================] - 8s 1s/step - loss: 0.7061 - accuracy: 0.7609 - val_loss: 1.3990 - val_accuracy: 0.3333\n",
            "Epoch 16/1000\n",
            "6/6 [==============================] - 7s 1s/step - loss: 0.5919 - accuracy: 0.8152 - val_loss: 1.5445 - val_accuracy: 0.0000e+00\n",
            "Epoch 17/1000\n",
            "6/6 [==============================] - 7s 1s/step - loss: 0.4747 - accuracy: 0.8696 - val_loss: 1.4523 - val_accuracy: 0.0000e+00\n",
            "Epoch 18/1000\n",
            "6/6 [==============================] - 7s 1s/step - loss: 0.3826 - accuracy: 0.9185 - val_loss: 1.4350 - val_accuracy: 0.0000e+00\n",
            "Epoch 19/1000\n",
            "6/6 [==============================] - 7s 1s/step - loss: 0.2521 - accuracy: 0.9946 - val_loss: 1.5220 - val_accuracy: 0.0000e+00\n",
            "Epoch 20/1000\n",
            "6/6 [==============================] - 7s 1s/step - loss: 0.1724 - accuracy: 0.9946 - val_loss: 1.4745 - val_accuracy: 0.0000e+00\n",
            "Epoch 21/1000\n",
            "6/6 [==============================] - 7s 1s/step - loss: 0.1094 - accuracy: 0.9891 - val_loss: 1.4395 - val_accuracy: 0.0000e+00\n",
            "Epoch 22/1000\n",
            "6/6 [==============================] - 7s 1s/step - loss: 0.0869 - accuracy: 0.9891 - val_loss: 1.5198 - val_accuracy: 0.0000e+00\n",
            "Epoch 23/1000\n",
            "6/6 [==============================] - 7s 1s/step - loss: 0.0804 - accuracy: 0.9891 - val_loss: 1.5004 - val_accuracy: 0.0000e+00\n",
            "Epoch 24/1000\n",
            "6/6 [==============================] - 7s 1s/step - loss: 0.0732 - accuracy: 0.9946 - val_loss: 1.5396 - val_accuracy: 0.0000e+00\n",
            "Epoch 25/1000\n",
            "6/6 [==============================] - 7s 1s/step - loss: 0.0276 - accuracy: 1.0000 - val_loss: 1.6235 - val_accuracy: 0.0000e+00\n"
          ],
          "name": "stdout"
        },
        {
          "output_type": "display_data",
          "data": {
            "text/html": [
              "<span style=\"color:#4527A0\"><h1 style=\"font-size:18px\">Trial complete</h1></span>"
            ],
            "text/plain": [
              "<IPython.core.display.HTML object>"
            ]
          },
          "metadata": {
            "tags": []
          }
        },
        {
          "output_type": "display_data",
          "data": {
            "text/html": [
              "<span style=\"color:#4527A0\"><h1 style=\"font-size:18px\">Trial summary</h1></span>"
            ],
            "text/plain": [
              "<IPython.core.display.HTML object>"
            ]
          },
          "metadata": {
            "tags": []
          }
        },
        {
          "output_type": "display_data",
          "data": {
            "text/html": [
              "<span style=\"color:cyan\"> |-Trial ID: 07adce08c34c1532cf77d4f41af27aa0</span>"
            ],
            "text/plain": [
              "<IPython.core.display.HTML object>"
            ]
          },
          "metadata": {
            "tags": []
          }
        },
        {
          "output_type": "display_data",
          "data": {
            "text/html": [
              "<span style=\"color:cyan\"> |-Score: 1.3989846110343933</span>"
            ],
            "text/plain": [
              "<IPython.core.display.HTML object>"
            ]
          },
          "metadata": {
            "tags": []
          }
        },
        {
          "output_type": "display_data",
          "data": {
            "text/html": [
              "<span style=\"color:cyan\"> |-Best step: 0</span>"
            ],
            "text/plain": [
              "<IPython.core.display.HTML object>"
            ]
          },
          "metadata": {
            "tags": []
          }
        },
        {
          "output_type": "display_data",
          "data": {
            "text/html": [
              "<span style=\"color:#7E57C2\"><h2 style=\"font-size:16px\">Hyperparameters:</h2></span>"
            ],
            "text/plain": [
              "<IPython.core.display.HTML object>"
            ]
          },
          "metadata": {
            "tags": []
          }
        },
        {
          "output_type": "display_data",
          "data": {
            "text/html": [
              "<span style=\"color:cyan\"> |-classification_head_1/dropout_rate: 0</span>"
            ],
            "text/plain": [
              "<IPython.core.display.HTML object>"
            ]
          },
          "metadata": {
            "tags": []
          }
        },
        {
          "output_type": "display_data",
          "data": {
            "text/html": [
              "<span style=\"color:blue\"> |-classification_head_4/dropout_rate: 0</span>"
            ],
            "text/plain": [
              "<IPython.core.display.HTML object>"
            ]
          },
          "metadata": {
            "tags": []
          }
        },
        {
          "output_type": "display_data",
          "data": {
            "text/html": [
              "<span style=\"color:cyan\"> |-classification_head_4/spatial_reduction_1/reduction_type: global_avg</span>"
            ],
            "text/plain": [
              "<IPython.core.display.HTML object>"
            ]
          },
          "metadata": {
            "tags": []
          }
        },
        {
          "output_type": "display_data",
          "data": {
            "text/html": [
              "<span style=\"color:blue\"> |-image_block_1/augment: True</span>"
            ],
            "text/plain": [
              "<IPython.core.display.HTML object>"
            ]
          },
          "metadata": {
            "tags": []
          }
        },
        {
          "output_type": "display_data",
          "data": {
            "text/html": [
              "<span style=\"color:cyan\"> |-image_block_1/block_type: xception</span>"
            ],
            "text/plain": [
              "<IPython.core.display.HTML object>"
            ]
          },
          "metadata": {
            "tags": []
          }
        },
        {
          "output_type": "display_data",
          "data": {
            "text/html": [
              "<span style=\"color:blue\"> |-image_block_1/conv_block_1/dropout_rate: 0.5</span>"
            ],
            "text/plain": [
              "<IPython.core.display.HTML object>"
            ]
          },
          "metadata": {
            "tags": []
          }
        },
        {
          "output_type": "display_data",
          "data": {
            "text/html": [
              "<span style=\"color:cyan\"> |-image_block_1/conv_block_1/filters_0_0: 128</span>"
            ],
            "text/plain": [
              "<IPython.core.display.HTML object>"
            ]
          },
          "metadata": {
            "tags": []
          }
        },
        {
          "output_type": "display_data",
          "data": {
            "text/html": [
              "<span style=\"color:blue\"> |-image_block_1/conv_block_1/filters_0_1: 16</span>"
            ],
            "text/plain": [
              "<IPython.core.display.HTML object>"
            ]
          },
          "metadata": {
            "tags": []
          }
        },
        {
          "output_type": "display_data",
          "data": {
            "text/html": [
              "<span style=\"color:cyan\"> |-image_block_1/conv_block_1/filters_1_0: 16</span>"
            ],
            "text/plain": [
              "<IPython.core.display.HTML object>"
            ]
          },
          "metadata": {
            "tags": []
          }
        },
        {
          "output_type": "display_data",
          "data": {
            "text/html": [
              "<span style=\"color:blue\"> |-image_block_1/conv_block_1/filters_1_1: 128</span>"
            ],
            "text/plain": [
              "<IPython.core.display.HTML object>"
            ]
          },
          "metadata": {
            "tags": []
          }
        },
        {
          "output_type": "display_data",
          "data": {
            "text/html": [
              "<span style=\"color:cyan\"> |-image_block_1/conv_block_1/filters_2_0: 128</span>"
            ],
            "text/plain": [
              "<IPython.core.display.HTML object>"
            ]
          },
          "metadata": {
            "tags": []
          }
        },
        {
          "output_type": "display_data",
          "data": {
            "text/html": [
              "<span style=\"color:blue\"> |-image_block_1/conv_block_1/filters_2_1: 256</span>"
            ],
            "text/plain": [
              "<IPython.core.display.HTML object>"
            ]
          },
          "metadata": {
            "tags": []
          }
        },
        {
          "output_type": "display_data",
          "data": {
            "text/html": [
              "<span style=\"color:cyan\"> |-image_block_1/conv_block_1/kernel_size: 3</span>"
            ],
            "text/plain": [
              "<IPython.core.display.HTML object>"
            ]
          },
          "metadata": {
            "tags": []
          }
        },
        {
          "output_type": "display_data",
          "data": {
            "text/html": [
              "<span style=\"color:blue\"> |-image_block_1/conv_block_1/max_pooling: True</span>"
            ],
            "text/plain": [
              "<IPython.core.display.HTML object>"
            ]
          },
          "metadata": {
            "tags": []
          }
        },
        {
          "output_type": "display_data",
          "data": {
            "text/html": [
              "<span style=\"color:cyan\"> |-image_block_1/conv_block_1/num_blocks: 3</span>"
            ],
            "text/plain": [
              "<IPython.core.display.HTML object>"
            ]
          },
          "metadata": {
            "tags": []
          }
        },
        {
          "output_type": "display_data",
          "data": {
            "text/html": [
              "<span style=\"color:blue\"> |-image_block_1/conv_block_1/num_layers: 2</span>"
            ],
            "text/plain": [
              "<IPython.core.display.HTML object>"
            ]
          },
          "metadata": {
            "tags": []
          }
        },
        {
          "output_type": "display_data",
          "data": {
            "text/html": [
              "<span style=\"color:cyan\"> |-image_block_1/conv_block_1/separable: True</span>"
            ],
            "text/plain": [
              "<IPython.core.display.HTML object>"
            ]
          },
          "metadata": {
            "tags": []
          }
        },
        {
          "output_type": "display_data",
          "data": {
            "text/html": [
              "<span style=\"color:blue\"> |-image_block_1/normalize: False</span>"
            ],
            "text/plain": [
              "<IPython.core.display.HTML object>"
            ]
          },
          "metadata": {
            "tags": []
          }
        },
        {
          "output_type": "display_data",
          "data": {
            "text/html": [
              "<span style=\"color:cyan\"> |-image_block_1/res_net_block_1/conv3_depth: 8</span>"
            ],
            "text/plain": [
              "<IPython.core.display.HTML object>"
            ]
          },
          "metadata": {
            "tags": []
          }
        },
        {
          "output_type": "display_data",
          "data": {
            "text/html": [
              "<span style=\"color:blue\"> |-image_block_1/res_net_block_1/conv4_depth: 6</span>"
            ],
            "text/plain": [
              "<IPython.core.display.HTML object>"
            ]
          },
          "metadata": {
            "tags": []
          }
        },
        {
          "output_type": "display_data",
          "data": {
            "text/html": [
              "<span style=\"color:cyan\"> |-image_block_1/res_net_block_1/pooling: avg</span>"
            ],
            "text/plain": [
              "<IPython.core.display.HTML object>"
            ]
          },
          "metadata": {
            "tags": []
          }
        },
        {
          "output_type": "display_data",
          "data": {
            "text/html": [
              "<span style=\"color:blue\"> |-image_block_1/res_net_block_1/version: v1</span>"
            ],
            "text/plain": [
              "<IPython.core.display.HTML object>"
            ]
          },
          "metadata": {
            "tags": []
          }
        },
        {
          "output_type": "display_data",
          "data": {
            "text/html": [
              "<span style=\"color:cyan\"> |-image_block_1/xception_block_1/activation: relu</span>"
            ],
            "text/plain": [
              "<IPython.core.display.HTML object>"
            ]
          },
          "metadata": {
            "tags": []
          }
        },
        {
          "output_type": "display_data",
          "data": {
            "text/html": [
              "<span style=\"color:blue\"> |-image_block_1/xception_block_1/conv2d_num_filters: 64</span>"
            ],
            "text/plain": [
              "<IPython.core.display.HTML object>"
            ]
          },
          "metadata": {
            "tags": []
          }
        },
        {
          "output_type": "display_data",
          "data": {
            "text/html": [
              "<span style=\"color:cyan\"> |-image_block_1/xception_block_1/initial_strides: 2</span>"
            ],
            "text/plain": [
              "<IPython.core.display.HTML object>"
            ]
          },
          "metadata": {
            "tags": []
          }
        },
        {
          "output_type": "display_data",
          "data": {
            "text/html": [
              "<span style=\"color:blue\"> |-image_block_1/xception_block_1/kernel_size: 3</span>"
            ],
            "text/plain": [
              "<IPython.core.display.HTML object>"
            ]
          },
          "metadata": {
            "tags": []
          }
        },
        {
          "output_type": "display_data",
          "data": {
            "text/html": [
              "<span style=\"color:cyan\"> |-image_block_1/xception_block_1/num_residual_blocks: 4</span>"
            ],
            "text/plain": [
              "<IPython.core.display.HTML object>"
            ]
          },
          "metadata": {
            "tags": []
          }
        },
        {
          "output_type": "display_data",
          "data": {
            "text/html": [
              "<span style=\"color:blue\"> |-image_block_1/xception_block_1/pooling: avg</span>"
            ],
            "text/plain": [
              "<IPython.core.display.HTML object>"
            ]
          },
          "metadata": {
            "tags": []
          }
        },
        {
          "output_type": "display_data",
          "data": {
            "text/html": [
              "<span style=\"color:cyan\"> |-image_block_1/xception_block_1/sep_num_filters: 256</span>"
            ],
            "text/plain": [
              "<IPython.core.display.HTML object>"
            ]
          },
          "metadata": {
            "tags": []
          }
        },
        {
          "output_type": "display_data",
          "data": {
            "text/html": [
              "<span style=\"color:blue\"> |-image_block_2/augment: False</span>"
            ],
            "text/plain": [
              "<IPython.core.display.HTML object>"
            ]
          },
          "metadata": {
            "tags": []
          }
        },
        {
          "output_type": "display_data",
          "data": {
            "text/html": [
              "<span style=\"color:cyan\"> |-image_block_2/block_type: vanilla</span>"
            ],
            "text/plain": [
              "<IPython.core.display.HTML object>"
            ]
          },
          "metadata": {
            "tags": []
          }
        },
        {
          "output_type": "display_data",
          "data": {
            "text/html": [
              "<span style=\"color:blue\"> |-image_block_2/conv_block_1/dropout_rate: 0</span>"
            ],
            "text/plain": [
              "<IPython.core.display.HTML object>"
            ]
          },
          "metadata": {
            "tags": []
          }
        },
        {
          "output_type": "display_data",
          "data": {
            "text/html": [
              "<span style=\"color:cyan\"> |-image_block_2/conv_block_1/filters_0_0: 32</span>"
            ],
            "text/plain": [
              "<IPython.core.display.HTML object>"
            ]
          },
          "metadata": {
            "tags": []
          }
        },
        {
          "output_type": "display_data",
          "data": {
            "text/html": [
              "<span style=\"color:blue\"> |-image_block_2/conv_block_1/filters_0_1: 32</span>"
            ],
            "text/plain": [
              "<IPython.core.display.HTML object>"
            ]
          },
          "metadata": {
            "tags": []
          }
        },
        {
          "output_type": "display_data",
          "data": {
            "text/html": [
              "<span style=\"color:cyan\"> |-image_block_2/conv_block_1/filters_1_0: 32</span>"
            ],
            "text/plain": [
              "<IPython.core.display.HTML object>"
            ]
          },
          "metadata": {
            "tags": []
          }
        },
        {
          "output_type": "display_data",
          "data": {
            "text/html": [
              "<span style=\"color:blue\"> |-image_block_2/conv_block_1/filters_1_1: 32</span>"
            ],
            "text/plain": [
              "<IPython.core.display.HTML object>"
            ]
          },
          "metadata": {
            "tags": []
          }
        },
        {
          "output_type": "display_data",
          "data": {
            "text/html": [
              "<span style=\"color:cyan\"> |-image_block_2/conv_block_1/kernel_size: 3</span>"
            ],
            "text/plain": [
              "<IPython.core.display.HTML object>"
            ]
          },
          "metadata": {
            "tags": []
          }
        },
        {
          "output_type": "display_data",
          "data": {
            "text/html": [
              "<span style=\"color:blue\"> |-image_block_2/conv_block_1/max_pooling: True</span>"
            ],
            "text/plain": [
              "<IPython.core.display.HTML object>"
            ]
          },
          "metadata": {
            "tags": []
          }
        },
        {
          "output_type": "display_data",
          "data": {
            "text/html": [
              "<span style=\"color:cyan\"> |-image_block_2/conv_block_1/num_blocks: 2</span>"
            ],
            "text/plain": [
              "<IPython.core.display.HTML object>"
            ]
          },
          "metadata": {
            "tags": []
          }
        },
        {
          "output_type": "display_data",
          "data": {
            "text/html": [
              "<span style=\"color:blue\"> |-image_block_2/conv_block_1/num_layers: 2</span>"
            ],
            "text/plain": [
              "<IPython.core.display.HTML object>"
            ]
          },
          "metadata": {
            "tags": []
          }
        },
        {
          "output_type": "display_data",
          "data": {
            "text/html": [
              "<span style=\"color:cyan\"> |-image_block_2/conv_block_1/separable: False</span>"
            ],
            "text/plain": [
              "<IPython.core.display.HTML object>"
            ]
          },
          "metadata": {
            "tags": []
          }
        },
        {
          "output_type": "display_data",
          "data": {
            "text/html": [
              "<span style=\"color:blue\"> |-image_block_2/normalize: False</span>"
            ],
            "text/plain": [
              "<IPython.core.display.HTML object>"
            ]
          },
          "metadata": {
            "tags": []
          }
        },
        {
          "output_type": "display_data",
          "data": {
            "text/html": [
              "<span style=\"color:cyan\"> |-optimizer: adam</span>"
            ],
            "text/plain": [
              "<IPython.core.display.HTML object>"
            ]
          },
          "metadata": {
            "tags": []
          }
        },
        {
          "output_type": "stream",
          "text": [
            "Train for 6 steps, validate for 2 steps\n",
            "Epoch 1/1000\n",
            "1/6 [====>.........................] - ETA: 1:11WARNING:tensorflow:Early stopping conditioned on metric `val_loss` which is not available. Available metrics are: \n",
            "WARNING:tensorflow:Can save best model only with val_loss available, skipping.\n"
          ],
          "name": "stdout"
        },
        {
          "output_type": "error",
          "ename": "ResourceExhaustedError",
          "evalue": "ignored",
          "traceback": [
            "\u001b[0;31m---------------------------------------------------------------------------\u001b[0m",
            "\u001b[0;31mResourceExhaustedError\u001b[0m                    Traceback (most recent call last)",
            "\u001b[0;32m<ipython-input-16-8d28367635dc>\u001b[0m in \u001b[0;36m<module>\u001b[0;34m()\u001b[0m\n\u001b[1;32m      6\u001b[0m     \u001b[0mmax_trials\u001b[0m\u001b[0;34m=\u001b[0m\u001b[0;36m50\u001b[0m\u001b[0;34m,\u001b[0m\u001b[0;34m\u001b[0m\u001b[0;34m\u001b[0m\u001b[0m\n\u001b[1;32m      7\u001b[0m )\n\u001b[0;32m----> 8\u001b[0;31m \u001b[0mclf\u001b[0m\u001b[0;34m.\u001b[0m\u001b[0mfit\u001b[0m\u001b[0;34m(\u001b[0m\u001b[0mnew_data\u001b[0m\u001b[0;34m,\u001b[0m \u001b[0mlabels\u001b[0m\u001b[0;34m)\u001b[0m\u001b[0;34m\u001b[0m\u001b[0;34m\u001b[0m\u001b[0m\n\u001b[0m",
            "\u001b[0;32m/usr/local/lib/python3.6/dist-packages/autokeras/auto_model.py\u001b[0m in \u001b[0;36mfit\u001b[0;34m(self, x, y, batch_size, epochs, callbacks, validation_split, validation_data, **kwargs)\u001b[0m\n\u001b[1;32m    256\u001b[0m                           \u001b[0mvalidation_data\u001b[0m\u001b[0;34m=\u001b[0m\u001b[0mvalidation_data\u001b[0m\u001b[0;34m,\u001b[0m\u001b[0;34m\u001b[0m\u001b[0;34m\u001b[0m\u001b[0m\n\u001b[1;32m    257\u001b[0m                           \u001b[0mfit_on_val_data\u001b[0m\u001b[0;34m=\u001b[0m\u001b[0mself\u001b[0m\u001b[0;34m.\u001b[0m\u001b[0m_split_dataset\u001b[0m\u001b[0;34m,\u001b[0m\u001b[0;34m\u001b[0m\u001b[0;34m\u001b[0m\u001b[0m\n\u001b[0;32m--> 258\u001b[0;31m                           **kwargs)\n\u001b[0m\u001b[1;32m    259\u001b[0m \u001b[0;34m\u001b[0m\u001b[0m\n\u001b[1;32m    260\u001b[0m     \u001b[0;32mdef\u001b[0m \u001b[0m_process_x\u001b[0m\u001b[0;34m(\u001b[0m\u001b[0mself\u001b[0m\u001b[0;34m,\u001b[0m \u001b[0mx\u001b[0m\u001b[0;34m,\u001b[0m \u001b[0mfit\u001b[0m\u001b[0;34m)\u001b[0m\u001b[0;34m:\u001b[0m\u001b[0;34m\u001b[0m\u001b[0;34m\u001b[0m\u001b[0m\n",
            "\u001b[0;32m/usr/local/lib/python3.6/dist-packages/autokeras/engine/tuner.py\u001b[0m in \u001b[0;36msearch\u001b[0;34m(self, callbacks, fit_on_val_data, **fit_kwargs)\u001b[0m\n\u001b[1;32m    112\u001b[0m             \u001b[0mnew_callbacks\u001b[0m\u001b[0;34m.\u001b[0m\u001b[0mappend\u001b[0m\u001b[0;34m(\u001b[0m\u001b[0mtf\u001b[0m\u001b[0;34m.\u001b[0m\u001b[0mkeras\u001b[0m\u001b[0;34m.\u001b[0m\u001b[0mcallbacks\u001b[0m\u001b[0;34m.\u001b[0m\u001b[0mEarlyStopping\u001b[0m\u001b[0;34m(\u001b[0m\u001b[0mpatience\u001b[0m\u001b[0;34m=\u001b[0m\u001b[0;36m10\u001b[0m\u001b[0;34m)\u001b[0m\u001b[0;34m)\u001b[0m\u001b[0;34m\u001b[0m\u001b[0;34m\u001b[0m\u001b[0m\n\u001b[1;32m    113\u001b[0m \u001b[0;34m\u001b[0m\u001b[0m\n\u001b[0;32m--> 114\u001b[0;31m         \u001b[0msuper\u001b[0m\u001b[0;34m(\u001b[0m\u001b[0;34m)\u001b[0m\u001b[0;34m.\u001b[0m\u001b[0msearch\u001b[0m\u001b[0;34m(\u001b[0m\u001b[0mcallbacks\u001b[0m\u001b[0;34m=\u001b[0m\u001b[0mnew_callbacks\u001b[0m\u001b[0;34m,\u001b[0m \u001b[0;34m**\u001b[0m\u001b[0mfit_kwargs\u001b[0m\u001b[0;34m)\u001b[0m\u001b[0;34m\u001b[0m\u001b[0;34m\u001b[0m\u001b[0m\n\u001b[0m\u001b[1;32m    115\u001b[0m \u001b[0;34m\u001b[0m\u001b[0m\n\u001b[1;32m    116\u001b[0m         \u001b[0;31m# Fully train the best model with original callbacks.\u001b[0m\u001b[0;34m\u001b[0m\u001b[0;34m\u001b[0m\u001b[0;34m\u001b[0m\u001b[0m\n",
            "\u001b[0;32m/usr/local/lib/python3.6/dist-packages/kerastuner/engine/base_tuner.py\u001b[0m in \u001b[0;36msearch\u001b[0;34m(self, *fit_args, **fit_kwargs)\u001b[0m\n\u001b[1;32m    128\u001b[0m \u001b[0;34m\u001b[0m\u001b[0m\n\u001b[1;32m    129\u001b[0m             \u001b[0mself\u001b[0m\u001b[0;34m.\u001b[0m\u001b[0mon_trial_begin\u001b[0m\u001b[0;34m(\u001b[0m\u001b[0mtrial\u001b[0m\u001b[0;34m)\u001b[0m\u001b[0;34m\u001b[0m\u001b[0;34m\u001b[0m\u001b[0m\n\u001b[0;32m--> 130\u001b[0;31m             \u001b[0mself\u001b[0m\u001b[0;34m.\u001b[0m\u001b[0mrun_trial\u001b[0m\u001b[0;34m(\u001b[0m\u001b[0mtrial\u001b[0m\u001b[0;34m,\u001b[0m \u001b[0;34m*\u001b[0m\u001b[0mfit_args\u001b[0m\u001b[0;34m,\u001b[0m \u001b[0;34m**\u001b[0m\u001b[0mfit_kwargs\u001b[0m\u001b[0;34m)\u001b[0m\u001b[0;34m\u001b[0m\u001b[0;34m\u001b[0m\u001b[0m\n\u001b[0m\u001b[1;32m    131\u001b[0m             \u001b[0mself\u001b[0m\u001b[0;34m.\u001b[0m\u001b[0mon_trial_end\u001b[0m\u001b[0;34m(\u001b[0m\u001b[0mtrial\u001b[0m\u001b[0;34m)\u001b[0m\u001b[0;34m\u001b[0m\u001b[0;34m\u001b[0m\u001b[0m\n\u001b[1;32m    132\u001b[0m         \u001b[0mself\u001b[0m\u001b[0;34m.\u001b[0m\u001b[0mon_search_end\u001b[0m\u001b[0;34m(\u001b[0m\u001b[0;34m)\u001b[0m\u001b[0;34m\u001b[0m\u001b[0;34m\u001b[0m\u001b[0m\n",
            "\u001b[0;32m/usr/local/lib/python3.6/dist-packages/autokeras/engine/tuner.py\u001b[0m in \u001b[0;36mrun_trial\u001b[0;34m(self, trial, x, *fit_args, **fit_kwargs)\u001b[0m\n\u001b[1;32m     69\u001b[0m             \u001b[0mmodel\u001b[0m \u001b[0;34m=\u001b[0m \u001b[0mself\u001b[0m\u001b[0;34m.\u001b[0m\u001b[0mhypermodel\u001b[0m\u001b[0;34m.\u001b[0m\u001b[0mbuild\u001b[0m\u001b[0;34m(\u001b[0m\u001b[0mtrial\u001b[0m\u001b[0;34m.\u001b[0m\u001b[0mhyperparameters\u001b[0m\u001b[0;34m)\u001b[0m\u001b[0;34m\u001b[0m\u001b[0;34m\u001b[0m\u001b[0m\n\u001b[1;32m     70\u001b[0m             \u001b[0mutils\u001b[0m\u001b[0;34m.\u001b[0m\u001b[0madapt_model\u001b[0m\u001b[0;34m(\u001b[0m\u001b[0mmodel\u001b[0m\u001b[0;34m,\u001b[0m \u001b[0mx\u001b[0m\u001b[0;34m)\u001b[0m\u001b[0;34m\u001b[0m\u001b[0;34m\u001b[0m\u001b[0m\n\u001b[0;32m---> 71\u001b[0;31m             \u001b[0mhistory\u001b[0m \u001b[0;34m=\u001b[0m \u001b[0mmodel\u001b[0m\u001b[0;34m.\u001b[0m\u001b[0mfit\u001b[0m\u001b[0;34m(\u001b[0m\u001b[0mx\u001b[0m\u001b[0;34m,\u001b[0m \u001b[0;34m*\u001b[0m\u001b[0mfit_args\u001b[0m\u001b[0;34m,\u001b[0m \u001b[0;34m**\u001b[0m\u001b[0mcopied_fit_kwargs\u001b[0m\u001b[0;34m)\u001b[0m\u001b[0;34m\u001b[0m\u001b[0;34m\u001b[0m\u001b[0m\n\u001b[0m\u001b[1;32m     72\u001b[0m             \u001b[0;32mfor\u001b[0m \u001b[0mmetric\u001b[0m\u001b[0;34m,\u001b[0m \u001b[0mepoch_values\u001b[0m \u001b[0;32min\u001b[0m \u001b[0mhistory\u001b[0m\u001b[0;34m.\u001b[0m\u001b[0mhistory\u001b[0m\u001b[0;34m.\u001b[0m\u001b[0mitems\u001b[0m\u001b[0;34m(\u001b[0m\u001b[0;34m)\u001b[0m\u001b[0;34m:\u001b[0m\u001b[0;34m\u001b[0m\u001b[0;34m\u001b[0m\u001b[0m\n\u001b[1;32m     73\u001b[0m                 \u001b[0;32mif\u001b[0m \u001b[0mself\u001b[0m\u001b[0;34m.\u001b[0m\u001b[0moracle\u001b[0m\u001b[0;34m.\u001b[0m\u001b[0mobjective\u001b[0m\u001b[0;34m.\u001b[0m\u001b[0mdirection\u001b[0m \u001b[0;34m==\u001b[0m \u001b[0;34m'min'\u001b[0m\u001b[0;34m:\u001b[0m\u001b[0;34m\u001b[0m\u001b[0;34m\u001b[0m\u001b[0m\n",
            "\u001b[0;32m/usr/local/lib/python3.6/dist-packages/tensorflow_core/python/keras/engine/training.py\u001b[0m in \u001b[0;36mfit\u001b[0;34m(self, x, y, batch_size, epochs, verbose, callbacks, validation_split, validation_data, shuffle, class_weight, sample_weight, initial_epoch, steps_per_epoch, validation_steps, validation_freq, max_queue_size, workers, use_multiprocessing, **kwargs)\u001b[0m\n\u001b[1;32m    817\u001b[0m         \u001b[0mmax_queue_size\u001b[0m\u001b[0;34m=\u001b[0m\u001b[0mmax_queue_size\u001b[0m\u001b[0;34m,\u001b[0m\u001b[0;34m\u001b[0m\u001b[0;34m\u001b[0m\u001b[0m\n\u001b[1;32m    818\u001b[0m         \u001b[0mworkers\u001b[0m\u001b[0;34m=\u001b[0m\u001b[0mworkers\u001b[0m\u001b[0;34m,\u001b[0m\u001b[0;34m\u001b[0m\u001b[0;34m\u001b[0m\u001b[0m\n\u001b[0;32m--> 819\u001b[0;31m         use_multiprocessing=use_multiprocessing)\n\u001b[0m\u001b[1;32m    820\u001b[0m \u001b[0;34m\u001b[0m\u001b[0m\n\u001b[1;32m    821\u001b[0m   def evaluate(self,\n",
            "\u001b[0;32m/usr/local/lib/python3.6/dist-packages/tensorflow_core/python/keras/engine/training_v2.py\u001b[0m in \u001b[0;36mfit\u001b[0;34m(self, model, x, y, batch_size, epochs, verbose, callbacks, validation_split, validation_data, shuffle, class_weight, sample_weight, initial_epoch, steps_per_epoch, validation_steps, validation_freq, max_queue_size, workers, use_multiprocessing, **kwargs)\u001b[0m\n\u001b[1;32m    340\u001b[0m                 \u001b[0mmode\u001b[0m\u001b[0;34m=\u001b[0m\u001b[0mModeKeys\u001b[0m\u001b[0;34m.\u001b[0m\u001b[0mTRAIN\u001b[0m\u001b[0;34m,\u001b[0m\u001b[0;34m\u001b[0m\u001b[0;34m\u001b[0m\u001b[0m\n\u001b[1;32m    341\u001b[0m                 \u001b[0mtraining_context\u001b[0m\u001b[0;34m=\u001b[0m\u001b[0mtraining_context\u001b[0m\u001b[0;34m,\u001b[0m\u001b[0;34m\u001b[0m\u001b[0;34m\u001b[0m\u001b[0m\n\u001b[0;32m--> 342\u001b[0;31m                 total_epochs=epochs)\n\u001b[0m\u001b[1;32m    343\u001b[0m             \u001b[0mcbks\u001b[0m\u001b[0;34m.\u001b[0m\u001b[0mmake_logs\u001b[0m\u001b[0;34m(\u001b[0m\u001b[0mmodel\u001b[0m\u001b[0;34m,\u001b[0m \u001b[0mepoch_logs\u001b[0m\u001b[0;34m,\u001b[0m \u001b[0mtraining_result\u001b[0m\u001b[0;34m,\u001b[0m \u001b[0mModeKeys\u001b[0m\u001b[0;34m.\u001b[0m\u001b[0mTRAIN\u001b[0m\u001b[0;34m)\u001b[0m\u001b[0;34m\u001b[0m\u001b[0;34m\u001b[0m\u001b[0m\n\u001b[1;32m    344\u001b[0m \u001b[0;34m\u001b[0m\u001b[0m\n",
            "\u001b[0;32m/usr/local/lib/python3.6/dist-packages/tensorflow_core/python/keras/engine/training_v2.py\u001b[0m in \u001b[0;36mrun_one_epoch\u001b[0;34m(model, iterator, execution_function, dataset_size, batch_size, strategy, steps_per_epoch, num_samples, mode, training_context, total_epochs)\u001b[0m\n\u001b[1;32m    126\u001b[0m         step=step, mode=mode, size=current_batch_size) as batch_logs:\n\u001b[1;32m    127\u001b[0m       \u001b[0;32mtry\u001b[0m\u001b[0;34m:\u001b[0m\u001b[0;34m\u001b[0m\u001b[0;34m\u001b[0m\u001b[0m\n\u001b[0;32m--> 128\u001b[0;31m         \u001b[0mbatch_outs\u001b[0m \u001b[0;34m=\u001b[0m \u001b[0mexecution_function\u001b[0m\u001b[0;34m(\u001b[0m\u001b[0miterator\u001b[0m\u001b[0;34m)\u001b[0m\u001b[0;34m\u001b[0m\u001b[0;34m\u001b[0m\u001b[0m\n\u001b[0m\u001b[1;32m    129\u001b[0m       \u001b[0;32mexcept\u001b[0m \u001b[0;34m(\u001b[0m\u001b[0mStopIteration\u001b[0m\u001b[0;34m,\u001b[0m \u001b[0merrors\u001b[0m\u001b[0;34m.\u001b[0m\u001b[0mOutOfRangeError\u001b[0m\u001b[0;34m)\u001b[0m\u001b[0;34m:\u001b[0m\u001b[0;34m\u001b[0m\u001b[0;34m\u001b[0m\u001b[0m\n\u001b[1;32m    130\u001b[0m         \u001b[0;31m# TODO(kaftan): File bug about tf function and errors.OutOfRangeError?\u001b[0m\u001b[0;34m\u001b[0m\u001b[0;34m\u001b[0m\u001b[0;34m\u001b[0m\u001b[0m\n",
            "\u001b[0;32m/usr/local/lib/python3.6/dist-packages/tensorflow_core/python/keras/engine/training_v2_utils.py\u001b[0m in \u001b[0;36mexecution_function\u001b[0;34m(input_fn)\u001b[0m\n\u001b[1;32m     96\u001b[0m     \u001b[0;31m# `numpy` translates Tensors to values in Eager mode.\u001b[0m\u001b[0;34m\u001b[0m\u001b[0;34m\u001b[0m\u001b[0;34m\u001b[0m\u001b[0m\n\u001b[1;32m     97\u001b[0m     return nest.map_structure(_non_none_constant_value,\n\u001b[0;32m---> 98\u001b[0;31m                               distributed_function(input_fn))\n\u001b[0m\u001b[1;32m     99\u001b[0m \u001b[0;34m\u001b[0m\u001b[0m\n\u001b[1;32m    100\u001b[0m   \u001b[0;32mreturn\u001b[0m \u001b[0mexecution_function\u001b[0m\u001b[0;34m\u001b[0m\u001b[0;34m\u001b[0m\u001b[0m\n",
            "\u001b[0;32m/usr/local/lib/python3.6/dist-packages/tensorflow_core/python/eager/def_function.py\u001b[0m in \u001b[0;36m__call__\u001b[0;34m(self, *args, **kwds)\u001b[0m\n\u001b[1;32m    566\u001b[0m         \u001b[0mxla_context\u001b[0m\u001b[0;34m.\u001b[0m\u001b[0mExit\u001b[0m\u001b[0;34m(\u001b[0m\u001b[0;34m)\u001b[0m\u001b[0;34m\u001b[0m\u001b[0;34m\u001b[0m\u001b[0m\n\u001b[1;32m    567\u001b[0m     \u001b[0;32melse\u001b[0m\u001b[0;34m:\u001b[0m\u001b[0;34m\u001b[0m\u001b[0;34m\u001b[0m\u001b[0m\n\u001b[0;32m--> 568\u001b[0;31m       \u001b[0mresult\u001b[0m \u001b[0;34m=\u001b[0m \u001b[0mself\u001b[0m\u001b[0;34m.\u001b[0m\u001b[0m_call\u001b[0m\u001b[0;34m(\u001b[0m\u001b[0;34m*\u001b[0m\u001b[0margs\u001b[0m\u001b[0;34m,\u001b[0m \u001b[0;34m**\u001b[0m\u001b[0mkwds\u001b[0m\u001b[0;34m)\u001b[0m\u001b[0;34m\u001b[0m\u001b[0;34m\u001b[0m\u001b[0m\n\u001b[0m\u001b[1;32m    569\u001b[0m \u001b[0;34m\u001b[0m\u001b[0m\n\u001b[1;32m    570\u001b[0m     \u001b[0;32mif\u001b[0m \u001b[0mtracing_count\u001b[0m \u001b[0;34m==\u001b[0m \u001b[0mself\u001b[0m\u001b[0;34m.\u001b[0m\u001b[0m_get_tracing_count\u001b[0m\u001b[0;34m(\u001b[0m\u001b[0;34m)\u001b[0m\u001b[0;34m:\u001b[0m\u001b[0;34m\u001b[0m\u001b[0;34m\u001b[0m\u001b[0m\n",
            "\u001b[0;32m/usr/local/lib/python3.6/dist-packages/tensorflow_core/python/eager/def_function.py\u001b[0m in \u001b[0;36m_call\u001b[0;34m(self, *args, **kwds)\u001b[0m\n\u001b[1;32m    630\u001b[0m         \u001b[0;31m# Lifting succeeded, so variables are initialized and we can run the\u001b[0m\u001b[0;34m\u001b[0m\u001b[0;34m\u001b[0m\u001b[0;34m\u001b[0m\u001b[0m\n\u001b[1;32m    631\u001b[0m         \u001b[0;31m# stateless function.\u001b[0m\u001b[0;34m\u001b[0m\u001b[0;34m\u001b[0m\u001b[0;34m\u001b[0m\u001b[0m\n\u001b[0;32m--> 632\u001b[0;31m         \u001b[0;32mreturn\u001b[0m \u001b[0mself\u001b[0m\u001b[0;34m.\u001b[0m\u001b[0m_stateless_fn\u001b[0m\u001b[0;34m(\u001b[0m\u001b[0;34m*\u001b[0m\u001b[0margs\u001b[0m\u001b[0;34m,\u001b[0m \u001b[0;34m**\u001b[0m\u001b[0mkwds\u001b[0m\u001b[0;34m)\u001b[0m\u001b[0;34m\u001b[0m\u001b[0;34m\u001b[0m\u001b[0m\n\u001b[0m\u001b[1;32m    633\u001b[0m     \u001b[0;32melse\u001b[0m\u001b[0;34m:\u001b[0m\u001b[0;34m\u001b[0m\u001b[0;34m\u001b[0m\u001b[0m\n\u001b[1;32m    634\u001b[0m       \u001b[0mcanon_args\u001b[0m\u001b[0;34m,\u001b[0m \u001b[0mcanon_kwds\u001b[0m \u001b[0;34m=\u001b[0m\u001b[0;31m \u001b[0m\u001b[0;31m\\\u001b[0m\u001b[0;34m\u001b[0m\u001b[0;34m\u001b[0m\u001b[0m\n",
            "\u001b[0;32m/usr/local/lib/python3.6/dist-packages/tensorflow_core/python/eager/function.py\u001b[0m in \u001b[0;36m__call__\u001b[0;34m(self, *args, **kwargs)\u001b[0m\n\u001b[1;32m   2361\u001b[0m     \u001b[0;32mwith\u001b[0m \u001b[0mself\u001b[0m\u001b[0;34m.\u001b[0m\u001b[0m_lock\u001b[0m\u001b[0;34m:\u001b[0m\u001b[0;34m\u001b[0m\u001b[0;34m\u001b[0m\u001b[0m\n\u001b[1;32m   2362\u001b[0m       \u001b[0mgraph_function\u001b[0m\u001b[0;34m,\u001b[0m \u001b[0margs\u001b[0m\u001b[0;34m,\u001b[0m \u001b[0mkwargs\u001b[0m \u001b[0;34m=\u001b[0m \u001b[0mself\u001b[0m\u001b[0;34m.\u001b[0m\u001b[0m_maybe_define_function\u001b[0m\u001b[0;34m(\u001b[0m\u001b[0margs\u001b[0m\u001b[0;34m,\u001b[0m \u001b[0mkwargs\u001b[0m\u001b[0;34m)\u001b[0m\u001b[0;34m\u001b[0m\u001b[0;34m\u001b[0m\u001b[0m\n\u001b[0;32m-> 2363\u001b[0;31m     \u001b[0;32mreturn\u001b[0m \u001b[0mgraph_function\u001b[0m\u001b[0;34m.\u001b[0m\u001b[0m_filtered_call\u001b[0m\u001b[0;34m(\u001b[0m\u001b[0margs\u001b[0m\u001b[0;34m,\u001b[0m \u001b[0mkwargs\u001b[0m\u001b[0;34m)\u001b[0m  \u001b[0;31m# pylint: disable=protected-access\u001b[0m\u001b[0;34m\u001b[0m\u001b[0;34m\u001b[0m\u001b[0m\n\u001b[0m\u001b[1;32m   2364\u001b[0m \u001b[0;34m\u001b[0m\u001b[0m\n\u001b[1;32m   2365\u001b[0m   \u001b[0;34m@\u001b[0m\u001b[0mproperty\u001b[0m\u001b[0;34m\u001b[0m\u001b[0;34m\u001b[0m\u001b[0m\n",
            "\u001b[0;32m/usr/local/lib/python3.6/dist-packages/tensorflow_core/python/eager/function.py\u001b[0m in \u001b[0;36m_filtered_call\u001b[0;34m(self, args, kwargs)\u001b[0m\n\u001b[1;32m   1609\u001b[0m          if isinstance(t, (ops.Tensor,\n\u001b[1;32m   1610\u001b[0m                            resource_variable_ops.BaseResourceVariable))),\n\u001b[0;32m-> 1611\u001b[0;31m         self.captured_inputs)\n\u001b[0m\u001b[1;32m   1612\u001b[0m \u001b[0;34m\u001b[0m\u001b[0m\n\u001b[1;32m   1613\u001b[0m   \u001b[0;32mdef\u001b[0m \u001b[0m_call_flat\u001b[0m\u001b[0;34m(\u001b[0m\u001b[0mself\u001b[0m\u001b[0;34m,\u001b[0m \u001b[0margs\u001b[0m\u001b[0;34m,\u001b[0m \u001b[0mcaptured_inputs\u001b[0m\u001b[0;34m,\u001b[0m \u001b[0mcancellation_manager\u001b[0m\u001b[0;34m=\u001b[0m\u001b[0;32mNone\u001b[0m\u001b[0;34m)\u001b[0m\u001b[0;34m:\u001b[0m\u001b[0;34m\u001b[0m\u001b[0;34m\u001b[0m\u001b[0m\n",
            "\u001b[0;32m/usr/local/lib/python3.6/dist-packages/tensorflow_core/python/eager/function.py\u001b[0m in \u001b[0;36m_call_flat\u001b[0;34m(self, args, captured_inputs, cancellation_manager)\u001b[0m\n\u001b[1;32m   1690\u001b[0m       \u001b[0;31m# No tape is watching; skip to running the function.\u001b[0m\u001b[0;34m\u001b[0m\u001b[0;34m\u001b[0m\u001b[0;34m\u001b[0m\u001b[0m\n\u001b[1;32m   1691\u001b[0m       return self._build_call_outputs(self._inference_function.call(\n\u001b[0;32m-> 1692\u001b[0;31m           ctx, args, cancellation_manager=cancellation_manager))\n\u001b[0m\u001b[1;32m   1693\u001b[0m     forward_backward = self._select_forward_and_backward_functions(\n\u001b[1;32m   1694\u001b[0m         \u001b[0margs\u001b[0m\u001b[0;34m,\u001b[0m\u001b[0;34m\u001b[0m\u001b[0;34m\u001b[0m\u001b[0m\n",
            "\u001b[0;32m/usr/local/lib/python3.6/dist-packages/tensorflow_core/python/eager/function.py\u001b[0m in \u001b[0;36mcall\u001b[0;34m(self, ctx, args, cancellation_manager)\u001b[0m\n\u001b[1;32m    543\u001b[0m               \u001b[0minputs\u001b[0m\u001b[0;34m=\u001b[0m\u001b[0margs\u001b[0m\u001b[0;34m,\u001b[0m\u001b[0;34m\u001b[0m\u001b[0;34m\u001b[0m\u001b[0m\n\u001b[1;32m    544\u001b[0m               \u001b[0mattrs\u001b[0m\u001b[0;34m=\u001b[0m\u001b[0;34m(\u001b[0m\u001b[0;34m\"executor_type\"\u001b[0m\u001b[0;34m,\u001b[0m \u001b[0mexecutor_type\u001b[0m\u001b[0;34m,\u001b[0m \u001b[0;34m\"config_proto\"\u001b[0m\u001b[0;34m,\u001b[0m \u001b[0mconfig\u001b[0m\u001b[0;34m)\u001b[0m\u001b[0;34m,\u001b[0m\u001b[0;34m\u001b[0m\u001b[0;34m\u001b[0m\u001b[0m\n\u001b[0;32m--> 545\u001b[0;31m               ctx=ctx)\n\u001b[0m\u001b[1;32m    546\u001b[0m         \u001b[0;32melse\u001b[0m\u001b[0;34m:\u001b[0m\u001b[0;34m\u001b[0m\u001b[0;34m\u001b[0m\u001b[0m\n\u001b[1;32m    547\u001b[0m           outputs = execute.execute_with_cancellation(\n",
            "\u001b[0;32m/usr/local/lib/python3.6/dist-packages/tensorflow_core/python/eager/execute.py\u001b[0m in \u001b[0;36mquick_execute\u001b[0;34m(op_name, num_outputs, inputs, attrs, ctx, name)\u001b[0m\n\u001b[1;32m     65\u001b[0m     \u001b[0;32melse\u001b[0m\u001b[0;34m:\u001b[0m\u001b[0;34m\u001b[0m\u001b[0;34m\u001b[0m\u001b[0m\n\u001b[1;32m     66\u001b[0m       \u001b[0mmessage\u001b[0m \u001b[0;34m=\u001b[0m \u001b[0me\u001b[0m\u001b[0;34m.\u001b[0m\u001b[0mmessage\u001b[0m\u001b[0;34m\u001b[0m\u001b[0;34m\u001b[0m\u001b[0m\n\u001b[0;32m---> 67\u001b[0;31m     \u001b[0msix\u001b[0m\u001b[0;34m.\u001b[0m\u001b[0mraise_from\u001b[0m\u001b[0;34m(\u001b[0m\u001b[0mcore\u001b[0m\u001b[0;34m.\u001b[0m\u001b[0m_status_to_exception\u001b[0m\u001b[0;34m(\u001b[0m\u001b[0me\u001b[0m\u001b[0;34m.\u001b[0m\u001b[0mcode\u001b[0m\u001b[0;34m,\u001b[0m \u001b[0mmessage\u001b[0m\u001b[0;34m)\u001b[0m\u001b[0;34m,\u001b[0m \u001b[0;32mNone\u001b[0m\u001b[0;34m)\u001b[0m\u001b[0;34m\u001b[0m\u001b[0;34m\u001b[0m\u001b[0m\n\u001b[0m\u001b[1;32m     68\u001b[0m   \u001b[0;32mexcept\u001b[0m \u001b[0mTypeError\u001b[0m \u001b[0;32mas\u001b[0m \u001b[0me\u001b[0m\u001b[0;34m:\u001b[0m\u001b[0;34m\u001b[0m\u001b[0;34m\u001b[0m\u001b[0m\n\u001b[1;32m     69\u001b[0m     keras_symbolic_tensors = [\n",
            "\u001b[0;32m/usr/local/lib/python3.6/dist-packages/six.py\u001b[0m in \u001b[0;36mraise_from\u001b[0;34m(value, from_value)\u001b[0m\n",
            "\u001b[0;31mResourceExhaustedError\u001b[0m:  OOM when allocating tensor with shape[32,1024,56,56] and type float on /job:localhost/replica:0/task:0/device:GPU:0 by allocator GPU_0_bfc\n\t [[node model/batch_normalization_15/FusedBatchNormV3 (defined at /usr/local/lib/python3.6/dist-packages/autokeras/engine/tuner.py:71) ]]\nHint: If you want to see a list of allocated tensors when OOM happens, add report_tensor_allocations_upon_oom to RunOptions for current allocation info.\n [Op:__inference_distributed_function_491415]\n\nFunction call stack:\ndistributed_function\n"
          ]
        }
      ]
    },
    {
      "cell_type": "code",
      "metadata": {
        "id": "LXiCPRdZiJA0",
        "colab_type": "code",
        "colab": {}
      },
      "source": [
        "del new_data, labels"
      ],
      "execution_count": null,
      "outputs": []
    },
    {
      "cell_type": "code",
      "metadata": {
        "id": "tz71a0X_gUdH",
        "colab_type": "code",
        "colab": {
          "base_uri": "https://localhost:8080/",
          "height": 72
        },
        "outputId": "f4af6a7e-9cb0-45ff-9b51-03fe19d9c035"
      },
      "source": [
        "lengths = np.array(lengths)\n",
        "print(np.mean(lengths))\n",
        "print(np.max(lengths))\n",
        "print(np.min(lengths))"
      ],
      "execution_count": null,
      "outputs": [
        {
          "output_type": "stream",
          "text": [
            "28.695652173913043\n",
            "57\n",
            "14\n"
          ],
          "name": "stdout"
        }
      ]
    },
    {
      "cell_type": "code",
      "metadata": {
        "id": "OdzAJDrqg0K0",
        "colab_type": "code",
        "colab": {
          "base_uri": "https://localhost:8080/",
          "height": 35
        },
        "outputId": "f2aa7b02-355f-47b4-fab9-b3a9b4e813df"
      },
      "source": [
        "np.where(lengths <= 22)"
      ],
      "execution_count": null,
      "outputs": [
        {
          "output_type": "execute_result",
          "data": {
            "text/plain": [
              "(array([74]),)"
            ]
          },
          "metadata": {
            "tags": []
          },
          "execution_count": 28
        }
      ]
    },
    {
      "cell_type": "code",
      "metadata": {
        "id": "EY3j7saqjRdF",
        "colab_type": "code",
        "colab": {
          "base_uri": "https://localhost:8080/",
          "height": 712
        },
        "outputId": "169f8787-0a71-414a-92a4-4abfac6a5d8d"
      },
      "source": [
        "cnn_lstm.compile(loss='categorical_crossentropy',\n",
        "              metrics=['accuracy'],\n",
        "              optimizer='adam')\n",
        "cnn_lstm.fit(X_train, Y_train, epochs=10, batch_size=16,\n",
        "          validation_data=(X_test, Y_test))"
      ],
      "execution_count": null,
      "outputs": [
        {
          "output_type": "stream",
          "text": [
            "Epoch 1/10\n",
            "10/10 [==============================] - 3s 310ms/step - loss: 1.5729 - accuracy: 0.4187 - val_loss: 1.5583 - val_accuracy: 0.3623\n",
            "Epoch 2/10\n",
            "10/10 [==============================] - 2s 190ms/step - loss: 1.4714 - accuracy: 0.4313 - val_loss: 1.5445 - val_accuracy: 0.3623\n",
            "Epoch 3/10\n",
            "10/10 [==============================] - 2s 190ms/step - loss: 1.4183 - accuracy: 0.4313 - val_loss: 1.5484 - val_accuracy: 0.3623\n",
            "Epoch 4/10\n",
            "10/10 [==============================] - 2s 188ms/step - loss: 1.3611 - accuracy: 0.4375 - val_loss: 1.5465 - val_accuracy: 0.3623\n",
            "Epoch 5/10\n",
            "10/10 [==============================] - 2s 192ms/step - loss: 1.2921 - accuracy: 0.5125 - val_loss: 1.5449 - val_accuracy: 0.3623\n",
            "Epoch 6/10\n",
            "10/10 [==============================] - 2s 191ms/step - loss: 1.2281 - accuracy: 0.5188 - val_loss: 1.5590 - val_accuracy: 0.3623\n",
            "Epoch 7/10\n",
            "10/10 [==============================] - 2s 191ms/step - loss: 1.1596 - accuracy: 0.5125 - val_loss: 1.6147 - val_accuracy: 0.3623\n",
            "Epoch 8/10\n",
            "10/10 [==============================] - 2s 189ms/step - loss: 1.0243 - accuracy: 0.5437 - val_loss: 1.6481 - val_accuracy: 0.3623\n",
            "Epoch 9/10\n",
            " 8/10 [=======================>......] - ETA: 0s - loss: 1.0337 - accuracy: 0.5234"
          ],
          "name": "stdout"
        },
        {
          "output_type": "error",
          "ename": "KeyboardInterrupt",
          "evalue": "ignored",
          "traceback": [
            "\u001b[0;31m---------------------------------------------------------------------------\u001b[0m",
            "\u001b[0;31mKeyboardInterrupt\u001b[0m                         Traceback (most recent call last)",
            "\u001b[0;32m<ipython-input-38-4c0dbc7f871f>\u001b[0m in \u001b[0;36m<module>\u001b[0;34m()\u001b[0m\n\u001b[1;32m      3\u001b[0m               optimizer='adam')\n\u001b[1;32m      4\u001b[0m cnn_lstm.fit(X_train, Y_train, epochs=10, batch_size=16,\n\u001b[0;32m----> 5\u001b[0;31m           validation_data=(X_test, Y_test))\n\u001b[0m",
            "\u001b[0;32m/usr/local/lib/python3.6/dist-packages/tensorflow/python/keras/engine/training.py\u001b[0m in \u001b[0;36m_method_wrapper\u001b[0;34m(self, *args, **kwargs)\u001b[0m\n\u001b[1;32m     64\u001b[0m   \u001b[0;32mdef\u001b[0m \u001b[0m_method_wrapper\u001b[0m\u001b[0;34m(\u001b[0m\u001b[0mself\u001b[0m\u001b[0;34m,\u001b[0m \u001b[0;34m*\u001b[0m\u001b[0margs\u001b[0m\u001b[0;34m,\u001b[0m \u001b[0;34m**\u001b[0m\u001b[0mkwargs\u001b[0m\u001b[0;34m)\u001b[0m\u001b[0;34m:\u001b[0m\u001b[0;34m\u001b[0m\u001b[0;34m\u001b[0m\u001b[0m\n\u001b[1;32m     65\u001b[0m     \u001b[0;32mif\u001b[0m \u001b[0;32mnot\u001b[0m \u001b[0mself\u001b[0m\u001b[0;34m.\u001b[0m\u001b[0m_in_multi_worker_mode\u001b[0m\u001b[0;34m(\u001b[0m\u001b[0;34m)\u001b[0m\u001b[0;34m:\u001b[0m  \u001b[0;31m# pylint: disable=protected-access\u001b[0m\u001b[0;34m\u001b[0m\u001b[0;34m\u001b[0m\u001b[0m\n\u001b[0;32m---> 66\u001b[0;31m       \u001b[0;32mreturn\u001b[0m \u001b[0mmethod\u001b[0m\u001b[0;34m(\u001b[0m\u001b[0mself\u001b[0m\u001b[0;34m,\u001b[0m \u001b[0;34m*\u001b[0m\u001b[0margs\u001b[0m\u001b[0;34m,\u001b[0m \u001b[0;34m**\u001b[0m\u001b[0mkwargs\u001b[0m\u001b[0;34m)\u001b[0m\u001b[0;34m\u001b[0m\u001b[0;34m\u001b[0m\u001b[0m\n\u001b[0m\u001b[1;32m     67\u001b[0m \u001b[0;34m\u001b[0m\u001b[0m\n\u001b[1;32m     68\u001b[0m     \u001b[0;31m# Running inside `run_distribute_coordinator` already.\u001b[0m\u001b[0;34m\u001b[0m\u001b[0;34m\u001b[0m\u001b[0;34m\u001b[0m\u001b[0m\n",
            "\u001b[0;32m/usr/local/lib/python3.6/dist-packages/tensorflow/python/keras/engine/training.py\u001b[0m in \u001b[0;36mfit\u001b[0;34m(self, x, y, batch_size, epochs, verbose, callbacks, validation_split, validation_data, shuffle, class_weight, sample_weight, initial_epoch, steps_per_epoch, validation_steps, validation_batch_size, validation_freq, max_queue_size, workers, use_multiprocessing)\u001b[0m\n\u001b[1;32m    853\u001b[0m                 \u001b[0mcontext\u001b[0m\u001b[0;34m.\u001b[0m\u001b[0masync_wait\u001b[0m\u001b[0;34m(\u001b[0m\u001b[0;34m)\u001b[0m\u001b[0;34m\u001b[0m\u001b[0;34m\u001b[0m\u001b[0m\n\u001b[1;32m    854\u001b[0m               \u001b[0mlogs\u001b[0m \u001b[0;34m=\u001b[0m \u001b[0mtmp_logs\u001b[0m  \u001b[0;31m# No error, now safe to assign to logs.\u001b[0m\u001b[0;34m\u001b[0m\u001b[0;34m\u001b[0m\u001b[0m\n\u001b[0;32m--> 855\u001b[0;31m               \u001b[0mcallbacks\u001b[0m\u001b[0;34m.\u001b[0m\u001b[0mon_train_batch_end\u001b[0m\u001b[0;34m(\u001b[0m\u001b[0mstep\u001b[0m\u001b[0;34m,\u001b[0m \u001b[0mlogs\u001b[0m\u001b[0;34m)\u001b[0m\u001b[0;34m\u001b[0m\u001b[0;34m\u001b[0m\u001b[0m\n\u001b[0m\u001b[1;32m    856\u001b[0m         \u001b[0mepoch_logs\u001b[0m \u001b[0;34m=\u001b[0m \u001b[0mcopy\u001b[0m\u001b[0;34m.\u001b[0m\u001b[0mcopy\u001b[0m\u001b[0;34m(\u001b[0m\u001b[0mlogs\u001b[0m\u001b[0;34m)\u001b[0m\u001b[0;34m\u001b[0m\u001b[0;34m\u001b[0m\u001b[0m\n\u001b[1;32m    857\u001b[0m \u001b[0;34m\u001b[0m\u001b[0m\n",
            "\u001b[0;32m/usr/local/lib/python3.6/dist-packages/tensorflow/python/keras/callbacks.py\u001b[0m in \u001b[0;36mon_train_batch_end\u001b[0;34m(self, batch, logs)\u001b[0m\n\u001b[1;32m    387\u001b[0m     \"\"\"\n\u001b[1;32m    388\u001b[0m     \u001b[0;32mif\u001b[0m \u001b[0mself\u001b[0m\u001b[0;34m.\u001b[0m\u001b[0m_should_call_train_batch_hooks\u001b[0m\u001b[0;34m:\u001b[0m\u001b[0;34m\u001b[0m\u001b[0;34m\u001b[0m\u001b[0m\n\u001b[0;32m--> 389\u001b[0;31m       \u001b[0mlogs\u001b[0m \u001b[0;34m=\u001b[0m \u001b[0mself\u001b[0m\u001b[0;34m.\u001b[0m\u001b[0m_process_logs\u001b[0m\u001b[0;34m(\u001b[0m\u001b[0mlogs\u001b[0m\u001b[0;34m)\u001b[0m\u001b[0;34m\u001b[0m\u001b[0;34m\u001b[0m\u001b[0m\n\u001b[0m\u001b[1;32m    390\u001b[0m       \u001b[0mself\u001b[0m\u001b[0;34m.\u001b[0m\u001b[0m_call_batch_hook\u001b[0m\u001b[0;34m(\u001b[0m\u001b[0mModeKeys\u001b[0m\u001b[0;34m.\u001b[0m\u001b[0mTRAIN\u001b[0m\u001b[0;34m,\u001b[0m \u001b[0;34m'end'\u001b[0m\u001b[0;34m,\u001b[0m \u001b[0mbatch\u001b[0m\u001b[0;34m,\u001b[0m \u001b[0mlogs\u001b[0m\u001b[0;34m=\u001b[0m\u001b[0mlogs\u001b[0m\u001b[0;34m)\u001b[0m\u001b[0;34m\u001b[0m\u001b[0;34m\u001b[0m\u001b[0m\n\u001b[1;32m    391\u001b[0m \u001b[0;34m\u001b[0m\u001b[0m\n",
            "\u001b[0;32m/usr/local/lib/python3.6/dist-packages/tensorflow/python/keras/callbacks.py\u001b[0m in \u001b[0;36m_process_logs\u001b[0;34m(self, logs)\u001b[0m\n\u001b[1;32m    263\u001b[0m     \u001b[0;34m\"\"\"Turns tensors into numpy arrays or Python scalars.\"\"\"\u001b[0m\u001b[0;34m\u001b[0m\u001b[0;34m\u001b[0m\u001b[0m\n\u001b[1;32m    264\u001b[0m     \u001b[0;32mif\u001b[0m \u001b[0mlogs\u001b[0m\u001b[0;34m:\u001b[0m\u001b[0;34m\u001b[0m\u001b[0;34m\u001b[0m\u001b[0m\n\u001b[0;32m--> 265\u001b[0;31m       \u001b[0;32mreturn\u001b[0m \u001b[0mtf_utils\u001b[0m\u001b[0;34m.\u001b[0m\u001b[0mto_numpy_or_python_type\u001b[0m\u001b[0;34m(\u001b[0m\u001b[0mlogs\u001b[0m\u001b[0;34m)\u001b[0m\u001b[0;34m\u001b[0m\u001b[0;34m\u001b[0m\u001b[0m\n\u001b[0m\u001b[1;32m    266\u001b[0m     \u001b[0;32mreturn\u001b[0m \u001b[0;34m{\u001b[0m\u001b[0;34m}\u001b[0m\u001b[0;34m\u001b[0m\u001b[0;34m\u001b[0m\u001b[0m\n\u001b[1;32m    267\u001b[0m \u001b[0;34m\u001b[0m\u001b[0m\n",
            "\u001b[0;32m/usr/local/lib/python3.6/dist-packages/tensorflow/python/keras/utils/tf_utils.py\u001b[0m in \u001b[0;36mto_numpy_or_python_type\u001b[0;34m(tensors)\u001b[0m\n\u001b[1;32m    521\u001b[0m     \u001b[0;32mreturn\u001b[0m \u001b[0mt\u001b[0m  \u001b[0;31m# Don't turn ragged or sparse tensors to NumPy.\u001b[0m\u001b[0;34m\u001b[0m\u001b[0;34m\u001b[0m\u001b[0m\n\u001b[1;32m    522\u001b[0m \u001b[0;34m\u001b[0m\u001b[0m\n\u001b[0;32m--> 523\u001b[0;31m   \u001b[0;32mreturn\u001b[0m \u001b[0mnest\u001b[0m\u001b[0;34m.\u001b[0m\u001b[0mmap_structure\u001b[0m\u001b[0;34m(\u001b[0m\u001b[0m_to_single_numpy_or_python_type\u001b[0m\u001b[0;34m,\u001b[0m \u001b[0mtensors\u001b[0m\u001b[0;34m)\u001b[0m\u001b[0;34m\u001b[0m\u001b[0;34m\u001b[0m\u001b[0m\n\u001b[0m\u001b[1;32m    524\u001b[0m \u001b[0;34m\u001b[0m\u001b[0m\n",
            "\u001b[0;32m/usr/local/lib/python3.6/dist-packages/tensorflow/python/util/nest.py\u001b[0m in \u001b[0;36mmap_structure\u001b[0;34m(func, *structure, **kwargs)\u001b[0m\n\u001b[1;32m    615\u001b[0m \u001b[0;34m\u001b[0m\u001b[0m\n\u001b[1;32m    616\u001b[0m   return pack_sequence_as(\n\u001b[0;32m--> 617\u001b[0;31m       \u001b[0mstructure\u001b[0m\u001b[0;34m[\u001b[0m\u001b[0;36m0\u001b[0m\u001b[0;34m]\u001b[0m\u001b[0;34m,\u001b[0m \u001b[0;34m[\u001b[0m\u001b[0mfunc\u001b[0m\u001b[0;34m(\u001b[0m\u001b[0;34m*\u001b[0m\u001b[0mx\u001b[0m\u001b[0;34m)\u001b[0m \u001b[0;32mfor\u001b[0m \u001b[0mx\u001b[0m \u001b[0;32min\u001b[0m \u001b[0mentries\u001b[0m\u001b[0;34m]\u001b[0m\u001b[0;34m,\u001b[0m\u001b[0;34m\u001b[0m\u001b[0;34m\u001b[0m\u001b[0m\n\u001b[0m\u001b[1;32m    618\u001b[0m       expand_composites=expand_composites)\n\u001b[1;32m    619\u001b[0m \u001b[0;34m\u001b[0m\u001b[0m\n",
            "\u001b[0;32m/usr/local/lib/python3.6/dist-packages/tensorflow/python/util/nest.py\u001b[0m in \u001b[0;36m<listcomp>\u001b[0;34m(.0)\u001b[0m\n\u001b[1;32m    615\u001b[0m \u001b[0;34m\u001b[0m\u001b[0m\n\u001b[1;32m    616\u001b[0m   return pack_sequence_as(\n\u001b[0;32m--> 617\u001b[0;31m       \u001b[0mstructure\u001b[0m\u001b[0;34m[\u001b[0m\u001b[0;36m0\u001b[0m\u001b[0;34m]\u001b[0m\u001b[0;34m,\u001b[0m \u001b[0;34m[\u001b[0m\u001b[0mfunc\u001b[0m\u001b[0;34m(\u001b[0m\u001b[0;34m*\u001b[0m\u001b[0mx\u001b[0m\u001b[0;34m)\u001b[0m \u001b[0;32mfor\u001b[0m \u001b[0mx\u001b[0m \u001b[0;32min\u001b[0m \u001b[0mentries\u001b[0m\u001b[0;34m]\u001b[0m\u001b[0;34m,\u001b[0m\u001b[0;34m\u001b[0m\u001b[0;34m\u001b[0m\u001b[0m\n\u001b[0m\u001b[1;32m    618\u001b[0m       expand_composites=expand_composites)\n\u001b[1;32m    619\u001b[0m \u001b[0;34m\u001b[0m\u001b[0m\n",
            "\u001b[0;32m/usr/local/lib/python3.6/dist-packages/tensorflow/python/keras/utils/tf_utils.py\u001b[0m in \u001b[0;36m_to_single_numpy_or_python_type\u001b[0;34m(t)\u001b[0m\n\u001b[1;32m    517\u001b[0m   \u001b[0;32mdef\u001b[0m \u001b[0m_to_single_numpy_or_python_type\u001b[0m\u001b[0;34m(\u001b[0m\u001b[0mt\u001b[0m\u001b[0;34m)\u001b[0m\u001b[0;34m:\u001b[0m\u001b[0;34m\u001b[0m\u001b[0;34m\u001b[0m\u001b[0m\n\u001b[1;32m    518\u001b[0m     \u001b[0;32mif\u001b[0m \u001b[0misinstance\u001b[0m\u001b[0;34m(\u001b[0m\u001b[0mt\u001b[0m\u001b[0;34m,\u001b[0m \u001b[0mops\u001b[0m\u001b[0;34m.\u001b[0m\u001b[0mTensor\u001b[0m\u001b[0;34m)\u001b[0m\u001b[0;34m:\u001b[0m\u001b[0;34m\u001b[0m\u001b[0;34m\u001b[0m\u001b[0m\n\u001b[0;32m--> 519\u001b[0;31m       \u001b[0mx\u001b[0m \u001b[0;34m=\u001b[0m \u001b[0mt\u001b[0m\u001b[0;34m.\u001b[0m\u001b[0mnumpy\u001b[0m\u001b[0;34m(\u001b[0m\u001b[0;34m)\u001b[0m\u001b[0;34m\u001b[0m\u001b[0;34m\u001b[0m\u001b[0m\n\u001b[0m\u001b[1;32m    520\u001b[0m       \u001b[0;32mreturn\u001b[0m \u001b[0mx\u001b[0m\u001b[0;34m.\u001b[0m\u001b[0mitem\u001b[0m\u001b[0;34m(\u001b[0m\u001b[0;34m)\u001b[0m \u001b[0;32mif\u001b[0m \u001b[0mnp\u001b[0m\u001b[0;34m.\u001b[0m\u001b[0mndim\u001b[0m\u001b[0;34m(\u001b[0m\u001b[0mx\u001b[0m\u001b[0;34m)\u001b[0m \u001b[0;34m==\u001b[0m \u001b[0;36m0\u001b[0m \u001b[0;32melse\u001b[0m \u001b[0mx\u001b[0m\u001b[0;34m\u001b[0m\u001b[0;34m\u001b[0m\u001b[0m\n\u001b[1;32m    521\u001b[0m     \u001b[0;32mreturn\u001b[0m \u001b[0mt\u001b[0m  \u001b[0;31m# Don't turn ragged or sparse tensors to NumPy.\u001b[0m\u001b[0;34m\u001b[0m\u001b[0;34m\u001b[0m\u001b[0m\n",
            "\u001b[0;32m/usr/local/lib/python3.6/dist-packages/tensorflow/python/framework/ops.py\u001b[0m in \u001b[0;36mnumpy\u001b[0;34m(self)\u001b[0m\n\u001b[1;32m    959\u001b[0m     \"\"\"\n\u001b[1;32m    960\u001b[0m     \u001b[0;31m# TODO(slebedev): Consider avoiding a copy for non-CPU or remote tensors.\u001b[0m\u001b[0;34m\u001b[0m\u001b[0;34m\u001b[0m\u001b[0;34m\u001b[0m\u001b[0m\n\u001b[0;32m--> 961\u001b[0;31m     \u001b[0mmaybe_arr\u001b[0m \u001b[0;34m=\u001b[0m \u001b[0mself\u001b[0m\u001b[0;34m.\u001b[0m\u001b[0m_numpy\u001b[0m\u001b[0;34m(\u001b[0m\u001b[0;34m)\u001b[0m  \u001b[0;31m# pylint: disable=protected-access\u001b[0m\u001b[0;34m\u001b[0m\u001b[0;34m\u001b[0m\u001b[0m\n\u001b[0m\u001b[1;32m    962\u001b[0m     \u001b[0;32mreturn\u001b[0m \u001b[0mmaybe_arr\u001b[0m\u001b[0;34m.\u001b[0m\u001b[0mcopy\u001b[0m\u001b[0;34m(\u001b[0m\u001b[0;34m)\u001b[0m \u001b[0;32mif\u001b[0m \u001b[0misinstance\u001b[0m\u001b[0;34m(\u001b[0m\u001b[0mmaybe_arr\u001b[0m\u001b[0;34m,\u001b[0m \u001b[0mnp\u001b[0m\u001b[0;34m.\u001b[0m\u001b[0mndarray\u001b[0m\u001b[0;34m)\u001b[0m \u001b[0;32melse\u001b[0m \u001b[0mmaybe_arr\u001b[0m\u001b[0;34m\u001b[0m\u001b[0;34m\u001b[0m\u001b[0m\n\u001b[1;32m    963\u001b[0m \u001b[0;34m\u001b[0m\u001b[0m\n",
            "\u001b[0;32m/usr/local/lib/python3.6/dist-packages/tensorflow/python/framework/ops.py\u001b[0m in \u001b[0;36m_numpy\u001b[0;34m(self)\u001b[0m\n\u001b[1;32m    925\u001b[0m     \u001b[0;31m# pylint: disable=protected-access\u001b[0m\u001b[0;34m\u001b[0m\u001b[0;34m\u001b[0m\u001b[0;34m\u001b[0m\u001b[0m\n\u001b[1;32m    926\u001b[0m     \u001b[0;32mtry\u001b[0m\u001b[0;34m:\u001b[0m\u001b[0;34m\u001b[0m\u001b[0;34m\u001b[0m\u001b[0m\n\u001b[0;32m--> 927\u001b[0;31m       \u001b[0;32mreturn\u001b[0m \u001b[0mself\u001b[0m\u001b[0;34m.\u001b[0m\u001b[0m_numpy_internal\u001b[0m\u001b[0;34m(\u001b[0m\u001b[0;34m)\u001b[0m\u001b[0;34m\u001b[0m\u001b[0;34m\u001b[0m\u001b[0m\n\u001b[0m\u001b[1;32m    928\u001b[0m     \u001b[0;32mexcept\u001b[0m \u001b[0mcore\u001b[0m\u001b[0;34m.\u001b[0m\u001b[0m_NotOkStatusException\u001b[0m \u001b[0;32mas\u001b[0m \u001b[0me\u001b[0m\u001b[0;34m:\u001b[0m\u001b[0;34m\u001b[0m\u001b[0;34m\u001b[0m\u001b[0m\n\u001b[1;32m    929\u001b[0m       \u001b[0msix\u001b[0m\u001b[0;34m.\u001b[0m\u001b[0mraise_from\u001b[0m\u001b[0;34m(\u001b[0m\u001b[0mcore\u001b[0m\u001b[0;34m.\u001b[0m\u001b[0m_status_to_exception\u001b[0m\u001b[0;34m(\u001b[0m\u001b[0me\u001b[0m\u001b[0;34m.\u001b[0m\u001b[0mcode\u001b[0m\u001b[0;34m,\u001b[0m \u001b[0me\u001b[0m\u001b[0;34m.\u001b[0m\u001b[0mmessage\u001b[0m\u001b[0;34m)\u001b[0m\u001b[0;34m,\u001b[0m \u001b[0;32mNone\u001b[0m\u001b[0;34m)\u001b[0m\u001b[0;34m\u001b[0m\u001b[0;34m\u001b[0m\u001b[0m\n",
            "\u001b[0;31mKeyboardInterrupt\u001b[0m: "
          ]
        }
      ]
    },
    {
      "cell_type": "code",
      "metadata": {
        "id": "th1J2XSAm465",
        "colab_type": "code",
        "colab": {}
      },
      "source": [
        "from keras.layers import Conv2D, BatchNormalization,MaxPool2D, GlobalMaxPool2D\n",
        "def build_convnet(shape=(112, 112, 3)):\n",
        " momentum = .9\n",
        " model = keras.Sequential()\n",
        " model.add(Conv2D(64, (3,3), input_shape=shape,\n",
        " padding='same', activation='relu'))\n",
        " model.add(Conv2D(64, (3,3), padding='same', activation='relu'))\n",
        " model.add(BatchNormalization(momentum=momentum))\n",
        " model.add(MaxPool2D())\n",
        " model.add(Conv2D(128, (3,3), padding='same', activation='relu'))\n",
        " model.add(Conv2D(128, (3,3), padding='same', activation='relu'))\n",
        " model.add(BatchNormalization(momentum=momentum))\n",
        " model.add(MaxPool2D())\n",
        " model.add(Conv2D(256, (3,3), padding='same', activation='relu'))\n",
        " model.add(Conv2D(256, (3,3), padding='same', activation='relu'))\n",
        " model.add(BatchNormalization(momentum=momentum))\n",
        " model.add(MaxPool2D())\n",
        " model.add(Conv2D(512, (3,3), padding='same', activation='relu'))\n",
        " model.add(Conv2D(512, (3,3), padding='same', activation='relu'))\n",
        " model.add(BatchNormalization(momentum=momentum))\n",
        "# flatten... \n",
        " model.add(GlobalMaxPool2D())\n",
        " return model"
      ],
      "execution_count": null,
      "outputs": []
    },
    {
      "cell_type": "code",
      "metadata": {
        "id": "rEz5hYDcl8E3",
        "colab_type": "code",
        "colab": {
          "base_uri": "https://localhost:8080/",
          "height": 293
        },
        "outputId": "6c39ea36-de3b-4bf5-b657-062b88c5c466"
      },
      "source": [
        "from tensorflow.keras.layers import TimeDistributed, LSTM, Dense, Dropout, Flatten, GRU\n",
        "from tensorflow.keras.constraints import max_norm\n",
        "import tensorflow as tf\n",
        "\n",
        "cnn_lstm = tf.keras.models.Sequential()\n",
        "net = convnet(input_shape=(112, 112, 3))\n",
        "cnn_lstm.add(TimeDistributed(net, input_shape=(10, 112, 112, 3)))\n",
        "cnn_lstm.add(tf.keras.layers.GRU(128, return_sequences=False))\n",
        "# cnn_lstm.add(Flatten())\n",
        "# cnn_lstm.add(tf.keras.layers.GRU(64, return_sequences=True))\n",
        "# cnn_lstm.add(tf.keras.layers.GRU(32, return_sequences=True))\n",
        "# cnn_lstm.add(tf.keras.layers.GRU(16, return_sequences=False))\n",
        "# cnn_lstm.add(Dense(64, activation='relu'))\n",
        "# cnn_lstm.add(Dense(32, activation='relu'))\n",
        "cnn_lstm.add(Dense(5, activation='softmax'))\n",
        "print(cnn_lstm.summary())"
      ],
      "execution_count": null,
      "outputs": [
        {
          "output_type": "stream",
          "text": [
            "Model: \"sequential_2\"\n",
            "_________________________________________________________________\n",
            "Layer (type)                 Output Shape              Param #   \n",
            "=================================================================\n",
            "time_distributed_2 (TimeDist (None, 10, 512)           14714688  \n",
            "_________________________________________________________________\n",
            "gru_2 (GRU)                  (None, 128)               246528    \n",
            "_________________________________________________________________\n",
            "dense_2 (Dense)              (None, 5)                 645       \n",
            "=================================================================\n",
            "Total params: 14,961,861\n",
            "Trainable params: 14,961,861\n",
            "Non-trainable params: 0\n",
            "_________________________________________________________________\n",
            "None\n"
          ],
          "name": "stdout"
        }
      ]
    },
    {
      "cell_type": "code",
      "metadata": {
        "id": "O69_NCa6m_JR",
        "colab_type": "code",
        "colab": {}
      },
      "source": [
        "from keras.layers import TimeDistributed, GRU, Dense, Dropout\n",
        "def action_model(shape=(10, 112, 112, 3), nbout=5):\n",
        "# Create our convnet with (112, 112, 3) input shape\n",
        " convnet = build_convnet(shape[1:])\n",
        "# then create our final model\n",
        " model = keras.Sequential()\n",
        "# add the convnet with (5, 112, 112, 3) shape\n",
        " model.add(TimeDistributed(convnet, input_shape=shape))\n",
        "# here, you can also use GRU or LSTM\n",
        " model.add(GRU(64))\n",
        "# and finally, we make a decision network\n",
        " model.add(Dense(1024, activation='relu'))\n",
        " model.add(Dropout(.5))\n",
        " model.add(Dense(512, activation='relu'))\n",
        " model.add(Dropout(.5))\n",
        " model.add(Dense(128, activation='relu'))\n",
        " model.add(Dropout(.5))\n",
        " model.add(Dense(64, activation='relu'))\n",
        " model.add(Dense(5,  activation='softmax'))\n",
        " return model"
      ],
      "execution_count": null,
      "outputs": []
    },
    {
      "cell_type": "code",
      "metadata": {
        "id": "lGVnW9JOnHh1",
        "colab_type": "code",
        "colab": {}
      },
      "source": [
        "import keras\n",
        "model = action_model((10,112,112,3) , 5)\n",
        "optimizer = keras.optimizers.SGD()\n",
        "model.compile(\n",
        "optimizer,\n",
        "'categorical_crossentropy',\n",
        "metrics=['acc']\n",
        ")"
      ],
      "execution_count": null,
      "outputs": []
    },
    {
      "cell_type": "code",
      "metadata": {
        "id": "sccvBljqnItk",
        "colab_type": "code",
        "colab": {
          "base_uri": "https://localhost:8080/",
          "height": 602
        },
        "outputId": "471f3130-3deb-4011-ec85-707d4f53f2d9"
      },
      "source": [
        "from tensorflow.keras.optimizers import Adam\n",
        "adm = Adam(learning_rate=0.0001)\n",
        "\n",
        "cnn_lstm.compile(loss='categorical_crossentropy', metrics=['accuracy'],\n",
        "              optimizer=adm)\n",
        "history = cnn_lstm.fit(X_train, Y_train, batch_size=8, epochs=50, verbose=1,\n",
        "          class_weight={0:0.48541667,\n",
        "                        1:1.29444444,\n",
        "                        2:1.39487179,\n",
        "                        3:1.60689655, \n",
        "                        4:1.41212121},\n",
        "                       validation_data=(X_test, Y_test))"
      ],
      "execution_count": null,
      "outputs": [
        {
          "output_type": "stream",
          "text": [
            "Epoch 1/50\n",
            "20/20 [==============================] - 13s 639ms/step - loss: 1.6729 - accuracy: 0.2313 - val_loss: 1.6083 - val_accuracy: 0.1594\n",
            "Epoch 2/50\n",
            "20/20 [==============================] - 12s 612ms/step - loss: 1.6639 - accuracy: 0.1625 - val_loss: 1.6103 - val_accuracy: 0.1594\n",
            "Epoch 3/50\n",
            "20/20 [==============================] - 12s 612ms/step - loss: 1.6641 - accuracy: 0.1625 - val_loss: 1.6107 - val_accuracy: 0.1594\n",
            "Epoch 4/50\n",
            "20/20 [==============================] - 12s 615ms/step - loss: 1.6636 - accuracy: 0.1625 - val_loss: 1.6101 - val_accuracy: 0.1594\n",
            "Epoch 5/50\n",
            "20/20 [==============================] - 12s 615ms/step - loss: 1.6638 - accuracy: 0.1625 - val_loss: 1.6115 - val_accuracy: 0.1594\n",
            "Epoch 6/50\n",
            " 7/20 [=========>....................] - ETA: 6s - loss: 1.6493 - accuracy: 0.1607"
          ],
          "name": "stdout"
        },
        {
          "output_type": "error",
          "ename": "KeyboardInterrupt",
          "evalue": "ignored",
          "traceback": [
            "\u001b[0;31m---------------------------------------------------------------------------\u001b[0m",
            "\u001b[0;31mKeyboardInterrupt\u001b[0m                         Traceback (most recent call last)",
            "\u001b[0;32m<ipython-input-30-4b30c223b9bc>\u001b[0m in \u001b[0;36m<module>\u001b[0;34m()\u001b[0m\n\u001b[1;32m     10\u001b[0m                         \u001b[0;36m3\u001b[0m\u001b[0;34m:\u001b[0m\u001b[0;36m1.60689655\u001b[0m\u001b[0;34m,\u001b[0m\u001b[0;34m\u001b[0m\u001b[0;34m\u001b[0m\u001b[0m\n\u001b[1;32m     11\u001b[0m                         4:1.41212121},\n\u001b[0;32m---> 12\u001b[0;31m                        validation_data=(X_test, Y_test))\n\u001b[0m",
            "\u001b[0;32m/usr/local/lib/python3.6/dist-packages/tensorflow/python/keras/engine/training.py\u001b[0m in \u001b[0;36m_method_wrapper\u001b[0;34m(self, *args, **kwargs)\u001b[0m\n\u001b[1;32m     64\u001b[0m   \u001b[0;32mdef\u001b[0m \u001b[0m_method_wrapper\u001b[0m\u001b[0;34m(\u001b[0m\u001b[0mself\u001b[0m\u001b[0;34m,\u001b[0m \u001b[0;34m*\u001b[0m\u001b[0margs\u001b[0m\u001b[0;34m,\u001b[0m \u001b[0;34m**\u001b[0m\u001b[0mkwargs\u001b[0m\u001b[0;34m)\u001b[0m\u001b[0;34m:\u001b[0m\u001b[0;34m\u001b[0m\u001b[0;34m\u001b[0m\u001b[0m\n\u001b[1;32m     65\u001b[0m     \u001b[0;32mif\u001b[0m \u001b[0;32mnot\u001b[0m \u001b[0mself\u001b[0m\u001b[0;34m.\u001b[0m\u001b[0m_in_multi_worker_mode\u001b[0m\u001b[0;34m(\u001b[0m\u001b[0;34m)\u001b[0m\u001b[0;34m:\u001b[0m  \u001b[0;31m# pylint: disable=protected-access\u001b[0m\u001b[0;34m\u001b[0m\u001b[0;34m\u001b[0m\u001b[0m\n\u001b[0;32m---> 66\u001b[0;31m       \u001b[0;32mreturn\u001b[0m \u001b[0mmethod\u001b[0m\u001b[0;34m(\u001b[0m\u001b[0mself\u001b[0m\u001b[0;34m,\u001b[0m \u001b[0;34m*\u001b[0m\u001b[0margs\u001b[0m\u001b[0;34m,\u001b[0m \u001b[0;34m**\u001b[0m\u001b[0mkwargs\u001b[0m\u001b[0;34m)\u001b[0m\u001b[0;34m\u001b[0m\u001b[0;34m\u001b[0m\u001b[0m\n\u001b[0m\u001b[1;32m     67\u001b[0m \u001b[0;34m\u001b[0m\u001b[0m\n\u001b[1;32m     68\u001b[0m     \u001b[0;31m# Running inside `run_distribute_coordinator` already.\u001b[0m\u001b[0;34m\u001b[0m\u001b[0;34m\u001b[0m\u001b[0;34m\u001b[0m\u001b[0m\n",
            "\u001b[0;32m/usr/local/lib/python3.6/dist-packages/tensorflow/python/keras/engine/training.py\u001b[0m in \u001b[0;36mfit\u001b[0;34m(self, x, y, batch_size, epochs, verbose, callbacks, validation_split, validation_data, shuffle, class_weight, sample_weight, initial_epoch, steps_per_epoch, validation_steps, validation_batch_size, validation_freq, max_queue_size, workers, use_multiprocessing)\u001b[0m\n\u001b[1;32m    853\u001b[0m                 \u001b[0mcontext\u001b[0m\u001b[0;34m.\u001b[0m\u001b[0masync_wait\u001b[0m\u001b[0;34m(\u001b[0m\u001b[0;34m)\u001b[0m\u001b[0;34m\u001b[0m\u001b[0;34m\u001b[0m\u001b[0m\n\u001b[1;32m    854\u001b[0m               \u001b[0mlogs\u001b[0m \u001b[0;34m=\u001b[0m \u001b[0mtmp_logs\u001b[0m  \u001b[0;31m# No error, now safe to assign to logs.\u001b[0m\u001b[0;34m\u001b[0m\u001b[0;34m\u001b[0m\u001b[0m\n\u001b[0;32m--> 855\u001b[0;31m               \u001b[0mcallbacks\u001b[0m\u001b[0;34m.\u001b[0m\u001b[0mon_train_batch_end\u001b[0m\u001b[0;34m(\u001b[0m\u001b[0mstep\u001b[0m\u001b[0;34m,\u001b[0m \u001b[0mlogs\u001b[0m\u001b[0;34m)\u001b[0m\u001b[0;34m\u001b[0m\u001b[0;34m\u001b[0m\u001b[0m\n\u001b[0m\u001b[1;32m    856\u001b[0m         \u001b[0mepoch_logs\u001b[0m \u001b[0;34m=\u001b[0m \u001b[0mcopy\u001b[0m\u001b[0;34m.\u001b[0m\u001b[0mcopy\u001b[0m\u001b[0;34m(\u001b[0m\u001b[0mlogs\u001b[0m\u001b[0;34m)\u001b[0m\u001b[0;34m\u001b[0m\u001b[0;34m\u001b[0m\u001b[0m\n\u001b[1;32m    857\u001b[0m \u001b[0;34m\u001b[0m\u001b[0m\n",
            "\u001b[0;32m/usr/local/lib/python3.6/dist-packages/tensorflow/python/keras/callbacks.py\u001b[0m in \u001b[0;36mon_train_batch_end\u001b[0;34m(self, batch, logs)\u001b[0m\n\u001b[1;32m    387\u001b[0m     \"\"\"\n\u001b[1;32m    388\u001b[0m     \u001b[0;32mif\u001b[0m \u001b[0mself\u001b[0m\u001b[0;34m.\u001b[0m\u001b[0m_should_call_train_batch_hooks\u001b[0m\u001b[0;34m:\u001b[0m\u001b[0;34m\u001b[0m\u001b[0;34m\u001b[0m\u001b[0m\n\u001b[0;32m--> 389\u001b[0;31m       \u001b[0mlogs\u001b[0m \u001b[0;34m=\u001b[0m \u001b[0mself\u001b[0m\u001b[0;34m.\u001b[0m\u001b[0m_process_logs\u001b[0m\u001b[0;34m(\u001b[0m\u001b[0mlogs\u001b[0m\u001b[0;34m)\u001b[0m\u001b[0;34m\u001b[0m\u001b[0;34m\u001b[0m\u001b[0m\n\u001b[0m\u001b[1;32m    390\u001b[0m       \u001b[0mself\u001b[0m\u001b[0;34m.\u001b[0m\u001b[0m_call_batch_hook\u001b[0m\u001b[0;34m(\u001b[0m\u001b[0mModeKeys\u001b[0m\u001b[0;34m.\u001b[0m\u001b[0mTRAIN\u001b[0m\u001b[0;34m,\u001b[0m \u001b[0;34m'end'\u001b[0m\u001b[0;34m,\u001b[0m \u001b[0mbatch\u001b[0m\u001b[0;34m,\u001b[0m \u001b[0mlogs\u001b[0m\u001b[0;34m=\u001b[0m\u001b[0mlogs\u001b[0m\u001b[0;34m)\u001b[0m\u001b[0;34m\u001b[0m\u001b[0;34m\u001b[0m\u001b[0m\n\u001b[1;32m    391\u001b[0m \u001b[0;34m\u001b[0m\u001b[0m\n",
            "\u001b[0;32m/usr/local/lib/python3.6/dist-packages/tensorflow/python/keras/callbacks.py\u001b[0m in \u001b[0;36m_process_logs\u001b[0;34m(self, logs)\u001b[0m\n\u001b[1;32m    263\u001b[0m     \u001b[0;34m\"\"\"Turns tensors into numpy arrays or Python scalars.\"\"\"\u001b[0m\u001b[0;34m\u001b[0m\u001b[0;34m\u001b[0m\u001b[0m\n\u001b[1;32m    264\u001b[0m     \u001b[0;32mif\u001b[0m \u001b[0mlogs\u001b[0m\u001b[0;34m:\u001b[0m\u001b[0;34m\u001b[0m\u001b[0;34m\u001b[0m\u001b[0m\n\u001b[0;32m--> 265\u001b[0;31m       \u001b[0;32mreturn\u001b[0m \u001b[0mtf_utils\u001b[0m\u001b[0;34m.\u001b[0m\u001b[0mto_numpy_or_python_type\u001b[0m\u001b[0;34m(\u001b[0m\u001b[0mlogs\u001b[0m\u001b[0;34m)\u001b[0m\u001b[0;34m\u001b[0m\u001b[0;34m\u001b[0m\u001b[0m\n\u001b[0m\u001b[1;32m    266\u001b[0m     \u001b[0;32mreturn\u001b[0m \u001b[0;34m{\u001b[0m\u001b[0;34m}\u001b[0m\u001b[0;34m\u001b[0m\u001b[0;34m\u001b[0m\u001b[0m\n\u001b[1;32m    267\u001b[0m \u001b[0;34m\u001b[0m\u001b[0m\n",
            "\u001b[0;32m/usr/local/lib/python3.6/dist-packages/tensorflow/python/keras/utils/tf_utils.py\u001b[0m in \u001b[0;36mto_numpy_or_python_type\u001b[0;34m(tensors)\u001b[0m\n\u001b[1;32m    521\u001b[0m     \u001b[0;32mreturn\u001b[0m \u001b[0mt\u001b[0m  \u001b[0;31m# Don't turn ragged or sparse tensors to NumPy.\u001b[0m\u001b[0;34m\u001b[0m\u001b[0;34m\u001b[0m\u001b[0m\n\u001b[1;32m    522\u001b[0m \u001b[0;34m\u001b[0m\u001b[0m\n\u001b[0;32m--> 523\u001b[0;31m   \u001b[0;32mreturn\u001b[0m \u001b[0mnest\u001b[0m\u001b[0;34m.\u001b[0m\u001b[0mmap_structure\u001b[0m\u001b[0;34m(\u001b[0m\u001b[0m_to_single_numpy_or_python_type\u001b[0m\u001b[0;34m,\u001b[0m \u001b[0mtensors\u001b[0m\u001b[0;34m)\u001b[0m\u001b[0;34m\u001b[0m\u001b[0;34m\u001b[0m\u001b[0m\n\u001b[0m\u001b[1;32m    524\u001b[0m \u001b[0;34m\u001b[0m\u001b[0m\n",
            "\u001b[0;32m/usr/local/lib/python3.6/dist-packages/tensorflow/python/util/nest.py\u001b[0m in \u001b[0;36mmap_structure\u001b[0;34m(func, *structure, **kwargs)\u001b[0m\n\u001b[1;32m    615\u001b[0m \u001b[0;34m\u001b[0m\u001b[0m\n\u001b[1;32m    616\u001b[0m   return pack_sequence_as(\n\u001b[0;32m--> 617\u001b[0;31m       \u001b[0mstructure\u001b[0m\u001b[0;34m[\u001b[0m\u001b[0;36m0\u001b[0m\u001b[0;34m]\u001b[0m\u001b[0;34m,\u001b[0m \u001b[0;34m[\u001b[0m\u001b[0mfunc\u001b[0m\u001b[0;34m(\u001b[0m\u001b[0;34m*\u001b[0m\u001b[0mx\u001b[0m\u001b[0;34m)\u001b[0m \u001b[0;32mfor\u001b[0m \u001b[0mx\u001b[0m \u001b[0;32min\u001b[0m \u001b[0mentries\u001b[0m\u001b[0;34m]\u001b[0m\u001b[0;34m,\u001b[0m\u001b[0;34m\u001b[0m\u001b[0;34m\u001b[0m\u001b[0m\n\u001b[0m\u001b[1;32m    618\u001b[0m       expand_composites=expand_composites)\n\u001b[1;32m    619\u001b[0m \u001b[0;34m\u001b[0m\u001b[0m\n",
            "\u001b[0;32m/usr/local/lib/python3.6/dist-packages/tensorflow/python/util/nest.py\u001b[0m in \u001b[0;36m<listcomp>\u001b[0;34m(.0)\u001b[0m\n\u001b[1;32m    615\u001b[0m \u001b[0;34m\u001b[0m\u001b[0m\n\u001b[1;32m    616\u001b[0m   return pack_sequence_as(\n\u001b[0;32m--> 617\u001b[0;31m       \u001b[0mstructure\u001b[0m\u001b[0;34m[\u001b[0m\u001b[0;36m0\u001b[0m\u001b[0;34m]\u001b[0m\u001b[0;34m,\u001b[0m \u001b[0;34m[\u001b[0m\u001b[0mfunc\u001b[0m\u001b[0;34m(\u001b[0m\u001b[0;34m*\u001b[0m\u001b[0mx\u001b[0m\u001b[0;34m)\u001b[0m \u001b[0;32mfor\u001b[0m \u001b[0mx\u001b[0m \u001b[0;32min\u001b[0m \u001b[0mentries\u001b[0m\u001b[0;34m]\u001b[0m\u001b[0;34m,\u001b[0m\u001b[0;34m\u001b[0m\u001b[0;34m\u001b[0m\u001b[0m\n\u001b[0m\u001b[1;32m    618\u001b[0m       expand_composites=expand_composites)\n\u001b[1;32m    619\u001b[0m \u001b[0;34m\u001b[0m\u001b[0m\n",
            "\u001b[0;32m/usr/local/lib/python3.6/dist-packages/tensorflow/python/keras/utils/tf_utils.py\u001b[0m in \u001b[0;36m_to_single_numpy_or_python_type\u001b[0;34m(t)\u001b[0m\n\u001b[1;32m    517\u001b[0m   \u001b[0;32mdef\u001b[0m \u001b[0m_to_single_numpy_or_python_type\u001b[0m\u001b[0;34m(\u001b[0m\u001b[0mt\u001b[0m\u001b[0;34m)\u001b[0m\u001b[0;34m:\u001b[0m\u001b[0;34m\u001b[0m\u001b[0;34m\u001b[0m\u001b[0m\n\u001b[1;32m    518\u001b[0m     \u001b[0;32mif\u001b[0m \u001b[0misinstance\u001b[0m\u001b[0;34m(\u001b[0m\u001b[0mt\u001b[0m\u001b[0;34m,\u001b[0m \u001b[0mops\u001b[0m\u001b[0;34m.\u001b[0m\u001b[0mTensor\u001b[0m\u001b[0;34m)\u001b[0m\u001b[0;34m:\u001b[0m\u001b[0;34m\u001b[0m\u001b[0;34m\u001b[0m\u001b[0m\n\u001b[0;32m--> 519\u001b[0;31m       \u001b[0mx\u001b[0m \u001b[0;34m=\u001b[0m \u001b[0mt\u001b[0m\u001b[0;34m.\u001b[0m\u001b[0mnumpy\u001b[0m\u001b[0;34m(\u001b[0m\u001b[0;34m)\u001b[0m\u001b[0;34m\u001b[0m\u001b[0;34m\u001b[0m\u001b[0m\n\u001b[0m\u001b[1;32m    520\u001b[0m       \u001b[0;32mreturn\u001b[0m \u001b[0mx\u001b[0m\u001b[0;34m.\u001b[0m\u001b[0mitem\u001b[0m\u001b[0;34m(\u001b[0m\u001b[0;34m)\u001b[0m \u001b[0;32mif\u001b[0m \u001b[0mnp\u001b[0m\u001b[0;34m.\u001b[0m\u001b[0mndim\u001b[0m\u001b[0;34m(\u001b[0m\u001b[0mx\u001b[0m\u001b[0;34m)\u001b[0m \u001b[0;34m==\u001b[0m \u001b[0;36m0\u001b[0m \u001b[0;32melse\u001b[0m \u001b[0mx\u001b[0m\u001b[0;34m\u001b[0m\u001b[0;34m\u001b[0m\u001b[0m\n\u001b[1;32m    521\u001b[0m     \u001b[0;32mreturn\u001b[0m \u001b[0mt\u001b[0m  \u001b[0;31m# Don't turn ragged or sparse tensors to NumPy.\u001b[0m\u001b[0;34m\u001b[0m\u001b[0;34m\u001b[0m\u001b[0m\n",
            "\u001b[0;32m/usr/local/lib/python3.6/dist-packages/tensorflow/python/framework/ops.py\u001b[0m in \u001b[0;36mnumpy\u001b[0;34m(self)\u001b[0m\n\u001b[1;32m    959\u001b[0m     \"\"\"\n\u001b[1;32m    960\u001b[0m     \u001b[0;31m# TODO(slebedev): Consider avoiding a copy for non-CPU or remote tensors.\u001b[0m\u001b[0;34m\u001b[0m\u001b[0;34m\u001b[0m\u001b[0;34m\u001b[0m\u001b[0m\n\u001b[0;32m--> 961\u001b[0;31m     \u001b[0mmaybe_arr\u001b[0m \u001b[0;34m=\u001b[0m \u001b[0mself\u001b[0m\u001b[0;34m.\u001b[0m\u001b[0m_numpy\u001b[0m\u001b[0;34m(\u001b[0m\u001b[0;34m)\u001b[0m  \u001b[0;31m# pylint: disable=protected-access\u001b[0m\u001b[0;34m\u001b[0m\u001b[0;34m\u001b[0m\u001b[0m\n\u001b[0m\u001b[1;32m    962\u001b[0m     \u001b[0;32mreturn\u001b[0m \u001b[0mmaybe_arr\u001b[0m\u001b[0;34m.\u001b[0m\u001b[0mcopy\u001b[0m\u001b[0;34m(\u001b[0m\u001b[0;34m)\u001b[0m \u001b[0;32mif\u001b[0m \u001b[0misinstance\u001b[0m\u001b[0;34m(\u001b[0m\u001b[0mmaybe_arr\u001b[0m\u001b[0;34m,\u001b[0m \u001b[0mnp\u001b[0m\u001b[0;34m.\u001b[0m\u001b[0mndarray\u001b[0m\u001b[0;34m)\u001b[0m \u001b[0;32melse\u001b[0m \u001b[0mmaybe_arr\u001b[0m\u001b[0;34m\u001b[0m\u001b[0;34m\u001b[0m\u001b[0m\n\u001b[1;32m    963\u001b[0m \u001b[0;34m\u001b[0m\u001b[0m\n",
            "\u001b[0;32m/usr/local/lib/python3.6/dist-packages/tensorflow/python/framework/ops.py\u001b[0m in \u001b[0;36m_numpy\u001b[0;34m(self)\u001b[0m\n\u001b[1;32m    925\u001b[0m     \u001b[0;31m# pylint: disable=protected-access\u001b[0m\u001b[0;34m\u001b[0m\u001b[0;34m\u001b[0m\u001b[0;34m\u001b[0m\u001b[0m\n\u001b[1;32m    926\u001b[0m     \u001b[0;32mtry\u001b[0m\u001b[0;34m:\u001b[0m\u001b[0;34m\u001b[0m\u001b[0;34m\u001b[0m\u001b[0m\n\u001b[0;32m--> 927\u001b[0;31m       \u001b[0;32mreturn\u001b[0m \u001b[0mself\u001b[0m\u001b[0;34m.\u001b[0m\u001b[0m_numpy_internal\u001b[0m\u001b[0;34m(\u001b[0m\u001b[0;34m)\u001b[0m\u001b[0;34m\u001b[0m\u001b[0;34m\u001b[0m\u001b[0m\n\u001b[0m\u001b[1;32m    928\u001b[0m     \u001b[0;32mexcept\u001b[0m \u001b[0mcore\u001b[0m\u001b[0;34m.\u001b[0m\u001b[0m_NotOkStatusException\u001b[0m \u001b[0;32mas\u001b[0m \u001b[0me\u001b[0m\u001b[0;34m:\u001b[0m\u001b[0;34m\u001b[0m\u001b[0;34m\u001b[0m\u001b[0m\n\u001b[1;32m    929\u001b[0m       \u001b[0msix\u001b[0m\u001b[0;34m.\u001b[0m\u001b[0mraise_from\u001b[0m\u001b[0;34m(\u001b[0m\u001b[0mcore\u001b[0m\u001b[0;34m.\u001b[0m\u001b[0m_status_to_exception\u001b[0m\u001b[0;34m(\u001b[0m\u001b[0me\u001b[0m\u001b[0;34m.\u001b[0m\u001b[0mcode\u001b[0m\u001b[0;34m,\u001b[0m \u001b[0me\u001b[0m\u001b[0;34m.\u001b[0m\u001b[0mmessage\u001b[0m\u001b[0;34m)\u001b[0m\u001b[0;34m,\u001b[0m \u001b[0;32mNone\u001b[0m\u001b[0;34m)\u001b[0m\u001b[0;34m\u001b[0m\u001b[0;34m\u001b[0m\u001b[0m\n",
            "\u001b[0;31mKeyboardInterrupt\u001b[0m: "
          ]
        }
      ]
    }
  ]
}